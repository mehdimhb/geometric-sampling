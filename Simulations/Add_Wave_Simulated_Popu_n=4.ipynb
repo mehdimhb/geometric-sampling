{
  "cells": [
    {
      "cell_type": "markdown",
      "metadata": {
        "id": "L8EamewvRhiV"
      },
      "source": [
        "# Dpi Setting"
      ]
    },
    {
      "cell_type": "code",
      "execution_count": 3,
      "metadata": {
        "id": "5lAzzJ8sZy9Z"
      },
      "outputs": [],
      "source": [
        "import matplotlib as mpl\n",
        "mpl.rcParams['figure.dpi'] = 100 # 300"
      ]
    },
    {
      "cell_type": "code",
      "execution_count": 4,
      "metadata": {},
      "outputs": [],
      "source": [
        "%load_ext autoreload\n",
        "%autoreload 2"
      ]
    },
    {
      "cell_type": "code",
      "execution_count": 5,
      "metadata": {},
      "outputs": [],
      "source": [
        "from package_sampling.sampling import up_tille, up_brewer, up_systematic, up_max_entropy\n",
        "from package_sampling.utils import inclusion_probabilities\n"
      ]
    },
    {
      "cell_type": "code",
      "execution_count": 6,
      "metadata": {},
      "outputs": [
        {
          "name": "stdout",
          "output_type": "stream",
          "text": [
            "/home/divar/projects/graphical-sampling/Simulations\n"
          ]
        }
      ],
      "source": [
        "import os\n",
        "\n",
        "print(os.getcwd())"
      ]
    },
    {
      "cell_type": "code",
      "execution_count": 7,
      "metadata": {},
      "outputs": [],
      "source": [
        "import os\n",
        "os.chdir('/home/divar/projects/graphical-sampling')"
      ]
    },
    {
      "cell_type": "markdown",
      "metadata": {
        "id": "xaeYeRJUkg0Z"
      },
      "source": [
        "### Dependencies"
      ]
    },
    {
      "cell_type": "markdown",
      "metadata": {
        "id": "Yo13_-M0RaP9"
      },
      "source": [
        "### Python"
      ]
    },
    {
      "cell_type": "code",
      "execution_count": 8,
      "metadata": {
        "colab": {
          "base_uri": "https://localhost:8080/"
        },
        "id": "YRKCwND9N8_J",
        "outputId": "4cce13ce-f942-4370-81ee-2887d316912e"
      },
      "outputs": [],
      "source": [
        "# !pip install -q git+https://github.com/mehdimhb/geometric-sampling@dev\n",
        "# !pip install git+https://github.com/mehdimhb/geometric-sampling@legacy-measure"
      ]
    },
    {
      "cell_type": "code",
      "execution_count": 9,
      "metadata": {
        "colab": {
          "base_uri": "https://localhost:8080/"
        },
        "id": "J60DuP82jaME",
        "outputId": "377e9528-0f57-40d4-9b1b-591352e20fa1"
      },
      "outputs": [
        {
          "name": "stdout",
          "output_type": "stream",
          "text": [
            "E: Could not open lock file /var/lib/dpkg/lock-frontend - open (13: Permission denied)\n",
            "E: Unable to acquire the dpkg frontend lock (/var/lib/dpkg/lock-frontend), are you root?\n"
          ]
        }
      ],
      "source": [
        "!apt-get install -y r-base\n",
        "#!pip install -q rpy2 tqdm\n"
      ]
    },
    {
      "cell_type": "code",
      "execution_count": 10,
      "metadata": {},
      "outputs": [],
      "source": [
        "from rpy2.robjects.packages import importr\n",
        "\n",
        "import numpy as np\n",
        "from rpy2.robjects import numpy2ri, default_converter, globalenv\n",
        "from rpy2.robjects.conversion import localconverter"
      ]
    },
    {
      "cell_type": "code",
      "execution_count": 11,
      "metadata": {
        "id": "dvCqCmwnjuHn"
      },
      "outputs": [],
      "source": [
        "%load_ext rpy2.ipython"
      ]
    },
    {
      "cell_type": "markdown",
      "metadata": {
        "id": "BEcbxvujRdPr"
      },
      "source": [
        "### R"
      ]
    },
    {
      "cell_type": "code",
      "execution_count": 12,
      "metadata": {
        "colab": {
          "base_uri": "https://localhost:8080/"
        },
        "id": "Ge6aoQ8fkl0n",
        "outputId": "19ad56b9-83da-49e2-a37a-de58d4bdcdd1"
      },
      "outputs": [
        {
          "data": {
            "text/plain": [
              "Loading required package: WaveSampling\n",
              "Loading required package: Matrix\n",
              "Loading required package: sampling\n",
              "Loading required package: BalancedSampling\n"
            ]
          },
          "metadata": {},
          "output_type": "display_data"
        }
      ],
      "source": [
        "%%R\n",
        "\n",
        "#library(spcosa)\n",
        "#ibrary(spsurvey)\n",
        "if(!require(WaveSampling)){\n",
        "    install.packages(\"WaveSampling\")\n",
        "    library(WaveSampling)\n",
        "}\n",
        "if(!require(sampling)){\n",
        "    install.packages(\"sampling\")\n",
        "    library(sampling)\n",
        "}\n",
        "if(!require(BalancedSampling)){\n",
        "    install.packages(\"BalancedSampling\")\n",
        "    library(BalancedSampling)\n",
        "}"
      ]
    },
    {
      "cell_type": "markdown",
      "metadata": {
        "id": "eNZsi2g5mC6N"
      },
      "source": [
        "### Imports"
      ]
    },
    {
      "cell_type": "code",
      "execution_count": 13,
      "metadata": {
        "id": "7jjvs1ctOBa3"
      },
      "outputs": [
        {
          "name": "stderr",
          "output_type": "stream",
          "text": [
            "/home/divar/projects/graphical-sampling/.venv/lib/python3.12/site-packages/tqdm/auto.py:21: TqdmWarning: IProgress not found. Please update jupyter and ipywidgets. See https://ipywidgets.readthedocs.io/en/stable/user_install.html\n",
            "  from .autonotebook import tqdm as notebook_tqdm\n"
          ]
        }
      ],
      "source": [
        "import matplotlib as mpl\n",
        "import numpy as np\n",
        "from rpy2.robjects import r, numpy2ri\n",
        "import rpy2.robjects as ro\n",
        "from matplotlib import pyplot as plt\n",
        "from itertools import combinations\n",
        "from collections import OrderedDict\n",
        "import pandas as pd\n",
        "import geometric_sampling as gs\n",
        "from tqdm import tqdm\n",
        "from tqdm.contrib import tenumerate\n",
        "import seaborn as sns\n",
        "import matplotlib.pyplot as plt\n",
        "import pandas as pd\n",
        "\n",
        "#numpy2ri.activate()\n",
        "\n",
        "rng = gs.random.rng()"
      ]
    },
    {
      "cell_type": "markdown",
      "metadata": {
        "id": "cUVL883DmG1Z"
      },
      "source": [
        "## Functions"
      ]
    },
    {
      "cell_type": "markdown",
      "metadata": {
        "id": "ugL9lyKcmK7h"
      },
      "source": [
        "### Scores in R"
      ]
    },
    {
      "cell_type": "code",
      "execution_count": 14,
      "metadata": {
        "id": "-oAyNRBiOVm4"
      },
      "outputs": [],
      "source": [
        "def scores(coords, probs, n, N, sample_idx, split_size, density_measure=None):\n",
        "    assert len(coords) == len(probs) == N\n",
        "    assert len(sample_idx) == n\n",
        "    sample_mask = np.zeros(N, dtype=int)\n",
        "    sample_mask[sample_idx] = 1\n",
        "\n",
        "    with localconverter(default_converter + numpy2ri.converter):\n",
        "      globalenv['sample_mask'] = sample_mask\n",
        "      globalenv['sample_idx'] = sample_idx + 1  # Or int(sample_idx + 1) if it's just one value\n",
        "      globalenv['coords'] = coords\n",
        "      globalenv['probs'] = probs\n",
        "      globalenv['n'] = n\n",
        "      globalenv['N'] = N\n",
        "    # ro.globalenv['sample_mask'] = sample_mask\n",
        "    # ro.globalenv['sample_idx'] = sample_idx + 1\n",
        "    # ro.globalenv['coords'] = coords\n",
        "    # ro.globalenv['probs'] = probs\n",
        "    # ro.globalenv['n'] = n\n",
        "    # ro.globalenv['N'] = N\n",
        "    #ro.globalenv['split_size'] = split_size\n",
        "\n",
        "\n",
        "    r_code = \"\"\"\n",
        "W <- wpik(coords,probs)\n",
        "W <- W - diag(diag(W))\n",
        "diag(W) <- 0  # Ensure W has zero diagonal\n",
        "\n",
        "\n",
        "ib_value <- tryCatch({\n",
        "  IB(W, sample_mask)  # Moran's Index\n",
        "}, error = function(e) {\n",
        "  Inf\n",
        "})\n",
        "\n",
        "sb_value <- tryCatch({\n",
        "  sb(probs, coords, sample_idx)  # Spatial balance\n",
        "}, error = function(e) {\n",
        "  Inf\n",
        "})\n",
        "\n",
        "sblb_value <- tryCatch({\n",
        "  sblb(probs, coords, sample_idx)  # Spatial balance using local balance\n",
        "}, error = function(e) {\n",
        "  Inf\n",
        "})\n",
        "\"\"\"\n",
        "    ro.r(r_code)\n",
        "    IB_value = ro.r(\"ib_value\")[0]\n",
        "    SB_value = ro.r(\"sb_value\")[0]\n",
        "    SBLB_value = ro.r(\"sblb_value\")[0]\n",
        "    if density_measure is None:\n",
        "      scaled_coords = (coords - np.min(coords, axis=0)) / np.ptp(coords, axis=0)\n",
        "      density_measure = gs.measure.Density(scaled_coords, probs, n, split_size=0.001)\n",
        "    scores, _ = density_measure.score(sample_idx.reshape(1, -1))\n",
        "    return scores[0][0], IB_value, SBLB_value\n",
        "    # return scores[0][0], SB_value, IB_value, SBLB_value\n",
        "    # Legacy Measure: return scores[3][0], SB_value, IB_value, SBLB_value"
      ]
    },
    {
      "cell_type": "markdown",
      "metadata": {},
      "source": [
        "### Functions"
      ]
    },
    {
      "cell_type": "code",
      "execution_count": 15,
      "metadata": {},
      "outputs": [],
      "source": [
        "autumn_cmap = plt.get_cmap('autumn')\n",
        "plasma_cmap = plt.get_cmap('plasma')\n",
        "\n",
        "def get_autumn_colors(n_clusters):\n",
        "    \"\"\"Returns n_clusters colors from the autumn colormap.\"\"\"\n",
        "    colors = autumn_cmap(np.linspace(0.15, 0.95, n_clusters))\n",
        "    return colors\n",
        "\n",
        "def get_plasma_colors(n_clusters):\n",
        "    \"\"\"Returns n_clusters colors from the plasma colormap.\"\"\"\n",
        "    colors = plasma_cmap(np.linspace(0.15, 0.95, n_clusters))\n",
        "    return colors\n",
        "\n",
        "# Example usage:\n",
        "n = 10  # Number of clusters\n",
        "n_clusters = n\n",
        "import matplotlib.pyplot as plt\n",
        "import numpy as np\n",
        "\n",
        "def lighten_color(color, amount=0.5):\n",
        "    import matplotlib.colors as mc\n",
        "    import colorsys\n",
        "    try:\n",
        "        c = mc.cnames[color]\n",
        "    except:\n",
        "        c = color\n",
        "    c = np.array(mc.to_rgb(c))\n",
        "    white = np.array([1, 1, 1])\n",
        "    return tuple((1 - amount) * c + amount * white)\n",
        "\n",
        "n_clusters = n\n",
        "base_colors = plt.cm.plasma(np.linspace(0, 1, n_clusters))\n",
        "light_colors = [lighten_color(col, 0.5) for col in base_colors]\n",
        "\n",
        "autumn_colors = get_autumn_colors(n_clusters)\n",
        "plasma_colors = get_plasma_colors(n_clusters)\n",
        "plasma_colors = light_colors"
      ]
    },
    {
      "cell_type": "code",
      "execution_count": 16,
      "metadata": {},
      "outputs": [],
      "source": [
        "def plot_convex_hull(points, ax, color, alpha=0.33, edge_color=\"gray\", line_width=0.6):\n",
        "    \"\"\"Plot convex hull safely. Always returns (ax, hull or None).\"\"\"\n",
        "    if len(points) < 3:\n",
        "        return ax, None\n",
        "    try:\n",
        "        hull = ConvexHull(points)\n",
        "        polygon = Polygon(\n",
        "            points[hull.vertices],\n",
        "            closed=True,\n",
        "            facecolor=color,\n",
        "            alpha=alpha,\n",
        "            edgecolor=edge_color,\n",
        "            lw=line_width,\n",
        "            zorder=1\n",
        "        )\n",
        "        ax.add_patch(polygon)\n",
        "        return ax, hull\n",
        "    except QhullError:\n",
        "        # Can't make hull, skip\n",
        "        return ax, None\n"
      ]
    },
    {
      "cell_type": "markdown",
      "metadata": {
        "id": "TyuVl1gw8_tA"
      },
      "source": [
        "# Simulations"
      ]
    },
    {
      "cell_type": "markdown",
      "metadata": {
        "id": "ej46nL5U9JTF"
      },
      "source": [
        "### Methods"
      ]
    },
    {
      "cell_type": "code",
      "execution_count": 25,
      "metadata": {
        "id": "WbmlUyZf9QIj"
      },
      "outputs": [],
      "source": [
        "import numpy as np\n",
        "import rpy2.robjects as ro\n",
        "import rpy2.robjects.numpy2ri\n",
        "\n",
        "# Enable the numpy <-> R conversion\n",
        "#rpy2.robjects.numpy2ri.activate()\n",
        "\n",
        "def local_pivotal_samples(coords, probs, n, num_samples):\n",
        "    ro.globalenv['coords'] = coords\n",
        "    ro.globalenv['probs'] = probs\n",
        "\n",
        "    samples_idx = np.zeros((num_samples, n), dtype=int)\n",
        "    for i in range(num_samples):\n",
        "        r_code = \"\"\"\n",
        "s <- lpm(probs, coords) # Local Pivotal Method (BalancedSampling)\n",
        "\"\"\"\n",
        "        ro.r(r_code)\n",
        "        sample_idx = np.array(list(ro.r(\"s\"))) - 1\n",
        "        samples_idx[i] = sample_idx\n",
        "\n",
        "    return samples_idx\n",
        "\n",
        "def k_means_samples(coords, probs, n, num_samples, n_zones):\n",
        "    # Placeholder, replace with your actual method if necessary\n",
        "    return gs.sampling.KMeansSpatialSamplingSimple(coords, probs, n=n, n_zones=n_zones, tolerance=2, split_size=0.001).sample(num_samples)\n",
        "\n",
        "def random_samples(coords, probs, n, num_samples):\n",
        "    # Placeholder, replace with your own implementation if available\n",
        "    return gs.sampling.RandomSampling(coords, probs, n=n).sample(num_samples)\n",
        "\n",
        "def upmaxentropy_samples(probs, num_samples):\n",
        "    ro.globalenv['probs'] = probs\n",
        "    n = int(round(np.sum(probs)))\n",
        "\n",
        "    samples_idx = np.zeros((num_samples, n), dtype=int)\n",
        "    for i in range(num_samples):\n",
        "        r_code = \"\"\"\n",
        "mask <- UPmaxentropy(probs)\n",
        "\"\"\"\n",
        "        ro.r(r_code)\n",
        "        mask = np.array(ro.r(\"mask\"))\n",
        "        if mask.dtype != np.bool_:\n",
        "            mask = mask.astype(bool)\n",
        "        sample_idx = np.where(mask)[0]\n",
        "        samples_idx[i] = sample_idx\n",
        "\n",
        "    return samples_idx\n",
        "\n",
        "def wave_samples(coords, probs, n, num_samples):\n",
        "    ro.globalenv['coords'] = coords\n",
        "    ro.globalenv['probs'] = probs\n",
        "\n",
        "    samples_idx = np.zeros((num_samples, n), dtype=int)\n",
        "    for i in range(num_samples):\n",
        "        r_code = \"\"\"\n",
        "wave_mask <- wave(coords, probs)\n",
        "\"\"\"\n",
        "        ro.r(r_code)\n",
        "        mask = np.array(ro.r(\"wave_mask\"))\n",
        "        if mask.dtype != np.bool_:\n",
        "            mask = mask.astype(bool)\n",
        "        sample_idx = np.where(mask)[0]\n",
        "        samples_idx[i] = sample_idx\n",
        "\n",
        "    return samples_idx\n",
        "\n",
        "\n",
        "\n",
        "def spcosa_samples(coords, n, num_samples):\n",
        "    \"\"\"\n",
        "    Uses the spcosa R package for equal probability spatially balanced sampling.\n",
        "    \"\"\"\n",
        "    ro.globalenv['coords'] = coords\n",
        "    N = coords.shape[0]\n",
        "    samples_idx = np.zeros((num_samples, n), dtype=int)\n",
        "    for i in range(num_samples):\n",
        "        r_code = f\"\"\"\n",
        "library(spcosa)\n",
        "set.seed({np.random.randint(1, 1e8)})\n",
        "df <- data.frame(x = coords[,1], y = coords[,2])\n",
        "coordinates(df) <- ~x + y\n",
        "gridded(df) <- TRUE\n",
        "stratification <- stratify(df, nStrata = {n}, nTry = 50)\n",
        "samples <- spsample(stratification)\n",
        "# Extract row indices in original data\n",
        "whichrow <- as.integer(rownames(as(samples, \"data.frame\")))\n",
        "\"\"\"\n",
        "        ro.r(r_code)\n",
        "        sample_idx = np.array(ro.r(\"whichrow\")) - 1  # zero-based for Python\n",
        "        samples_idx[i] = sample_idx\n",
        "    return samples_idx\n",
        "\n",
        "\n",
        "def find_samples(coords, probs, n, num_samples, ep_mode=\"auto\"):\n",
        "    \"\"\"\n",
        "    Returns a dict of various sampling methods. \n",
        "    If ep_mode==\"auto\", heuristically deduce EP/UP from probs.\n",
        "    \"\"\"\n",
        "    # Determine if this is the EP case: uniform probs and sum ~ n\n",
        "    #is_EP = np.allclose(probs, probs[0]) and np.isclose(np.sum(probs), n)\n",
        "    result = {\n",
        "        \"K-Means (45_random_)\": k_means_samples(coords, probs, n, num_samples, (4, 5)),\n",
        "        \"K-Means (11_random_)\": k_means_samples(coords, probs, n, num_samples, (1, 1)),\n",
        "        # \"Local Pivotal\": local_pivotal_samples(coords, probs, n, num_samples),\n",
        "        # \"Random\": random_samples(coords, probs, n, num_samples),\n",
        "        # \"UPmaxentropy\": upmaxentropy_samples(probs, num_samples),\n",
        "        # \"Wave\": wave_samples(coords, probs, n, num_samples),\n",
        "        }\n",
        "    # if is_EP or ep_mode==\"EP\":\n",
        "    #     result[\"spcosa\"] = spcosa_samples(coords, n, num_samples)\n",
        "    return result"
      ]
    },
    {
      "cell_type": "markdown",
      "metadata": {
        "id": "-wBvI5kORuIV"
      },
      "source": [
        "### Gathering Data"
      ]
    },
    {
      "cell_type": "code",
      "execution_count": 23,
      "metadata": {},
      "outputs": [
        {
          "name": "stdout",
          "output_type": "stream",
          "text": [
            "Filtered results_grid_eq.csv: 2010 rows removed.\n",
            "Filtered results_grid_uneq.csv: 4000 rows removed.\n",
            "Filtered results_random_eq.csv: 4000 rows removed.\n",
            "Filtered results_random_uneq.csv: 2010 rows removed.\n",
            "Filtered results_clust_eq.csv: 2010 rows removed.\n",
            "Filtered results_clust_uneq.csv: 4000 rows removed.\n"
          ]
        }
      ],
      "source": [
        "import pandas as pd\n",
        "import os\n",
        "\n",
        "results_folder = 'data_samples/results'\n",
        "result_files = [\n",
        "    \"results_grid_eq.csv\",\n",
        "    \"results_grid_uneq.csv\",\n",
        "    \"results_random_eq.csv\",\n",
        "    \"results_random_uneq.csv\",\n",
        "    \"results_clust_eq.csv\",\n",
        "    \"results_clust_uneq.csv\",\n",
        "]\n",
        "\n",
        "methods_to_remove = [\"K-Means (45_random_)\", \"K-Means (11_random_)\"]\n",
        "\n",
        "for filename in result_files:\n",
        "    filepath = os.path.join(results_folder, filename)\n",
        "    df = pd.read_csv(filepath)\n",
        "    # Remove rows where the 'Method' column matches the unwanted method\n",
        "    df_filtered = df[~df['Method'].isin(methods_to_remove)]\n",
        "\n",
        "    # Save back (overwrite the original file; change filename if you want a backup)\n",
        "    df_filtered.to_csv(filepath, index=False)\n",
        "    print(f\"Filtered {filename}: {len(df) - len(df_filtered)} rows removed.\")"
      ]
    },
    {
      "cell_type": "code",
      "execution_count": 27,
      "metadata": {},
      "outputs": [
        {
          "name": "stdout",
          "output_type": "stream",
          "text": [
            "3.9999999999999782\n",
            "400\n"
          ]
        },
        {
          "name": "stderr",
          "output_type": "stream",
          "text": [
            "100%|██████████| 1000/1000 [25:37<00:00,  1.54s/it]\n",
            "100%|██████████| 1000/1000 [24:10<00:00,  1.45s/it]\n"
          ]
        },
        {
          "name": "stdout",
          "output_type": "stream",
          "text": [
            "Saved: data_samples/results/initial_results_clust_eq.csv\n"
          ]
        },
        {
          "name": "stderr",
          "output_type": "stream",
          "text": [
            "/home/divar/projects/graphical-sampling/geometric_sampling/sampling/popu.py:156: RuntimeWarning: divide by zero encountered in scalar divide\n",
            "  probs_stabled *= 1 / (np.sum(probs_stabled) * np.prod(self.n_zones))\n",
            "/home/divar/projects/graphical-sampling/geometric_sampling/sampling/popu.py:156: RuntimeWarning: invalid value encountered in multiply\n",
            "  probs_stabled *= 1 / (np.sum(probs_stabled) * np.prod(self.n_zones))\n",
            "100%|██████████| 1000/1000 [17:13<00:00,  1.03s/it]\n",
            "100%|██████████| 1000/1000 [18:35<00:00,  1.12s/it]\n"
          ]
        },
        {
          "name": "stdout",
          "output_type": "stream",
          "text": [
            "Saved: data_samples/results/initial_results_clust_uneq.csv\n"
          ]
        },
        {
          "name": "stderr",
          "output_type": "stream",
          "text": [
            "100%|██████████| 1000/1000 [22:09<00:00,  1.33s/it]\n",
            "100%|██████████| 1000/1000 [22:10<00:00,  1.33s/it]\n"
          ]
        },
        {
          "name": "stdout",
          "output_type": "stream",
          "text": [
            "Saved: data_samples/results/initial_results_grid_eq.csv\n"
          ]
        },
        {
          "name": "stderr",
          "output_type": "stream",
          "text": [
            "100%|██████████| 1000/1000 [34:15<00:00,  2.06s/it]\n",
            "100%|██████████| 1000/1000 [33:48<00:00,  2.03s/it]\n"
          ]
        },
        {
          "name": "stdout",
          "output_type": "stream",
          "text": [
            "Saved: data_samples/results/initial_results_grid_uneq.csv\n"
          ]
        },
        {
          "name": "stderr",
          "output_type": "stream",
          "text": [
            "100%|██████████| 1000/1000 [21:38<00:00,  1.30s/it]\n",
            "100%|██████████| 1000/1000 [24:02<00:00,  1.44s/it]\n"
          ]
        },
        {
          "name": "stdout",
          "output_type": "stream",
          "text": [
            "Saved: data_samples/results/initial_results_random_eq.csv\n"
          ]
        },
        {
          "name": "stderr",
          "output_type": "stream",
          "text": [
            "100%|██████████| 1000/1000 [31:11<00:00,  1.87s/it]\n",
            "100%|██████████| 1000/1000 [20:19<00:00,  1.22s/it]"
          ]
        },
        {
          "name": "stdout",
          "output_type": "stream",
          "text": [
            "Saved: data_samples/results/initial_results_random_uneq.csv\n"
          ]
        },
        {
          "name": "stderr",
          "output_type": "stream",
          "text": [
            "\n"
          ]
        }
      ],
      "source": [
        "import os\n",
        "import numpy as np\n",
        "import pandas as pd\n",
        "from tqdm import tqdm\n",
        "folder = \"data_samples/results\"\n",
        "os.makedirs(folder, exist_ok=True)\n",
        "all_coords = []\n",
        "all_probs = []\n",
        "names = [\n",
        "    \"clust_eq\", \"clust_uneq\",\n",
        "    \"grid_eq\", \"grid_uneq\",\n",
        "    \"random_eq\", \"random_uneq\"\n",
        "]\n",
        "# names = [\n",
        "#     \"swiss_uneq\",\n",
        "#     ]\n",
        "#names = [\"random_uneq\"]\n",
        "for name in names:\n",
        "    df = pd.read_csv(f\"data_samples/coords_probs/{name}.csv\")\n",
        "    coords = df[[\"x\", \"y\"]].values\n",
        "    probs = df[\"prob\"].values\n",
        "    all_coords.append(coords)\n",
        "    all_probs.append(probs)\n",
        "print(sum(probs))\n",
        "print(len(probs))\n",
        "sample_cnt = 1000\n",
        "columns = [\"Method\", \"Density\", \"Voronoi\", \"Moran\", \"Local Balance\"]\n",
        "columns = [\"Method\", \"Density\", \"Moran\", \"Local Balance\"]\n",
        "\n",
        "for coords, probs, name in zip(all_coords, all_probs, names):\n",
        "    n = int(np.round(np.sum(probs)))\n",
        "    N =len(probs)\n",
        "    # Any code for one set, put here:\n",
        "    sample_methods = find_samples(coords, probs, n, sample_cnt)\n",
        "    scaled_coords = (coords - np.min(coords, axis=0)) / np.ptp(coords, axis=0)\n",
        "    density_measure = gs.measure.Density(scaled_coords, probs, n, split_size=0.001)\n",
        "    rows = np.array([\n",
        "    [method, *scores(coords, probs, n, N, s, density_measure)]\n",
        "    for method, samples in sample_methods.items()\n",
        "    if samples is not None  # <----- add this\n",
        "    for s in tqdm(samples, total=sample_cnt)\n",
        "])\n",
        "    df = pd.DataFrame(rows, columns=columns)\n",
        "    df = df.astype({\n",
        "        \"Density\": float,\n",
        "        #\"Voronoi\": float,\n",
        "        \"Moran\": float,\n",
        "        \"Local Balance\": float\n",
        "    })\n",
        "    filename = os.path.join(folder, f\"initial_results_{name}.csv\")\n",
        "    df.to_csv(filename, index=False)\n",
        "    print(f\"Saved: {filename}\")"
      ]
    },
    {
      "cell_type": "code",
      "execution_count": 32,
      "metadata": {},
      "outputs": [
        {
          "name": "stdout",
          "output_type": "stream",
          "text": [
            "3.9999999999999782\n",
            "400\n"
          ]
        },
        {
          "name": "stderr",
          "output_type": "stream",
          "text": [
            " 20%|██        | 1/5 [00:01<00:05,  1.44s/it]"
          ]
        },
        {
          "name": "stdout",
          "output_type": "stream",
          "text": [
            "random_uneq\n"
          ]
        },
        {
          "name": "stderr",
          "output_type": "stream",
          "text": [
            " 40%|████      | 2/5 [00:02<00:04,  1.50s/it]"
          ]
        },
        {
          "name": "stdout",
          "output_type": "stream",
          "text": [
            "random_uneq\n"
          ]
        },
        {
          "name": "stderr",
          "output_type": "stream",
          "text": [
            " 60%|██████    | 3/5 [00:04<00:03,  1.51s/it]"
          ]
        },
        {
          "name": "stdout",
          "output_type": "stream",
          "text": [
            "random_uneq\n"
          ]
        },
        {
          "name": "stderr",
          "output_type": "stream",
          "text": [
            " 80%|████████  | 4/5 [00:06<00:01,  1.57s/it]"
          ]
        },
        {
          "name": "stdout",
          "output_type": "stream",
          "text": [
            "random_uneq\n"
          ]
        },
        {
          "name": "stderr",
          "output_type": "stream",
          "text": [
            "100%|██████████| 5/5 [00:08<00:00,  1.70s/it]"
          ]
        },
        {
          "name": "stdout",
          "output_type": "stream",
          "text": [
            "random_uneq\n"
          ]
        },
        {
          "name": "stderr",
          "output_type": "stream",
          "text": [
            "6it [00:09,  1.66s/it]                       "
          ]
        },
        {
          "name": "stdout",
          "output_type": "stream",
          "text": [
            "random_uneq\n"
          ]
        },
        {
          "name": "stderr",
          "output_type": "stream",
          "text": [
            "7it [00:11,  1.68s/it]"
          ]
        },
        {
          "name": "stdout",
          "output_type": "stream",
          "text": [
            "random_uneq\n"
          ]
        },
        {
          "name": "stderr",
          "output_type": "stream",
          "text": [
            "8it [00:13,  1.67s/it]"
          ]
        },
        {
          "name": "stdout",
          "output_type": "stream",
          "text": [
            "random_uneq\n"
          ]
        },
        {
          "name": "stderr",
          "output_type": "stream",
          "text": [
            "9it [00:14,  1.69s/it]"
          ]
        },
        {
          "name": "stdout",
          "output_type": "stream",
          "text": [
            "random_uneq\n"
          ]
        },
        {
          "name": "stderr",
          "output_type": "stream",
          "text": [
            "10it [00:16,  1.64s/it]"
          ]
        },
        {
          "name": "stdout",
          "output_type": "stream",
          "text": [
            "random_uneq\n"
          ]
        },
        {
          "name": "stderr",
          "output_type": "stream",
          "text": [
            "11it [00:17,  1.58s/it]"
          ]
        },
        {
          "name": "stdout",
          "output_type": "stream",
          "text": [
            "random_uneq\n"
          ]
        },
        {
          "name": "stderr",
          "output_type": "stream",
          "text": [
            "12it [00:19,  1.69s/it]"
          ]
        },
        {
          "name": "stdout",
          "output_type": "stream",
          "text": [
            "random_uneq\n"
          ]
        },
        {
          "name": "stderr",
          "output_type": "stream",
          "text": [
            "13it [00:21,  1.75s/it]"
          ]
        },
        {
          "name": "stdout",
          "output_type": "stream",
          "text": [
            "random_uneq\n"
          ]
        },
        {
          "name": "stderr",
          "output_type": "stream",
          "text": [
            "14it [00:23,  1.82s/it]"
          ]
        },
        {
          "name": "stdout",
          "output_type": "stream",
          "text": [
            "random_uneq\n"
          ]
        },
        {
          "name": "stderr",
          "output_type": "stream",
          "text": [
            "15it [00:25,  1.76s/it]"
          ]
        },
        {
          "name": "stdout",
          "output_type": "stream",
          "text": [
            "random_uneq\n"
          ]
        },
        {
          "name": "stderr",
          "output_type": "stream",
          "text": [
            "16it [00:26,  1.65s/it]"
          ]
        },
        {
          "name": "stdout",
          "output_type": "stream",
          "text": [
            "random_uneq\n"
          ]
        },
        {
          "name": "stderr",
          "output_type": "stream",
          "text": [
            "17it [00:27,  1.54s/it]"
          ]
        },
        {
          "name": "stdout",
          "output_type": "stream",
          "text": [
            "random_uneq\n"
          ]
        },
        {
          "name": "stderr",
          "output_type": "stream",
          "text": [
            "18it [00:29,  1.56s/it]"
          ]
        },
        {
          "name": "stdout",
          "output_type": "stream",
          "text": [
            "random_uneq\n"
          ]
        },
        {
          "name": "stderr",
          "output_type": "stream",
          "text": [
            "19it [00:31,  1.58s/it]"
          ]
        },
        {
          "name": "stdout",
          "output_type": "stream",
          "text": [
            "random_uneq\n"
          ]
        },
        {
          "name": "stderr",
          "output_type": "stream",
          "text": [
            "20it [00:32,  1.55s/it]"
          ]
        },
        {
          "name": "stdout",
          "output_type": "stream",
          "text": [
            "random_uneq\n"
          ]
        },
        {
          "name": "stderr",
          "output_type": "stream",
          "text": [
            "21it [00:34,  1.58s/it]"
          ]
        },
        {
          "name": "stdout",
          "output_type": "stream",
          "text": [
            "random_uneq\n"
          ]
        },
        {
          "name": "stderr",
          "output_type": "stream",
          "text": [
            "22it [00:35,  1.62s/it]"
          ]
        },
        {
          "name": "stdout",
          "output_type": "stream",
          "text": [
            "random_uneq\n"
          ]
        },
        {
          "name": "stderr",
          "output_type": "stream",
          "text": [
            "23it [00:37,  1.62s/it]"
          ]
        },
        {
          "name": "stdout",
          "output_type": "stream",
          "text": [
            "random_uneq\n"
          ]
        },
        {
          "name": "stderr",
          "output_type": "stream",
          "text": [
            "24it [00:38,  1.52s/it]"
          ]
        },
        {
          "name": "stdout",
          "output_type": "stream",
          "text": [
            "random_uneq\n"
          ]
        },
        {
          "name": "stderr",
          "output_type": "stream",
          "text": [
            "25it [00:40,  1.46s/it]"
          ]
        },
        {
          "name": "stdout",
          "output_type": "stream",
          "text": [
            "random_uneq\n"
          ]
        },
        {
          "name": "stderr",
          "output_type": "stream",
          "text": [
            "26it [00:41,  1.49s/it]"
          ]
        },
        {
          "name": "stdout",
          "output_type": "stream",
          "text": [
            "random_uneq\n"
          ]
        },
        {
          "name": "stderr",
          "output_type": "stream",
          "text": [
            "27it [00:43,  1.46s/it]"
          ]
        },
        {
          "name": "stdout",
          "output_type": "stream",
          "text": [
            "random_uneq\n"
          ]
        },
        {
          "name": "stderr",
          "output_type": "stream",
          "text": [
            "28it [00:44,  1.46s/it]"
          ]
        },
        {
          "name": "stdout",
          "output_type": "stream",
          "text": [
            "random_uneq\n"
          ]
        },
        {
          "name": "stderr",
          "output_type": "stream",
          "text": [
            "29it [00:46,  1.53s/it]"
          ]
        },
        {
          "name": "stdout",
          "output_type": "stream",
          "text": [
            "random_uneq\n"
          ]
        },
        {
          "name": "stderr",
          "output_type": "stream",
          "text": [
            "30it [00:47,  1.47s/it]"
          ]
        },
        {
          "name": "stdout",
          "output_type": "stream",
          "text": [
            "random_uneq\n"
          ]
        },
        {
          "name": "stderr",
          "output_type": "stream",
          "text": [
            "31it [00:48,  1.44s/it]"
          ]
        },
        {
          "name": "stdout",
          "output_type": "stream",
          "text": [
            "random_uneq\n"
          ]
        },
        {
          "name": "stderr",
          "output_type": "stream",
          "text": [
            "32it [00:50,  1.43s/it]"
          ]
        },
        {
          "name": "stdout",
          "output_type": "stream",
          "text": [
            "random_uneq\n"
          ]
        },
        {
          "name": "stderr",
          "output_type": "stream",
          "text": [
            "33it [00:52,  1.50s/it]"
          ]
        },
        {
          "name": "stdout",
          "output_type": "stream",
          "text": [
            "random_uneq\n"
          ]
        },
        {
          "name": "stderr",
          "output_type": "stream",
          "text": [
            "34it [00:53,  1.48s/it]"
          ]
        },
        {
          "name": "stdout",
          "output_type": "stream",
          "text": [
            "random_uneq\n"
          ]
        },
        {
          "name": "stderr",
          "output_type": "stream",
          "text": [
            "35it [00:54,  1.42s/it]"
          ]
        },
        {
          "name": "stdout",
          "output_type": "stream",
          "text": [
            "random_uneq\n"
          ]
        },
        {
          "name": "stderr",
          "output_type": "stream",
          "text": [
            "36it [00:56,  1.37s/it]"
          ]
        },
        {
          "name": "stdout",
          "output_type": "stream",
          "text": [
            "random_uneq\n"
          ]
        },
        {
          "name": "stderr",
          "output_type": "stream",
          "text": [
            "37it [00:57,  1.47s/it]"
          ]
        },
        {
          "name": "stdout",
          "output_type": "stream",
          "text": [
            "random_uneq\n"
          ]
        },
        {
          "name": "stderr",
          "output_type": "stream",
          "text": [
            "38it [00:59,  1.51s/it]"
          ]
        },
        {
          "name": "stdout",
          "output_type": "stream",
          "text": [
            "random_uneq\n"
          ]
        },
        {
          "name": "stderr",
          "output_type": "stream",
          "text": [
            "39it [01:00,  1.55s/it]"
          ]
        },
        {
          "name": "stdout",
          "output_type": "stream",
          "text": [
            "random_uneq\n"
          ]
        },
        {
          "name": "stderr",
          "output_type": "stream",
          "text": [
            "40it [01:02,  1.62s/it]"
          ]
        },
        {
          "name": "stdout",
          "output_type": "stream",
          "text": [
            "random_uneq\n"
          ]
        },
        {
          "name": "stderr",
          "output_type": "stream",
          "text": [
            "41it [01:04,  1.60s/it]"
          ]
        },
        {
          "name": "stdout",
          "output_type": "stream",
          "text": [
            "random_uneq\n"
          ]
        },
        {
          "name": "stderr",
          "output_type": "stream",
          "text": [
            "42it [01:06,  1.57s/it]"
          ]
        },
        {
          "name": "stdout",
          "output_type": "stream",
          "text": [
            "random_uneq\n"
          ]
        },
        {
          "name": "stderr",
          "output_type": "stream",
          "text": [
            "\n"
          ]
        },
        {
          "ename": "KeyboardInterrupt",
          "evalue": "",
          "output_type": "error",
          "traceback": [
            "\u001b[31m---------------------------------------------------------------------------\u001b[39m",
            "\u001b[31mKeyboardInterrupt\u001b[39m                         Traceback (most recent call last)",
            "\u001b[36mCell\u001b[39m\u001b[36m \u001b[39m\u001b[32mIn[32]\u001b[39m\u001b[32m, line 37\u001b[39m\n\u001b[32m     35\u001b[39m     \u001b[38;5;28;01mcontinue\u001b[39;00m\n\u001b[32m     36\u001b[39m \u001b[38;5;28;01mfor\u001b[39;00m idx, s \u001b[38;5;129;01min\u001b[39;00m \u001b[38;5;28menumerate\u001b[39m(tqdm(samples, total=sample_cnt)):\n\u001b[32m---> \u001b[39m\u001b[32m37\u001b[39m     density, moran, local_balance = \u001b[43mscores\u001b[49m\u001b[43m(\u001b[49m\u001b[43mcoords\u001b[49m\u001b[43m,\u001b[49m\u001b[43m \u001b[49m\u001b[43mprobs\u001b[49m\u001b[43m,\u001b[49m\u001b[43m \u001b[49m\u001b[43mn\u001b[49m\u001b[43m,\u001b[49m\u001b[43m \u001b[49m\u001b[43mN\u001b[49m\u001b[43m,\u001b[49m\u001b[43m \u001b[49m\u001b[43ms\u001b[49m\u001b[43m,\u001b[49m\u001b[43m \u001b[49m\u001b[43mdensity_measure\u001b[49m\u001b[43m)\u001b[49m\n\u001b[32m     38\u001b[39m     \u001b[38;5;28mprint\u001b[39m(name)\n\u001b[32m     39\u001b[39m     \u001b[38;5;28;01mif\u001b[39;00m name == \u001b[33m\"\u001b[39m\u001b[33mgrid_eq\u001b[39m\u001b[33m\"\u001b[39m:\n",
            "\u001b[36mCell\u001b[39m\u001b[36m \u001b[39m\u001b[32mIn[14]\u001b[39m\u001b[32m, line 53\u001b[39m, in \u001b[36mscores\u001b[39m\u001b[34m(coords, probs, n, N, sample_idx, split_size, density_measure)\u001b[39m\n\u001b[32m     51\u001b[39m \u001b[38;5;28;01mif\u001b[39;00m density_measure \u001b[38;5;129;01mis\u001b[39;00m \u001b[38;5;28;01mNone\u001b[39;00m:\n\u001b[32m     52\u001b[39m   scaled_coords = (coords - np.min(coords, axis=\u001b[32m0\u001b[39m)) / np.ptp(coords, axis=\u001b[32m0\u001b[39m)\n\u001b[32m---> \u001b[39m\u001b[32m53\u001b[39m   density_measure = \u001b[43mgs\u001b[49m\u001b[43m.\u001b[49m\u001b[43mmeasure\u001b[49m\u001b[43m.\u001b[49m\u001b[43mDensity\u001b[49m\u001b[43m(\u001b[49m\u001b[43mscaled_coords\u001b[49m\u001b[43m,\u001b[49m\u001b[43m \u001b[49m\u001b[43mprobs\u001b[49m\u001b[43m,\u001b[49m\u001b[43m \u001b[49m\u001b[43mn\u001b[49m\u001b[43m,\u001b[49m\u001b[43m \u001b[49m\u001b[43msplit_size\u001b[49m\u001b[43m=\u001b[49m\u001b[32;43m0.001\u001b[39;49m\u001b[43m)\u001b[49m\n\u001b[32m     54\u001b[39m scores, _ = density_measure.score(sample_idx.reshape(\u001b[32m1\u001b[39m, -\u001b[32m1\u001b[39m))\n\u001b[32m     55\u001b[39m \u001b[38;5;28;01mreturn\u001b[39;00m scores[\u001b[32m0\u001b[39m][\u001b[32m0\u001b[39m], IB_value, SBLB_value\n",
            "\u001b[36mFile \u001b[39m\u001b[32m~/projects/graphical-sampling/geometric_sampling/measure/density.py:15\u001b[39m, in \u001b[36mDensity.__init__\u001b[39m\u001b[34m(self, coordinates, probabilities, k, split_size)\u001b[39m\n\u001b[32m     13\u001b[39m \u001b[38;5;28mself\u001b[39m.probs = probabilities\n\u001b[32m     14\u001b[39m \u001b[38;5;28mself\u001b[39m.kde = \u001b[38;5;28mself\u001b[39m._kde(coordinates)\n\u001b[32m---> \u001b[39m\u001b[32m15\u001b[39m \u001b[38;5;28mself\u001b[39m.labels, \u001b[38;5;28mself\u001b[39m.centroids, \u001b[38;5;28mself\u001b[39m.clusters = \u001b[38;5;28;43mself\u001b[39;49m\u001b[43m.\u001b[49m\u001b[43m_generate_labels_centroids\u001b[49m\u001b[43m(\u001b[49m\u001b[43mk\u001b[49m\u001b[43m,\u001b[49m\u001b[43m \u001b[49m\u001b[43msplit_size\u001b[49m\u001b[43m)\u001b[49m\n",
            "\u001b[36mFile \u001b[39m\u001b[32m~/projects/graphical-sampling/geometric_sampling/measure/density.py:51\u001b[39m, in \u001b[36mDensity._generate_labels_centroids\u001b[39m\u001b[34m(self, k, split_size)\u001b[39m\n\u001b[32m     49\u001b[39m \u001b[38;5;28;01mdef\u001b[39;00m\u001b[38;5;250m \u001b[39m\u001b[34m_generate_labels_centroids\u001b[39m(\u001b[38;5;28mself\u001b[39m, k, split_size):\n\u001b[32m     50\u001b[39m     dubly = DublyBalancedKMeansSimple(k=k, split_size=split_size)\n\u001b[32m---> \u001b[39m\u001b[32m51\u001b[39m     \u001b[43mdubly\u001b[49m\u001b[43m.\u001b[49m\u001b[43mfit\u001b[49m\u001b[43m(\u001b[49m\u001b[38;5;28;43mself\u001b[39;49m\u001b[43m.\u001b[49m\u001b[43mcoords\u001b[49m\u001b[43m,\u001b[49m\u001b[43m \u001b[49m\u001b[38;5;28;43mself\u001b[39;49m\u001b[43m.\u001b[49m\u001b[43mprobs\u001b[49m\u001b[43m)\u001b[49m\n\u001b[32m     52\u001b[39m     labels = np.argmax(dubly.membership, axis=\u001b[32m1\u001b[39m)\n\u001b[32m     53\u001b[39m     centroids = np.array(\n\u001b[32m     54\u001b[39m         [np.mean(\u001b[38;5;28mself\u001b[39m.coords[labels == i], axis=\u001b[32m0\u001b[39m) \u001b[38;5;28;01mfor\u001b[39;00m i \u001b[38;5;129;01min\u001b[39;00m \u001b[38;5;28mrange\u001b[39m(k)]\n\u001b[32m     55\u001b[39m     )\n",
            "\u001b[36mFile \u001b[39m\u001b[32m~/projects/graphical-sampling/geometric_sampling/clustering/dubly_balanced_clustering_simple.py:37\u001b[39m, in \u001b[36mDublyBalancedKMeansSimple.fit\u001b[39m\u001b[34m(self, coords, probs)\u001b[39m\n\u001b[32m     33\u001b[39m cluster_size = \u001b[38;5;28mlen\u001b[39m(expanded_idx) // \u001b[38;5;28mself\u001b[39m.k\n\u001b[32m     34\u001b[39m kmeans = KMeansConstrained(\n\u001b[32m     35\u001b[39m     n_clusters=\u001b[38;5;28mself\u001b[39m.k, size_min=cluster_size, size_max=cluster_size + \u001b[32m1\u001b[39m\n\u001b[32m     36\u001b[39m )\n\u001b[32m---> \u001b[39m\u001b[32m37\u001b[39m labels = \u001b[43mkmeans\u001b[49m\u001b[43m.\u001b[49m\u001b[43mfit_predict\u001b[49m\u001b[43m(\u001b[49m\u001b[43mexpanded_coords\u001b[49m\u001b[43m)\u001b[49m\n\u001b[32m     38\u001b[39m \u001b[38;5;28mself\u001b[39m.centroids = kmeans.cluster_centers_\n\u001b[32m     39\u001b[39m \u001b[38;5;28mself\u001b[39m.labels = \u001b[38;5;28mself\u001b[39m._generate_labels(labels, expanded_idx, coords)\n",
            "\u001b[36mFile \u001b[39m\u001b[32m~/projects/graphical-sampling/.venv/lib/python3.12/site-packages/k_means_constrained/k_means_constrained_.py:738\u001b[39m, in \u001b[36mKMeansConstrained.fit_predict\u001b[39m\u001b[34m(self, X, y)\u001b[39m\n\u001b[32m    723\u001b[39m \u001b[38;5;28;01mdef\u001b[39;00m\u001b[38;5;250m \u001b[39m\u001b[34mfit_predict\u001b[39m(\u001b[38;5;28mself\u001b[39m, X, y=\u001b[38;5;28;01mNone\u001b[39;00m):\n\u001b[32m    724\u001b[39m \u001b[38;5;250m    \u001b[39m\u001b[33;03m\"\"\"Compute cluster centers and predict cluster index for each sample.\u001b[39;00m\n\u001b[32m    725\u001b[39m \n\u001b[32m    726\u001b[39m \u001b[33;03m    Equivalent to calling fit(X) followed by predict(X) but also more efficient.\u001b[39;00m\n\u001b[32m   (...)\u001b[39m\u001b[32m    736\u001b[39m \u001b[33;03m        Index of the cluster each sample belongs to.\u001b[39;00m\n\u001b[32m    737\u001b[39m \u001b[33;03m    \"\"\"\u001b[39;00m\n\u001b[32m--> \u001b[39m\u001b[32m738\u001b[39m     \u001b[38;5;28;01mreturn\u001b[39;00m \u001b[38;5;28;43mself\u001b[39;49m\u001b[43m.\u001b[49m\u001b[43mfit\u001b[49m\u001b[43m(\u001b[49m\u001b[43mX\u001b[49m\u001b[43m)\u001b[49m.labels_\n",
            "\u001b[36mFile \u001b[39m\u001b[32m~/projects/graphical-sampling/.venv/lib/python3.12/site-packages/k_means_constrained/k_means_constrained_.py:643\u001b[39m, in \u001b[36mKMeansConstrained.fit\u001b[39m\u001b[34m(self, X, y)\u001b[39m\n\u001b[32m    639\u001b[39m random_state = check_random_state(\u001b[38;5;28mself\u001b[39m.random_state)\n\u001b[32m    640\u001b[39m X = \u001b[38;5;28mself\u001b[39m._check_fit_data(X)\n\u001b[32m    642\u001b[39m \u001b[38;5;28mself\u001b[39m.cluster_centers_, \u001b[38;5;28mself\u001b[39m.labels_, \u001b[38;5;28mself\u001b[39m.inertia_, \u001b[38;5;28mself\u001b[39m.n_iter_ = \\\n\u001b[32m--> \u001b[39m\u001b[32m643\u001b[39m     \u001b[43mk_means_constrained\u001b[49m\u001b[43m(\u001b[49m\n\u001b[32m    644\u001b[39m \u001b[43m        \u001b[49m\u001b[43mX\u001b[49m\u001b[43m,\u001b[49m\u001b[43m \u001b[49m\u001b[43mn_clusters\u001b[49m\u001b[43m=\u001b[49m\u001b[38;5;28;43mself\u001b[39;49m\u001b[43m.\u001b[49m\u001b[43mn_clusters\u001b[49m\u001b[43m,\u001b[49m\n\u001b[32m    645\u001b[39m \u001b[43m        \u001b[49m\u001b[43msize_min\u001b[49m\u001b[43m=\u001b[49m\u001b[38;5;28;43mself\u001b[39;49m\u001b[43m.\u001b[49m\u001b[43msize_min\u001b[49m\u001b[43m,\u001b[49m\u001b[43m \u001b[49m\u001b[43msize_max\u001b[49m\u001b[43m=\u001b[49m\u001b[38;5;28;43mself\u001b[39;49m\u001b[43m.\u001b[49m\u001b[43msize_max\u001b[49m\u001b[43m,\u001b[49m\n\u001b[32m    646\u001b[39m \u001b[43m        \u001b[49m\u001b[43minit\u001b[49m\u001b[43m=\u001b[49m\u001b[38;5;28;43mself\u001b[39;49m\u001b[43m.\u001b[49m\u001b[43minit\u001b[49m\u001b[43m,\u001b[49m\n\u001b[32m    647\u001b[39m \u001b[43m        \u001b[49m\u001b[43mn_init\u001b[49m\u001b[43m=\u001b[49m\u001b[38;5;28;43mself\u001b[39;49m\u001b[43m.\u001b[49m\u001b[43mn_init\u001b[49m\u001b[43m,\u001b[49m\u001b[43m \u001b[49m\u001b[43mmax_iter\u001b[49m\u001b[43m=\u001b[49m\u001b[38;5;28;43mself\u001b[39;49m\u001b[43m.\u001b[49m\u001b[43mmax_iter\u001b[49m\u001b[43m,\u001b[49m\u001b[43m \u001b[49m\u001b[43mverbose\u001b[49m\u001b[43m=\u001b[49m\u001b[38;5;28;43mself\u001b[39;49m\u001b[43m.\u001b[49m\u001b[43mverbose\u001b[49m\u001b[43m,\u001b[49m\n\u001b[32m    648\u001b[39m \u001b[43m        \u001b[49m\u001b[43mtol\u001b[49m\u001b[43m=\u001b[49m\u001b[38;5;28;43mself\u001b[39;49m\u001b[43m.\u001b[49m\u001b[43mtol\u001b[49m\u001b[43m,\u001b[49m\u001b[43m \u001b[49m\u001b[43mrandom_state\u001b[49m\u001b[43m=\u001b[49m\u001b[43mrandom_state\u001b[49m\u001b[43m,\u001b[49m\u001b[43m \u001b[49m\u001b[43mcopy_x\u001b[49m\u001b[43m=\u001b[49m\u001b[38;5;28;43mself\u001b[39;49m\u001b[43m.\u001b[49m\u001b[43mcopy_x\u001b[49m\u001b[43m,\u001b[49m\n\u001b[32m    649\u001b[39m \u001b[43m        \u001b[49m\u001b[43mn_jobs\u001b[49m\u001b[43m=\u001b[49m\u001b[38;5;28;43mself\u001b[39;49m\u001b[43m.\u001b[49m\u001b[43mn_jobs\u001b[49m\u001b[43m,\u001b[49m\n\u001b[32m    650\u001b[39m \u001b[43m        \u001b[49m\u001b[43mreturn_n_iter\u001b[49m\u001b[43m=\u001b[49m\u001b[38;5;28;43;01mTrue\u001b[39;49;00m\u001b[43m)\u001b[49m\n\u001b[32m    651\u001b[39m \u001b[38;5;28;01mreturn\u001b[39;00m \u001b[38;5;28mself\u001b[39m\n",
            "\u001b[36mFile \u001b[39m\u001b[32m~/projects/graphical-sampling/.venv/lib/python3.12/site-packages/k_means_constrained/k_means_constrained_.py:178\u001b[39m, in \u001b[36mk_means_constrained\u001b[39m\u001b[34m(X, n_clusters, size_min, size_max, init, n_init, max_iter, verbose, tol, random_state, copy_x, n_jobs, return_n_iter)\u001b[39m\n\u001b[32m    173\u001b[39m \u001b[38;5;28;01mif\u001b[39;00m n_jobs == \u001b[32m1\u001b[39m:\n\u001b[32m    174\u001b[39m     \u001b[38;5;66;03m# For a single thread, less memory is needed if we just store one set\u001b[39;00m\n\u001b[32m    175\u001b[39m     \u001b[38;5;66;03m# of the best results (as opposed to one set per run per thread).\u001b[39;00m\n\u001b[32m    176\u001b[39m     \u001b[38;5;28;01mfor\u001b[39;00m it \u001b[38;5;129;01min\u001b[39;00m \u001b[38;5;28mrange\u001b[39m(n_init):\n\u001b[32m    177\u001b[39m         \u001b[38;5;66;03m# run a k-means once\u001b[39;00m\n\u001b[32m--> \u001b[39m\u001b[32m178\u001b[39m         labels, inertia, centers, n_iter_ = \u001b[43mkmeans_constrained_single\u001b[49m\u001b[43m(\u001b[49m\n\u001b[32m    179\u001b[39m \u001b[43m            \u001b[49m\u001b[43mX\u001b[49m\u001b[43m,\u001b[49m\u001b[43m \u001b[49m\u001b[43mn_clusters\u001b[49m\u001b[43m,\u001b[49m\n\u001b[32m    180\u001b[39m \u001b[43m            \u001b[49m\u001b[43msize_min\u001b[49m\u001b[43m=\u001b[49m\u001b[43msize_min\u001b[49m\u001b[43m,\u001b[49m\u001b[43m \u001b[49m\u001b[43msize_max\u001b[49m\u001b[43m=\u001b[49m\u001b[43msize_max\u001b[49m\u001b[43m,\u001b[49m\n\u001b[32m    181\u001b[39m \u001b[43m            \u001b[49m\u001b[43mmax_iter\u001b[49m\u001b[43m=\u001b[49m\u001b[43mmax_iter\u001b[49m\u001b[43m,\u001b[49m\u001b[43m \u001b[49m\u001b[43minit\u001b[49m\u001b[43m=\u001b[49m\u001b[43minit\u001b[49m\u001b[43m,\u001b[49m\u001b[43m \u001b[49m\u001b[43mverbose\u001b[49m\u001b[43m=\u001b[49m\u001b[43mverbose\u001b[49m\u001b[43m,\u001b[49m\u001b[43m \u001b[49m\u001b[43mtol\u001b[49m\u001b[43m=\u001b[49m\u001b[43mtol\u001b[49m\u001b[43m,\u001b[49m\n\u001b[32m    182\u001b[39m \u001b[43m            \u001b[49m\u001b[43mx_squared_norms\u001b[49m\u001b[43m=\u001b[49m\u001b[43mx_squared_norms\u001b[49m\u001b[43m,\u001b[49m\u001b[43m \u001b[49m\u001b[43mrandom_state\u001b[49m\u001b[43m=\u001b[49m\u001b[43mrandom_state\u001b[49m\u001b[43m)\u001b[49m\n\u001b[32m    183\u001b[39m         \u001b[38;5;66;03m# determine if these results are the best so far\u001b[39;00m\n\u001b[32m    184\u001b[39m         \u001b[38;5;28;01mif\u001b[39;00m best_inertia \u001b[38;5;129;01mis\u001b[39;00m \u001b[38;5;28;01mNone\u001b[39;00m \u001b[38;5;129;01mor\u001b[39;00m inertia < best_inertia:\n",
            "\u001b[36mFile \u001b[39m\u001b[32m~/projects/graphical-sampling/.venv/lib/python3.12/site-packages/k_means_constrained/k_means_constrained_.py:334\u001b[39m, in \u001b[36mkmeans_constrained_single\u001b[39m\u001b[34m(X, n_clusters, size_min, size_max, max_iter, init, verbose, x_squared_norms, random_state, tol)\u001b[39m\n\u001b[32m    331\u001b[39m centers_old = centers.copy()\n\u001b[32m    332\u001b[39m \u001b[38;5;66;03m# labels assignment is also called the E-step of EM\u001b[39;00m\n\u001b[32m    333\u001b[39m labels, inertia = \\\n\u001b[32m--> \u001b[39m\u001b[32m334\u001b[39m     \u001b[43m_labels_constrained\u001b[49m\u001b[43m(\u001b[49m\u001b[43mX\u001b[49m\u001b[43m,\u001b[49m\u001b[43m \u001b[49m\u001b[43mcenters\u001b[49m\u001b[43m,\u001b[49m\u001b[43m \u001b[49m\u001b[43msize_min\u001b[49m\u001b[43m,\u001b[49m\u001b[43m \u001b[49m\u001b[43msize_max\u001b[49m\u001b[43m,\u001b[49m\u001b[43m \u001b[49m\u001b[43mdistances\u001b[49m\u001b[43m=\u001b[49m\u001b[43mdistances\u001b[49m\u001b[43m)\u001b[49m\n\u001b[32m    336\u001b[39m \u001b[38;5;66;03m# computation of the means is also called the M-step of EM\u001b[39;00m\n\u001b[32m    337\u001b[39m \u001b[38;5;28;01mif\u001b[39;00m sp.issparse(X):\n",
            "\u001b[36mFile \u001b[39m\u001b[32m~/projects/graphical-sampling/.venv/lib/python3.12/site-packages/k_means_constrained/k_means_constrained_.py:405\u001b[39m, in \u001b[36m_labels_constrained\u001b[39m\u001b[34m(X, centers, size_min, size_max, distances)\u001b[39m\n\u001b[32m    402\u001b[39m D = euclidean_distances(X, C, squared=\u001b[38;5;28;01mFalse\u001b[39;00m)\n\u001b[32m    404\u001b[39m edges, costs, capacities, supplies, n_C, n_X = minimum_cost_flow_problem_graph(X, C, D, size_min, size_max)\n\u001b[32m--> \u001b[39m\u001b[32m405\u001b[39m labels = \u001b[43msolve_min_cost_flow_graph\u001b[49m\u001b[43m(\u001b[49m\u001b[43medges\u001b[49m\u001b[43m,\u001b[49m\u001b[43m \u001b[49m\u001b[43mcosts\u001b[49m\u001b[43m,\u001b[49m\u001b[43m \u001b[49m\u001b[43mcapacities\u001b[49m\u001b[43m,\u001b[49m\u001b[43m \u001b[49m\u001b[43msupplies\u001b[49m\u001b[43m,\u001b[49m\u001b[43m \u001b[49m\u001b[43mn_C\u001b[49m\u001b[43m,\u001b[49m\u001b[43m \u001b[49m\u001b[43mn_X\u001b[49m\u001b[43m)\u001b[49m\n\u001b[32m    407\u001b[39m \u001b[38;5;66;03m# cython k-means M step code assumes int32 inputs\u001b[39;00m\n\u001b[32m    408\u001b[39m labels = labels.astype(np.int32)\n",
            "\u001b[36mFile \u001b[39m\u001b[32m~/projects/graphical-sampling/.venv/lib/python3.12/site-packages/k_means_constrained/k_means_constrained_.py:493\u001b[39m, in \u001b[36msolve_min_cost_flow_graph\u001b[39m\u001b[34m(edges, costs, capacities, supplies, n_C, n_X)\u001b[39m\n\u001b[32m    490\u001b[39m     \u001b[38;5;28;01mraise\u001b[39;00m \u001b[38;5;167;01mException\u001b[39;00m(\u001b[33m'\u001b[39m\u001b[33mThere was an issue with the min cost flow input.\u001b[39m\u001b[33m'\u001b[39m)\n\u001b[32m    492\u001b[39m \u001b[38;5;66;03m# Assignment\u001b[39;00m\n\u001b[32m--> \u001b[39m\u001b[32m493\u001b[39m labels_M = np.array([\u001b[43mmin_cost_flow\u001b[49m\u001b[43m.\u001b[49m\u001b[43mflow\u001b[49m\u001b[43m(\u001b[49m\u001b[43mi\u001b[49m\u001b[43m)\u001b[49m \u001b[38;5;28;01mfor\u001b[39;00m i \u001b[38;5;129;01min\u001b[39;00m \u001b[38;5;28mrange\u001b[39m(n_X * n_C)]).reshape(n_X, n_C).astype(\u001b[33m'\u001b[39m\u001b[33mint32\u001b[39m\u001b[33m'\u001b[39m)\n\u001b[32m    495\u001b[39m labels = labels_M.argmax(axis=\u001b[32m1\u001b[39m)\n\u001b[32m    496\u001b[39m \u001b[38;5;28;01mreturn\u001b[39;00m labels\n",
            "\u001b[31mKeyboardInterrupt\u001b[39m: "
          ]
        }
      ],
      "source": [
        "import os\n",
        "import numpy as np\n",
        "import pandas as pd\n",
        "from tqdm import tqdm\n",
        "folder = \"data_samples/results\"\n",
        "os.makedirs(folder, exist_ok=True)\n",
        "all_coords = []\n",
        "all_probs = []\n",
        "names = [\n",
        "     \"grid_eq\", \"grid_uneq\",\n",
        "    \"clust_eq\", \"clust_uneq\",\n",
        "    \"random_eq\", \"random_uneq\"\n",
        "]\n",
        "# names = [\n",
        "#     \"swiss_uneq\",\n",
        "#     ]\n",
        "#names = [\"random_uneq\"]\n",
        "for name in names:\n",
        "    df = pd.read_csv(f\"data_samples/coords_probs/{name}.csv\")\n",
        "    coords = df[[\"x\", \"y\"]].values\n",
        "    probs = df[\"prob\"].values\n",
        "    all_coords.append(coords)\n",
        "    all_probs.append(probs)\n",
        "print(sum(probs))\n",
        "print(len(probs))\n",
        "sample_cnt = 5\n",
        "columns = [\"Method\", \"Density\", \"Voronoi\", \"Moran\", \"Local Balance\"]\n",
        "columns = [\"Method\", \"Density\", \"Moran\", \"Local Balance\"]\n",
        "\n",
        "import matplotlib.pyplot as plt\n",
        "\n",
        "rows = []\n",
        "for method, samples in sample_methods.items():\n",
        "    if samples is None:\n",
        "        continue\n",
        "    for idx, s in enumerate(tqdm(samples, total=sample_cnt)):\n",
        "        density, moran, local_balance = scores(coords, probs, n, N, s, density_measure)\n",
        "        print(name)\n",
        "        if name == \"grid_eq\":\n",
        "            plt.figure(figsize=(6, 6))\n",
        "            plt.scatter(coords[:,0], coords[:,1], c='lightgray', marker='o', label='Population')\n",
        "            plt.scatter(coords[s,0], coords[s,1], c='red', marker='o', label='Sample')\n",
        "            plt.title(\n",
        "                f\"{name} - {method} sample {idx+1}\\n\"\n",
        "                f\"Density: {density:.3f} | Moran: {moran:.3f} | Local Bal.: {local_balance:.3f}\"\n",
        "            )\n",
        "            plt.legend()\n",
        "            plt.tight_layout()\n",
        "            plt.show()  # Or savefig as mentioned above\n",
        "\n",
        "        rows.append([method, density, moran, local_balance])\n",
        "\n",
        "    df = pd.DataFrame(rows, columns=columns)\n",
        "# ... rest of your code\n",
        "    df = df.astype({\n",
        "        \"Density\": float,\n",
        "        #\"Voronoi\": float,\n",
        "        \"Moran\": float,\n",
        "        \"Local Balance\": float\n",
        "    })\n",
        "    filename = os.path.join(folder, f\"initial_results_{name}.csv\")\n",
        "    df.to_csv(filename, index=False)\n",
        "    print(f\"Saved: {filename}\")"
      ]
    },
    {
      "cell_type": "code",
      "execution_count": 29,
      "metadata": {},
      "outputs": [
        {
          "name": "stdout",
          "output_type": "stream",
          "text": [
            "Overwritten: data_samples/results/results_clust_eq.csv\n",
            "Overwritten: data_samples/results/results_clust_uneq.csv\n",
            "Overwritten: data_samples/results/results_grid_eq.csv\n",
            "Overwritten: data_samples/results/results_grid_uneq.csv\n",
            "Overwritten: data_samples/results/results_random_eq.csv\n",
            "Overwritten: data_samples/results/results_random_uneq.csv\n"
          ]
        }
      ],
      "source": [
        "import os\n",
        "import pandas as pd\n",
        "\n",
        "folder = \"data_samples/results\"\n",
        "names = [\n",
        "    \"clust_eq\", \"clust_uneq\",\n",
        "    \"grid_eq\", \"grid_uneq\",\n",
        "    \"random_eq\", \"random_uneq\"\n",
        "]\n",
        "\n",
        "for name in names:\n",
        "    # File paths\n",
        "    initial_result_path = os.path.join(folder, f\"initial_results_{name}.csv\")\n",
        "    result_path = os.path.join(folder, f\"results_{name}.csv\")\n",
        "\n",
        "    # Read initial results (with header)\n",
        "    initial_df = pd.read_csv(initial_result_path)\n",
        "\n",
        "    # Read simulation results (SKIP header, but use correct columns)\n",
        "    result_df = pd.read_csv(result_path, skiprows=1, names=initial_df.columns)\n",
        "\n",
        "    # Combine both, initial first, then simulation\n",
        "    combined_df = pd.concat([initial_df, result_df], ignore_index=True)\n",
        "\n",
        "    # Overwrite results file (no header duplication!)\n",
        "    combined_df.to_csv(result_path, index=False)\n",
        "    print(f\"Overwritten: {result_path}\")"
      ]
    },
    {
      "cell_type": "markdown",
      "metadata": {},
      "source": [
        "## Results"
      ]
    },
    {
      "cell_type": "markdown",
      "metadata": {
        "id": "2APKT0SFUP4N"
      },
      "source": [
        "##### Three Population"
      ]
    },
    {
      "cell_type": "code",
      "execution_count": 30,
      "metadata": {},
      "outputs": [
        {
          "name": "stdout",
          "output_type": "stream",
          "text": [
            "                     Method   Density     Moran  Local Balance\n",
            "0      K-Means (45_random_) -0.713880 -0.046081       0.732912\n",
            "1      K-Means (45_random_) -0.254893 -0.152594       0.590541\n",
            "2      K-Means (45_random_) -0.260432 -0.228791       0.535824\n",
            "3      K-Means (45_random_) -0.320608 -0.107694       0.542356\n",
            "4      K-Means (45_random_) -0.318666 -0.107694       0.542356\n",
            "...                     ...       ...       ...            ...\n",
            "19695      K-Means (33rand)  0.013924 -0.176225       0.306510\n",
            "19696      K-Means (33rand) -0.001555 -0.170339       0.237261\n",
            "19697      K-Means (33rand)  0.100144 -0.258505       0.487673\n",
            "19698      K-Means (33rand)  0.188438 -0.113590       1.489019\n",
            "19699      K-Means (33rand) -0.014436 -0.207364       0.209792\n",
            "\n",
            "[19700 rows x 4 columns]\n"
          ]
        },
        {
          "data": {
            "image/png": "[encoded data removed]",
            "text/plain": [
              "<Figure size 900x1800 with 18 Axes>"
            ]
          },
          "metadata": {},
          "output_type": "display_data"
        }
      ],
      "source": [
        "import os\n",
        "import pandas as pd\n",
        "import matplotlib.pyplot as plt\n",
        "import seaborn as sns\n",
        "import warnings\n",
        "from matplotlib.ticker import FuncFormatter\n",
        "\n",
        "warnings.filterwarnings('ignore')\n",
        "\n",
        "# Folder and file info\n",
        "method_order = [\"n-Means(1,1)\", \"n-Means(11)2\", \"origin\", \"mahatan\", \"project\", \"Local Pivotal\", \"Wave\", \"SRS\", \"UPmaxentropy\"]\n",
        "method_order = [\"n-Means(1,1)\", \"n-Means(4,5)\", 'n-Means', \"Wave\", \"Local Pivotal\",  \"SRS\", \"UPmaxentropy\"]\n",
        "results_folder = 'data_samples/results'\n",
        "result_files = [\n",
        "    \"results_grid_eq.csv\",\n",
        "    \"results_grid_uneq.csv\",\n",
        "    \"results_random_eq.csv\",\n",
        "    \"results_random_uneq.csv\",\n",
        "    \"results_clust_eq.csv\",\n",
        "    \"results_clust_uneq.csv\",\n",
        "    # \"results_swiss_eq_n=10.csv\",\n",
        "    # \"results_swiss_uneq_n=10.csv\",\n",
        "]\n",
        "pretty_names = {\n",
        "    \"grid_eq\": \"Regular Grid Equal FIP\",\n",
        "    \"grid_uneq\": \"Regular Grid Unequal FIP\",\n",
        "    \"random_eq\": \"Random Equal FIP\",\n",
        "    \"random_uneq\": \"Random Unequal FIP\",\n",
        "    \"clust_eq\": \"Clustered Equal FIP\",\n",
        "    \"clust_uneq\": \"Clustered Unequal FIP\",\n",
        "}\n",
        "\n",
        "pretty_names = {\n",
        "    \"grid_eq\": \"Regular Grid EP\",\n",
        "    \"grid_uneq\": \"Regular Grid UP\",\n",
        "    \"random_eq\": \"Random EP\",\n",
        "    \"random_uneq\": \"Random UP\",\n",
        "    \"clust_eq\": \"Clustered EP\",\n",
        "    \"clust_uneq\": \"Clustered UP\",\n",
        "}\n",
        "\n",
        "# Use the new column for plotting (x or hue):\n",
        "pop_names = [s.replace(\"results_\", \"\").replace(\".csv\", \"\") for s in result_files]\n",
        "\n",
        "# Read results into a dict\n",
        "colnames = [\"Method\", \"Density\", \"Moran\", \"Voronoi\"]\n",
        "results_dict = {}\n",
        "for name, fname in zip(pop_names, result_files):\n",
        "    df = pd.read_csv(os.path.join(results_folder, fname))#names=colnames, header=True)\n",
        "    results_dict[name] = df\n",
        "print(df)\n",
        "# Mapping for nicer method names\n",
        "method_name_mapping = {\n",
        "    #\"K-Means (11_lexsort)\": \"n-Means(11)\",\n",
        "    # \"K-Means (11_lexsort2)\": \"n-Means(11)2\",\n",
        "    # \"K-Means (11_origin)\": \"origin\",\n",
        "    # \"K-Means (11_mahatan)\": \"mahatan\",\n",
        "    \"K-Means (11_random_)\": \"n-Means(1,1)\",\n",
        "    \"K-Means (45_random_)\": \"n-Means(4,5)\",\n",
        "    \"K-Means (11_lexsortxy)\": \"n-Means\",\n",
        "    \"wave\": \"Wave\",\n",
        "    \"Local Pivotal\": \"Local Pivotal\",\n",
        "    \"Random\": \"SRS\",\n",
        "    \"UPmaxentropy\": \"UPmaxentropy\"\n",
        "}\n",
        "\n",
        "# Apply the mapping to ALL dataframes in your results_dict\n",
        "for df in results_dict.values():\n",
        "    df[\"Method\"] = df[\"Method\"].map(method_name_mapping)\n",
        "\n",
        "# OPTIONAL: Remove any 'Method Pretty' columns if you made them previously\n",
        "for df in results_dict.values():\n",
        "    if \"Method Pretty\" in df.columns:\n",
        "        df.drop(columns=[\"Method Pretty\"], inplace=True)\n",
        "# Method palette for coloring\n",
        "all_methods = pd.concat(list(results_dict.values()))[\"Method\"].unique()\n",
        "method_palette = dict(zip(all_methods, sns.color_palette(\"Pastel1\", n_colors=len(all_methods))))\n",
        "\n",
        "# Metrics\n",
        "columns = [c for c in results_dict[pop_names[0]].columns if c != \"Method\"]\n",
        "#columns = [columns[i] for i in [0, 2, 1, 3]]\n",
        "\n",
        "# Create 6x4 grid (6 populations, 4 metrics)\n",
        "n_rows = len(pop_names)\n",
        "n_cols = len(columns)\n",
        "\n",
        "fig, axes = plt.subplots(n_rows, n_cols, figsize=(3*n_cols, 3*n_rows), sharey=False)\n",
        "\n",
        "for row_idx, pop in enumerate(pop_names):\n",
        "    df_pop = results_dict[pop]\n",
        "    for col_idx, metric in enumerate(columns):\n",
        "        ax = axes[row_idx, col_idx]\n",
        "        sns.boxplot(\n",
        "            x=\"Method\",\n",
        "            y=metric,\n",
        "            data=df_pop[df_pop[metric] < 2],  # <--- Filter here!\n",
        "#            data=df_pop, #remove_outliers(df_pop, metric, IQR_coef=10, groupby_col=\"Method\"),\n",
        "            hue=\"Method\",  # always assign hue for consistent handles\n",
        "            palette=method_palette,\n",
        "            ax=ax,\n",
        "            order=method_order,\n",
        "            showfliers=False,\n",
        "            linewidth=1.5,\n",
        "            #boxprops=dict(color='black'),\n",
        "            #whiskerprops=dict(color='black'),\n",
        "            #capprops=dict(color='black'),\n",
        "            #medianprops=dict(color='black'),\n",
        "        )\n",
        "        legend = ax.get_legend()\n",
        "        if legend is not None:\n",
        "            legend.remove()\n",
        "        ax.tick_params(axis='x', length=0)  # This removes the little black lines (ticks) on the x-axis\n",
        "        #ax.grid(True)\n",
        "        if row_idx == 0:\n",
        "            ax.set_title(f\"{metric}\", fontsize=14, weight='bold')\n",
        "        else:\n",
        "            ax.set_title(\"\")\n",
        "        if col_idx == 0:\n",
        "            ax.set_ylabel(pretty_names.get(pop, pop), weight='bold', fontsize=15)\n",
        "        else:\n",
        "            ax.set_ylabel(\"\")\n",
        "        ax.set_xlabel(\"\")\n",
        "        ax.set_xticklabels([])\n",
        "        if not (row_idx == 0 and col_idx == 0):\n",
        "            legend = ax.get_legend()\n",
        "            if legend is not None:\n",
        "                legend.remove()\n",
        "        ax.tick_params(axis='y', labelsize=10)\n",
        "        ax.yaxis.set_major_formatter(FuncFormatter(lambda x, _: f\"{x:.1f}\"))  # 2 decimals\n",
        "        if metric in ['Density', 'Voronoi', 'Local Balance']:\n",
        "            ax.axhline(y=0, color='red', linestyle='--', linewidth=2)\n",
        "        else:\n",
        "            ax.axhline(y=min(df_pop['Moran']), color='red', linestyle='--', linewidth=2)\n",
        "# ... rest of your code as above ...\n",
        "\n",
        "# ----------- SHARED LEGEND BLOCK (robust dummy plot method) -----------\n",
        "fig_legend, ax_legend = plt.subplots()\n",
        "df_concat = pd.concat(list(results_dict.values()), ignore_index=True)\n",
        "\n",
        "# NOTE: Only use x=\"Method\", NOT hue!\n",
        "sns.boxplot(\n",
        "    x=\"Method\",\n",
        "    y=columns[0],\n",
        "    data=df_concat,\n",
        "    palette=method_palette,\n",
        "    ax=ax_legend,\n",
        "    showfliers=False\n",
        ")\n",
        "\n",
        "from matplotlib.patches import Patch\n",
        "labels = method_order\n",
        "handles = [Patch(color=method_palette[l]) for l in labels]\n",
        "plt.close(fig_legend)\n",
        "leg = fig.legend(\n",
        "    handles, labels, loc='upper center', ncol=len(all_methods),\n",
        "    title=\"Sampling Design, N = 400, n = 4\",\n",
        "    fontsize=10,              # Label size\n",
        "    title_fontsize=15         # Title size\n",
        "    # No fontweight argument directly here\n",
        ")\n",
        "\n",
        "# Make legend labels bold\n",
        "for text in leg.get_texts():\n",
        "    text.set_fontweight('bold')\n",
        "\n",
        "# Make legend title bold\n",
        "leg.get_title().set_fontweight('bold')\n",
        "fig.tight_layout(rect=[0, 0.05, 1, 0.95])\n",
        "fig.subplots_adjust(wspace=0.15, hspace=0.2)\n",
        "# fig.suptitle(\"All metrics for all populations\", fontsize=16, y=1.01)\n",
        "plt.show()"
      ]
    }
  ],
  "metadata": {
    "colab": {
      "collapsed_sections": [
        "L8EamewvRhiV",
        "Yo13_-M0RaP9",
        "BEcbxvujRdPr",
        "eNZsi2g5mC6N",
        "ugL9lyKcmK7h",
        "uCLKd3elnAA_",
        "Gl_TYPfeL2ra",
        "2APKT0SFUP4N"
      ],
      "provenance": []
    },
    "kernelspec": {
      "display_name": "geometric-sampling",
      "language": "python",
      "name": "python3"
    },
    "language_info": {
      "codemirror_mode": {
        "name": "ipython",
        "version": 3
      },
      "file_extension": ".py",
      "mimetype": "text/x-python",
      "name": "python",
      "nbconvert_exporter": "python",
      "pygments_lexer": "ipython3",
      "version": "3.12.3"
    }
  },
  "nbformat": 4,
  "nbformat_minor": 0
}
