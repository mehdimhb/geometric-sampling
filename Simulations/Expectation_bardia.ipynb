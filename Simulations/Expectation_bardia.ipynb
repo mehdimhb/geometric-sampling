{
 "cells": [
  {
   "cell_type": "markdown",
   "id": "26f67b08",
   "metadata": {},
   "source": [
    "# Imports"
   ]
  },
  {
   "cell_type": "code",
   "id": "d0854f65",
   "metadata": {
    "ExecuteTime": {
     "end_time": "2025-07-20T08:55:26.136091Z",
     "start_time": "2025-07-20T08:55:26.125992Z"
    }
   },
   "source": [
    "%load_ext autoreload\n",
    "%autoreload 2"
   ],
   "outputs": [],
   "execution_count": 1
  },
  {
   "metadata": {
    "ExecuteTime": {
     "end_time": "2025-07-20T08:55:28.843489Z",
     "start_time": "2025-07-20T08:55:26.951822Z"
    }
   },
   "cell_type": "code",
   "source": [
    "import os\n",
    "import glob\n",
    "import geometric_sampling as gs\n",
    "import pandas as pd\n",
    "import numpy as np\n",
    "import itertools\n",
    "from tqdm import tqdm\n",
    "import rpy2.robjects as ro\n",
    "from rpy2.robjects import numpy2ri, default_converter\n",
    "from rpy2.robjects.conversion import localconverter\n",
    "from package_sampling.utils import inclusion_probabilities"
   ],
   "id": "f1f467631ccbd8ef",
   "outputs": [
    {
     "name": "stderr",
     "output_type": "stream",
     "text": [
      "/Users/mehdi/Documents/Projects/graphical_sampling/.venv/lib/python3.10/site-packages/rpy2/rinterface/__init__.py:1211: UserWarning: Environment variable \"PWD\" redefined by R and overriding existing variable. Current: \"/Users/mehdi/Documents/Projects/graphical_sampling\", R: \"/Users/mehdi/Documents/Projects/graphical_sampling/Simulations\"\n",
      "  warnings.warn(\n",
      "/Users/mehdi/Documents/Projects/graphical_sampling/.venv/lib/python3.10/site-packages/rpy2/rinterface/__init__.py:1211: UserWarning: Environment variable \"XPC_SERVICE_NAME\" redefined by R and overriding existing variable. Current: \"application.com.jetbrains.pycharm.1003326.1004450\", R: \"0\"\n",
      "  warnings.warn(\n",
      "/Users/mehdi/Documents/Projects/graphical_sampling/.venv/lib/python3.10/site-packages/rpy2/rinterface/__init__.py:1211: UserWarning: Environment variable \"R_SESSION_TMPDIR\" redefined by R and overriding existing variable. Current: \"/var/folders/tw/x1njhbdj7q19p65g47mw5dqm0000gn/T//RtmpOBxN13\", R: \"/var/folders/tw/x1njhbdj7q19p65g47mw5dqm0000gn/T//RtmpeueMIS\"\n",
      "  warnings.warn(\n"
     ]
    }
   ],
   "execution_count": 2
  },
  {
   "metadata": {
    "ExecuteTime": {
     "end_time": "2025-07-20T08:55:29.663936Z",
     "start_time": "2025-07-20T08:55:29.641017Z"
    }
   },
   "cell_type": "code",
   "source": "%load_ext rpy2.ipython",
   "id": "4881c6ff443fa2a3",
   "outputs": [],
   "execution_count": 3
  },
  {
   "metadata": {
    "ExecuteTime": {
     "end_time": "2025-07-20T08:55:32.474799Z",
     "start_time": "2025-07-20T08:55:30.835416Z"
    }
   },
   "cell_type": "code",
   "source": [
    "%%R\n",
    "\n",
    "library(WaveSampling)\n",
    "library(sampling)\n",
    "library(BalancedSampling)\n"
   ],
   "id": "c7902975de8929ce",
   "outputs": [
    {
     "data": {
      "text/plain": [
       "Loading required package: Matrix\n"
      ]
     },
     "metadata": {},
     "output_type": "display_data"
    }
   ],
   "execution_count": 4
  },
  {
   "metadata": {},
   "cell_type": "markdown",
   "source": "# Moran and Local Balance Score",
   "id": "3ee1bd250bfff9ef"
  },
  {
   "metadata": {
    "ExecuteTime": {
     "end_time": "2025-07-20T08:55:34.064795Z",
     "start_time": "2025-07-20T08:55:34.046977Z"
    }
   },
   "cell_type": "code",
   "source": [
    "def score_all_samples_moran_lb(coords, probs, sample_indices_list):\n",
    "    \"\"\"\n",
    "    coords          : an (N×2)-array of spatial coordinates\n",
    "    probs           : length-N array of inclusion probabilities\n",
    "    sample_indices_list : list of length-n integer numpy arrays (0-based indices)\n",
    "\n",
    "    Returns an (S×2) numpy array of [IB, SBLB] for each of the S samples.\n",
    "    \"\"\"\n",
    "\n",
    "    # Convert Python list of numpy arrays into an R list of integer vectors\n",
    "    #   * add +1 because R is 1-based\n",
    "    r_sample_list = ro.ListVector({\n",
    "        str(i+1): ro.IntVector(sample_idx.astype(int) + 1)\n",
    "        for i, sample_idx in enumerate(sample_indices_list)\n",
    "    })\n",
    "\n",
    "    with localconverter(default_converter + numpy2ri.converter):\n",
    "        ro.globalenv['coords'] = coords\n",
    "        ro.globalenv['probs'] = probs\n",
    "        # Precompute W once\n",
    "        ro.r(\"\"\"\n",
    "            W0 <- wpik(coords, probs)\n",
    "            W <- W0 - diag(diag(W0))\n",
    "            diag(W) <- 0\n",
    "        \"\"\")\n",
    "        ro.globalenv['samples'] = r_sample_list\n",
    "\n",
    "        # Define an R function that loops over all samples\n",
    "        ro.r(\"\"\"\n",
    "            score_samples <- function(W, probs, coords, samples_list) {\n",
    "              S <- length(samples_list)\n",
    "              IBs   <- numeric(S)\n",
    "              SBLBs <- numeric(S)\n",
    "\n",
    "              for (i in seq_len(S)) {\n",
    "                samp_idx <- samples_list[[i]]\n",
    "                mask <- integer(length(probs))\n",
    "                mask[samp_idx] <- 1\n",
    "\n",
    "                IBs[i]   <- tryCatch(IB(W, mask),        error = function(e) Inf)\n",
    "                SBLBs[i] <- tryCatch(sblb(probs, coords, samp_idx), error = function(e) Inf)\n",
    "              }\n",
    "              # return as a 2-column matrix\n",
    "              cbind(IB = IBs, SBLB = SBLBs)\n",
    "            }\n",
    "        \"\"\")\n",
    "\n",
    "        # Call it once\n",
    "        result = ro.r(\"score_samples(W, probs, coords, samples)\")\n",
    "        # result comes back as an R matrix  S×2\n",
    "\n",
    "    # Turn it into an (S×2) numpy array\n",
    "    with localconverter(default_converter + numpy2ri.converter):\n",
    "        np_result = np.array(result)\n",
    "    return np_result[:, 0], np_result[:, 1]\n"
   ],
   "id": "6e645c839b6add6f",
   "outputs": [],
   "execution_count": 5
  },
  {
   "metadata": {},
   "cell_type": "markdown",
   "source": "# Loading Population",
   "id": "6464cee173f03109"
  },
  {
   "metadata": {
    "ExecuteTime": {
     "end_time": "2025-07-20T08:55:35.320310Z",
     "start_time": "2025-07-20T08:55:35.295641Z"
    }
   },
   "cell_type": "code",
   "source": [
    "DATA_DIR = \"../data_samples/coords_probs\"\n",
    "csv_paths = glob.glob(os.path.join(DATA_DIR, \"*.csv\"))\n",
    "\n",
    "coords_dict = {}\n",
    "probs_dict = {}\n",
    "\n",
    "for fp in csv_paths:\n",
    "    if 'swiss' not in fp:\n",
    "        name = os.path.splitext(os.path.basename(fp))[0]\n",
    "        data = np.loadtxt(fp, delimiter=\",\", skiprows=1)\n",
    "        coords = data[:, :2]\n",
    "        probs  = data[:, -1]\n",
    "\n",
    "        coord_name, prob_name = name.split(\"_\")\n",
    "        coord_name = 'cluster' if coord_name == 'clust' else coord_name\n",
    "        prob_name = 'equal' if prob_name == 'eq' else 'unequal'\n",
    "\n",
    "        coords_dict[coord_name] = coords\n",
    "        probs_dict[coord_name] = probs_dict.get(coord_name, {})\n",
    "        probs_dict[coord_name][prob_name] = probs\n",
    "\n",
    "print(coords_dict.keys())\n",
    "print(probs_dict.keys())\n",
    "print(probs_dict['random'].keys())"
   ],
   "id": "2331e44bebecb7a9",
   "outputs": [
    {
     "name": "stdout",
     "output_type": "stream",
     "text": [
      "dict_keys(['random', 'cluster', 'meuse', 'grid'])\n",
      "dict_keys(['random', 'cluster', 'meuse', 'grid'])\n",
      "dict_keys(['equal', 'unequal'])\n"
     ]
    }
   ],
   "execution_count": 6
  },
  {
   "metadata": {},
   "cell_type": "markdown",
   "source": "# Evaluation Function",
   "id": "2a62567e2caf69b1"
  },
  {
   "metadata": {
    "ExecuteTime": {
     "end_time": "2025-07-20T08:55:38.715825Z",
     "start_time": "2025-07-20T08:55:38.692602Z"
    }
   },
   "cell_type": "code",
   "source": [
    "def top_n_records(df: pd.DataFrame,\n",
    "                  name_cols: list,\n",
    "                  sort_col: str = 'exp_moran',\n",
    "                  k: int = 10,\n",
    "                  smallest: bool = True) -> pd.DataFrame:\n",
    "\n",
    "    df_copy = df.copy()\n",
    "\n",
    "    df_copy['name'] = df_copy[name_cols].astype(str).agg(' - '.join, axis=1)\n",
    "\n",
    "    if smallest:\n",
    "        return df_copy.nsmallest(k, sort_col)[['name', sort_col]].reset_index(drop=True)\n",
    "    return df_copy.nlargest(k, sort_col)[['name', sort_col]].reset_index(drop=True)"
   ],
   "id": "c06718b3febee889",
   "outputs": [],
   "execution_count": 7
  },
  {
   "metadata": {
    "ExecuteTime": {
     "end_time": "2025-07-18T19:52:47.566999Z",
     "start_time": "2025-07-18T19:52:47.483740Z"
    }
   },
   "cell_type": "code",
   "source": [
    "def evaluate(\n",
    "        coords_dict,\n",
    "        probs_dict,\n",
    "        n_values=[4, 8, 16],\n",
    "        zone_list=[(1, 1), (2, 2), (3, 3)],\n",
    "        sort_method_list=['lexico', 'random', 'angle_0', 'distance_0', 'projection', \"center\", \"spiral\", \"max\"],\n",
    "        zonal_sort_list=['lexico', 'random', 'angle_0', 'distance_0', 'projection', \"center\", \"spiral\", \"max\"],\n",
    "        tolerance=5,\n",
    "        split_size=1e-3,\n",
    "):\n",
    "    records = []\n",
    "\n",
    "    # pre‐compute all combinations\n",
    "    combos = list(itertools.product(\n",
    "        n_values,\n",
    "        zone_list,\n",
    "        sort_method_list,\n",
    "        zonal_sort_list\n",
    "    ))\n",
    "\n",
    "    for n, zones, sort_method, zonal_sort in tqdm(\n",
    "        combos,\n",
    "        desc=\"Total combos\",\n",
    "        unit=\"combo\"\n",
    "    ):\n",
    "\n",
    "        for coord_name in probs_dict.keys():\n",
    "            for prob_name in probs_dict[coord_name].keys():\n",
    "\n",
    "                coords = coords_dict[coord_name]\n",
    "                probs = probs_dict[coord_name][prob_name]\n",
    "\n",
    "                kss = gs.sampling.KMeansSpatialSamplingSimple(\n",
    "                    coords, probs,\n",
    "                    n=n,\n",
    "                    n_zones=zones,\n",
    "                    tolerance=tolerance,\n",
    "                    split_size=split_size,\n",
    "                    sort_method = sort_method,\n",
    "                    zonal_sort = zonal_sort,\n",
    "                    zone_mode='cluster'\n",
    "                )\n",
    "\n",
    "                density_expected = np.round(kss.expected_score(), 4)\n",
    "                density_val = np.round(kss.var_score(), 4)\n",
    "\n",
    "                moran_scores, lb_scores = score_all_samples_moran_lb(coords, probs, kss.all_samples)\n",
    "\n",
    "                moran_expected = np.round(kss.expected_score(moran_scores), 4)\n",
    "                moran_val = np.round(kss.var_score(moran_scores), 4)\n",
    "\n",
    "                lb_expected = np.round(kss.expected_score(lb_scores), 4)\n",
    "                lb_val = np.round(kss.var_score(lb_scores), 4)\n",
    "\n",
    "                records.append({\n",
    "                    # 'n': n,\n",
    "                    # 'zones': f\"{zones[0]}×{zones[1]}\",\n",
    "                    'zones': zones,\n",
    "                    'bar_sort': sort_method,\n",
    "                    'zonal_sort': zonal_sort if zonal_sort else 'None',\n",
    "                    'coord': coord_name,\n",
    "                    'prob': prob_name,\n",
    "                    'exp_density': density_expected,\n",
    "                    'exp_moran': moran_expected,\n",
    "                    'exp_lb': lb_expected,\n",
    "                    'var_density': density_val,\n",
    "                    'var_moran': moran_val,\n",
    "                    'var_lb': lb_val,\n",
    "                })\n",
    "\n",
    "    return pd.DataFrame.from_records(records)\n"
   ],
   "id": "bd8d07d13cae09c1",
   "outputs": [],
   "execution_count": 45
  },
  {
   "metadata": {
    "ExecuteTime": {
     "end_time": "2025-07-18T19:57:46.343693Z",
     "start_time": "2025-07-18T19:53:11.722583Z"
    }
   },
   "cell_type": "code",
   "source": [
    "df = evaluate(\n",
    "    coords_dict,\n",
    "    probs_dict,\n",
    "    n_values=[4],\n",
    "    # zone_list=[(1, 1), (2, 2), (3, 3)],\n",
    "    zone_list=[2, 3, 4],\n",
    "    sort_method_list=['distance_0', 'projection'],\n",
    "    zonal_sort_list=[None, 'distance_0', 'projection'],\n",
    "    tolerance=5,\n",
    "    split_size=1e-3,\n",
    ")"
   ],
   "id": "552e14d0bba01544",
   "outputs": [
    {
     "name": "stderr",
     "output_type": "stream",
     "text": [
      "Total combos: 100%|██████████| 18/18 [04:34<00:00, 15.26s/combo]\n"
     ]
    }
   ],
   "execution_count": 48
  },
  {
   "metadata": {
    "ExecuteTime": {
     "end_time": "2025-07-18T19:57:55.881300Z",
     "start_time": "2025-07-18T19:57:55.805524Z"
    }
   },
   "cell_type": "code",
   "source": [
    "summary = df.pivot_table(\n",
    "    columns=['zones', 'zonal_sort', 'bar_sort'],\n",
    "    # values=['exp_density', 'exp_moran', 'exp_lb', 'var_density', 'var_moran', 'var_lb'],\n",
    "    values=['exp_moran',],\n",
    "    index=['coord', 'prob'],\n",
    "    aggfunc='first'\n",
    ")\n",
    "\n",
    "summary"
   ],
   "id": "b419cb2b24d3198b",
   "outputs": [
    {
     "data": {
      "text/plain": [
       "                 exp_moran                                              \\\n",
       "zones                    2                                               \n",
       "zonal_sort            None            distance_0            projection   \n",
       "bar_sort        distance_0 projection distance_0 projection distance_0   \n",
       "coord   prob                                                             \n",
       "cluster equal      -0.1253    -0.1276    -0.1985    -0.2043    -0.1915   \n",
       "        unequal    -0.0786    -0.1228    -0.1248    -0.1248    -0.1248   \n",
       "grid    equal      -0.1116    -0.2019    -0.1781    -0.1758    -0.1758   \n",
       "        unequal    -0.1174    -0.0574    -0.1174    -0.1174    -0.1174   \n",
       "meuse   equal      -0.2683    -0.2547    -0.2745    -0.2745    -0.2745   \n",
       "        unequal    -0.1968    -0.1676    -0.2193    -0.2183    -0.2193   \n",
       "random  equal      -0.1618    -0.1318    -0.1603    -0.1618    -0.1600   \n",
       "        unequal    -0.0869    -0.1104    -0.1336    -0.1341    -0.1336   \n",
       "\n",
       "                                                                        \\\n",
       "zones                               3                                    \n",
       "zonal_sort                       None            distance_0              \n",
       "bar_sort        projection distance_0 projection distance_0 projection   \n",
       "coord   prob                                                             \n",
       "cluster equal      -0.1985    -0.2449    -0.1455    -0.2392    -0.2384   \n",
       "        unequal    -0.1248    -0.1149    -0.1299    -0.1058    -0.1294   \n",
       "grid    equal      -0.1781    -0.1489    -0.1537    -0.1900    -0.1576   \n",
       "        unequal    -0.1174    -0.0971    -0.0973    -0.1215    -0.1215   \n",
       "meuse   equal      -0.2745    -0.2612    -0.1856    -0.3335    -0.3335   \n",
       "        unequal    -0.2183    -0.1839    -0.1416    -0.2228    -0.2228   \n",
       "random  equal      -0.1603    -0.1551    -0.1615    -0.1573    -0.1573   \n",
       "        unequal    -0.1336    -0.0977    -0.1498    -0.1219    -0.1274   \n",
       "\n",
       "                                                                        \\\n",
       "zones                                          4                         \n",
       "zonal_sort      projection                  None            distance_0   \n",
       "bar_sort        distance_0 projection distance_0 projection distance_0   \n",
       "coord   prob                                                             \n",
       "cluster equal      -0.2385    -0.2485    -0.3012    -0.2648    -0.3162   \n",
       "        unequal    -0.1068    -0.1083    -0.1405    -0.0956    -0.1454   \n",
       "grid    equal      -0.1708    -0.1478    -0.1527    -0.1396    -0.2041   \n",
       "        unequal    -0.1229    -0.1197    -0.0938    -0.1060    -0.1224   \n",
       "meuse   equal      -0.3335    -0.3335    -0.2753    -0.1998    -0.2930   \n",
       "        unequal    -0.2228    -0.2228    -0.2206    -0.1668    -0.2395   \n",
       "random  equal      -0.1571    -0.1568    -0.1502    -0.1106    -0.1756   \n",
       "        unequal    -0.1245    -0.1245    -0.1096    -0.0926    -0.1158   \n",
       "\n",
       "                                                  \n",
       "zones                                             \n",
       "zonal_sort                 projection             \n",
       "bar_sort        projection distance_0 projection  \n",
       "coord   prob                                      \n",
       "cluster equal      -0.3118    -0.3211    -0.3240  \n",
       "        unequal    -0.1450    -0.1302    -0.1267  \n",
       "grid    equal      -0.1683    -0.1817    -0.1761  \n",
       "        unequal    -0.1186    -0.1085    -0.1220  \n",
       "meuse   equal      -0.2926    -0.3298    -0.3271  \n",
       "        unequal    -0.2307    -0.2223    -0.2203  \n",
       "random  equal      -0.1734    -0.1756    -0.1756  \n",
       "        unequal    -0.1158    -0.1112    -0.1116  "
      ],
      "text/html": [
       "<div>\n",
       "<style scoped>\n",
       "    .dataframe tbody tr th:only-of-type {\n",
       "        vertical-align: middle;\n",
       "    }\n",
       "\n",
       "    .dataframe tbody tr th {\n",
       "        vertical-align: top;\n",
       "    }\n",
       "\n",
       "    .dataframe thead tr th {\n",
       "        text-align: left;\n",
       "    }\n",
       "\n",
       "    .dataframe thead tr:last-of-type th {\n",
       "        text-align: right;\n",
       "    }\n",
       "</style>\n",
       "<table border=\"1\" class=\"dataframe\">\n",
       "  <thead>\n",
       "    <tr>\n",
       "      <th></th>\n",
       "      <th></th>\n",
       "      <th colspan=\"18\" halign=\"left\">exp_moran</th>\n",
       "    </tr>\n",
       "    <tr>\n",
       "      <th></th>\n",
       "      <th>zones</th>\n",
       "      <th colspan=\"6\" halign=\"left\">2</th>\n",
       "      <th colspan=\"6\" halign=\"left\">3</th>\n",
       "      <th colspan=\"6\" halign=\"left\">4</th>\n",
       "    </tr>\n",
       "    <tr>\n",
       "      <th></th>\n",
       "      <th>zonal_sort</th>\n",
       "      <th colspan=\"2\" halign=\"left\">None</th>\n",
       "      <th colspan=\"2\" halign=\"left\">distance_0</th>\n",
       "      <th colspan=\"2\" halign=\"left\">projection</th>\n",
       "      <th colspan=\"2\" halign=\"left\">None</th>\n",
       "      <th colspan=\"2\" halign=\"left\">distance_0</th>\n",
       "      <th colspan=\"2\" halign=\"left\">projection</th>\n",
       "      <th colspan=\"2\" halign=\"left\">None</th>\n",
       "      <th colspan=\"2\" halign=\"left\">distance_0</th>\n",
       "      <th colspan=\"2\" halign=\"left\">projection</th>\n",
       "    </tr>\n",
       "    <tr>\n",
       "      <th></th>\n",
       "      <th>bar_sort</th>\n",
       "      <th>distance_0</th>\n",
       "      <th>projection</th>\n",
       "      <th>distance_0</th>\n",
       "      <th>projection</th>\n",
       "      <th>distance_0</th>\n",
       "      <th>projection</th>\n",
       "      <th>distance_0</th>\n",
       "      <th>projection</th>\n",
       "      <th>distance_0</th>\n",
       "      <th>projection</th>\n",
       "      <th>distance_0</th>\n",
       "      <th>projection</th>\n",
       "      <th>distance_0</th>\n",
       "      <th>projection</th>\n",
       "      <th>distance_0</th>\n",
       "      <th>projection</th>\n",
       "      <th>distance_0</th>\n",
       "      <th>projection</th>\n",
       "    </tr>\n",
       "    <tr>\n",
       "      <th>coord</th>\n",
       "      <th>prob</th>\n",
       "      <th></th>\n",
       "      <th></th>\n",
       "      <th></th>\n",
       "      <th></th>\n",
       "      <th></th>\n",
       "      <th></th>\n",
       "      <th></th>\n",
       "      <th></th>\n",
       "      <th></th>\n",
       "      <th></th>\n",
       "      <th></th>\n",
       "      <th></th>\n",
       "      <th></th>\n",
       "      <th></th>\n",
       "      <th></th>\n",
       "      <th></th>\n",
       "      <th></th>\n",
       "      <th></th>\n",
       "    </tr>\n",
       "  </thead>\n",
       "  <tbody>\n",
       "    <tr>\n",
       "      <th rowspan=\"2\" valign=\"top\">cluster</th>\n",
       "      <th>equal</th>\n",
       "      <td>-0.1253</td>\n",
       "      <td>-0.1276</td>\n",
       "      <td>-0.1985</td>\n",
       "      <td>-0.2043</td>\n",
       "      <td>-0.1915</td>\n",
       "      <td>-0.1985</td>\n",
       "      <td>-0.2449</td>\n",
       "      <td>-0.1455</td>\n",
       "      <td>-0.2392</td>\n",
       "      <td>-0.2384</td>\n",
       "      <td>-0.2385</td>\n",
       "      <td>-0.2485</td>\n",
       "      <td>-0.3012</td>\n",
       "      <td>-0.2648</td>\n",
       "      <td>-0.3162</td>\n",
       "      <td>-0.3118</td>\n",
       "      <td>-0.3211</td>\n",
       "      <td>-0.3240</td>\n",
       "    </tr>\n",
       "    <tr>\n",
       "      <th>unequal</th>\n",
       "      <td>-0.0786</td>\n",
       "      <td>-0.1228</td>\n",
       "      <td>-0.1248</td>\n",
       "      <td>-0.1248</td>\n",
       "      <td>-0.1248</td>\n",
       "      <td>-0.1248</td>\n",
       "      <td>-0.1149</td>\n",
       "      <td>-0.1299</td>\n",
       "      <td>-0.1058</td>\n",
       "      <td>-0.1294</td>\n",
       "      <td>-0.1068</td>\n",
       "      <td>-0.1083</td>\n",
       "      <td>-0.1405</td>\n",
       "      <td>-0.0956</td>\n",
       "      <td>-0.1454</td>\n",
       "      <td>-0.1450</td>\n",
       "      <td>-0.1302</td>\n",
       "      <td>-0.1267</td>\n",
       "    </tr>\n",
       "    <tr>\n",
       "      <th rowspan=\"2\" valign=\"top\">grid</th>\n",
       "      <th>equal</th>\n",
       "      <td>-0.1116</td>\n",
       "      <td>-0.2019</td>\n",
       "      <td>-0.1781</td>\n",
       "      <td>-0.1758</td>\n",
       "      <td>-0.1758</td>\n",
       "      <td>-0.1781</td>\n",
       "      <td>-0.1489</td>\n",
       "      <td>-0.1537</td>\n",
       "      <td>-0.1900</td>\n",
       "      <td>-0.1576</td>\n",
       "      <td>-0.1708</td>\n",
       "      <td>-0.1478</td>\n",
       "      <td>-0.1527</td>\n",
       "      <td>-0.1396</td>\n",
       "      <td>-0.2041</td>\n",
       "      <td>-0.1683</td>\n",
       "      <td>-0.1817</td>\n",
       "      <td>-0.1761</td>\n",
       "    </tr>\n",
       "    <tr>\n",
       "      <th>unequal</th>\n",
       "      <td>-0.1174</td>\n",
       "      <td>-0.0574</td>\n",
       "      <td>-0.1174</td>\n",
       "      <td>-0.1174</td>\n",
       "      <td>-0.1174</td>\n",
       "      <td>-0.1174</td>\n",
       "      <td>-0.0971</td>\n",
       "      <td>-0.0973</td>\n",
       "      <td>-0.1215</td>\n",
       "      <td>-0.1215</td>\n",
       "      <td>-0.1229</td>\n",
       "      <td>-0.1197</td>\n",
       "      <td>-0.0938</td>\n",
       "      <td>-0.1060</td>\n",
       "      <td>-0.1224</td>\n",
       "      <td>-0.1186</td>\n",
       "      <td>-0.1085</td>\n",
       "      <td>-0.1220</td>\n",
       "    </tr>\n",
       "    <tr>\n",
       "      <th rowspan=\"2\" valign=\"top\">meuse</th>\n",
       "      <th>equal</th>\n",
       "      <td>-0.2683</td>\n",
       "      <td>-0.2547</td>\n",
       "      <td>-0.2745</td>\n",
       "      <td>-0.2745</td>\n",
       "      <td>-0.2745</td>\n",
       "      <td>-0.2745</td>\n",
       "      <td>-0.2612</td>\n",
       "      <td>-0.1856</td>\n",
       "      <td>-0.3335</td>\n",
       "      <td>-0.3335</td>\n",
       "      <td>-0.3335</td>\n",
       "      <td>-0.3335</td>\n",
       "      <td>-0.2753</td>\n",
       "      <td>-0.1998</td>\n",
       "      <td>-0.2930</td>\n",
       "      <td>-0.2926</td>\n",
       "      <td>-0.3298</td>\n",
       "      <td>-0.3271</td>\n",
       "    </tr>\n",
       "    <tr>\n",
       "      <th>unequal</th>\n",
       "      <td>-0.1968</td>\n",
       "      <td>-0.1676</td>\n",
       "      <td>-0.2193</td>\n",
       "      <td>-0.2183</td>\n",
       "      <td>-0.2193</td>\n",
       "      <td>-0.2183</td>\n",
       "      <td>-0.1839</td>\n",
       "      <td>-0.1416</td>\n",
       "      <td>-0.2228</td>\n",
       "      <td>-0.2228</td>\n",
       "      <td>-0.2228</td>\n",
       "      <td>-0.2228</td>\n",
       "      <td>-0.2206</td>\n",
       "      <td>-0.1668</td>\n",
       "      <td>-0.2395</td>\n",
       "      <td>-0.2307</td>\n",
       "      <td>-0.2223</td>\n",
       "      <td>-0.2203</td>\n",
       "    </tr>\n",
       "    <tr>\n",
       "      <th rowspan=\"2\" valign=\"top\">random</th>\n",
       "      <th>equal</th>\n",
       "      <td>-0.1618</td>\n",
       "      <td>-0.1318</td>\n",
       "      <td>-0.1603</td>\n",
       "      <td>-0.1618</td>\n",
       "      <td>-0.1600</td>\n",
       "      <td>-0.1603</td>\n",
       "      <td>-0.1551</td>\n",
       "      <td>-0.1615</td>\n",
       "      <td>-0.1573</td>\n",
       "      <td>-0.1573</td>\n",
       "      <td>-0.1571</td>\n",
       "      <td>-0.1568</td>\n",
       "      <td>-0.1502</td>\n",
       "      <td>-0.1106</td>\n",
       "      <td>-0.1756</td>\n",
       "      <td>-0.1734</td>\n",
       "      <td>-0.1756</td>\n",
       "      <td>-0.1756</td>\n",
       "    </tr>\n",
       "    <tr>\n",
       "      <th>unequal</th>\n",
       "      <td>-0.0869</td>\n",
       "      <td>-0.1104</td>\n",
       "      <td>-0.1336</td>\n",
       "      <td>-0.1341</td>\n",
       "      <td>-0.1336</td>\n",
       "      <td>-0.1336</td>\n",
       "      <td>-0.0977</td>\n",
       "      <td>-0.1498</td>\n",
       "      <td>-0.1219</td>\n",
       "      <td>-0.1274</td>\n",
       "      <td>-0.1245</td>\n",
       "      <td>-0.1245</td>\n",
       "      <td>-0.1096</td>\n",
       "      <td>-0.0926</td>\n",
       "      <td>-0.1158</td>\n",
       "      <td>-0.1158</td>\n",
       "      <td>-0.1112</td>\n",
       "      <td>-0.1116</td>\n",
       "    </tr>\n",
       "  </tbody>\n",
       "</table>\n",
       "</div>"
      ]
     },
     "execution_count": 49,
     "metadata": {},
     "output_type": "execute_result"
    }
   ],
   "execution_count": 49
  },
  {
   "metadata": {},
   "cell_type": "markdown",
   "source": "# Meuse",
   "id": "96ac85cd8d339376"
  },
  {
   "metadata": {
    "ExecuteTime": {
     "end_time": "2025-07-20T09:35:58.997723Z",
     "start_time": "2025-07-20T09:35:58.976682Z"
    }
   },
   "cell_type": "code",
   "source": [
    "def evaluate_meuse(\n",
    "        coords_dict,\n",
    "        probs_dict,\n",
    "        n_values=[4],\n",
    "        zone_list=[(1, 1), (2, 2), (3, 3)],\n",
    "        sort_method_list=['lexico', 'random', 'angle_0', 'distance_0', 'projection', \"center\", \"spiral\", \"max\"],\n",
    "        zonal_sort_list=['lexico', 'random', 'angle_0', 'distance_0', 'projection', \"center\", \"spiral\", \"max\"],\n",
    "        zone_mode_list=['sweep' 'cluster'],\n",
    "        tolerance=5,\n",
    "        split_size=1e-3,\n",
    "):\n",
    "    records = []\n",
    "\n",
    "    # pre‐compute all combinations\n",
    "    combos = list(itertools.product(\n",
    "        n_values,\n",
    "        zone_list,\n",
    "        zone_mode_list,\n",
    "        zonal_sort_list,\n",
    "        sort_method_list\n",
    "    ))\n",
    "    coords = coords_dict['meuse']\n",
    "    probs = probs_dict['meuse']['equal']\n",
    "\n",
    "    best_moran_sofar = 0\n",
    "\n",
    "    for n, zones, zone_mode, zonal_sort, sort_method in tqdm(\n",
    "        combos,\n",
    "        desc=\"Total combos\",\n",
    "        unit=\"combo\"\n",
    "    ):\n",
    "\n",
    "        # print(n, zones, zone_mode, zonal_sort, sort_method)\n",
    "\n",
    "        modified_probs = inclusion_probabilities(probs, n=n)\n",
    "        kss = gs.sampling.KMeansSpatialSamplingSimple(\n",
    "            coords, modified_probs,\n",
    "            n=n,\n",
    "            n_zones=zones,\n",
    "            tolerance=tolerance,\n",
    "            split_size=split_size,\n",
    "            zone_mode=zone_mode,\n",
    "            sort_method=sort_method,\n",
    "            zonal_sort=zonal_sort,\n",
    "            max_missed_samples=1\n",
    "        )\n",
    "\n",
    "        density_expected = np.round(kss.expected_score(), 4)\n",
    "        density_val = np.round(kss.var_score(), 4)\n",
    "\n",
    "        moran_scores, lb_scores = score_all_samples_moran_lb(coords, modified_probs, kss.all_samples)\n",
    "\n",
    "        moran_expected = np.round(kss.expected_score(moran_scores), 4)\n",
    "        moran_val = np.round(kss.var_score(moran_scores), 4)\n",
    "\n",
    "        lb_expected = np.round(kss.expected_score(lb_scores), 4)\n",
    "        lb_val = np.round(kss.var_score(lb_scores), 4)\n",
    "\n",
    "        if moran_expected < best_moran_sofar:\n",
    "            best_moran_sofar = moran_expected\n",
    "            print()\n",
    "\n",
    "        records.append({\n",
    "            'n': n,\n",
    "            'zones': zones if zone_mode == 'cluster' else f\"{zones[0]}×{zones[1]}\",\n",
    "            'zone_mode': zone_mode,\n",
    "            'bar_sort': sort_method,\n",
    "            'zonal_sort': zonal_sort if zonal_sort else 'None',\n",
    "            'exp_density': density_expected,\n",
    "            'exp_moran': moran_expected,\n",
    "            'exp_lb': lb_expected,\n",
    "            'var_density': density_val,\n",
    "            'var_moran': moran_val,\n",
    "            'var_lb': lb_val,\n",
    "        })\n",
    "\n",
    "    return pd.DataFrame.from_records(records)\n"
   ],
   "id": "718f61e95bc57da3",
   "outputs": [],
   "execution_count": 25
  },
  {
   "metadata": {
    "ExecuteTime": {
     "end_time": "2025-07-20T09:42:31.667031Z",
     "start_time": "2025-07-20T09:36:04.525393Z"
    }
   },
   "cell_type": "code",
   "source": [
    "df = evaluate_meuse(\n",
    "    coords_dict,\n",
    "    probs_dict,\n",
    "    n_values=[15],\n",
    "    # zone_list=[(1, 1), (2, 2)],\n",
    "    zone_list=[1, 2, 3, 4, 5],\n",
    "    sort_method_list=['lexico', 'random', 'distance_0', 'projection', \"max\"],\n",
    "    zonal_sort_list=[None,'lexico', 'random', 'distance_0', 'projection', \"max\"],\n",
    "    # zonal_sort_list=[None],\n",
    "    zone_mode_list=['cluster'],\n",
    "    tolerance=5,\n",
    "    split_size=1e-3,\n",
    ")"
   ],
   "id": "947c9dee2b780afb",
   "outputs": [
    {
     "name": "stderr",
     "output_type": "stream",
     "text": [
      "Total combos:   1%|          | 1/150 [00:01<04:34,  1.84s/combo]"
     ]
    },
    {
     "name": "stdout",
     "output_type": "stream",
     "text": [
      "WARNING: Design contains missed samples: 3\n",
      "Move border units INSIDE zones...\n",
      "3 of them have been solved.\n",
      "Current number of missed samples: 0\n",
      "Lost Probs: 0.0\n"
     ]
    },
    {
     "name": "stderr",
     "output_type": "stream",
     "text": [
      "Total combos:   1%|▏         | 2/150 [00:03<04:08,  1.68s/combo]"
     ]
    },
    {
     "name": "stdout",
     "output_type": "stream",
     "text": [
      "WARNING: Design contains missed samples: 1\n",
      "Move border units INSIDE zones...\n",
      "1 of them have been solved.\n",
      "Current number of missed samples: 0\n",
      "Lost Probs: 0.0\n"
     ]
    },
    {
     "name": "stderr",
     "output_type": "stream",
     "text": [
      "Total combos:   2%|▏         | 3/150 [00:05<04:17,  1.75s/combo]"
     ]
    },
    {
     "name": "stdout",
     "output_type": "stream",
     "text": [
      "WARNING: Design contains missed samples: 1\n",
      "Move border units INSIDE zones...\n",
      "Failed to solve the design.\n",
      "Lost Probs: 0.03193999999999997\n"
     ]
    },
    {
     "name": "stderr",
     "output_type": "stream",
     "text": [
      "Total combos:   3%|▎         | 4/150 [00:07<04:16,  1.76s/combo]"
     ]
    },
    {
     "name": "stdout",
     "output_type": "stream",
     "text": [
      "Lost Probs: 0.0\n"
     ]
    },
    {
     "name": "stderr",
     "output_type": "stream",
     "text": [
      "Total combos:   3%|▎         | 5/150 [00:08<04:01,  1.66s/combo]"
     ]
    },
    {
     "name": "stdout",
     "output_type": "stream",
     "text": [
      "WARNING: Design contains missed samples: 3\n",
      "Move border units INSIDE zones...\n",
      "Failed to solve the design.\n",
      "\n",
      "WARNING: Design contains missed samples: 3\n",
      "Move border units OUTSIDE zones...\n",
      "Failed to solve the design.\n",
      "\n",
      "WARNING: Design contains missed samples: 3\n",
      "Move border units OUTSIDE zones...\n",
      "Failed to solve the design.\n",
      "\n",
      "WARNING: Design contains missed samples: 3\n",
      "Move border units OUTSIDE zones...\n",
      "Failed to solve the design.\n",
      "Lost Probs: 0.031950000000000034\n"
     ]
    },
    {
     "name": "stderr",
     "output_type": "stream",
     "text": [
      "Total combos:   4%|▍         | 6/150 [00:09<03:49,  1.60s/combo]"
     ]
    },
    {
     "name": "stdout",
     "output_type": "stream",
     "text": [
      "WARNING: Design contains missed samples: 3\n",
      "Move border units INSIDE zones...\n",
      "3 of them have been solved.\n",
      "Current number of missed samples: 0\n",
      "Lost Probs: 0.0\n"
     ]
    },
    {
     "name": "stderr",
     "output_type": "stream",
     "text": [
      "Total combos:   5%|▍         | 7/150 [00:11<03:59,  1.67s/combo]"
     ]
    },
    {
     "name": "stdout",
     "output_type": "stream",
     "text": [
      "WARNING: Design contains missed samples: 2\n",
      "Move border units INSIDE zones...\n",
      "2 of them have been solved.\n",
      "Current number of missed samples: 0\n",
      "Lost Probs: 1.1102230246251565e-16\n"
     ]
    },
    {
     "name": "stderr",
     "output_type": "stream",
     "text": [
      "Total combos:   5%|▌         | 8/150 [00:13<03:56,  1.67s/combo]"
     ]
    },
    {
     "name": "stdout",
     "output_type": "stream",
     "text": [
      "Lost Probs: 0.0\n"
     ]
    },
    {
     "name": "stderr",
     "output_type": "stream",
     "text": [
      "Total combos:   6%|▌         | 9/150 [00:15<04:06,  1.75s/combo]"
     ]
    },
    {
     "name": "stdout",
     "output_type": "stream",
     "text": [
      "Lost Probs: 1.1102230246251565e-16\n"
     ]
    },
    {
     "name": "stderr",
     "output_type": "stream",
     "text": [
      "Total combos:   7%|▋         | 10/150 [00:16<03:53,  1.66s/combo]"
     ]
    },
    {
     "name": "stdout",
     "output_type": "stream",
     "text": [
      "WARNING: Design contains missed samples: 3\n",
      "Move border units INSIDE zones...\n",
      "1 of them have been solved.\n",
      "Current number of missed samples: 2\n",
      "\n",
      "WARNING: Design contains missed samples: 2\n",
      "Move border units OUTSIDE zones...\n",
      "Failed to solve the design.\n",
      "\n",
      "WARNING: Design contains missed samples: 2\n",
      "Move border units OUTSIDE zones...\n",
      "Failed to solve the design.\n",
      "\n",
      "WARNING: Design contains missed samples: 2\n",
      "Move border units OUTSIDE zones...\n",
      "Failed to solve the design.\n",
      "Lost Probs: 0.03193999999999997\n"
     ]
    },
    {
     "name": "stderr",
     "output_type": "stream",
     "text": [
      "Total combos:   7%|▋         | 11/150 [00:18<03:57,  1.71s/combo]"
     ]
    },
    {
     "name": "stdout",
     "output_type": "stream",
     "text": [
      "WARNING: Design contains missed samples: 4\n",
      "Move border units INSIDE zones...\n",
      "4 of them have been solved.\n",
      "Current number of missed samples: 0\n",
      "Lost Probs: 1.1102230246251565e-16\n"
     ]
    },
    {
     "name": "stderr",
     "output_type": "stream",
     "text": [
      "Total combos:   8%|▊         | 12/150 [00:20<03:55,  1.71s/combo]"
     ]
    },
    {
     "name": "stdout",
     "output_type": "stream",
     "text": [
      "Lost Probs: 0.0\n"
     ]
    },
    {
     "name": "stderr",
     "output_type": "stream",
     "text": [
      "Total combos:   9%|▊         | 13/150 [00:21<03:48,  1.67s/combo]"
     ]
    },
    {
     "name": "stdout",
     "output_type": "stream",
     "text": [
      "Lost Probs: 0.0\n"
     ]
    },
    {
     "name": "stderr",
     "output_type": "stream",
     "text": [
      "Total combos:   9%|▉         | 14/150 [00:23<03:41,  1.63s/combo]"
     ]
    },
    {
     "name": "stdout",
     "output_type": "stream",
     "text": [
      "Lost Probs: 0.0\n"
     ]
    },
    {
     "name": "stderr",
     "output_type": "stream",
     "text": [
      "Total combos:  10%|█         | 15/150 [00:25<03:37,  1.61s/combo]"
     ]
    },
    {
     "name": "stdout",
     "output_type": "stream",
     "text": [
      "Lost Probs: 0.0\n"
     ]
    },
    {
     "name": "stderr",
     "output_type": "stream",
     "text": [
      "Total combos:  11%|█         | 16/150 [00:27<04:06,  1.84s/combo]"
     ]
    },
    {
     "name": "stdout",
     "output_type": "stream",
     "text": [
      "WARNING: Design contains missed samples: 1\n",
      "Move border units INSIDE zones...\n",
      "1 of them have been solved.\n",
      "Current number of missed samples: 0\n",
      "Lost Probs: 0.0\n"
     ]
    },
    {
     "name": "stderr",
     "output_type": "stream",
     "text": [
      "Total combos:  11%|█▏        | 17/150 [00:29<04:05,  1.84s/combo]"
     ]
    },
    {
     "name": "stdout",
     "output_type": "stream",
     "text": [
      "Lost Probs: 2.220446049250313e-16\n"
     ]
    },
    {
     "name": "stderr",
     "output_type": "stream",
     "text": [
      "Total combos:  12%|█▏        | 18/150 [00:31<04:05,  1.86s/combo]"
     ]
    },
    {
     "name": "stdout",
     "output_type": "stream",
     "text": [
      "Lost Probs: 0.0\n"
     ]
    },
    {
     "name": "stderr",
     "output_type": "stream",
     "text": [
      "Total combos:  13%|█▎        | 19/150 [00:33<04:12,  1.93s/combo]"
     ]
    },
    {
     "name": "stdout",
     "output_type": "stream",
     "text": [
      "Lost Probs: 1.1102230246251565e-16\n"
     ]
    },
    {
     "name": "stderr",
     "output_type": "stream",
     "text": [
      "Total combos:  13%|█▎        | 20/150 [00:35<04:04,  1.88s/combo]"
     ]
    },
    {
     "name": "stdout",
     "output_type": "stream",
     "text": [
      "WARNING: Design contains missed samples: 3\n",
      "Move border units INSIDE zones...\n",
      "3 of them have been solved.\n",
      "Current number of missed samples: 0\n",
      "Lost Probs: 1.1102230246251565e-16\n"
     ]
    },
    {
     "name": "stderr",
     "output_type": "stream",
     "text": [
      "Total combos:  14%|█▍        | 21/150 [00:36<03:59,  1.86s/combo]"
     ]
    },
    {
     "name": "stdout",
     "output_type": "stream",
     "text": [
      "WARNING: Design contains missed samples: 2\n",
      "Move border units INSIDE zones...\n",
      "2 of them have been solved.\n",
      "Current number of missed samples: 0\n",
      "Lost Probs: 0.0\n"
     ]
    },
    {
     "name": "stderr",
     "output_type": "stream",
     "text": [
      "Total combos:  15%|█▍        | 22/150 [00:38<03:53,  1.82s/combo]"
     ]
    },
    {
     "name": "stdout",
     "output_type": "stream",
     "text": [
      "WARNING: Design contains missed samples: 5\n",
      "Move border units INSIDE zones...\n",
      "5 of them have been solved.\n",
      "Current number of missed samples: 0\n",
      "Lost Probs: 0.0\n"
     ]
    },
    {
     "name": "stderr",
     "output_type": "stream",
     "text": [
      "Total combos:  15%|█▌        | 23/150 [00:40<04:12,  1.99s/combo]"
     ]
    },
    {
     "name": "stdout",
     "output_type": "stream",
     "text": [
      "Lost Probs: 2.220446049250313e-16\n"
     ]
    },
    {
     "name": "stderr",
     "output_type": "stream",
     "text": [
      "Total combos:  16%|█▌        | 24/150 [00:42<04:10,  1.99s/combo]"
     ]
    },
    {
     "name": "stdout",
     "output_type": "stream",
     "text": [
      "Lost Probs: 0.0\n"
     ]
    },
    {
     "name": "stderr",
     "output_type": "stream",
     "text": [
      "Total combos:  17%|█▋        | 25/150 [00:44<04:01,  1.93s/combo]"
     ]
    },
    {
     "name": "stdout",
     "output_type": "stream",
     "text": [
      "Lost Probs: 0.0\n"
     ]
    },
    {
     "name": "stderr",
     "output_type": "stream",
     "text": [
      "Total combos:  17%|█▋        | 26/150 [00:46<03:54,  1.89s/combo]"
     ]
    },
    {
     "name": "stdout",
     "output_type": "stream",
     "text": [
      "WARNING: Design contains missed samples: 5\n",
      "Move border units INSIDE zones...\n",
      "5 of them have been solved.\n",
      "Current number of missed samples: 0\n",
      "Lost Probs: 0.0\n"
     ]
    },
    {
     "name": "stderr",
     "output_type": "stream",
     "text": [
      "Total combos:  18%|█▊        | 27/150 [00:48<03:47,  1.85s/combo]"
     ]
    },
    {
     "name": "stdout",
     "output_type": "stream",
     "text": [
      "Lost Probs: 0.0\n"
     ]
    },
    {
     "name": "stderr",
     "output_type": "stream",
     "text": [
      "Total combos:  19%|█▊        | 28/150 [00:50<03:41,  1.81s/combo]"
     ]
    },
    {
     "name": "stdout",
     "output_type": "stream",
     "text": [
      "Lost Probs: 0.0\n"
     ]
    },
    {
     "name": "stderr",
     "output_type": "stream",
     "text": [
      "Total combos:  19%|█▉        | 29/150 [00:51<03:34,  1.77s/combo]"
     ]
    },
    {
     "name": "stdout",
     "output_type": "stream",
     "text": [
      "Lost Probs: 0.0\n"
     ]
    },
    {
     "name": "stderr",
     "output_type": "stream",
     "text": [
      "Total combos:  20%|██        | 30/150 [00:53<03:38,  1.82s/combo]"
     ]
    },
    {
     "name": "stdout",
     "output_type": "stream",
     "text": [
      "Lost Probs: 0.0\n"
     ]
    },
    {
     "name": "stderr",
     "output_type": "stream",
     "text": [
      "Total combos:  21%|██        | 31/150 [00:56<04:27,  2.25s/combo]"
     ]
    },
    {
     "name": "stdout",
     "output_type": "stream",
     "text": [
      "WARNING: Design contains missed samples: 1\n",
      "Move border units INSIDE zones...\n",
      "1 of them have been solved.\n",
      "Current number of missed samples: 0\n",
      "Lost Probs: 0.0\n"
     ]
    },
    {
     "name": "stderr",
     "output_type": "stream",
     "text": [
      "Total combos:  21%|██▏       | 32/150 [00:58<04:14,  2.16s/combo]"
     ]
    },
    {
     "name": "stdout",
     "output_type": "stream",
     "text": [
      "Lost Probs: 0.0\n"
     ]
    },
    {
     "name": "stderr",
     "output_type": "stream",
     "text": [
      "Total combos:  22%|██▏       | 33/150 [01:01<04:18,  2.21s/combo]"
     ]
    },
    {
     "name": "stdout",
     "output_type": "stream",
     "text": [
      "Lost Probs: 0.0\n"
     ]
    },
    {
     "name": "stderr",
     "output_type": "stream",
     "text": [
      "Total combos:  23%|██▎       | 34/150 [01:03<04:10,  2.16s/combo]"
     ]
    },
    {
     "name": "stdout",
     "output_type": "stream",
     "text": [
      "Lost Probs: 1.1102230246251565e-16\n"
     ]
    },
    {
     "name": "stderr",
     "output_type": "stream",
     "text": [
      "Total combos:  23%|██▎       | 35/150 [01:05<04:14,  2.21s/combo]"
     ]
    },
    {
     "name": "stdout",
     "output_type": "stream",
     "text": [
      "WARNING: Design contains missed samples: 3\n",
      "Move border units INSIDE zones...\n",
      "3 of them have been solved.\n",
      "Current number of missed samples: 0\n",
      "Lost Probs: 0.0\n"
     ]
    },
    {
     "name": "stderr",
     "output_type": "stream",
     "text": [
      "Total combos:  24%|██▍       | 36/150 [01:07<03:59,  2.10s/combo]"
     ]
    },
    {
     "name": "stdout",
     "output_type": "stream",
     "text": [
      "Lost Probs: 1.1102230246251565e-16\n"
     ]
    },
    {
     "name": "stderr",
     "output_type": "stream",
     "text": [
      "Total combos:  25%|██▍       | 37/150 [01:09<04:10,  2.21s/combo]"
     ]
    },
    {
     "name": "stdout",
     "output_type": "stream",
     "text": [
      "WARNING: Design contains missed samples: 3\n",
      "Move border units INSIDE zones...\n",
      "Failed to solve the design.\n",
      "\n",
      "WARNING: Design contains missed samples: 3\n",
      "Move border units OUTSIDE zones...\n",
      "3 of them have been solved.\n",
      "Current number of missed samples: 0\n",
      "Lost Probs: 1.1102230246251565e-16\n"
     ]
    },
    {
     "name": "stderr",
     "output_type": "stream",
     "text": [
      "Total combos:  25%|██▌       | 38/150 [01:12<04:23,  2.35s/combo]"
     ]
    },
    {
     "name": "stdout",
     "output_type": "stream",
     "text": [
      "WARNING: Design contains missed samples: 8\n",
      "Move border units INSIDE zones...\n",
      "7 of them have been solved.\n",
      "Current number of missed samples: 1\n",
      "Lost Probs: 0.0010000000000000009\n"
     ]
    },
    {
     "name": "stderr",
     "output_type": "stream",
     "text": [
      "Total combos:  26%|██▌       | 39/150 [01:14<04:15,  2.30s/combo]"
     ]
    },
    {
     "name": "stdout",
     "output_type": "stream",
     "text": [
      "Lost Probs: 0.0\n"
     ]
    },
    {
     "name": "stderr",
     "output_type": "stream",
     "text": [
      "Total combos:  27%|██▋       | 40/150 [01:17<04:16,  2.33s/combo]"
     ]
    },
    {
     "name": "stdout",
     "output_type": "stream",
     "text": [
      "WARNING: Design contains missed samples: 2\n",
      "Move border units INSIDE zones...\n",
      "2 of them have been solved.\n",
      "Current number of missed samples: 0\n",
      "Lost Probs: 0.0\n"
     ]
    },
    {
     "name": "stderr",
     "output_type": "stream",
     "text": [
      "Total combos:  27%|██▋       | 41/150 [01:19<04:19,  2.38s/combo]"
     ]
    },
    {
     "name": "stdout",
     "output_type": "stream",
     "text": [
      "WARNING: Design contains missed samples: 3\n",
      "Move border units INSIDE zones...\n",
      "3 of them have been solved.\n",
      "Current number of missed samples: 0\n",
      "Lost Probs: 0.0\n"
     ]
    },
    {
     "name": "stderr",
     "output_type": "stream",
     "text": [
      "Total combos:  28%|██▊       | 42/150 [01:21<04:08,  2.30s/combo]"
     ]
    },
    {
     "name": "stdout",
     "output_type": "stream",
     "text": [
      "WARNING: Design contains missed samples: 1\n",
      "Move border units INSIDE zones...\n",
      "1 of them have been solved.\n",
      "Current number of missed samples: 0\n",
      "Lost Probs: 1.1102230246251565e-16\n"
     ]
    },
    {
     "name": "stderr",
     "output_type": "stream",
     "text": [
      "Total combos:  29%|██▊       | 43/150 [01:24<04:09,  2.33s/combo]"
     ]
    },
    {
     "name": "stdout",
     "output_type": "stream",
     "text": [
      "Lost Probs: 0.0\n"
     ]
    },
    {
     "name": "stderr",
     "output_type": "stream",
     "text": [
      "Total combos:  29%|██▉       | 44/150 [01:26<04:16,  2.42s/combo]"
     ]
    },
    {
     "name": "stdout",
     "output_type": "stream",
     "text": [
      "Lost Probs: 0.0\n"
     ]
    },
    {
     "name": "stderr",
     "output_type": "stream",
     "text": [
      "Total combos:  30%|███       | 45/150 [01:28<04:05,  2.34s/combo]"
     ]
    },
    {
     "name": "stdout",
     "output_type": "stream",
     "text": [
      "WARNING: Design contains missed samples: 6\n",
      "Move border units INSIDE zones...\n",
      "6 of them have been solved.\n",
      "Current number of missed samples: 0\n",
      "Lost Probs: 0.0\n"
     ]
    },
    {
     "name": "stderr",
     "output_type": "stream",
     "text": [
      "Total combos:  31%|███       | 46/150 [01:31<04:06,  2.37s/combo]"
     ]
    },
    {
     "name": "stdout",
     "output_type": "stream",
     "text": [
      "WARNING: Design contains missed samples: 6\n",
      "Move border units INSIDE zones...\n",
      "6 of them have been solved.\n",
      "Current number of missed samples: 0\n",
      "Lost Probs: 0.0\n"
     ]
    },
    {
     "name": "stderr",
     "output_type": "stream",
     "text": [
      "Total combos:  31%|███▏      | 47/150 [01:33<04:05,  2.38s/combo]"
     ]
    },
    {
     "name": "stdout",
     "output_type": "stream",
     "text": [
      "WARNING: Design contains missed samples: 2\n",
      "Move border units INSIDE zones...\n",
      "2 of them have been solved.\n",
      "Current number of missed samples: 0\n",
      "Lost Probs: 0.0\n"
     ]
    },
    {
     "name": "stderr",
     "output_type": "stream",
     "text": [
      "Total combos:  32%|███▏      | 48/150 [02:03<18:02, 10.61s/combo]"
     ]
    },
    {
     "name": "stdout",
     "output_type": "stream",
     "text": [
      "Lost Probs: 1.1102230246251565e-16\n"
     ]
    },
    {
     "name": "stderr",
     "output_type": "stream",
     "text": [
      "Total combos:  33%|███▎      | 49/150 [02:05<13:27,  7.99s/combo]"
     ]
    },
    {
     "name": "stdout",
     "output_type": "stream",
     "text": [
      "Lost Probs: -2.220446049250313e-16\n"
     ]
    },
    {
     "name": "stderr",
     "output_type": "stream",
     "text": [
      "Total combos:  33%|███▎      | 50/150 [02:07<10:19,  6.20s/combo]"
     ]
    },
    {
     "name": "stdout",
     "output_type": "stream",
     "text": [
      "WARNING: Design contains missed samples: 3\n",
      "Move border units INSIDE zones...\n",
      "3 of them have been solved.\n",
      "Current number of missed samples: 0\n",
      "Lost Probs: 0.0\n"
     ]
    },
    {
     "name": "stderr",
     "output_type": "stream",
     "text": [
      "Total combos:  34%|███▍      | 51/150 [02:09<08:10,  4.95s/combo]"
     ]
    },
    {
     "name": "stdout",
     "output_type": "stream",
     "text": [
      "WARNING: Design contains missed samples: 3\n",
      "Move border units INSIDE zones...\n",
      "3 of them have been solved.\n",
      "Current number of missed samples: 0\n",
      "Lost Probs: 1.1102230246251565e-16\n"
     ]
    },
    {
     "name": "stderr",
     "output_type": "stream",
     "text": [
      "Total combos:  35%|███▍      | 52/150 [02:11<06:43,  4.11s/combo]"
     ]
    },
    {
     "name": "stdout",
     "output_type": "stream",
     "text": [
      "WARNING: Design contains missed samples: 9\n",
      "Move border units INSIDE zones...\n",
      "9 of them have been solved.\n",
      "Current number of missed samples: 0\n",
      "Lost Probs: 0.0\n"
     ]
    },
    {
     "name": "stderr",
     "output_type": "stream",
     "text": [
      "Total combos:  35%|███▌      | 53/150 [02:14<05:49,  3.60s/combo]"
     ]
    },
    {
     "name": "stdout",
     "output_type": "stream",
     "text": [
      "Lost Probs: 0.0\n"
     ]
    },
    {
     "name": "stderr",
     "output_type": "stream",
     "text": [
      "Total combos:  36%|███▌      | 54/150 [02:15<04:57,  3.10s/combo]"
     ]
    },
    {
     "name": "stdout",
     "output_type": "stream",
     "text": [
      "Lost Probs: 0.0\n"
     ]
    },
    {
     "name": "stderr",
     "output_type": "stream",
     "text": [
      "Total combos:  37%|███▋      | 55/150 [02:18<04:34,  2.89s/combo]"
     ]
    },
    {
     "name": "stdout",
     "output_type": "stream",
     "text": [
      "Lost Probs: 0.0\n"
     ]
    },
    {
     "name": "stderr",
     "output_type": "stream",
     "text": [
      "Total combos:  37%|███▋      | 56/150 [02:20<04:11,  2.68s/combo]"
     ]
    },
    {
     "name": "stdout",
     "output_type": "stream",
     "text": [
      "WARNING: Design contains missed samples: 6\n",
      "Move border units INSIDE zones...\n",
      "6 of them have been solved.\n",
      "Current number of missed samples: 0\n",
      "Lost Probs: 1.1102230246251565e-16\n"
     ]
    },
    {
     "name": "stderr",
     "output_type": "stream",
     "text": [
      "Total combos:  38%|███▊      | 57/150 [02:22<03:47,  2.44s/combo]"
     ]
    },
    {
     "name": "stdout",
     "output_type": "stream",
     "text": [
      "Lost Probs: 1.1102230246251565e-16\n"
     ]
    },
    {
     "name": "stderr",
     "output_type": "stream",
     "text": [
      "Total combos:  39%|███▊      | 58/150 [02:24<03:36,  2.35s/combo]"
     ]
    },
    {
     "name": "stdout",
     "output_type": "stream",
     "text": [
      "Lost Probs: 1.1102230246251565e-16\n"
     ]
    },
    {
     "name": "stderr",
     "output_type": "stream",
     "text": [
      "Total combos:  39%|███▉      | 59/150 [02:26<03:22,  2.23s/combo]"
     ]
    },
    {
     "name": "stdout",
     "output_type": "stream",
     "text": [
      "WARNING: Design contains missed samples: 4\n",
      "Move border units INSIDE zones...\n",
      "4 of them have been solved.\n",
      "Current number of missed samples: 0\n",
      "Lost Probs: 0.0\n"
     ]
    },
    {
     "name": "stderr",
     "output_type": "stream",
     "text": [
      "Total combos:  40%|████      | 60/150 [02:28<03:11,  2.13s/combo]"
     ]
    },
    {
     "name": "stdout",
     "output_type": "stream",
     "text": [
      "WARNING: Design contains missed samples: 2\n",
      "Move border units INSIDE zones...\n",
      "2 of them have been solved.\n",
      "Current number of missed samples: 0\n",
      "Lost Probs: 0.0\n"
     ]
    },
    {
     "name": "stderr",
     "output_type": "stream",
     "text": [
      "Total combos:  41%|████      | 61/150 [02:30<03:16,  2.20s/combo]"
     ]
    },
    {
     "name": "stdout",
     "output_type": "stream",
     "text": [
      "WARNING: Design contains missed samples: 2\n",
      "Move border units INSIDE zones...\n",
      "2 of them have been solved.\n",
      "Current number of missed samples: 0\n",
      "Lost Probs: 9.99999999995449e-06\n"
     ]
    },
    {
     "name": "stderr",
     "output_type": "stream",
     "text": [
      "Total combos:  41%|████▏     | 62/150 [02:33<03:21,  2.29s/combo]"
     ]
    },
    {
     "name": "stdout",
     "output_type": "stream",
     "text": [
      "Lost Probs: 9.99999999995449e-06\n"
     ]
    },
    {
     "name": "stderr",
     "output_type": "stream",
     "text": [
      "Total combos:  42%|████▏     | 63/150 [02:35<03:25,  2.36s/combo]"
     ]
    },
    {
     "name": "stdout",
     "output_type": "stream",
     "text": [
      "WARNING: Design contains missed samples: 1\n",
      "Move border units INSIDE zones...\n",
      "1 of them have been solved.\n",
      "Current number of missed samples: 0\n",
      "Lost Probs: 1.0000000000065512e-05\n"
     ]
    },
    {
     "name": "stderr",
     "output_type": "stream",
     "text": [
      "Total combos:  43%|████▎     | 64/150 [02:37<03:16,  2.28s/combo]"
     ]
    },
    {
     "name": "stdout",
     "output_type": "stream",
     "text": [
      "WARNING: Design contains missed samples: 1\n",
      "Move border units INSIDE zones...\n",
      "1 of them have been solved.\n",
      "Current number of missed samples: 0\n",
      "Lost Probs: 1.0000000000065512e-05\n"
     ]
    },
    {
     "name": "stderr",
     "output_type": "stream",
     "text": [
      "Total combos:  43%|████▎     | 65/150 [02:39<02:58,  2.10s/combo]"
     ]
    },
    {
     "name": "stdout",
     "output_type": "stream",
     "text": [
      "Lost Probs: 9.99999999995449e-06\n"
     ]
    },
    {
     "name": "stderr",
     "output_type": "stream",
     "text": [
      "Total combos:  44%|████▍     | 66/150 [02:41<03:02,  2.17s/combo]"
     ]
    },
    {
     "name": "stdout",
     "output_type": "stream",
     "text": [
      "WARNING: Design contains missed samples: 5\n",
      "Move border units INSIDE zones...\n",
      "5 of them have been solved.\n",
      "Current number of missed samples: 0\n",
      "Lost Probs: 1.0000000000065512e-05\n"
     ]
    },
    {
     "name": "stderr",
     "output_type": "stream",
     "text": [
      "Total combos:  45%|████▍     | 67/150 [02:43<02:57,  2.13s/combo]"
     ]
    },
    {
     "name": "stdout",
     "output_type": "stream",
     "text": [
      "WARNING: Design contains missed samples: 4\n",
      "Move border units INSIDE zones...\n",
      "4 of them have been solved.\n",
      "Current number of missed samples: 0\n",
      "Lost Probs: 9.999999999843467e-06\n"
     ]
    },
    {
     "name": "stderr",
     "output_type": "stream",
     "text": [
      "Total combos:  45%|████▌     | 68/150 [02:46<02:53,  2.12s/combo]"
     ]
    },
    {
     "name": "stdout",
     "output_type": "stream",
     "text": [
      "WARNING: Design contains missed samples: 1\n",
      "Move border units INSIDE zones...\n",
      "1 of them have been solved.\n",
      "Current number of missed samples: 0\n",
      "Lost Probs: 9.999999999843467e-06\n"
     ]
    },
    {
     "name": "stderr",
     "output_type": "stream",
     "text": [
      "Total combos:  46%|████▌     | 69/150 [02:47<02:43,  2.02s/combo]"
     ]
    },
    {
     "name": "stdout",
     "output_type": "stream",
     "text": [
      "Lost Probs: 1.0000000000065512e-05\n"
     ]
    },
    {
     "name": "stderr",
     "output_type": "stream",
     "text": [
      "Total combos:  47%|████▋     | 70/150 [02:49<02:43,  2.05s/combo]"
     ]
    },
    {
     "name": "stdout",
     "output_type": "stream",
     "text": [
      "WARNING: Design contains missed samples: 4\n",
      "Move border units INSIDE zones...\n",
      "4 of them have been solved.\n",
      "Current number of missed samples: 0\n",
      "Lost Probs: 9.999999999843467e-06\n"
     ]
    },
    {
     "name": "stderr",
     "output_type": "stream",
     "text": [
      "Total combos:  47%|████▋     | 71/150 [02:52<02:49,  2.14s/combo]"
     ]
    },
    {
     "name": "stdout",
     "output_type": "stream",
     "text": [
      "WARNING: Design contains missed samples: 6\n",
      "Move border units INSIDE zones...\n",
      "6 of them have been solved.\n",
      "Current number of missed samples: 0\n",
      "Lost Probs: 1.0000000000065512e-05\n"
     ]
    },
    {
     "name": "stderr",
     "output_type": "stream",
     "text": [
      "Total combos:  48%|████▊     | 72/150 [02:54<02:52,  2.22s/combo]"
     ]
    },
    {
     "name": "stdout",
     "output_type": "stream",
     "text": [
      "WARNING: Design contains missed samples: 7\n",
      "Move border units INSIDE zones...\n",
      "7 of them have been solved.\n",
      "Current number of missed samples: 0\n",
      "Lost Probs: 1.0000000000065512e-05\n"
     ]
    },
    {
     "name": "stderr",
     "output_type": "stream",
     "text": [
      "Total combos:  49%|████▊     | 73/150 [02:56<02:47,  2.17s/combo]"
     ]
    },
    {
     "name": "stdout",
     "output_type": "stream",
     "text": [
      "WARNING: Design contains missed samples: 5\n",
      "Move border units INSIDE zones...\n",
      "5 of them have been solved.\n",
      "Current number of missed samples: 0\n",
      "Lost Probs: 9.99999999995449e-06\n"
     ]
    },
    {
     "name": "stderr",
     "output_type": "stream",
     "text": [
      "Total combos:  49%|████▉     | 74/150 [02:59<02:49,  2.24s/combo]"
     ]
    },
    {
     "name": "stdout",
     "output_type": "stream",
     "text": [
      "Lost Probs: 9.999999999843467e-06\n"
     ]
    },
    {
     "name": "stderr",
     "output_type": "stream",
     "text": [
      "Total combos:  50%|█████     | 75/150 [03:01<03:00,  2.41s/combo]"
     ]
    },
    {
     "name": "stdout",
     "output_type": "stream",
     "text": [
      "WARNING: Design contains missed samples: 6\n",
      "Move border units INSIDE zones...\n",
      "6 of them have been solved.\n",
      "Current number of missed samples: 0\n",
      "Lost Probs: 9.999999999843467e-06\n"
     ]
    },
    {
     "name": "stderr",
     "output_type": "stream",
     "text": [
      "Total combos:  51%|█████     | 76/150 [03:04<02:58,  2.41s/combo]"
     ]
    },
    {
     "name": "stdout",
     "output_type": "stream",
     "text": [
      "Lost Probs: 9.99999999995449e-06\n"
     ]
    },
    {
     "name": "stderr",
     "output_type": "stream",
     "text": [
      "Total combos:  51%|█████▏    | 77/150 [03:07<03:02,  2.50s/combo]"
     ]
    },
    {
     "name": "stdout",
     "output_type": "stream",
     "text": [
      "Lost Probs: 9.99999999995449e-06\n"
     ]
    },
    {
     "name": "stderr",
     "output_type": "stream",
     "text": [
      "Total combos:  52%|█████▏    | 78/150 [03:09<03:00,  2.51s/combo]"
     ]
    },
    {
     "name": "stdout",
     "output_type": "stream",
     "text": [
      "Lost Probs: 9.99999999995449e-06\n"
     ]
    },
    {
     "name": "stderr",
     "output_type": "stream",
     "text": [
      "Total combos:  53%|█████▎    | 79/150 [03:11<02:48,  2.37s/combo]"
     ]
    },
    {
     "name": "stdout",
     "output_type": "stream",
     "text": [
      "Lost Probs: 9.99999999995449e-06\n"
     ]
    },
    {
     "name": "stderr",
     "output_type": "stream",
     "text": [
      "Total combos:  53%|█████▎    | 80/150 [03:14<02:48,  2.41s/combo]"
     ]
    },
    {
     "name": "stdout",
     "output_type": "stream",
     "text": [
      "WARNING: Design contains missed samples: 2\n",
      "Move border units INSIDE zones...\n",
      "2 of them have been solved.\n",
      "Current number of missed samples: 0\n",
      "Lost Probs: 1.0000000000065512e-05\n"
     ]
    },
    {
     "name": "stderr",
     "output_type": "stream",
     "text": [
      "Total combos:  54%|█████▍    | 81/150 [03:16<02:51,  2.48s/combo]"
     ]
    },
    {
     "name": "stdout",
     "output_type": "stream",
     "text": [
      "WARNING: Design contains missed samples: 1\n",
      "Move border units INSIDE zones...\n",
      "1 of them have been solved.\n",
      "Current number of missed samples: 0\n",
      "Lost Probs: 1.0000000000176534e-05\n"
     ]
    },
    {
     "name": "stderr",
     "output_type": "stream",
     "text": [
      "Total combos:  55%|█████▍    | 82/150 [03:19<02:48,  2.48s/combo]"
     ]
    },
    {
     "name": "stdout",
     "output_type": "stream",
     "text": [
      "Lost Probs: 9.999999999843467e-06\n"
     ]
    },
    {
     "name": "stderr",
     "output_type": "stream",
     "text": [
      "Total combos:  55%|█████▌    | 83/150 [03:21<02:39,  2.38s/combo]"
     ]
    },
    {
     "name": "stdout",
     "output_type": "stream",
     "text": [
      "Lost Probs: 9.999999999843467e-06\n"
     ]
    },
    {
     "name": "stderr",
     "output_type": "stream",
     "text": [
      "Total combos:  56%|█████▌    | 84/150 [03:23<02:36,  2.37s/combo]"
     ]
    },
    {
     "name": "stdout",
     "output_type": "stream",
     "text": [
      "Lost Probs: 9.99999999995449e-06\n"
     ]
    },
    {
     "name": "stderr",
     "output_type": "stream",
     "text": [
      "Total combos:  57%|█████▋    | 85/150 [03:26<02:44,  2.53s/combo]"
     ]
    },
    {
     "name": "stdout",
     "output_type": "stream",
     "text": [
      "Lost Probs: 9.99999999995449e-06\n"
     ]
    },
    {
     "name": "stderr",
     "output_type": "stream",
     "text": [
      "Total combos:  57%|█████▋    | 86/150 [03:29<02:38,  2.48s/combo]"
     ]
    },
    {
     "name": "stdout",
     "output_type": "stream",
     "text": [
      "WARNING: Design contains missed samples: 3\n",
      "Move border units INSIDE zones...\n",
      "3 of them have been solved.\n",
      "Current number of missed samples: 0\n",
      "Lost Probs: 9.999999999843467e-06\n"
     ]
    },
    {
     "name": "stderr",
     "output_type": "stream",
     "text": [
      "Total combos:  58%|█████▊    | 87/150 [03:31<02:39,  2.54s/combo]"
     ]
    },
    {
     "name": "stdout",
     "output_type": "stream",
     "text": [
      "WARNING: Design contains missed samples: 1\n",
      "Move border units INSIDE zones...\n",
      "1 of them have been solved.\n",
      "Current number of missed samples: 0\n",
      "Lost Probs: 9.999999999732445e-06\n"
     ]
    },
    {
     "name": "stderr",
     "output_type": "stream",
     "text": [
      "Total combos:  59%|█████▊    | 88/150 [03:34<02:33,  2.48s/combo]"
     ]
    },
    {
     "name": "stdout",
     "output_type": "stream",
     "text": [
      "Lost Probs: 9.999999999843467e-06\n"
     ]
    },
    {
     "name": "stderr",
     "output_type": "stream",
     "text": [
      "Total combos:  59%|█████▉    | 89/150 [03:36<02:38,  2.59s/combo]"
     ]
    },
    {
     "name": "stdout",
     "output_type": "stream",
     "text": [
      "Lost Probs: 9.99999999995449e-06\n"
     ]
    },
    {
     "name": "stderr",
     "output_type": "stream",
     "text": [
      "Total combos:  60%|██████    | 90/150 [03:39<02:34,  2.57s/combo]"
     ]
    },
    {
     "name": "stdout",
     "output_type": "stream",
     "text": [
      "Lost Probs: 9.999999999843467e-06\n"
     ]
    },
    {
     "name": "stderr",
     "output_type": "stream",
     "text": [
      "Total combos:  61%|██████    | 91/150 [03:41<02:27,  2.51s/combo]"
     ]
    },
    {
     "name": "stdout",
     "output_type": "stream",
     "text": [
      "Lost Probs: 0.0\n"
     ]
    },
    {
     "name": "stderr",
     "output_type": "stream",
     "text": [
      "Total combos:  61%|██████▏   | 92/150 [03:44<02:29,  2.58s/combo]"
     ]
    },
    {
     "name": "stdout",
     "output_type": "stream",
     "text": [
      "Lost Probs: 0.0\n"
     ]
    },
    {
     "name": "stderr",
     "output_type": "stream",
     "text": [
      "Total combos:  62%|██████▏   | 93/150 [03:47<02:32,  2.67s/combo]"
     ]
    },
    {
     "name": "stdout",
     "output_type": "stream",
     "text": [
      "Lost Probs: 0.0\n"
     ]
    },
    {
     "name": "stderr",
     "output_type": "stream",
     "text": [
      "Total combos:  63%|██████▎   | 94/150 [03:49<02:25,  2.59s/combo]"
     ]
    },
    {
     "name": "stdout",
     "output_type": "stream",
     "text": [
      "Lost Probs: -2.220446049250313e-16\n"
     ]
    },
    {
     "name": "stderr",
     "output_type": "stream",
     "text": [
      "Total combos:  63%|██████▎   | 95/150 [03:52<02:21,  2.56s/combo]"
     ]
    },
    {
     "name": "stdout",
     "output_type": "stream",
     "text": [
      "WARNING: Design contains missed samples: 2\n",
      "Move border units INSIDE zones...\n",
      "2 of them have been solved.\n",
      "Current number of missed samples: 0\n",
      "Lost Probs: 1.1102230246251565e-16\n"
     ]
    },
    {
     "name": "stderr",
     "output_type": "stream",
     "text": [
      "Total combos:  64%|██████▍   | 96/150 [03:54<02:17,  2.54s/combo]"
     ]
    },
    {
     "name": "stdout",
     "output_type": "stream",
     "text": [
      "WARNING: Design contains missed samples: 3\n",
      "Move border units INSIDE zones...\n",
      "3 of them have been solved.\n",
      "Current number of missed samples: 0\n",
      "Lost Probs: 0.0\n"
     ]
    },
    {
     "name": "stderr",
     "output_type": "stream",
     "text": [
      "Total combos:  65%|██████▍   | 97/150 [03:57<02:16,  2.58s/combo]"
     ]
    },
    {
     "name": "stdout",
     "output_type": "stream",
     "text": [
      "Lost Probs: -2.220446049250313e-16\n"
     ]
    },
    {
     "name": "stderr",
     "output_type": "stream",
     "text": [
      "Total combos:  65%|██████▌   | 98/150 [04:00<02:12,  2.56s/combo]"
     ]
    },
    {
     "name": "stdout",
     "output_type": "stream",
     "text": [
      "Lost Probs: 0.0\n"
     ]
    },
    {
     "name": "stderr",
     "output_type": "stream",
     "text": [
      "Total combos:  66%|██████▌   | 99/150 [04:02<02:08,  2.51s/combo]"
     ]
    },
    {
     "name": "stdout",
     "output_type": "stream",
     "text": [
      "WARNING: Design contains missed samples: 2\n",
      "Move border units INSIDE zones...\n",
      "2 of them have been solved.\n",
      "Current number of missed samples: 0\n",
      "Lost Probs: 0.0\n"
     ]
    },
    {
     "name": "stderr",
     "output_type": "stream",
     "text": [
      "Total combos:  67%|██████▋   | 100/150 [04:05<02:09,  2.59s/combo]"
     ]
    },
    {
     "name": "stdout",
     "output_type": "stream",
     "text": [
      "WARNING: Design contains missed samples: 7\n",
      "Move border units INSIDE zones...\n",
      "7 of them have been solved.\n",
      "Current number of missed samples: 0\n",
      "Lost Probs: 0.0\n"
     ]
    },
    {
     "name": "stderr",
     "output_type": "stream",
     "text": [
      "Total combos:  67%|██████▋   | 101/150 [04:07<02:05,  2.56s/combo]"
     ]
    },
    {
     "name": "stdout",
     "output_type": "stream",
     "text": [
      "WARNING: Design contains missed samples: 4\n",
      "Move border units INSIDE zones...\n",
      "4 of them have been solved.\n",
      "Current number of missed samples: 0\n",
      "Lost Probs: 0.0\n"
     ]
    },
    {
     "name": "stderr",
     "output_type": "stream",
     "text": [
      "Total combos:  68%|██████▊   | 102/150 [04:10<02:07,  2.65s/combo]"
     ]
    },
    {
     "name": "stdout",
     "output_type": "stream",
     "text": [
      "Lost Probs: -2.220446049250313e-16\n"
     ]
    },
    {
     "name": "stderr",
     "output_type": "stream",
     "text": [
      "Total combos:  69%|██████▊   | 103/150 [04:12<02:00,  2.57s/combo]"
     ]
    },
    {
     "name": "stdout",
     "output_type": "stream",
     "text": [
      "WARNING: Design contains missed samples: 3\n",
      "Move border units INSIDE zones...\n",
      "3 of them have been solved.\n",
      "Current number of missed samples: 0\n",
      "Lost Probs: 0.0\n"
     ]
    },
    {
     "name": "stderr",
     "output_type": "stream",
     "text": [
      "Total combos:  69%|██████▉   | 104/150 [04:15<01:56,  2.53s/combo]"
     ]
    },
    {
     "name": "stdout",
     "output_type": "stream",
     "text": [
      "Lost Probs: 0.0\n"
     ]
    },
    {
     "name": "stderr",
     "output_type": "stream",
     "text": [
      "Total combos:  70%|███████   | 105/150 [04:17<01:54,  2.54s/combo]"
     ]
    },
    {
     "name": "stdout",
     "output_type": "stream",
     "text": [
      "WARNING: Design contains missed samples: 5\n",
      "Move border units INSIDE zones...\n",
      "5 of them have been solved.\n",
      "Current number of missed samples: 0\n",
      "Lost Probs: 0.0\n"
     ]
    },
    {
     "name": "stderr",
     "output_type": "stream",
     "text": [
      "Total combos:  71%|███████   | 106/150 [04:20<01:48,  2.47s/combo]"
     ]
    },
    {
     "name": "stdout",
     "output_type": "stream",
     "text": [
      "Lost Probs: 0.0\n"
     ]
    },
    {
     "name": "stderr",
     "output_type": "stream",
     "text": [
      "Total combos:  71%|███████▏  | 107/150 [04:22<01:49,  2.55s/combo]"
     ]
    },
    {
     "name": "stdout",
     "output_type": "stream",
     "text": [
      "Lost Probs: 1.1102230246251565e-16\n"
     ]
    },
    {
     "name": "stderr",
     "output_type": "stream",
     "text": [
      "Total combos:  72%|███████▏  | 108/150 [04:25<01:49,  2.62s/combo]"
     ]
    },
    {
     "name": "stdout",
     "output_type": "stream",
     "text": [
      "Lost Probs: 0.0\n"
     ]
    },
    {
     "name": "stderr",
     "output_type": "stream",
     "text": [
      "Total combos:  73%|███████▎  | 109/150 [04:28<01:52,  2.75s/combo]"
     ]
    },
    {
     "name": "stdout",
     "output_type": "stream",
     "text": [
      "WARNING: Design contains missed samples: 1\n",
      "Move border units INSIDE zones...\n",
      "1 of them have been solved.\n",
      "Current number of missed samples: 0\n",
      "Lost Probs: 0.0\n"
     ]
    },
    {
     "name": "stderr",
     "output_type": "stream",
     "text": [
      "Total combos:  73%|███████▎  | 110/150 [04:32<01:57,  2.94s/combo]"
     ]
    },
    {
     "name": "stdout",
     "output_type": "stream",
     "text": [
      "Lost Probs: 0.0\n"
     ]
    },
    {
     "name": "stderr",
     "output_type": "stream",
     "text": [
      "Total combos:  74%|███████▍  | 111/150 [04:34<01:50,  2.85s/combo]"
     ]
    },
    {
     "name": "stdout",
     "output_type": "stream",
     "text": [
      "WARNING: Design contains missed samples: 2\n",
      "Move border units INSIDE zones...\n",
      "2 of them have been solved.\n",
      "Current number of missed samples: 0\n",
      "Lost Probs: 0.0\n"
     ]
    },
    {
     "name": "stderr",
     "output_type": "stream",
     "text": [
      "Total combos:  75%|███████▍  | 112/150 [04:37<01:49,  2.89s/combo]"
     ]
    },
    {
     "name": "stdout",
     "output_type": "stream",
     "text": [
      "Lost Probs: 0.0\n"
     ]
    },
    {
     "name": "stderr",
     "output_type": "stream",
     "text": [
      "Total combos:  75%|███████▌  | 113/150 [04:40<01:42,  2.78s/combo]"
     ]
    },
    {
     "name": "stdout",
     "output_type": "stream",
     "text": [
      "Lost Probs: 0.0\n"
     ]
    },
    {
     "name": "stderr",
     "output_type": "stream",
     "text": [
      "Total combos:  76%|███████▌  | 114/150 [04:43<01:40,  2.80s/combo]"
     ]
    },
    {
     "name": "stdout",
     "output_type": "stream",
     "text": [
      "Lost Probs: -2.220446049250313e-16\n"
     ]
    },
    {
     "name": "stderr",
     "output_type": "stream",
     "text": [
      "Total combos:  77%|███████▋  | 115/150 [04:46<01:40,  2.87s/combo]"
     ]
    },
    {
     "name": "stdout",
     "output_type": "stream",
     "text": [
      "Lost Probs: 0.0\n"
     ]
    },
    {
     "name": "stderr",
     "output_type": "stream",
     "text": [
      "Total combos:  77%|███████▋  | 116/150 [04:49<01:37,  2.86s/combo]"
     ]
    },
    {
     "name": "stdout",
     "output_type": "stream",
     "text": [
      "WARNING: Design contains missed samples: 9\n",
      "Move border units INSIDE zones...\n",
      "9 of them have been solved.\n",
      "Current number of missed samples: 0\n",
      "Lost Probs: 0.0\n"
     ]
    },
    {
     "name": "stderr",
     "output_type": "stream",
     "text": [
      "Total combos:  78%|███████▊  | 117/150 [04:51<01:32,  2.80s/combo]"
     ]
    },
    {
     "name": "stdout",
     "output_type": "stream",
     "text": [
      "WARNING: Design contains missed samples: 3\n",
      "Move border units INSIDE zones...\n",
      "3 of them have been solved.\n",
      "Current number of missed samples: 0\n",
      "Lost Probs: 0.0\n"
     ]
    },
    {
     "name": "stderr",
     "output_type": "stream",
     "text": [
      "Total combos:  79%|███████▊  | 118/150 [04:54<01:26,  2.72s/combo]"
     ]
    },
    {
     "name": "stdout",
     "output_type": "stream",
     "text": [
      "WARNING: Design contains missed samples: 1\n",
      "Move border units INSIDE zones...\n",
      "1 of them have been solved.\n",
      "Current number of missed samples: 0\n",
      "Lost Probs: 0.0\n"
     ]
    },
    {
     "name": "stderr",
     "output_type": "stream",
     "text": [
      "Total combos:  79%|███████▉  | 119/150 [04:56<01:22,  2.67s/combo]"
     ]
    },
    {
     "name": "stdout",
     "output_type": "stream",
     "text": [
      "Lost Probs: 0.0\n"
     ]
    },
    {
     "name": "stderr",
     "output_type": "stream",
     "text": [
      "Total combos:  80%|████████  | 120/150 [04:59<01:17,  2.58s/combo]"
     ]
    },
    {
     "name": "stdout",
     "output_type": "stream",
     "text": [
      "WARNING: Design contains missed samples: 3\n",
      "Move border units INSIDE zones...\n",
      "3 of them have been solved.\n",
      "Current number of missed samples: 0\n",
      "Lost Probs: 0.0\n"
     ]
    },
    {
     "name": "stderr",
     "output_type": "stream",
     "text": [
      "Total combos:  81%|████████  | 121/150 [05:02<01:22,  2.86s/combo]"
     ]
    },
    {
     "name": "stdout",
     "output_type": "stream",
     "text": [
      "WARNING: Design contains missed samples: 8\n",
      "Move border units INSIDE zones...\n",
      "8 of them have been solved.\n",
      "Current number of missed samples: 0\n",
      "Lost Probs: 0.0\n"
     ]
    },
    {
     "name": "stderr",
     "output_type": "stream",
     "text": [
      "Total combos:  81%|████████▏ | 122/150 [05:05<01:20,  2.86s/combo]"
     ]
    },
    {
     "name": "stdout",
     "output_type": "stream",
     "text": [
      "WARNING: Design contains missed samples: 6\n",
      "Move border units INSIDE zones...\n",
      "6 of them have been solved.\n",
      "Current number of missed samples: 0\n",
      "Lost Probs: 0.0\n"
     ]
    },
    {
     "name": "stderr",
     "output_type": "stream",
     "text": [
      "Total combos:  82%|████████▏ | 123/150 [05:08<01:16,  2.85s/combo]"
     ]
    },
    {
     "name": "stdout",
     "output_type": "stream",
     "text": [
      "WARNING: Design contains missed samples: 1\n",
      "Move border units INSIDE zones...\n",
      "1 of them have been solved.\n",
      "Current number of missed samples: 0\n",
      "Lost Probs: -2.220446049250313e-16\n"
     ]
    },
    {
     "name": "stderr",
     "output_type": "stream",
     "text": [
      "Total combos:  83%|████████▎ | 124/150 [05:10<01:11,  2.76s/combo]"
     ]
    },
    {
     "name": "stdout",
     "output_type": "stream",
     "text": [
      "WARNING: Design contains missed samples: 3\n",
      "Move border units INSIDE zones...\n",
      "3 of them have been solved.\n",
      "Current number of missed samples: 0\n",
      "Lost Probs: 0.0\n"
     ]
    },
    {
     "name": "stderr",
     "output_type": "stream",
     "text": [
      "Total combos:  83%|████████▎ | 125/150 [05:13<01:06,  2.67s/combo]"
     ]
    },
    {
     "name": "stdout",
     "output_type": "stream",
     "text": [
      "Lost Probs: 0.0\n"
     ]
    },
    {
     "name": "stderr",
     "output_type": "stream",
     "text": [
      "Total combos:  84%|████████▍ | 126/150 [05:15<01:03,  2.65s/combo]"
     ]
    },
    {
     "name": "stdout",
     "output_type": "stream",
     "text": [
      "Lost Probs: 0.0\n"
     ]
    },
    {
     "name": "stderr",
     "output_type": "stream",
     "text": [
      "Total combos:  85%|████████▍ | 127/150 [05:19<01:06,  2.91s/combo]"
     ]
    },
    {
     "name": "stdout",
     "output_type": "stream",
     "text": [
      "WARNING: Design contains missed samples: 18\n",
      "Move border units INSIDE zones...\n",
      "18 of them have been solved.\n",
      "Current number of missed samples: 0\n",
      "Lost Probs: 0.0\n"
     ]
    },
    {
     "name": "stderr",
     "output_type": "stream",
     "text": [
      "Total combos:  85%|████████▌ | 128/150 [05:22<01:04,  2.94s/combo]"
     ]
    },
    {
     "name": "stdout",
     "output_type": "stream",
     "text": [
      "Lost Probs: 0.0\n"
     ]
    },
    {
     "name": "stderr",
     "output_type": "stream",
     "text": [
      "Total combos:  86%|████████▌ | 129/150 [05:25<01:03,  3.01s/combo]"
     ]
    },
    {
     "name": "stdout",
     "output_type": "stream",
     "text": [
      "Lost Probs: 1.1102230246251565e-16\n"
     ]
    },
    {
     "name": "stderr",
     "output_type": "stream",
     "text": [
      "Total combos:  87%|████████▋ | 130/150 [05:28<00:58,  2.93s/combo]"
     ]
    },
    {
     "name": "stdout",
     "output_type": "stream",
     "text": [
      "WARNING: Design contains missed samples: 3\n",
      "Move border units INSIDE zones...\n",
      "3 of them have been solved.\n",
      "Current number of missed samples: 0\n",
      "Lost Probs: 0.0\n"
     ]
    },
    {
     "name": "stderr",
     "output_type": "stream",
     "text": [
      "Total combos:  87%|████████▋ | 131/150 [05:31<00:54,  2.86s/combo]"
     ]
    },
    {
     "name": "stdout",
     "output_type": "stream",
     "text": [
      "WARNING: Design contains missed samples: 4\n",
      "Move border units INSIDE zones...\n",
      "4 of them have been solved.\n",
      "Current number of missed samples: 0\n",
      "Lost Probs: 0.0\n"
     ]
    },
    {
     "name": "stderr",
     "output_type": "stream",
     "text": [
      "Total combos:  88%|████████▊ | 132/150 [05:34<00:52,  2.93s/combo]"
     ]
    },
    {
     "name": "stdout",
     "output_type": "stream",
     "text": [
      "WARNING: Design contains missed samples: 3\n",
      "Move border units INSIDE zones...\n",
      "3 of them have been solved.\n",
      "Current number of missed samples: 0\n",
      "Lost Probs: 0.0\n"
     ]
    },
    {
     "name": "stderr",
     "output_type": "stream",
     "text": [
      "Total combos:  89%|████████▊ | 133/150 [05:37<00:49,  2.92s/combo]"
     ]
    },
    {
     "name": "stdout",
     "output_type": "stream",
     "text": [
      "WARNING: Design contains missed samples: 2\n",
      "Move border units INSIDE zones...\n",
      "2 of them have been solved.\n",
      "Current number of missed samples: 0\n",
      "Lost Probs: 0.0\n"
     ]
    },
    {
     "name": "stderr",
     "output_type": "stream",
     "text": [
      "Total combos:  89%|████████▉ | 134/150 [05:39<00:44,  2.78s/combo]"
     ]
    },
    {
     "name": "stdout",
     "output_type": "stream",
     "text": [
      "Lost Probs: 0.0\n"
     ]
    },
    {
     "name": "stderr",
     "output_type": "stream",
     "text": [
      "Total combos:  90%|█████████ | 135/150 [05:42<00:42,  2.84s/combo]"
     ]
    },
    {
     "name": "stdout",
     "output_type": "stream",
     "text": [
      "WARNING: Design contains missed samples: 1\n",
      "Move border units INSIDE zones...\n",
      "1 of them have been solved.\n",
      "Current number of missed samples: 0\n",
      "Lost Probs: 0.0\n"
     ]
    },
    {
     "name": "stderr",
     "output_type": "stream",
     "text": [
      "Total combos:  91%|█████████ | 136/150 [05:45<00:39,  2.79s/combo]"
     ]
    },
    {
     "name": "stdout",
     "output_type": "stream",
     "text": [
      "Lost Probs: 0.0\n"
     ]
    },
    {
     "name": "stderr",
     "output_type": "stream",
     "text": [
      "Total combos:  91%|█████████▏| 137/150 [05:48<00:38,  2.99s/combo]"
     ]
    },
    {
     "name": "stdout",
     "output_type": "stream",
     "text": [
      "WARNING: Design contains missed samples: 5\n",
      "Move border units INSIDE zones...\n",
      "5 of them have been solved.\n",
      "Current number of missed samples: 0\n",
      "Lost Probs: 1.1102230246251565e-16\n"
     ]
    },
    {
     "name": "stderr",
     "output_type": "stream",
     "text": [
      "Total combos:  92%|█████████▏| 138/150 [05:51<00:35,  2.99s/combo]"
     ]
    },
    {
     "name": "stdout",
     "output_type": "stream",
     "text": [
      "WARNING: Design contains missed samples: 3\n",
      "Move border units INSIDE zones...\n",
      "3 of them have been solved.\n",
      "Current number of missed samples: 0\n",
      "Lost Probs: 0.0\n"
     ]
    },
    {
     "name": "stderr",
     "output_type": "stream",
     "text": [
      "Total combos:  93%|█████████▎| 139/150 [05:54<00:33,  3.06s/combo]"
     ]
    },
    {
     "name": "stdout",
     "output_type": "stream",
     "text": [
      "WARNING: Design contains missed samples: 1\n",
      "Move border units INSIDE zones...\n",
      "1 of them have been solved.\n",
      "Current number of missed samples: 0\n",
      "Lost Probs: 0.0\n"
     ]
    },
    {
     "name": "stderr",
     "output_type": "stream",
     "text": [
      "Total combos:  93%|█████████▎| 140/150 [05:58<00:32,  3.22s/combo]"
     ]
    },
    {
     "name": "stdout",
     "output_type": "stream",
     "text": [
      "WARNING: Design contains missed samples: 3\n",
      "Move border units INSIDE zones...\n",
      "3 of them have been solved.\n",
      "Current number of missed samples: 0\n",
      "Lost Probs: 0.0\n"
     ]
    },
    {
     "name": "stderr",
     "output_type": "stream",
     "text": [
      "Total combos:  94%|█████████▍| 141/150 [06:01<00:28,  3.20s/combo]"
     ]
    },
    {
     "name": "stdout",
     "output_type": "stream",
     "text": [
      "WARNING: Design contains missed samples: 2\n",
      "Move border units INSIDE zones...\n",
      "2 of them have been solved.\n",
      "Current number of missed samples: 0\n",
      "Lost Probs: 0.0\n"
     ]
    },
    {
     "name": "stderr",
     "output_type": "stream",
     "text": [
      "Total combos:  95%|█████████▍| 142/150 [06:04<00:25,  3.17s/combo]"
     ]
    },
    {
     "name": "stdout",
     "output_type": "stream",
     "text": [
      "Lost Probs: 1.1102230246251565e-16\n"
     ]
    },
    {
     "name": "stderr",
     "output_type": "stream",
     "text": [
      "Total combos:  95%|█████████▌| 143/150 [06:07<00:22,  3.20s/combo]"
     ]
    },
    {
     "name": "stdout",
     "output_type": "stream",
     "text": [
      "Lost Probs: 0.0\n"
     ]
    },
    {
     "name": "stderr",
     "output_type": "stream",
     "text": [
      "Total combos:  96%|█████████▌| 144/150 [06:10<00:18,  3.08s/combo]"
     ]
    },
    {
     "name": "stdout",
     "output_type": "stream",
     "text": [
      "WARNING: Design contains missed samples: 1\n",
      "Move border units INSIDE zones...\n",
      "1 of them have been solved.\n",
      "Current number of missed samples: 0\n",
      "Lost Probs: 0.0\n"
     ]
    },
    {
     "name": "stderr",
     "output_type": "stream",
     "text": [
      "Total combos:  97%|█████████▋| 145/150 [06:13<00:14,  2.94s/combo]"
     ]
    },
    {
     "name": "stdout",
     "output_type": "stream",
     "text": [
      "Lost Probs: 0.0\n"
     ]
    },
    {
     "name": "stderr",
     "output_type": "stream",
     "text": [
      "Total combos:  97%|█████████▋| 146/150 [06:15<00:11,  2.80s/combo]"
     ]
    },
    {
     "name": "stdout",
     "output_type": "stream",
     "text": [
      "WARNING: Design contains missed samples: 2\n",
      "Move border units INSIDE zones...\n",
      "2 of them have been solved.\n",
      "Current number of missed samples: 0\n",
      "Lost Probs: 0.0\n"
     ]
    },
    {
     "name": "stderr",
     "output_type": "stream",
     "text": [
      "Total combos:  98%|█████████▊| 147/150 [06:18<00:08,  2.88s/combo]"
     ]
    },
    {
     "name": "stdout",
     "output_type": "stream",
     "text": [
      "WARNING: Design contains missed samples: 1\n",
      "Move border units INSIDE zones...\n",
      "1 of them have been solved.\n",
      "Current number of missed samples: 0\n",
      "Lost Probs: 0.0\n"
     ]
    },
    {
     "name": "stderr",
     "output_type": "stream",
     "text": [
      "Total combos:  99%|█████████▊| 148/150 [06:21<00:05,  2.82s/combo]"
     ]
    },
    {
     "name": "stdout",
     "output_type": "stream",
     "text": [
      "Lost Probs: -2.220446049250313e-16\n"
     ]
    },
    {
     "name": "stderr",
     "output_type": "stream",
     "text": [
      "Total combos:  99%|█████████▉| 149/150 [06:24<00:02,  2.72s/combo]"
     ]
    },
    {
     "name": "stdout",
     "output_type": "stream",
     "text": [
      "Lost Probs: -2.220446049250313e-16\n"
     ]
    },
    {
     "name": "stderr",
     "output_type": "stream",
     "text": [
      "Total combos: 100%|██████████| 150/150 [06:27<00:00,  2.58s/combo]"
     ]
    },
    {
     "name": "stdout",
     "output_type": "stream",
     "text": [
      "WARNING: Design contains missed samples: 3\n",
      "Move border units INSIDE zones...\n",
      "3 of them have been solved.\n",
      "Current number of missed samples: 0\n",
      "Lost Probs: 0.0\n"
     ]
    },
    {
     "name": "stderr",
     "output_type": "stream",
     "text": [
      "\n"
     ]
    }
   ],
   "execution_count": 26
  },
  {
   "metadata": {
    "ExecuteTime": {
     "end_time": "2025-07-20T09:43:35.362085Z",
     "start_time": "2025-07-20T09:43:35.272588Z"
    }
   },
   "cell_type": "code",
   "source": [
    "summary = df.pivot_table(\n",
    "    values=['exp_density', 'exp_moran', 'exp_lb'],\n",
    "    columns=['n', 'zones'],\n",
    "    index=['zonal_sort', 'bar_sort'],\n",
    "    aggfunc='first'\n",
    ")\n",
    "\n",
    "summary"
   ],
   "id": "c230889f7f4a0fc9",
   "outputs": [
    {
     "data": {
      "text/plain": [
       "                      exp_density                                  exp_lb  \\\n",
       "n                              15                                      15   \n",
       "zones                           1       2       3       4       5       1   \n",
       "zonal_sort bar_sort                                                         \n",
       "None       distance_0      0.0221  0.0293  0.0490  0.0306  0.0578  0.1651   \n",
       "           lexico          0.0418  0.0416  0.0469  0.0420  0.0305  0.1794   \n",
       "           max             0.0301  0.0330  0.0398  0.0448  0.0522  0.1850   \n",
       "           projection      0.0328  0.0461  0.0464  0.0421  0.0400  0.1811   \n",
       "           random          0.0447  0.0570  0.0455  0.0426  0.0357  0.1735   \n",
       "distance_0 distance_0      0.0304  0.0222  0.0337  0.0334  0.0330  0.1758   \n",
       "           lexico          0.0384  0.0453  0.0366  0.0372  0.0336  0.1750   \n",
       "           max             0.0280  0.0329  0.0230  0.0297  0.0359  0.1860   \n",
       "           projection      0.0225  0.0268  0.0274  0.0330  0.0430  0.1861   \n",
       "           random          0.0392  0.0428  0.0378  0.0363  0.0385  0.1715   \n",
       "lexico     distance_0      0.0275  0.0297  0.0428  0.0425  0.0425  0.1687   \n",
       "           lexico          0.0436  0.0396  0.0502  0.0431  0.0336  0.1802   \n",
       "           max             0.0366  0.0424  0.0373  0.0315  0.0436  0.1664   \n",
       "           projection      0.0225  0.0409  0.0450  0.0244  0.0432  0.1869   \n",
       "           random          0.0535  0.0417  0.0386  0.0392  0.0558  0.1793   \n",
       "max        distance_0      0.0319  0.0240  0.0384  0.0471  0.0314  0.1802   \n",
       "           lexico          0.0347  0.0352  0.0302  0.0320  0.0305  0.1729   \n",
       "           max             0.0343  0.0286  0.0325  0.0356  0.0341  0.1666   \n",
       "           projection      0.0270  0.0330  0.0312  0.0241  0.0373  0.1827   \n",
       "           random          0.0379  0.0236  0.0375  0.0314  0.0362  0.1719   \n",
       "projection distance_0      0.0273  0.0302  0.0318  0.0268  0.0293  0.1843   \n",
       "           lexico          0.0347  0.0383  0.0278  0.0320  0.0317  0.1798   \n",
       "           max             0.0382  0.0290  0.0326  0.0309  0.0323  0.1779   \n",
       "           projection      0.0318  0.0334  0.0285  0.0323  0.0386  0.1786   \n",
       "           random          0.0424  0.0310  0.0391  0.0328  0.0294  0.1764   \n",
       "random     distance_0      0.0333  0.0431  0.0430  0.0310  0.0511  0.1817   \n",
       "           lexico          0.0397  0.0364  0.0451  0.0320  0.0350  0.1782   \n",
       "           max             0.0324  0.0322  0.0429  0.0428  0.0403  0.1765   \n",
       "           projection      0.0271  0.0531  0.0418  0.0493  0.0398  0.1763   \n",
       "           random          0.0336  0.0444  0.0380  0.0520  0.0413  0.1768   \n",
       "\n",
       "                                                      exp_moran          \\\n",
       "n                                                            15           \n",
       "zones                       2       3       4       5         1       2   \n",
       "zonal_sort bar_sort                                                       \n",
       "None       distance_0  0.1814  0.1731  0.1756  0.1865   -0.4038 -0.2652   \n",
       "           lexico      0.1769  0.1816  0.1683  0.1776   -0.3041 -0.2734   \n",
       "           max         0.1706  0.1653  0.1774  0.1870   -0.3482 -0.3034   \n",
       "           projection  0.1750  0.1826  0.1972  0.1768   -0.4052 -0.3066   \n",
       "           random      0.1682  0.1672  0.1757  0.1827   -0.2846 -0.2478   \n",
       "distance_0 distance_0  0.1813  0.1768  0.1854  0.1772   -0.3813 -0.3597   \n",
       "           lexico      0.1739  0.1762  0.1772  0.1814   -0.3013 -0.2847   \n",
       "           max         0.1787  0.1805  0.1760  0.1785   -0.3254 -0.3255   \n",
       "           projection  0.1894  0.1808  0.1857  0.1840   -0.3796 -0.3716   \n",
       "           random      0.1722  0.1778  0.1768  0.1745   -0.2890 -0.3199   \n",
       "lexico     distance_0  0.1888  0.1638  0.1729  0.1888   -0.3829 -0.3233   \n",
       "           lexico      0.1709  0.1765  0.1799  0.1738   -0.3069 -0.3397   \n",
       "           max         0.1809  0.1715  0.1783  0.1699   -0.3236 -0.2938   \n",
       "           projection  0.1816  0.1739  0.1779  0.1780   -0.3712 -0.3524   \n",
       "           random      0.1702  0.1825  0.1773  0.1798   -0.2871 -0.3066   \n",
       "max        distance_0  0.1877  0.1844  0.1852  0.1756   -0.3716 -0.3682   \n",
       "           lexico      0.1773  0.1810  0.1870  0.1769   -0.2607 -0.2942   \n",
       "           max         0.1754  0.1812  0.1795  0.1723   -0.3189 -0.3549   \n",
       "           projection  0.1709  0.1786  0.1844  0.1765   -0.3817 -0.3565   \n",
       "           random      0.1781  0.1837  0.1829  0.1692   -0.2588 -0.3083   \n",
       "projection distance_0  0.1841  0.1823  0.1783  0.1721   -0.3756 -0.3806   \n",
       "           lexico      0.1750  0.1704  0.1876  0.1850   -0.2791 -0.2915   \n",
       "           max         0.1747  0.1828  0.1766  0.1879   -0.3397 -0.3468   \n",
       "           projection  0.1866  0.1787  0.1773  0.1752   -0.3996 -0.3400   \n",
       "           random      0.1729  0.1768  0.1664  0.1740   -0.2958 -0.2914   \n",
       "random     distance_0  0.1740  0.1713  0.1780  0.1676   -0.3915 -0.2830   \n",
       "           lexico      0.1706  0.1775  0.1811  0.1783   -0.2945 -0.2749   \n",
       "           max         0.1689  0.1785  0.1773  0.1738   -0.3446 -0.2610   \n",
       "           projection  0.1893  0.1652  0.1890  0.1801   -0.3878 -0.2679   \n",
       "           random      0.1748  0.1690  0.1726  0.1832   -0.3296 -0.2477   \n",
       "\n",
       "                                               \n",
       "n                                              \n",
       "zones                       3       4       5  \n",
       "zonal_sort bar_sort                            \n",
       "None       distance_0 -0.2611 -0.3109 -0.2919  \n",
       "           lexico     -0.2672 -0.3419 -0.3201  \n",
       "           max        -0.3213 -0.3051 -0.2504  \n",
       "           projection -0.2919 -0.2045 -0.3398  \n",
       "           random     -0.2970 -0.2933 -0.3125  \n",
       "distance_0 distance_0 -0.3462 -0.3303 -0.3796  \n",
       "           lexico     -0.3719 -0.3444 -0.3869  \n",
       "           max        -0.3379 -0.3858 -0.4029  \n",
       "           projection -0.3798 -0.3588 -0.3891  \n",
       "           random     -0.3627 -0.3400 -0.3229  \n",
       "lexico     distance_0 -0.3299 -0.3531 -0.3018  \n",
       "           lexico     -0.2958 -0.2458 -0.2503  \n",
       "           max        -0.2359 -0.2711 -0.3030  \n",
       "           projection -0.3077 -0.2615 -0.2893  \n",
       "           random     -0.3170 -0.2780 -0.2947  \n",
       "max        distance_0 -0.3703 -0.3856 -0.3633  \n",
       "           lexico     -0.3009 -0.3179 -0.3698  \n",
       "           max        -0.2927 -0.3424 -0.3324  \n",
       "           projection -0.3628 -0.3477 -0.3678  \n",
       "           random     -0.3234 -0.3463 -0.3666  \n",
       "projection distance_0 -0.3618 -0.3406 -0.3886  \n",
       "           lexico     -0.3890 -0.3834 -0.3833  \n",
       "           max        -0.3473 -0.3843 -0.3627  \n",
       "           projection -0.3374 -0.3596 -0.4134  \n",
       "           random     -0.3827 -0.3686 -0.3721  \n",
       "random     distance_0 -0.3188 -0.3556 -0.2634  \n",
       "           lexico     -0.2698 -0.2335 -0.2806  \n",
       "           max        -0.2761 -0.2693 -0.3107  \n",
       "           projection -0.3412 -0.2544 -0.2994  \n",
       "           random     -0.3227 -0.3129 -0.2930  "
      ],
      "text/html": [
       "<div>\n",
       "<style scoped>\n",
       "    .dataframe tbody tr th:only-of-type {\n",
       "        vertical-align: middle;\n",
       "    }\n",
       "\n",
       "    .dataframe tbody tr th {\n",
       "        vertical-align: top;\n",
       "    }\n",
       "\n",
       "    .dataframe thead tr th {\n",
       "        text-align: left;\n",
       "    }\n",
       "\n",
       "    .dataframe thead tr:last-of-type th {\n",
       "        text-align: right;\n",
       "    }\n",
       "</style>\n",
       "<table border=\"1\" class=\"dataframe\">\n",
       "  <thead>\n",
       "    <tr>\n",
       "      <th></th>\n",
       "      <th></th>\n",
       "      <th colspan=\"5\" halign=\"left\">exp_density</th>\n",
       "      <th colspan=\"5\" halign=\"left\">exp_lb</th>\n",
       "      <th colspan=\"5\" halign=\"left\">exp_moran</th>\n",
       "    </tr>\n",
       "    <tr>\n",
       "      <th></th>\n",
       "      <th>n</th>\n",
       "      <th colspan=\"5\" halign=\"left\">15</th>\n",
       "      <th colspan=\"5\" halign=\"left\">15</th>\n",
       "      <th colspan=\"5\" halign=\"left\">15</th>\n",
       "    </tr>\n",
       "    <tr>\n",
       "      <th></th>\n",
       "      <th>zones</th>\n",
       "      <th>1</th>\n",
       "      <th>2</th>\n",
       "      <th>3</th>\n",
       "      <th>4</th>\n",
       "      <th>5</th>\n",
       "      <th>1</th>\n",
       "      <th>2</th>\n",
       "      <th>3</th>\n",
       "      <th>4</th>\n",
       "      <th>5</th>\n",
       "      <th>1</th>\n",
       "      <th>2</th>\n",
       "      <th>3</th>\n",
       "      <th>4</th>\n",
       "      <th>5</th>\n",
       "    </tr>\n",
       "    <tr>\n",
       "      <th>zonal_sort</th>\n",
       "      <th>bar_sort</th>\n",
       "      <th></th>\n",
       "      <th></th>\n",
       "      <th></th>\n",
       "      <th></th>\n",
       "      <th></th>\n",
       "      <th></th>\n",
       "      <th></th>\n",
       "      <th></th>\n",
       "      <th></th>\n",
       "      <th></th>\n",
       "      <th></th>\n",
       "      <th></th>\n",
       "      <th></th>\n",
       "      <th></th>\n",
       "      <th></th>\n",
       "    </tr>\n",
       "  </thead>\n",
       "  <tbody>\n",
       "    <tr>\n",
       "      <th rowspan=\"5\" valign=\"top\">None</th>\n",
       "      <th>distance_0</th>\n",
       "      <td>0.0221</td>\n",
       "      <td>0.0293</td>\n",
       "      <td>0.0490</td>\n",
       "      <td>0.0306</td>\n",
       "      <td>0.0578</td>\n",
       "      <td>0.1651</td>\n",
       "      <td>0.1814</td>\n",
       "      <td>0.1731</td>\n",
       "      <td>0.1756</td>\n",
       "      <td>0.1865</td>\n",
       "      <td>-0.4038</td>\n",
       "      <td>-0.2652</td>\n",
       "      <td>-0.2611</td>\n",
       "      <td>-0.3109</td>\n",
       "      <td>-0.2919</td>\n",
       "    </tr>\n",
       "    <tr>\n",
       "      <th>lexico</th>\n",
       "      <td>0.0418</td>\n",
       "      <td>0.0416</td>\n",
       "      <td>0.0469</td>\n",
       "      <td>0.0420</td>\n",
       "      <td>0.0305</td>\n",
       "      <td>0.1794</td>\n",
       "      <td>0.1769</td>\n",
       "      <td>0.1816</td>\n",
       "      <td>0.1683</td>\n",
       "      <td>0.1776</td>\n",
       "      <td>-0.3041</td>\n",
       "      <td>-0.2734</td>\n",
       "      <td>-0.2672</td>\n",
       "      <td>-0.3419</td>\n",
       "      <td>-0.3201</td>\n",
       "    </tr>\n",
       "    <tr>\n",
       "      <th>max</th>\n",
       "      <td>0.0301</td>\n",
       "      <td>0.0330</td>\n",
       "      <td>0.0398</td>\n",
       "      <td>0.0448</td>\n",
       "      <td>0.0522</td>\n",
       "      <td>0.1850</td>\n",
       "      <td>0.1706</td>\n",
       "      <td>0.1653</td>\n",
       "      <td>0.1774</td>\n",
       "      <td>0.1870</td>\n",
       "      <td>-0.3482</td>\n",
       "      <td>-0.3034</td>\n",
       "      <td>-0.3213</td>\n",
       "      <td>-0.3051</td>\n",
       "      <td>-0.2504</td>\n",
       "    </tr>\n",
       "    <tr>\n",
       "      <th>projection</th>\n",
       "      <td>0.0328</td>\n",
       "      <td>0.0461</td>\n",
       "      <td>0.0464</td>\n",
       "      <td>0.0421</td>\n",
       "      <td>0.0400</td>\n",
       "      <td>0.1811</td>\n",
       "      <td>0.1750</td>\n",
       "      <td>0.1826</td>\n",
       "      <td>0.1972</td>\n",
       "      <td>0.1768</td>\n",
       "      <td>-0.4052</td>\n",
       "      <td>-0.3066</td>\n",
       "      <td>-0.2919</td>\n",
       "      <td>-0.2045</td>\n",
       "      <td>-0.3398</td>\n",
       "    </tr>\n",
       "    <tr>\n",
       "      <th>random</th>\n",
       "      <td>0.0447</td>\n",
       "      <td>0.0570</td>\n",
       "      <td>0.0455</td>\n",
       "      <td>0.0426</td>\n",
       "      <td>0.0357</td>\n",
       "      <td>0.1735</td>\n",
       "      <td>0.1682</td>\n",
       "      <td>0.1672</td>\n",
       "      <td>0.1757</td>\n",
       "      <td>0.1827</td>\n",
       "      <td>-0.2846</td>\n",
       "      <td>-0.2478</td>\n",
       "      <td>-0.2970</td>\n",
       "      <td>-0.2933</td>\n",
       "      <td>-0.3125</td>\n",
       "    </tr>\n",
       "    <tr>\n",
       "      <th rowspan=\"5\" valign=\"top\">distance_0</th>\n",
       "      <th>distance_0</th>\n",
       "      <td>0.0304</td>\n",
       "      <td>0.0222</td>\n",
       "      <td>0.0337</td>\n",
       "      <td>0.0334</td>\n",
       "      <td>0.0330</td>\n",
       "      <td>0.1758</td>\n",
       "      <td>0.1813</td>\n",
       "      <td>0.1768</td>\n",
       "      <td>0.1854</td>\n",
       "      <td>0.1772</td>\n",
       "      <td>-0.3813</td>\n",
       "      <td>-0.3597</td>\n",
       "      <td>-0.3462</td>\n",
       "      <td>-0.3303</td>\n",
       "      <td>-0.3796</td>\n",
       "    </tr>\n",
       "    <tr>\n",
       "      <th>lexico</th>\n",
       "      <td>0.0384</td>\n",
       "      <td>0.0453</td>\n",
       "      <td>0.0366</td>\n",
       "      <td>0.0372</td>\n",
       "      <td>0.0336</td>\n",
       "      <td>0.1750</td>\n",
       "      <td>0.1739</td>\n",
       "      <td>0.1762</td>\n",
       "      <td>0.1772</td>\n",
       "      <td>0.1814</td>\n",
       "      <td>-0.3013</td>\n",
       "      <td>-0.2847</td>\n",
       "      <td>-0.3719</td>\n",
       "      <td>-0.3444</td>\n",
       "      <td>-0.3869</td>\n",
       "    </tr>\n",
       "    <tr>\n",
       "      <th>max</th>\n",
       "      <td>0.0280</td>\n",
       "      <td>0.0329</td>\n",
       "      <td>0.0230</td>\n",
       "      <td>0.0297</td>\n",
       "      <td>0.0359</td>\n",
       "      <td>0.1860</td>\n",
       "      <td>0.1787</td>\n",
       "      <td>0.1805</td>\n",
       "      <td>0.1760</td>\n",
       "      <td>0.1785</td>\n",
       "      <td>-0.3254</td>\n",
       "      <td>-0.3255</td>\n",
       "      <td>-0.3379</td>\n",
       "      <td>-0.3858</td>\n",
       "      <td>-0.4029</td>\n",
       "    </tr>\n",
       "    <tr>\n",
       "      <th>projection</th>\n",
       "      <td>0.0225</td>\n",
       "      <td>0.0268</td>\n",
       "      <td>0.0274</td>\n",
       "      <td>0.0330</td>\n",
       "      <td>0.0430</td>\n",
       "      <td>0.1861</td>\n",
       "      <td>0.1894</td>\n",
       "      <td>0.1808</td>\n",
       "      <td>0.1857</td>\n",
       "      <td>0.1840</td>\n",
       "      <td>-0.3796</td>\n",
       "      <td>-0.3716</td>\n",
       "      <td>-0.3798</td>\n",
       "      <td>-0.3588</td>\n",
       "      <td>-0.3891</td>\n",
       "    </tr>\n",
       "    <tr>\n",
       "      <th>random</th>\n",
       "      <td>0.0392</td>\n",
       "      <td>0.0428</td>\n",
       "      <td>0.0378</td>\n",
       "      <td>0.0363</td>\n",
       "      <td>0.0385</td>\n",
       "      <td>0.1715</td>\n",
       "      <td>0.1722</td>\n",
       "      <td>0.1778</td>\n",
       "      <td>0.1768</td>\n",
       "      <td>0.1745</td>\n",
       "      <td>-0.2890</td>\n",
       "      <td>-0.3199</td>\n",
       "      <td>-0.3627</td>\n",
       "      <td>-0.3400</td>\n",
       "      <td>-0.3229</td>\n",
       "    </tr>\n",
       "    <tr>\n",
       "      <th rowspan=\"5\" valign=\"top\">lexico</th>\n",
       "      <th>distance_0</th>\n",
       "      <td>0.0275</td>\n",
       "      <td>0.0297</td>\n",
       "      <td>0.0428</td>\n",
       "      <td>0.0425</td>\n",
       "      <td>0.0425</td>\n",
       "      <td>0.1687</td>\n",
       "      <td>0.1888</td>\n",
       "      <td>0.1638</td>\n",
       "      <td>0.1729</td>\n",
       "      <td>0.1888</td>\n",
       "      <td>-0.3829</td>\n",
       "      <td>-0.3233</td>\n",
       "      <td>-0.3299</td>\n",
       "      <td>-0.3531</td>\n",
       "      <td>-0.3018</td>\n",
       "    </tr>\n",
       "    <tr>\n",
       "      <th>lexico</th>\n",
       "      <td>0.0436</td>\n",
       "      <td>0.0396</td>\n",
       "      <td>0.0502</td>\n",
       "      <td>0.0431</td>\n",
       "      <td>0.0336</td>\n",
       "      <td>0.1802</td>\n",
       "      <td>0.1709</td>\n",
       "      <td>0.1765</td>\n",
       "      <td>0.1799</td>\n",
       "      <td>0.1738</td>\n",
       "      <td>-0.3069</td>\n",
       "      <td>-0.3397</td>\n",
       "      <td>-0.2958</td>\n",
       "      <td>-0.2458</td>\n",
       "      <td>-0.2503</td>\n",
       "    </tr>\n",
       "    <tr>\n",
       "      <th>max</th>\n",
       "      <td>0.0366</td>\n",
       "      <td>0.0424</td>\n",
       "      <td>0.0373</td>\n",
       "      <td>0.0315</td>\n",
       "      <td>0.0436</td>\n",
       "      <td>0.1664</td>\n",
       "      <td>0.1809</td>\n",
       "      <td>0.1715</td>\n",
       "      <td>0.1783</td>\n",
       "      <td>0.1699</td>\n",
       "      <td>-0.3236</td>\n",
       "      <td>-0.2938</td>\n",
       "      <td>-0.2359</td>\n",
       "      <td>-0.2711</td>\n",
       "      <td>-0.3030</td>\n",
       "    </tr>\n",
       "    <tr>\n",
       "      <th>projection</th>\n",
       "      <td>0.0225</td>\n",
       "      <td>0.0409</td>\n",
       "      <td>0.0450</td>\n",
       "      <td>0.0244</td>\n",
       "      <td>0.0432</td>\n",
       "      <td>0.1869</td>\n",
       "      <td>0.1816</td>\n",
       "      <td>0.1739</td>\n",
       "      <td>0.1779</td>\n",
       "      <td>0.1780</td>\n",
       "      <td>-0.3712</td>\n",
       "      <td>-0.3524</td>\n",
       "      <td>-0.3077</td>\n",
       "      <td>-0.2615</td>\n",
       "      <td>-0.2893</td>\n",
       "    </tr>\n",
       "    <tr>\n",
       "      <th>random</th>\n",
       "      <td>0.0535</td>\n",
       "      <td>0.0417</td>\n",
       "      <td>0.0386</td>\n",
       "      <td>0.0392</td>\n",
       "      <td>0.0558</td>\n",
       "      <td>0.1793</td>\n",
       "      <td>0.1702</td>\n",
       "      <td>0.1825</td>\n",
       "      <td>0.1773</td>\n",
       "      <td>0.1798</td>\n",
       "      <td>-0.2871</td>\n",
       "      <td>-0.3066</td>\n",
       "      <td>-0.3170</td>\n",
       "      <td>-0.2780</td>\n",
       "      <td>-0.2947</td>\n",
       "    </tr>\n",
       "    <tr>\n",
       "      <th rowspan=\"5\" valign=\"top\">max</th>\n",
       "      <th>distance_0</th>\n",
       "      <td>0.0319</td>\n",
       "      <td>0.0240</td>\n",
       "      <td>0.0384</td>\n",
       "      <td>0.0471</td>\n",
       "      <td>0.0314</td>\n",
       "      <td>0.1802</td>\n",
       "      <td>0.1877</td>\n",
       "      <td>0.1844</td>\n",
       "      <td>0.1852</td>\n",
       "      <td>0.1756</td>\n",
       "      <td>-0.3716</td>\n",
       "      <td>-0.3682</td>\n",
       "      <td>-0.3703</td>\n",
       "      <td>-0.3856</td>\n",
       "      <td>-0.3633</td>\n",
       "    </tr>\n",
       "    <tr>\n",
       "      <th>lexico</th>\n",
       "      <td>0.0347</td>\n",
       "      <td>0.0352</td>\n",
       "      <td>0.0302</td>\n",
       "      <td>0.0320</td>\n",
       "      <td>0.0305</td>\n",
       "      <td>0.1729</td>\n",
       "      <td>0.1773</td>\n",
       "      <td>0.1810</td>\n",
       "      <td>0.1870</td>\n",
       "      <td>0.1769</td>\n",
       "      <td>-0.2607</td>\n",
       "      <td>-0.2942</td>\n",
       "      <td>-0.3009</td>\n",
       "      <td>-0.3179</td>\n",
       "      <td>-0.3698</td>\n",
       "    </tr>\n",
       "    <tr>\n",
       "      <th>max</th>\n",
       "      <td>0.0343</td>\n",
       "      <td>0.0286</td>\n",
       "      <td>0.0325</td>\n",
       "      <td>0.0356</td>\n",
       "      <td>0.0341</td>\n",
       "      <td>0.1666</td>\n",
       "      <td>0.1754</td>\n",
       "      <td>0.1812</td>\n",
       "      <td>0.1795</td>\n",
       "      <td>0.1723</td>\n",
       "      <td>-0.3189</td>\n",
       "      <td>-0.3549</td>\n",
       "      <td>-0.2927</td>\n",
       "      <td>-0.3424</td>\n",
       "      <td>-0.3324</td>\n",
       "    </tr>\n",
       "    <tr>\n",
       "      <th>projection</th>\n",
       "      <td>0.0270</td>\n",
       "      <td>0.0330</td>\n",
       "      <td>0.0312</td>\n",
       "      <td>0.0241</td>\n",
       "      <td>0.0373</td>\n",
       "      <td>0.1827</td>\n",
       "      <td>0.1709</td>\n",
       "      <td>0.1786</td>\n",
       "      <td>0.1844</td>\n",
       "      <td>0.1765</td>\n",
       "      <td>-0.3817</td>\n",
       "      <td>-0.3565</td>\n",
       "      <td>-0.3628</td>\n",
       "      <td>-0.3477</td>\n",
       "      <td>-0.3678</td>\n",
       "    </tr>\n",
       "    <tr>\n",
       "      <th>random</th>\n",
       "      <td>0.0379</td>\n",
       "      <td>0.0236</td>\n",
       "      <td>0.0375</td>\n",
       "      <td>0.0314</td>\n",
       "      <td>0.0362</td>\n",
       "      <td>0.1719</td>\n",
       "      <td>0.1781</td>\n",
       "      <td>0.1837</td>\n",
       "      <td>0.1829</td>\n",
       "      <td>0.1692</td>\n",
       "      <td>-0.2588</td>\n",
       "      <td>-0.3083</td>\n",
       "      <td>-0.3234</td>\n",
       "      <td>-0.3463</td>\n",
       "      <td>-0.3666</td>\n",
       "    </tr>\n",
       "    <tr>\n",
       "      <th rowspan=\"5\" valign=\"top\">projection</th>\n",
       "      <th>distance_0</th>\n",
       "      <td>0.0273</td>\n",
       "      <td>0.0302</td>\n",
       "      <td>0.0318</td>\n",
       "      <td>0.0268</td>\n",
       "      <td>0.0293</td>\n",
       "      <td>0.1843</td>\n",
       "      <td>0.1841</td>\n",
       "      <td>0.1823</td>\n",
       "      <td>0.1783</td>\n",
       "      <td>0.1721</td>\n",
       "      <td>-0.3756</td>\n",
       "      <td>-0.3806</td>\n",
       "      <td>-0.3618</td>\n",
       "      <td>-0.3406</td>\n",
       "      <td>-0.3886</td>\n",
       "    </tr>\n",
       "    <tr>\n",
       "      <th>lexico</th>\n",
       "      <td>0.0347</td>\n",
       "      <td>0.0383</td>\n",
       "      <td>0.0278</td>\n",
       "      <td>0.0320</td>\n",
       "      <td>0.0317</td>\n",
       "      <td>0.1798</td>\n",
       "      <td>0.1750</td>\n",
       "      <td>0.1704</td>\n",
       "      <td>0.1876</td>\n",
       "      <td>0.1850</td>\n",
       "      <td>-0.2791</td>\n",
       "      <td>-0.2915</td>\n",
       "      <td>-0.3890</td>\n",
       "      <td>-0.3834</td>\n",
       "      <td>-0.3833</td>\n",
       "    </tr>\n",
       "    <tr>\n",
       "      <th>max</th>\n",
       "      <td>0.0382</td>\n",
       "      <td>0.0290</td>\n",
       "      <td>0.0326</td>\n",
       "      <td>0.0309</td>\n",
       "      <td>0.0323</td>\n",
       "      <td>0.1779</td>\n",
       "      <td>0.1747</td>\n",
       "      <td>0.1828</td>\n",
       "      <td>0.1766</td>\n",
       "      <td>0.1879</td>\n",
       "      <td>-0.3397</td>\n",
       "      <td>-0.3468</td>\n",
       "      <td>-0.3473</td>\n",
       "      <td>-0.3843</td>\n",
       "      <td>-0.3627</td>\n",
       "    </tr>\n",
       "    <tr>\n",
       "      <th>projection</th>\n",
       "      <td>0.0318</td>\n",
       "      <td>0.0334</td>\n",
       "      <td>0.0285</td>\n",
       "      <td>0.0323</td>\n",
       "      <td>0.0386</td>\n",
       "      <td>0.1786</td>\n",
       "      <td>0.1866</td>\n",
       "      <td>0.1787</td>\n",
       "      <td>0.1773</td>\n",
       "      <td>0.1752</td>\n",
       "      <td>-0.3996</td>\n",
       "      <td>-0.3400</td>\n",
       "      <td>-0.3374</td>\n",
       "      <td>-0.3596</td>\n",
       "      <td>-0.4134</td>\n",
       "    </tr>\n",
       "    <tr>\n",
       "      <th>random</th>\n",
       "      <td>0.0424</td>\n",
       "      <td>0.0310</td>\n",
       "      <td>0.0391</td>\n",
       "      <td>0.0328</td>\n",
       "      <td>0.0294</td>\n",
       "      <td>0.1764</td>\n",
       "      <td>0.1729</td>\n",
       "      <td>0.1768</td>\n",
       "      <td>0.1664</td>\n",
       "      <td>0.1740</td>\n",
       "      <td>-0.2958</td>\n",
       "      <td>-0.2914</td>\n",
       "      <td>-0.3827</td>\n",
       "      <td>-0.3686</td>\n",
       "      <td>-0.3721</td>\n",
       "    </tr>\n",
       "    <tr>\n",
       "      <th rowspan=\"5\" valign=\"top\">random</th>\n",
       "      <th>distance_0</th>\n",
       "      <td>0.0333</td>\n",
       "      <td>0.0431</td>\n",
       "      <td>0.0430</td>\n",
       "      <td>0.0310</td>\n",
       "      <td>0.0511</td>\n",
       "      <td>0.1817</td>\n",
       "      <td>0.1740</td>\n",
       "      <td>0.1713</td>\n",
       "      <td>0.1780</td>\n",
       "      <td>0.1676</td>\n",
       "      <td>-0.3915</td>\n",
       "      <td>-0.2830</td>\n",
       "      <td>-0.3188</td>\n",
       "      <td>-0.3556</td>\n",
       "      <td>-0.2634</td>\n",
       "    </tr>\n",
       "    <tr>\n",
       "      <th>lexico</th>\n",
       "      <td>0.0397</td>\n",
       "      <td>0.0364</td>\n",
       "      <td>0.0451</td>\n",
       "      <td>0.0320</td>\n",
       "      <td>0.0350</td>\n",
       "      <td>0.1782</td>\n",
       "      <td>0.1706</td>\n",
       "      <td>0.1775</td>\n",
       "      <td>0.1811</td>\n",
       "      <td>0.1783</td>\n",
       "      <td>-0.2945</td>\n",
       "      <td>-0.2749</td>\n",
       "      <td>-0.2698</td>\n",
       "      <td>-0.2335</td>\n",
       "      <td>-0.2806</td>\n",
       "    </tr>\n",
       "    <tr>\n",
       "      <th>max</th>\n",
       "      <td>0.0324</td>\n",
       "      <td>0.0322</td>\n",
       "      <td>0.0429</td>\n",
       "      <td>0.0428</td>\n",
       "      <td>0.0403</td>\n",
       "      <td>0.1765</td>\n",
       "      <td>0.1689</td>\n",
       "      <td>0.1785</td>\n",
       "      <td>0.1773</td>\n",
       "      <td>0.1738</td>\n",
       "      <td>-0.3446</td>\n",
       "      <td>-0.2610</td>\n",
       "      <td>-0.2761</td>\n",
       "      <td>-0.2693</td>\n",
       "      <td>-0.3107</td>\n",
       "    </tr>\n",
       "    <tr>\n",
       "      <th>projection</th>\n",
       "      <td>0.0271</td>\n",
       "      <td>0.0531</td>\n",
       "      <td>0.0418</td>\n",
       "      <td>0.0493</td>\n",
       "      <td>0.0398</td>\n",
       "      <td>0.1763</td>\n",
       "      <td>0.1893</td>\n",
       "      <td>0.1652</td>\n",
       "      <td>0.1890</td>\n",
       "      <td>0.1801</td>\n",
       "      <td>-0.3878</td>\n",
       "      <td>-0.2679</td>\n",
       "      <td>-0.3412</td>\n",
       "      <td>-0.2544</td>\n",
       "      <td>-0.2994</td>\n",
       "    </tr>\n",
       "    <tr>\n",
       "      <th>random</th>\n",
       "      <td>0.0336</td>\n",
       "      <td>0.0444</td>\n",
       "      <td>0.0380</td>\n",
       "      <td>0.0520</td>\n",
       "      <td>0.0413</td>\n",
       "      <td>0.1768</td>\n",
       "      <td>0.1748</td>\n",
       "      <td>0.1690</td>\n",
       "      <td>0.1726</td>\n",
       "      <td>0.1832</td>\n",
       "      <td>-0.3296</td>\n",
       "      <td>-0.2477</td>\n",
       "      <td>-0.3227</td>\n",
       "      <td>-0.3129</td>\n",
       "      <td>-0.2930</td>\n",
       "    </tr>\n",
       "  </tbody>\n",
       "</table>\n",
       "</div>"
      ]
     },
     "execution_count": 27,
     "metadata": {},
     "output_type": "execute_result"
    }
   ],
   "execution_count": 27
  },
  {
   "metadata": {
    "ExecuteTime": {
     "end_time": "2025-07-20T09:43:43.130211Z",
     "start_time": "2025-07-20T09:43:43.108946Z"
    }
   },
   "cell_type": "code",
   "source": "top_n_records(df, ['zonal_sort', 'bar_sort', 'zones'], k=10)",
   "id": "90a5a7fc4180d251",
   "outputs": [
    {
     "data": {
      "text/plain": [
       "                          name  exp_moran\n",
       "0  projection - projection - 5    -0.4134\n",
       "1        None - projection - 1    -0.4052\n",
       "2        None - distance_0 - 1    -0.4038\n",
       "3         distance_0 - max - 5    -0.4029\n",
       "4  projection - projection - 1    -0.3996\n",
       "5      random - distance_0 - 1    -0.3915\n",
       "6  distance_0 - projection - 5    -0.3891\n",
       "7      projection - lexico - 3    -0.3890\n",
       "8  projection - distance_0 - 5    -0.3886\n",
       "9      random - projection - 1    -0.3878"
      ],
      "text/html": [
       "<div>\n",
       "<style scoped>\n",
       "    .dataframe tbody tr th:only-of-type {\n",
       "        vertical-align: middle;\n",
       "    }\n",
       "\n",
       "    .dataframe tbody tr th {\n",
       "        vertical-align: top;\n",
       "    }\n",
       "\n",
       "    .dataframe thead th {\n",
       "        text-align: right;\n",
       "    }\n",
       "</style>\n",
       "<table border=\"1\" class=\"dataframe\">\n",
       "  <thead>\n",
       "    <tr style=\"text-align: right;\">\n",
       "      <th></th>\n",
       "      <th>name</th>\n",
       "      <th>exp_moran</th>\n",
       "    </tr>\n",
       "  </thead>\n",
       "  <tbody>\n",
       "    <tr>\n",
       "      <th>0</th>\n",
       "      <td>projection - projection - 5</td>\n",
       "      <td>-0.4134</td>\n",
       "    </tr>\n",
       "    <tr>\n",
       "      <th>1</th>\n",
       "      <td>None - projection - 1</td>\n",
       "      <td>-0.4052</td>\n",
       "    </tr>\n",
       "    <tr>\n",
       "      <th>2</th>\n",
       "      <td>None - distance_0 - 1</td>\n",
       "      <td>-0.4038</td>\n",
       "    </tr>\n",
       "    <tr>\n",
       "      <th>3</th>\n",
       "      <td>distance_0 - max - 5</td>\n",
       "      <td>-0.4029</td>\n",
       "    </tr>\n",
       "    <tr>\n",
       "      <th>4</th>\n",
       "      <td>projection - projection - 1</td>\n",
       "      <td>-0.3996</td>\n",
       "    </tr>\n",
       "    <tr>\n",
       "      <th>5</th>\n",
       "      <td>random - distance_0 - 1</td>\n",
       "      <td>-0.3915</td>\n",
       "    </tr>\n",
       "    <tr>\n",
       "      <th>6</th>\n",
       "      <td>distance_0 - projection - 5</td>\n",
       "      <td>-0.3891</td>\n",
       "    </tr>\n",
       "    <tr>\n",
       "      <th>7</th>\n",
       "      <td>projection - lexico - 3</td>\n",
       "      <td>-0.3890</td>\n",
       "    </tr>\n",
       "    <tr>\n",
       "      <th>8</th>\n",
       "      <td>projection - distance_0 - 5</td>\n",
       "      <td>-0.3886</td>\n",
       "    </tr>\n",
       "    <tr>\n",
       "      <th>9</th>\n",
       "      <td>random - projection - 1</td>\n",
       "      <td>-0.3878</td>\n",
       "    </tr>\n",
       "  </tbody>\n",
       "</table>\n",
       "</div>"
      ]
     },
     "execution_count": 28,
     "metadata": {},
     "output_type": "execute_result"
    }
   ],
   "execution_count": 28
  },
  {
   "metadata": {
    "ExecuteTime": {
     "end_time": "2025-07-20T09:57:58.471520Z",
     "start_time": "2025-07-20T09:57:58.361323Z"
    }
   },
   "cell_type": "code",
   "source": [
    "def evaluate_meuse_loop(\n",
    "        coords_dict,\n",
    "        probs_dict,\n",
    "        num_loops=10,\n",
    "        n_values=[4],\n",
    "        zone_list=[(1, 1), (2, 2), (3, 3)],\n",
    "        sort_method_list=['lexico', 'random', 'angle_0', 'distance_0', 'projection', \"center\", \"spiral\", \"max\"],\n",
    "        zonal_sort_list=['lexico', 'random', 'angle_0', 'distance_0', 'projection', \"center\", \"spiral\", \"max\"],\n",
    "        zone_mode_list=['sweep' 'cluster'],\n",
    "        tolerance=5,\n",
    "        split_size=1e-3,\n",
    "):\n",
    "    records = []\n",
    "\n",
    "    # pre‐compute all combinations\n",
    "    combos = list(itertools.product(\n",
    "        n_values,\n",
    "        zone_list,\n",
    "        zone_mode_list,\n",
    "        zonal_sort_list,\n",
    "        sort_method_list\n",
    "    ))\n",
    "    coords = coords_dict['meuse']\n",
    "    probs = probs_dict['meuse']['equal']\n",
    "\n",
    "    best_moran_sofar = 0\n",
    "\n",
    "    for _ in range(num_loops):\n",
    "        for n, zones, zone_mode, zonal_sort, sort_method in tqdm(\n",
    "            combos,\n",
    "            desc=\"Total combos\",\n",
    "            unit=\"combo\"\n",
    "        ):\n",
    "\n",
    "            # print(n, zones, zone_mode, zonal_sort, sort_method)\n",
    "\n",
    "            modified_probs = inclusion_probabilities(probs, n=n)\n",
    "            kss = gs.sampling.KMeansSpatialSamplingSimple(\n",
    "                coords, modified_probs,\n",
    "                n=n,\n",
    "                n_zones=zones,\n",
    "                tolerance=tolerance,\n",
    "                split_size=split_size,\n",
    "                zone_mode=zone_mode,\n",
    "                sort_method=sort_method,\n",
    "                zonal_sort=zonal_sort,\n",
    "                max_missed_samples=1\n",
    "            )\n",
    "\n",
    "            density_expected = np.round(kss.expected_score(), 4)\n",
    "            density_val = np.round(kss.var_score(), 4)\n",
    "\n",
    "            moran_scores, lb_scores = score_all_samples_moran_lb(coords, modified_probs, kss.all_samples)\n",
    "\n",
    "            moran_expected = np.round(kss.expected_score(moran_scores), 4)\n",
    "            moran_val = np.round(kss.var_score(moran_scores), 4)\n",
    "\n",
    "            lb_expected = np.round(kss.expected_score(lb_scores), 4)\n",
    "            lb_val = np.round(kss.var_score(lb_scores), 4)\n",
    "\n",
    "            if moran_expected < best_moran_sofar:\n",
    "                best_moran_sofar = moran_expected\n",
    "                print('\\n====================================')\n",
    "                print('A NEW BEST FOUND')\n",
    "                print(f'Moran score: {moran_expected}')\n",
    "                print(f'zone_mode: {zone_mode}')\n",
    "                print(f'zonal_sort: {zonal_sort}')\n",
    "                print(f'bar_sort: {sort_method}')\n",
    "                print(f'zones: {zones}')\n",
    "\n",
    "            records.append({\n",
    "                'n': n,\n",
    "                'zones': zones if zone_mode == 'cluster' else f\"{zones[0]}×{zones[1]}\",\n",
    "                'zone_mode': zone_mode,\n",
    "                'bar_sort': sort_method,\n",
    "                'zonal_sort': zonal_sort if zonal_sort else 'None',\n",
    "                'exp_density': density_expected,\n",
    "                'exp_moran': moran_expected,\n",
    "                'exp_lb': lb_expected,\n",
    "                'var_density': density_val,\n",
    "                'var_moran': moran_val,\n",
    "                'var_lb': lb_val,\n",
    "            })\n",
    "\n",
    "    return pd.DataFrame.from_records(records)\n"
   ],
   "id": "e422c15516d056c7",
   "outputs": [],
   "execution_count": 29
  },
  {
   "metadata": {
    "ExecuteTime": {
     "end_time": "2025-07-20T10:04:27.710756Z",
     "start_time": "2025-07-20T10:01:06.109554Z"
    }
   },
   "cell_type": "code",
   "source": [
    "df = evaluate_meuse_loop(\n",
    "    coords_dict,\n",
    "    probs_dict,\n",
    "    num_loops=50,\n",
    "    n_values=[15],\n",
    "    zone_list=[(1, 1), (2, 2), (2, 1), (1, 2)],\n",
    "    # zone_list=[1, 2, 3, 4, 5],\n",
    "    sort_method_list=['random'],\n",
    "    zonal_sort_list=[None, 'random'],\n",
    "    # zonal_sort_list=[None],\n",
    "    zone_mode_list=['sweep'],\n",
    "    tolerance=5,\n",
    "    split_size=1e-3,\n",
    ")"
   ],
   "id": "69f0ede5a01f693",
   "outputs": [
    {
     "name": "stderr",
     "output_type": "stream",
     "text": [
      "Total combos:  12%|█▎        | 1/8 [00:02<00:18,  2.71s/combo]"
     ]
    },
    {
     "name": "stdout",
     "output_type": "stream",
     "text": [
      "\n",
      "====================================\n",
      "A NEW BEST FOUND\n",
      "Moran score: -0.2759\n",
      "zone_mode: sweep\n",
      "zonal_sort: None\n",
      "bar_sort: random\n"
     ]
    },
    {
     "name": "stderr",
     "output_type": "stream",
     "text": [
      "Total combos:  25%|██▌       | 2/8 [00:04<00:12,  2.05s/combo]"
     ]
    },
    {
     "name": "stdout",
     "output_type": "stream",
     "text": [
      "\n",
      "====================================\n",
      "A NEW BEST FOUND\n",
      "Moran score: -0.2855\n",
      "zone_mode: sweep\n",
      "zonal_sort: random\n",
      "bar_sort: random\n"
     ]
    },
    {
     "name": "stderr",
     "output_type": "stream",
     "text": [
      "Total combos:  38%|███▊      | 3/8 [00:06<00:10,  2.08s/combo]"
     ]
    },
    {
     "name": "stdout",
     "output_type": "stream",
     "text": [
      "\n",
      "====================================\n",
      "A NEW BEST FOUND\n",
      "Moran score: -0.349\n",
      "zone_mode: sweep\n",
      "zonal_sort: None\n",
      "bar_sort: random\n"
     ]
    },
    {
     "name": "stderr",
     "output_type": "stream",
     "text": [
      "Total combos: 100%|██████████| 8/8 [00:14<00:00,  1.78s/combo]\n",
      "Total combos:  38%|███▊      | 3/8 [00:05<00:08,  1.72s/combo]"
     ]
    },
    {
     "name": "stdout",
     "output_type": "stream",
     "text": [
      "\n",
      "====================================\n",
      "A NEW BEST FOUND\n",
      "Moran score: -0.3559\n",
      "zone_mode: sweep\n",
      "zonal_sort: None\n",
      "bar_sort: random\n"
     ]
    },
    {
     "name": "stderr",
     "output_type": "stream",
     "text": [
      "Total combos: 100%|██████████| 8/8 [00:13<00:00,  1.64s/combo]\n",
      "Total combos:  38%|███▊      | 3/8 [00:05<00:08,  1.71s/combo]"
     ]
    },
    {
     "name": "stdout",
     "output_type": "stream",
     "text": [
      "\n",
      "====================================\n",
      "A NEW BEST FOUND\n",
      "Moran score: -0.3598\n",
      "zone_mode: sweep\n",
      "zonal_sort: None\n",
      "bar_sort: random\n"
     ]
    },
    {
     "name": "stderr",
     "output_type": "stream",
     "text": [
      "Total combos: 100%|██████████| 8/8 [00:13<00:00,  1.74s/combo]\n",
      "Total combos:  38%|███▊      | 3/8 [00:05<00:08,  1.63s/combo]"
     ]
    },
    {
     "name": "stdout",
     "output_type": "stream",
     "text": [
      "\n",
      "====================================\n",
      "A NEW BEST FOUND\n",
      "Moran score: -0.3653\n",
      "zone_mode: sweep\n",
      "zonal_sort: None\n",
      "bar_sort: random\n"
     ]
    },
    {
     "name": "stderr",
     "output_type": "stream",
     "text": [
      "Total combos: 100%|██████████| 8/8 [00:13<00:00,  1.66s/combo]\n",
      "Total combos: 100%|██████████| 8/8 [00:16<00:00,  2.01s/combo]\n",
      "Total combos: 100%|██████████| 8/8 [00:13<00:00,  1.74s/combo]\n",
      "Total combos: 100%|██████████| 8/8 [00:13<00:00,  1.72s/combo]\n",
      "Total combos:  38%|███▊      | 3/8 [00:05<00:08,  1.70s/combo]"
     ]
    },
    {
     "name": "stdout",
     "output_type": "stream",
     "text": [
      "\n",
      "====================================\n",
      "A NEW BEST FOUND\n",
      "Moran score: -0.3725\n",
      "zone_mode: sweep\n",
      "zonal_sort: None\n",
      "bar_sort: random\n"
     ]
    },
    {
     "name": "stderr",
     "output_type": "stream",
     "text": [
      "Total combos: 100%|██████████| 8/8 [00:13<00:00,  1.73s/combo]\n",
      "Total combos: 100%|██████████| 8/8 [00:14<00:00,  1.77s/combo]\n",
      "Total combos: 100%|██████████| 8/8 [00:15<00:00,  1.95s/combo]\n",
      "Total combos:  38%|███▊      | 3/8 [00:06<00:10,  2.11s/combo]"
     ]
    },
    {
     "name": "stdout",
     "output_type": "stream",
     "text": [
      "\n",
      "====================================\n",
      "A NEW BEST FOUND\n",
      "Moran score: -0.3869\n",
      "zone_mode: sweep\n",
      "zonal_sort: None\n",
      "bar_sort: random\n"
     ]
    },
    {
     "name": "stderr",
     "output_type": "stream",
     "text": [
      "Total combos: 100%|██████████| 8/8 [00:15<00:00,  1.97s/combo]\n",
      "Total combos: 100%|██████████| 8/8 [00:14<00:00,  1.87s/combo]\n",
      "Total combos: 100%|██████████| 8/8 [00:14<00:00,  1.86s/combo]\n",
      "Total combos:  88%|████████▊ | 7/8 [00:14<00:02,  2.00s/combo]\n"
     ]
    },
    {
     "ename": "KeyboardInterrupt",
     "evalue": "",
     "output_type": "error",
     "traceback": [
      "\u001B[0;31m---------------------------------------------------------------------------\u001B[0m",
      "\u001B[0;31mKeyboardInterrupt\u001B[0m                         Traceback (most recent call last)",
      "Cell \u001B[0;32mIn[32], line 1\u001B[0m\n\u001B[0;32m----> 1\u001B[0m df \u001B[38;5;241m=\u001B[39m \u001B[43mevaluate_meuse_loop\u001B[49m\u001B[43m(\u001B[49m\n\u001B[1;32m      2\u001B[0m \u001B[43m    \u001B[49m\u001B[43mcoords_dict\u001B[49m\u001B[43m,\u001B[49m\n\u001B[1;32m      3\u001B[0m \u001B[43m    \u001B[49m\u001B[43mprobs_dict\u001B[49m\u001B[43m,\u001B[49m\n\u001B[1;32m      4\u001B[0m \u001B[43m    \u001B[49m\u001B[43mnum_loops\u001B[49m\u001B[38;5;241;43m=\u001B[39;49m\u001B[38;5;241;43m50\u001B[39;49m\u001B[43m,\u001B[49m\n\u001B[1;32m      5\u001B[0m \u001B[43m    \u001B[49m\u001B[43mn_values\u001B[49m\u001B[38;5;241;43m=\u001B[39;49m\u001B[43m[\u001B[49m\u001B[38;5;241;43m15\u001B[39;49m\u001B[43m]\u001B[49m\u001B[43m,\u001B[49m\n\u001B[1;32m      6\u001B[0m \u001B[43m    \u001B[49m\u001B[43mzone_list\u001B[49m\u001B[38;5;241;43m=\u001B[39;49m\u001B[43m[\u001B[49m\u001B[43m(\u001B[49m\u001B[38;5;241;43m1\u001B[39;49m\u001B[43m,\u001B[49m\u001B[43m \u001B[49m\u001B[38;5;241;43m1\u001B[39;49m\u001B[43m)\u001B[49m\u001B[43m,\u001B[49m\u001B[43m \u001B[49m\u001B[43m(\u001B[49m\u001B[38;5;241;43m2\u001B[39;49m\u001B[43m,\u001B[49m\u001B[43m \u001B[49m\u001B[38;5;241;43m2\u001B[39;49m\u001B[43m)\u001B[49m\u001B[43m,\u001B[49m\u001B[43m \u001B[49m\u001B[43m(\u001B[49m\u001B[38;5;241;43m2\u001B[39;49m\u001B[43m,\u001B[49m\u001B[43m \u001B[49m\u001B[38;5;241;43m1\u001B[39;49m\u001B[43m)\u001B[49m\u001B[43m,\u001B[49m\u001B[43m \u001B[49m\u001B[43m(\u001B[49m\u001B[38;5;241;43m1\u001B[39;49m\u001B[43m,\u001B[49m\u001B[43m \u001B[49m\u001B[38;5;241;43m2\u001B[39;49m\u001B[43m)\u001B[49m\u001B[43m]\u001B[49m\u001B[43m,\u001B[49m\n\u001B[1;32m      7\u001B[0m \u001B[43m    \u001B[49m\u001B[38;5;66;43;03m# zone_list=[1, 2, 3, 4, 5],\u001B[39;49;00m\n\u001B[1;32m      8\u001B[0m \u001B[43m    \u001B[49m\u001B[43msort_method_list\u001B[49m\u001B[38;5;241;43m=\u001B[39;49m\u001B[43m[\u001B[49m\u001B[38;5;124;43m'\u001B[39;49m\u001B[38;5;124;43mrandom\u001B[39;49m\u001B[38;5;124;43m'\u001B[39;49m\u001B[43m]\u001B[49m\u001B[43m,\u001B[49m\n\u001B[1;32m      9\u001B[0m \u001B[43m    \u001B[49m\u001B[43mzonal_sort_list\u001B[49m\u001B[38;5;241;43m=\u001B[39;49m\u001B[43m[\u001B[49m\u001B[38;5;28;43;01mNone\u001B[39;49;00m\u001B[43m,\u001B[49m\u001B[43m \u001B[49m\u001B[38;5;124;43m'\u001B[39;49m\u001B[38;5;124;43mrandom\u001B[39;49m\u001B[38;5;124;43m'\u001B[39;49m\u001B[43m]\u001B[49m\u001B[43m,\u001B[49m\n\u001B[1;32m     10\u001B[0m \u001B[43m    \u001B[49m\u001B[38;5;66;43;03m# zonal_sort_list=[None],\u001B[39;49;00m\n\u001B[1;32m     11\u001B[0m \u001B[43m    \u001B[49m\u001B[43mzone_mode_list\u001B[49m\u001B[38;5;241;43m=\u001B[39;49m\u001B[43m[\u001B[49m\u001B[38;5;124;43m'\u001B[39;49m\u001B[38;5;124;43msweep\u001B[39;49m\u001B[38;5;124;43m'\u001B[39;49m\u001B[43m]\u001B[49m\u001B[43m,\u001B[49m\n\u001B[1;32m     12\u001B[0m \u001B[43m    \u001B[49m\u001B[43mtolerance\u001B[49m\u001B[38;5;241;43m=\u001B[39;49m\u001B[38;5;241;43m5\u001B[39;49m\u001B[43m,\u001B[49m\n\u001B[1;32m     13\u001B[0m \u001B[43m    \u001B[49m\u001B[43msplit_size\u001B[49m\u001B[38;5;241;43m=\u001B[39;49m\u001B[38;5;241;43m1e-3\u001B[39;49m\u001B[43m,\u001B[49m\n\u001B[1;32m     14\u001B[0m \u001B[43m)\u001B[49m\n",
      "Cell \u001B[0;32mIn[29], line 38\u001B[0m, in \u001B[0;36mevaluate_meuse_loop\u001B[0;34m(coords_dict, probs_dict, num_loops, n_values, zone_list, sort_method_list, zonal_sort_list, zone_mode_list, tolerance, split_size)\u001B[0m\n\u001B[1;32m     29\u001B[0m \u001B[38;5;28;01mfor\u001B[39;00m n, zones, zone_mode, zonal_sort, sort_method \u001B[38;5;129;01min\u001B[39;00m tqdm(\n\u001B[1;32m     30\u001B[0m     combos,\n\u001B[1;32m     31\u001B[0m     desc\u001B[38;5;241m=\u001B[39m\u001B[38;5;124m\"\u001B[39m\u001B[38;5;124mTotal combos\u001B[39m\u001B[38;5;124m\"\u001B[39m,\n\u001B[0;32m   (...)\u001B[0m\n\u001B[1;32m     34\u001B[0m \n\u001B[1;32m     35\u001B[0m     \u001B[38;5;66;03m# print(n, zones, zone_mode, zonal_sort, sort_method)\u001B[39;00m\n\u001B[1;32m     37\u001B[0m     modified_probs \u001B[38;5;241m=\u001B[39m inclusion_probabilities(probs, n\u001B[38;5;241m=\u001B[39mn)\n\u001B[0;32m---> 38\u001B[0m     kss \u001B[38;5;241m=\u001B[39m \u001B[43mgs\u001B[49m\u001B[38;5;241;43m.\u001B[39;49m\u001B[43msampling\u001B[49m\u001B[38;5;241;43m.\u001B[39;49m\u001B[43mKMeansSpatialSamplingSimple\u001B[49m\u001B[43m(\u001B[49m\n\u001B[1;32m     39\u001B[0m \u001B[43m        \u001B[49m\u001B[43mcoords\u001B[49m\u001B[43m,\u001B[49m\u001B[43m \u001B[49m\u001B[43mmodified_probs\u001B[49m\u001B[43m,\u001B[49m\n\u001B[1;32m     40\u001B[0m \u001B[43m        \u001B[49m\u001B[43mn\u001B[49m\u001B[38;5;241;43m=\u001B[39;49m\u001B[43mn\u001B[49m\u001B[43m,\u001B[49m\n\u001B[1;32m     41\u001B[0m \u001B[43m        \u001B[49m\u001B[43mn_zones\u001B[49m\u001B[38;5;241;43m=\u001B[39;49m\u001B[43mzones\u001B[49m\u001B[43m,\u001B[49m\n\u001B[1;32m     42\u001B[0m \u001B[43m        \u001B[49m\u001B[43mtolerance\u001B[49m\u001B[38;5;241;43m=\u001B[39;49m\u001B[43mtolerance\u001B[49m\u001B[43m,\u001B[49m\n\u001B[1;32m     43\u001B[0m \u001B[43m        \u001B[49m\u001B[43msplit_size\u001B[49m\u001B[38;5;241;43m=\u001B[39;49m\u001B[43msplit_size\u001B[49m\u001B[43m,\u001B[49m\n\u001B[1;32m     44\u001B[0m \u001B[43m        \u001B[49m\u001B[43mzone_mode\u001B[49m\u001B[38;5;241;43m=\u001B[39;49m\u001B[43mzone_mode\u001B[49m\u001B[43m,\u001B[49m\n\u001B[1;32m     45\u001B[0m \u001B[43m        \u001B[49m\u001B[43msort_method\u001B[49m\u001B[38;5;241;43m=\u001B[39;49m\u001B[43msort_method\u001B[49m\u001B[43m,\u001B[49m\n\u001B[1;32m     46\u001B[0m \u001B[43m        \u001B[49m\u001B[43mzonal_sort\u001B[49m\u001B[38;5;241;43m=\u001B[39;49m\u001B[43mzonal_sort\u001B[49m\u001B[43m,\u001B[49m\n\u001B[1;32m     47\u001B[0m \u001B[43m        \u001B[49m\u001B[43mmax_missed_samples\u001B[49m\u001B[38;5;241;43m=\u001B[39;49m\u001B[38;5;241;43m1\u001B[39;49m\n\u001B[1;32m     48\u001B[0m \u001B[43m    \u001B[49m\u001B[43m)\u001B[49m\n\u001B[1;32m     50\u001B[0m     density_expected \u001B[38;5;241m=\u001B[39m np\u001B[38;5;241m.\u001B[39mround(kss\u001B[38;5;241m.\u001B[39mexpected_score(), \u001B[38;5;241m4\u001B[39m)\n\u001B[1;32m     51\u001B[0m     density_val \u001B[38;5;241m=\u001B[39m np\u001B[38;5;241m.\u001B[39mround(kss\u001B[38;5;241m.\u001B[39mvar_score(), \u001B[38;5;241m4\u001B[39m)\n",
      "File \u001B[0;32m~/Documents/Projects/graphical_sampling/geometric_sampling/sampling/kmeans_spatial_sampling_simple.py:38\u001B[0m, in \u001B[0;36mKMeansSpatialSamplingSimple.__init__\u001B[0;34m(self, coordinate, inclusion_probability, n, n_zones, tolerance, split_size, zone_mode, sort_method, zonal_sort, max_missed_samples)\u001B[0m\n\u001B[1;32m     35\u001B[0m \u001B[38;5;28mself\u001B[39m\u001B[38;5;241m.\u001B[39mn_zones \u001B[38;5;241m=\u001B[39m \u001B[38;5;28mself\u001B[39m\u001B[38;5;241m.\u001B[39m_convert_n_zones(n_zones)\n\u001B[1;32m     36\u001B[0m \u001B[38;5;28mself\u001B[39m\u001B[38;5;241m.\u001B[39mmax_missed_samples \u001B[38;5;241m=\u001B[39m max_missed_samples\n\u001B[0;32m---> 38\u001B[0m \u001B[38;5;28mself\u001B[39m\u001B[38;5;241m.\u001B[39mpopu \u001B[38;5;241m=\u001B[39m \u001B[43mPopulationSimple\u001B[49m\u001B[43m(\u001B[49m\n\u001B[1;32m     39\u001B[0m \u001B[43m    \u001B[49m\u001B[38;5;28;43mself\u001B[39;49m\u001B[38;5;241;43m.\u001B[39;49m\u001B[43mcoords\u001B[49m\u001B[43m,\u001B[49m\n\u001B[1;32m     40\u001B[0m \u001B[43m    \u001B[49m\u001B[38;5;28;43mself\u001B[39;49m\u001B[38;5;241;43m.\u001B[39;49m\u001B[43mprobs\u001B[49m\u001B[43m,\u001B[49m\n\u001B[1;32m     41\u001B[0m \u001B[43m    \u001B[49m\u001B[43mn_clusters\u001B[49m\u001B[38;5;241;43m=\u001B[39;49m\u001B[38;5;28;43mself\u001B[39;49m\u001B[38;5;241;43m.\u001B[39;49m\u001B[43mn\u001B[49m\u001B[43m,\u001B[49m\n\u001B[1;32m     42\u001B[0m \u001B[43m    \u001B[49m\u001B[43mn_zones\u001B[49m\u001B[38;5;241;43m=\u001B[39;49m\u001B[43mn_zones\u001B[49m\u001B[43m,\u001B[49m\n\u001B[1;32m     43\u001B[0m \u001B[43m    \u001B[49m\u001B[43mtolerance\u001B[49m\u001B[38;5;241;43m=\u001B[39;49m\u001B[38;5;28;43mself\u001B[39;49m\u001B[38;5;241;43m.\u001B[39;49m\u001B[43mtolerance\u001B[49m\u001B[43m,\u001B[49m\n\u001B[1;32m     44\u001B[0m \u001B[43m    \u001B[49m\u001B[43msplit_size\u001B[49m\u001B[38;5;241;43m=\u001B[39;49m\u001B[38;5;28;43mself\u001B[39;49m\u001B[38;5;241;43m.\u001B[39;49m\u001B[43msplit_size\u001B[49m\u001B[43m,\u001B[49m\n\u001B[1;32m     45\u001B[0m \u001B[43m    \u001B[49m\u001B[43mzone_mode\u001B[49m\u001B[38;5;241;43m=\u001B[39;49m\u001B[38;5;28;43mself\u001B[39;49m\u001B[38;5;241;43m.\u001B[39;49m\u001B[43mzone_mode\u001B[49m\u001B[43m,\u001B[49m\n\u001B[1;32m     46\u001B[0m \u001B[43m    \u001B[49m\u001B[43msort_method\u001B[49m\u001B[38;5;241;43m=\u001B[39;49m\u001B[38;5;28;43mself\u001B[39;49m\u001B[38;5;241;43m.\u001B[39;49m\u001B[43msort_method\u001B[49m\u001B[43m,\u001B[49m\n\u001B[1;32m     47\u001B[0m \u001B[43m    \u001B[49m\u001B[43mzonal_sort\u001B[49m\u001B[38;5;241;43m=\u001B[39;49m\u001B[38;5;28;43mself\u001B[39;49m\u001B[38;5;241;43m.\u001B[39;49m\u001B[43mzonal_sort\u001B[49m\u001B[43m,\u001B[49m\n\u001B[1;32m     48\u001B[0m \u001B[43m\u001B[49m\u001B[43m)\u001B[49m\n\u001B[1;32m     49\u001B[0m \u001B[38;5;28mself\u001B[39m\u001B[38;5;241m.\u001B[39mrng \u001B[38;5;241m=\u001B[39m np\u001B[38;5;241m.\u001B[39mrandom\u001B[38;5;241m.\u001B[39mdefault_rng()\n\u001B[1;32m     51\u001B[0m \u001B[38;5;28mself\u001B[39m\u001B[38;5;241m.\u001B[39mdesign \u001B[38;5;241m=\u001B[39m \u001B[38;5;28mself\u001B[39m\u001B[38;5;241m.\u001B[39m_generate_design()\n",
      "File \u001B[0;32m~/Documents/Projects/graphical_sampling/geometric_sampling/sampling/popu.py:47\u001B[0m, in \u001B[0;36mPopulationSimple.__init__\u001B[0;34m(self, coordinate, inclusion_probability, n_clusters, n_zones, tolerance, split_size, zone_mode, sort_method, zonal_sort)\u001B[0m\n\u001B[1;32m     45\u001B[0m \u001B[38;5;28mself\u001B[39m\u001B[38;5;241m.\u001B[39mzonal_sort \u001B[38;5;241m=\u001B[39m zonal_sort\n\u001B[1;32m     46\u001B[0m \u001B[38;5;28mself\u001B[39m\u001B[38;5;241m.\u001B[39mdbk \u001B[38;5;241m=\u001B[39m \u001B[38;5;28;01mNone\u001B[39;00m\n\u001B[0;32m---> 47\u001B[0m \u001B[38;5;28mself\u001B[39m\u001B[38;5;241m.\u001B[39mclusters \u001B[38;5;241m=\u001B[39m \u001B[38;5;28;43mself\u001B[39;49m\u001B[38;5;241;43m.\u001B[39;49m\u001B[43m_generate_clusters\u001B[49m\u001B[43m(\u001B[49m\u001B[43m)\u001B[49m\n\u001B[1;32m     48\u001B[0m \u001B[38;5;28mself\u001B[39m\u001B[38;5;241m.\u001B[39mborders \u001B[38;5;241m=\u001B[39m \u001B[38;5;28mself\u001B[39m\u001B[38;5;241m.\u001B[39m_generate_borders()\n",
      "File \u001B[0;32m~/Documents/Projects/graphical_sampling/geometric_sampling/sampling/popu.py:58\u001B[0m, in \u001B[0;36mPopulationSimple._generate_clusters\u001B[0;34m(self)\u001B[0m\n\u001B[1;32m     56\u001B[0m \u001B[38;5;28;01mdef\u001B[39;00m\u001B[38;5;250m \u001B[39m\u001B[38;5;21m_generate_clusters\u001B[39m(\u001B[38;5;28mself\u001B[39m) \u001B[38;5;241m-\u001B[39m\u001B[38;5;241m>\u001B[39m \u001B[38;5;28mlist\u001B[39m[Cluster]:\n\u001B[1;32m     57\u001B[0m     \u001B[38;5;28mself\u001B[39m\u001B[38;5;241m.\u001B[39mdbk \u001B[38;5;241m=\u001B[39m DoublyBalancedKMeansSimple(k\u001B[38;5;241m=\u001B[39m\u001B[38;5;28mself\u001B[39m\u001B[38;5;241m.\u001B[39mn_clusters, split_size\u001B[38;5;241m=\u001B[39m\u001B[38;5;28mself\u001B[39m\u001B[38;5;241m.\u001B[39msplit_size)\n\u001B[0;32m---> 58\u001B[0m     \u001B[38;5;28;43mself\u001B[39;49m\u001B[38;5;241;43m.\u001B[39;49m\u001B[43mdbk\u001B[49m\u001B[38;5;241;43m.\u001B[39;49m\u001B[43mfit\u001B[49m\u001B[43m(\u001B[49m\u001B[38;5;28;43mself\u001B[39;49m\u001B[38;5;241;43m.\u001B[39;49m\u001B[43mcoords\u001B[49m\u001B[43m,\u001B[49m\u001B[43m \u001B[49m\u001B[38;5;28;43mself\u001B[39;49m\u001B[38;5;241;43m.\u001B[39;49m\u001B[43mprobs\u001B[49m\u001B[43m)\u001B[49m\n\u001B[1;32m     59\u001B[0m     \u001B[38;5;28;01mreturn\u001B[39;00m [\n\u001B[1;32m     60\u001B[0m         Cluster(units\u001B[38;5;241m=\u001B[39munits, zones\u001B[38;5;241m=\u001B[39m\u001B[38;5;28mself\u001B[39m\u001B[38;5;241m.\u001B[39m_generate_zones(units))\n\u001B[1;32m     61\u001B[0m         \u001B[38;5;28;01mfor\u001B[39;00m units \u001B[38;5;129;01min\u001B[39;00m \u001B[38;5;28mself\u001B[39m\u001B[38;5;241m.\u001B[39mdbk\u001B[38;5;241m.\u001B[39mclusters\n\u001B[1;32m     62\u001B[0m     ]\n",
      "File \u001B[0;32m~/Documents/Projects/graphical_sampling/geometric_sampling/clustering/doubly_balanced_clustering_simple.py:37\u001B[0m, in \u001B[0;36mDoublyBalancedKMeansSimple.fit\u001B[0;34m(self, coords, probs, population_ids)\u001B[0m\n\u001B[1;32m     33\u001B[0m cluster_size \u001B[38;5;241m=\u001B[39m \u001B[38;5;28mlen\u001B[39m(expanded_idx) \u001B[38;5;241m/\u001B[39m\u001B[38;5;241m/\u001B[39m \u001B[38;5;28mself\u001B[39m\u001B[38;5;241m.\u001B[39mk\n\u001B[1;32m     34\u001B[0m kmeans \u001B[38;5;241m=\u001B[39m KMeansConstrained(\n\u001B[1;32m     35\u001B[0m     n_clusters\u001B[38;5;241m=\u001B[39m\u001B[38;5;28mself\u001B[39m\u001B[38;5;241m.\u001B[39mk, size_min\u001B[38;5;241m=\u001B[39mcluster_size, size_max\u001B[38;5;241m=\u001B[39mcluster_size \u001B[38;5;241m+\u001B[39m \u001B[38;5;241m1\u001B[39m, n_jobs\u001B[38;5;241m=\u001B[39m\u001B[38;5;241m-\u001B[39m\u001B[38;5;241m1\u001B[39m\n\u001B[1;32m     36\u001B[0m )\n\u001B[0;32m---> 37\u001B[0m labels \u001B[38;5;241m=\u001B[39m \u001B[43mkmeans\u001B[49m\u001B[38;5;241;43m.\u001B[39;49m\u001B[43mfit_predict\u001B[49m\u001B[43m(\u001B[49m\u001B[43mexpanded_coords\u001B[49m\u001B[43m)\u001B[49m\n\u001B[1;32m     38\u001B[0m \u001B[38;5;28mself\u001B[39m\u001B[38;5;241m.\u001B[39mcentroids \u001B[38;5;241m=\u001B[39m kmeans\u001B[38;5;241m.\u001B[39mcluster_centers_\n\u001B[1;32m     39\u001B[0m \u001B[38;5;28mself\u001B[39m\u001B[38;5;241m.\u001B[39mlabels \u001B[38;5;241m=\u001B[39m \u001B[38;5;28mself\u001B[39m\u001B[38;5;241m.\u001B[39m_generate_labels(labels, expanded_idx, coords)\n",
      "File \u001B[0;32m~/Documents/Projects/graphical_sampling/.venv/lib/python3.10/site-packages/k_means_constrained/k_means_constrained_.py:738\u001B[0m, in \u001B[0;36mKMeansConstrained.fit_predict\u001B[0;34m(self, X, y)\u001B[0m\n\u001B[1;32m    723\u001B[0m \u001B[38;5;28;01mdef\u001B[39;00m\u001B[38;5;250m \u001B[39m\u001B[38;5;21mfit_predict\u001B[39m(\u001B[38;5;28mself\u001B[39m, X, y\u001B[38;5;241m=\u001B[39m\u001B[38;5;28;01mNone\u001B[39;00m):\n\u001B[1;32m    724\u001B[0m \u001B[38;5;250m    \u001B[39m\u001B[38;5;124;03m\"\"\"Compute cluster centers and predict cluster index for each sample.\u001B[39;00m\n\u001B[1;32m    725\u001B[0m \n\u001B[1;32m    726\u001B[0m \u001B[38;5;124;03m    Equivalent to calling fit(X) followed by predict(X) but also more efficient.\u001B[39;00m\n\u001B[0;32m   (...)\u001B[0m\n\u001B[1;32m    736\u001B[0m \u001B[38;5;124;03m        Index of the cluster each sample belongs to.\u001B[39;00m\n\u001B[1;32m    737\u001B[0m \u001B[38;5;124;03m    \"\"\"\u001B[39;00m\n\u001B[0;32m--> 738\u001B[0m     \u001B[38;5;28;01mreturn\u001B[39;00m \u001B[38;5;28;43mself\u001B[39;49m\u001B[38;5;241;43m.\u001B[39;49m\u001B[43mfit\u001B[49m\u001B[43m(\u001B[49m\u001B[43mX\u001B[49m\u001B[43m)\u001B[49m\u001B[38;5;241m.\u001B[39mlabels_\n",
      "File \u001B[0;32m~/Documents/Projects/graphical_sampling/.venv/lib/python3.10/site-packages/k_means_constrained/k_means_constrained_.py:643\u001B[0m, in \u001B[0;36mKMeansConstrained.fit\u001B[0;34m(self, X, y)\u001B[0m\n\u001B[1;32m    639\u001B[0m random_state \u001B[38;5;241m=\u001B[39m check_random_state(\u001B[38;5;28mself\u001B[39m\u001B[38;5;241m.\u001B[39mrandom_state)\n\u001B[1;32m    640\u001B[0m X \u001B[38;5;241m=\u001B[39m \u001B[38;5;28mself\u001B[39m\u001B[38;5;241m.\u001B[39m_check_fit_data(X)\n\u001B[1;32m    642\u001B[0m \u001B[38;5;28mself\u001B[39m\u001B[38;5;241m.\u001B[39mcluster_centers_, \u001B[38;5;28mself\u001B[39m\u001B[38;5;241m.\u001B[39mlabels_, \u001B[38;5;28mself\u001B[39m\u001B[38;5;241m.\u001B[39minertia_, \u001B[38;5;28mself\u001B[39m\u001B[38;5;241m.\u001B[39mn_iter_ \u001B[38;5;241m=\u001B[39m \\\n\u001B[0;32m--> 643\u001B[0m     \u001B[43mk_means_constrained\u001B[49m\u001B[43m(\u001B[49m\n\u001B[1;32m    644\u001B[0m \u001B[43m        \u001B[49m\u001B[43mX\u001B[49m\u001B[43m,\u001B[49m\u001B[43m \u001B[49m\u001B[43mn_clusters\u001B[49m\u001B[38;5;241;43m=\u001B[39;49m\u001B[38;5;28;43mself\u001B[39;49m\u001B[38;5;241;43m.\u001B[39;49m\u001B[43mn_clusters\u001B[49m\u001B[43m,\u001B[49m\n\u001B[1;32m    645\u001B[0m \u001B[43m        \u001B[49m\u001B[43msize_min\u001B[49m\u001B[38;5;241;43m=\u001B[39;49m\u001B[38;5;28;43mself\u001B[39;49m\u001B[38;5;241;43m.\u001B[39;49m\u001B[43msize_min\u001B[49m\u001B[43m,\u001B[49m\u001B[43m \u001B[49m\u001B[43msize_max\u001B[49m\u001B[38;5;241;43m=\u001B[39;49m\u001B[38;5;28;43mself\u001B[39;49m\u001B[38;5;241;43m.\u001B[39;49m\u001B[43msize_max\u001B[49m\u001B[43m,\u001B[49m\n\u001B[1;32m    646\u001B[0m \u001B[43m        \u001B[49m\u001B[43minit\u001B[49m\u001B[38;5;241;43m=\u001B[39;49m\u001B[38;5;28;43mself\u001B[39;49m\u001B[38;5;241;43m.\u001B[39;49m\u001B[43minit\u001B[49m\u001B[43m,\u001B[49m\n\u001B[1;32m    647\u001B[0m \u001B[43m        \u001B[49m\u001B[43mn_init\u001B[49m\u001B[38;5;241;43m=\u001B[39;49m\u001B[38;5;28;43mself\u001B[39;49m\u001B[38;5;241;43m.\u001B[39;49m\u001B[43mn_init\u001B[49m\u001B[43m,\u001B[49m\u001B[43m \u001B[49m\u001B[43mmax_iter\u001B[49m\u001B[38;5;241;43m=\u001B[39;49m\u001B[38;5;28;43mself\u001B[39;49m\u001B[38;5;241;43m.\u001B[39;49m\u001B[43mmax_iter\u001B[49m\u001B[43m,\u001B[49m\u001B[43m \u001B[49m\u001B[43mverbose\u001B[49m\u001B[38;5;241;43m=\u001B[39;49m\u001B[38;5;28;43mself\u001B[39;49m\u001B[38;5;241;43m.\u001B[39;49m\u001B[43mverbose\u001B[49m\u001B[43m,\u001B[49m\n\u001B[1;32m    648\u001B[0m \u001B[43m        \u001B[49m\u001B[43mtol\u001B[49m\u001B[38;5;241;43m=\u001B[39;49m\u001B[38;5;28;43mself\u001B[39;49m\u001B[38;5;241;43m.\u001B[39;49m\u001B[43mtol\u001B[49m\u001B[43m,\u001B[49m\u001B[43m \u001B[49m\u001B[43mrandom_state\u001B[49m\u001B[38;5;241;43m=\u001B[39;49m\u001B[43mrandom_state\u001B[49m\u001B[43m,\u001B[49m\u001B[43m \u001B[49m\u001B[43mcopy_x\u001B[49m\u001B[38;5;241;43m=\u001B[39;49m\u001B[38;5;28;43mself\u001B[39;49m\u001B[38;5;241;43m.\u001B[39;49m\u001B[43mcopy_x\u001B[49m\u001B[43m,\u001B[49m\n\u001B[1;32m    649\u001B[0m \u001B[43m        \u001B[49m\u001B[43mn_jobs\u001B[49m\u001B[38;5;241;43m=\u001B[39;49m\u001B[38;5;28;43mself\u001B[39;49m\u001B[38;5;241;43m.\u001B[39;49m\u001B[43mn_jobs\u001B[49m\u001B[43m,\u001B[49m\n\u001B[1;32m    650\u001B[0m \u001B[43m        \u001B[49m\u001B[43mreturn_n_iter\u001B[49m\u001B[38;5;241;43m=\u001B[39;49m\u001B[38;5;28;43;01mTrue\u001B[39;49;00m\u001B[43m)\u001B[49m\n\u001B[1;32m    651\u001B[0m \u001B[38;5;28;01mreturn\u001B[39;00m \u001B[38;5;28mself\u001B[39m\n",
      "File \u001B[0;32m~/Documents/Projects/graphical_sampling/.venv/lib/python3.10/site-packages/k_means_constrained/k_means_constrained_.py:192\u001B[0m, in \u001B[0;36mk_means_constrained\u001B[0;34m(X, n_clusters, size_min, size_max, init, n_init, max_iter, verbose, tol, random_state, copy_x, n_jobs, return_n_iter)\u001B[0m\n\u001B[1;32m    189\u001B[0m \u001B[38;5;28;01melse\u001B[39;00m:\n\u001B[1;32m    190\u001B[0m     \u001B[38;5;66;03m# parallelisation of k-means runs\u001B[39;00m\n\u001B[1;32m    191\u001B[0m     seeds \u001B[38;5;241m=\u001B[39m random_state\u001B[38;5;241m.\u001B[39mrandint(np\u001B[38;5;241m.\u001B[39miinfo(np\u001B[38;5;241m.\u001B[39mint32)\u001B[38;5;241m.\u001B[39mmax, size\u001B[38;5;241m=\u001B[39mn_init)\n\u001B[0;32m--> 192\u001B[0m     results \u001B[38;5;241m=\u001B[39m \u001B[43mParallel\u001B[49m\u001B[43m(\u001B[49m\u001B[43mn_jobs\u001B[49m\u001B[38;5;241;43m=\u001B[39;49m\u001B[43mn_jobs\u001B[49m\u001B[43m,\u001B[49m\u001B[43m \u001B[49m\u001B[43mverbose\u001B[49m\u001B[38;5;241;43m=\u001B[39;49m\u001B[38;5;241;43m0\u001B[39;49m\u001B[43m)\u001B[49m\u001B[43m(\u001B[49m\n\u001B[1;32m    193\u001B[0m \u001B[43m        \u001B[49m\u001B[43mdelayed\u001B[49m\u001B[43m(\u001B[49m\u001B[43mkmeans_constrained_single\u001B[49m\u001B[43m)\u001B[49m\u001B[43m(\u001B[49m\u001B[43mX\u001B[49m\u001B[43m,\u001B[49m\u001B[43m \u001B[49m\u001B[43mn_clusters\u001B[49m\u001B[43m,\u001B[49m\n\u001B[1;32m    194\u001B[0m \u001B[43m                                           \u001B[49m\u001B[43msize_min\u001B[49m\u001B[38;5;241;43m=\u001B[39;49m\u001B[43msize_min\u001B[49m\u001B[43m,\u001B[49m\u001B[43m \u001B[49m\u001B[43msize_max\u001B[49m\u001B[38;5;241;43m=\u001B[39;49m\u001B[43msize_max\u001B[49m\u001B[43m,\u001B[49m\n\u001B[1;32m    195\u001B[0m \u001B[43m                                           \u001B[49m\u001B[43mmax_iter\u001B[49m\u001B[38;5;241;43m=\u001B[39;49m\u001B[43mmax_iter\u001B[49m\u001B[43m,\u001B[49m\u001B[43m \u001B[49m\u001B[43minit\u001B[49m\u001B[38;5;241;43m=\u001B[39;49m\u001B[43minit\u001B[49m\u001B[43m,\u001B[49m\n\u001B[1;32m    196\u001B[0m \u001B[43m                                           \u001B[49m\u001B[43mverbose\u001B[49m\u001B[38;5;241;43m=\u001B[39;49m\u001B[43mverbose\u001B[49m\u001B[43m,\u001B[49m\u001B[43m \u001B[49m\u001B[43mtol\u001B[49m\u001B[38;5;241;43m=\u001B[39;49m\u001B[43mtol\u001B[49m\u001B[43m,\u001B[49m\n\u001B[1;32m    197\u001B[0m \u001B[43m                                           \u001B[49m\u001B[43mx_squared_norms\u001B[49m\u001B[38;5;241;43m=\u001B[39;49m\u001B[43mx_squared_norms\u001B[49m\u001B[43m,\u001B[49m\n\u001B[1;32m    198\u001B[0m \u001B[43m                                           \u001B[49m\u001B[38;5;66;43;03m# Change seed to ensure variety\u001B[39;49;00m\n\u001B[1;32m    199\u001B[0m \u001B[43m                                           \u001B[49m\u001B[43mrandom_state\u001B[49m\u001B[38;5;241;43m=\u001B[39;49m\u001B[43mseed\u001B[49m\u001B[43m)\u001B[49m\n\u001B[1;32m    200\u001B[0m \u001B[43m        \u001B[49m\u001B[38;5;28;43;01mfor\u001B[39;49;00m\u001B[43m \u001B[49m\u001B[43mseed\u001B[49m\u001B[43m \u001B[49m\u001B[38;5;129;43;01min\u001B[39;49;00m\u001B[43m \u001B[49m\u001B[43mseeds\u001B[49m\u001B[43m)\u001B[49m\n\u001B[1;32m    201\u001B[0m     \u001B[38;5;66;03m# Get results with the lowest inertia\u001B[39;00m\n\u001B[1;32m    202\u001B[0m     labels, inertia, centers, n_iters \u001B[38;5;241m=\u001B[39m \u001B[38;5;28mzip\u001B[39m(\u001B[38;5;241m*\u001B[39mresults)\n",
      "File \u001B[0;32m~/Documents/Projects/graphical_sampling/.venv/lib/python3.10/site-packages/joblib/parallel.py:2071\u001B[0m, in \u001B[0;36mParallel.__call__\u001B[0;34m(self, iterable)\u001B[0m\n\u001B[1;32m   2065\u001B[0m \u001B[38;5;66;03m# The first item from the output is blank, but it makes the interpreter\u001B[39;00m\n\u001B[1;32m   2066\u001B[0m \u001B[38;5;66;03m# progress until it enters the Try/Except block of the generator and\u001B[39;00m\n\u001B[1;32m   2067\u001B[0m \u001B[38;5;66;03m# reaches the first `yield` statement. This starts the asynchronous\u001B[39;00m\n\u001B[1;32m   2068\u001B[0m \u001B[38;5;66;03m# dispatch of the tasks to the workers.\u001B[39;00m\n\u001B[1;32m   2069\u001B[0m \u001B[38;5;28mnext\u001B[39m(output)\n\u001B[0;32m-> 2071\u001B[0m \u001B[38;5;28;01mreturn\u001B[39;00m output \u001B[38;5;28;01mif\u001B[39;00m \u001B[38;5;28mself\u001B[39m\u001B[38;5;241m.\u001B[39mreturn_generator \u001B[38;5;28;01melse\u001B[39;00m \u001B[38;5;28;43mlist\u001B[39;49m\u001B[43m(\u001B[49m\u001B[43moutput\u001B[49m\u001B[43m)\u001B[49m\n",
      "File \u001B[0;32m~/Documents/Projects/graphical_sampling/.venv/lib/python3.10/site-packages/joblib/parallel.py:1681\u001B[0m, in \u001B[0;36mParallel._get_outputs\u001B[0;34m(self, iterator, pre_dispatch)\u001B[0m\n\u001B[1;32m   1678\u001B[0m     \u001B[38;5;28;01myield\u001B[39;00m\n\u001B[1;32m   1680\u001B[0m     \u001B[38;5;28;01mwith\u001B[39;00m \u001B[38;5;28mself\u001B[39m\u001B[38;5;241m.\u001B[39m_backend\u001B[38;5;241m.\u001B[39mretrieval_context():\n\u001B[0;32m-> 1681\u001B[0m         \u001B[38;5;28;01myield from\u001B[39;00m \u001B[38;5;28mself\u001B[39m\u001B[38;5;241m.\u001B[39m_retrieve()\n\u001B[1;32m   1683\u001B[0m \u001B[38;5;28;01mexcept\u001B[39;00m \u001B[38;5;167;01mGeneratorExit\u001B[39;00m:\n\u001B[1;32m   1684\u001B[0m     \u001B[38;5;66;03m# The generator has been garbage collected before being fully\u001B[39;00m\n\u001B[1;32m   1685\u001B[0m     \u001B[38;5;66;03m# consumed. This aborts the remaining tasks if possible and warn\u001B[39;00m\n\u001B[1;32m   1686\u001B[0m     \u001B[38;5;66;03m# the user if necessary.\u001B[39;00m\n\u001B[1;32m   1687\u001B[0m     \u001B[38;5;28mself\u001B[39m\u001B[38;5;241m.\u001B[39m_exception \u001B[38;5;241m=\u001B[39m \u001B[38;5;28;01mTrue\u001B[39;00m\n",
      "File \u001B[0;32m~/Documents/Projects/graphical_sampling/.venv/lib/python3.10/site-packages/joblib/parallel.py:1799\u001B[0m, in \u001B[0;36mParallel._retrieve\u001B[0;34m(self)\u001B[0m\n\u001B[1;32m   1788\u001B[0m \u001B[38;5;28;01mif\u001B[39;00m \u001B[38;5;28mself\u001B[39m\u001B[38;5;241m.\u001B[39mreturn_ordered:\n\u001B[1;32m   1789\u001B[0m     \u001B[38;5;66;03m# Case ordered: wait for completion (or error) of the next job\u001B[39;00m\n\u001B[1;32m   1790\u001B[0m     \u001B[38;5;66;03m# that have been dispatched and not retrieved yet. If no job\u001B[39;00m\n\u001B[0;32m   (...)\u001B[0m\n\u001B[1;32m   1794\u001B[0m     \u001B[38;5;66;03m# control only have to be done on the amount of time the next\u001B[39;00m\n\u001B[1;32m   1795\u001B[0m     \u001B[38;5;66;03m# dispatched job is pending.\u001B[39;00m\n\u001B[1;32m   1796\u001B[0m     \u001B[38;5;28;01mif\u001B[39;00m (nb_jobs \u001B[38;5;241m==\u001B[39m \u001B[38;5;241m0\u001B[39m) \u001B[38;5;129;01mor\u001B[39;00m (\n\u001B[1;32m   1797\u001B[0m         \u001B[38;5;28mself\u001B[39m\u001B[38;5;241m.\u001B[39m_jobs[\u001B[38;5;241m0\u001B[39m]\u001B[38;5;241m.\u001B[39mget_status(timeout\u001B[38;5;241m=\u001B[39m\u001B[38;5;28mself\u001B[39m\u001B[38;5;241m.\u001B[39mtimeout) \u001B[38;5;241m==\u001B[39m TASK_PENDING\n\u001B[1;32m   1798\u001B[0m     ):\n\u001B[0;32m-> 1799\u001B[0m         \u001B[43mtime\u001B[49m\u001B[38;5;241;43m.\u001B[39;49m\u001B[43msleep\u001B[49m\u001B[43m(\u001B[49m\u001B[38;5;241;43m0.01\u001B[39;49m\u001B[43m)\u001B[49m\n\u001B[1;32m   1800\u001B[0m         \u001B[38;5;28;01mcontinue\u001B[39;00m\n\u001B[1;32m   1802\u001B[0m \u001B[38;5;28;01melif\u001B[39;00m nb_jobs \u001B[38;5;241m==\u001B[39m \u001B[38;5;241m0\u001B[39m:\n\u001B[1;32m   1803\u001B[0m     \u001B[38;5;66;03m# Case unordered: jobs are added to the list of jobs to\u001B[39;00m\n\u001B[1;32m   1804\u001B[0m     \u001B[38;5;66;03m# retrieve `self._jobs` only once completed or in error, which\u001B[39;00m\n\u001B[0;32m   (...)\u001B[0m\n\u001B[1;32m   1810\u001B[0m     \u001B[38;5;66;03m# timeouts before any other dispatched job has completed and\u001B[39;00m\n\u001B[1;32m   1811\u001B[0m     \u001B[38;5;66;03m# been added to `self._jobs` to be retrieved.\u001B[39;00m\n",
      "\u001B[0;31mKeyboardInterrupt\u001B[0m: "
     ]
    }
   ],
   "execution_count": 32
  },
  {
   "metadata": {
    "ExecuteTime": {
     "end_time": "2025-07-18T12:23:50.920794Z",
     "start_time": "2025-07-18T12:23:50.541770Z"
    }
   },
   "cell_type": "code",
   "source": [
    "summary = df.pivot_table(\n",
    "    columns=['sort'],\n",
    "    values=['exp_density', 'exp_moran', 'var_density', 'var_moran'],\n",
    "    index=['zones'],\n",
    "    aggfunc='first'\n",
    ")\n",
    "\n",
    "summary"
   ],
   "id": "bfca5f641c6d476a",
   "outputs": [
    {
     "ename": "KeyError",
     "evalue": "'sort'",
     "output_type": "error",
     "traceback": [
      "\u001B[0;31m---------------------------------------------------------------------------\u001B[0m",
      "\u001B[0;31mKeyError\u001B[0m                                  Traceback (most recent call last)",
      "Cell \u001B[0;32mIn[34], line 1\u001B[0m\n\u001B[0;32m----> 1\u001B[0m summary \u001B[38;5;241m=\u001B[39m \u001B[43mdf\u001B[49m\u001B[38;5;241;43m.\u001B[39;49m\u001B[43mpivot_table\u001B[49m\u001B[43m(\u001B[49m\n\u001B[1;32m      2\u001B[0m \u001B[43m    \u001B[49m\u001B[43mcolumns\u001B[49m\u001B[38;5;241;43m=\u001B[39;49m\u001B[43m[\u001B[49m\u001B[38;5;124;43m'\u001B[39;49m\u001B[38;5;124;43msort\u001B[39;49m\u001B[38;5;124;43m'\u001B[39;49m\u001B[43m]\u001B[49m\u001B[43m,\u001B[49m\n\u001B[1;32m      3\u001B[0m \u001B[43m    \u001B[49m\u001B[43mvalues\u001B[49m\u001B[38;5;241;43m=\u001B[39;49m\u001B[43m[\u001B[49m\u001B[38;5;124;43m'\u001B[39;49m\u001B[38;5;124;43mexp_density\u001B[39;49m\u001B[38;5;124;43m'\u001B[39;49m\u001B[43m,\u001B[49m\u001B[43m \u001B[49m\u001B[38;5;124;43m'\u001B[39;49m\u001B[38;5;124;43mexp_moran\u001B[39;49m\u001B[38;5;124;43m'\u001B[39;49m\u001B[43m,\u001B[49m\u001B[43m \u001B[49m\u001B[38;5;124;43m'\u001B[39;49m\u001B[38;5;124;43mvar_density\u001B[39;49m\u001B[38;5;124;43m'\u001B[39;49m\u001B[43m,\u001B[49m\u001B[43m \u001B[49m\u001B[38;5;124;43m'\u001B[39;49m\u001B[38;5;124;43mvar_moran\u001B[39;49m\u001B[38;5;124;43m'\u001B[39;49m\u001B[43m]\u001B[49m\u001B[43m,\u001B[49m\n\u001B[1;32m      4\u001B[0m \u001B[43m    \u001B[49m\u001B[43mindex\u001B[49m\u001B[38;5;241;43m=\u001B[39;49m\u001B[43m[\u001B[49m\u001B[38;5;124;43m'\u001B[39;49m\u001B[38;5;124;43mzones\u001B[39;49m\u001B[38;5;124;43m'\u001B[39;49m\u001B[43m]\u001B[49m\u001B[43m,\u001B[49m\n\u001B[1;32m      5\u001B[0m \u001B[43m    \u001B[49m\u001B[43maggfunc\u001B[49m\u001B[38;5;241;43m=\u001B[39;49m\u001B[38;5;124;43m'\u001B[39;49m\u001B[38;5;124;43mfirst\u001B[39;49m\u001B[38;5;124;43m'\u001B[39;49m\n\u001B[1;32m      6\u001B[0m \u001B[43m)\u001B[49m\n\u001B[1;32m      8\u001B[0m summary\n",
      "File \u001B[0;32m~/Documents/Projects/graphical_sampling/.venv/lib/python3.10/site-packages/pandas/core/frame.py:9509\u001B[0m, in \u001B[0;36mDataFrame.pivot_table\u001B[0;34m(self, values, index, columns, aggfunc, fill_value, margins, dropna, margins_name, observed, sort)\u001B[0m\n\u001B[1;32m   9492\u001B[0m \u001B[38;5;129m@Substitution\u001B[39m(\u001B[38;5;124m\"\u001B[39m\u001B[38;5;124m\"\u001B[39m)\n\u001B[1;32m   9493\u001B[0m \u001B[38;5;129m@Appender\u001B[39m(_shared_docs[\u001B[38;5;124m\"\u001B[39m\u001B[38;5;124mpivot_table\u001B[39m\u001B[38;5;124m\"\u001B[39m])\n\u001B[1;32m   9494\u001B[0m \u001B[38;5;28;01mdef\u001B[39;00m\u001B[38;5;250m \u001B[39m\u001B[38;5;21mpivot_table\u001B[39m(\n\u001B[0;32m   (...)\u001B[0m\n\u001B[1;32m   9505\u001B[0m     sort: \u001B[38;5;28mbool\u001B[39m \u001B[38;5;241m=\u001B[39m \u001B[38;5;28;01mTrue\u001B[39;00m,\n\u001B[1;32m   9506\u001B[0m ) \u001B[38;5;241m-\u001B[39m\u001B[38;5;241m>\u001B[39m DataFrame:\n\u001B[1;32m   9507\u001B[0m     \u001B[38;5;28;01mfrom\u001B[39;00m\u001B[38;5;250m \u001B[39m\u001B[38;5;21;01mpandas\u001B[39;00m\u001B[38;5;21;01m.\u001B[39;00m\u001B[38;5;21;01mcore\u001B[39;00m\u001B[38;5;21;01m.\u001B[39;00m\u001B[38;5;21;01mreshape\u001B[39;00m\u001B[38;5;21;01m.\u001B[39;00m\u001B[38;5;21;01mpivot\u001B[39;00m\u001B[38;5;250m \u001B[39m\u001B[38;5;28;01mimport\u001B[39;00m pivot_table\n\u001B[0;32m-> 9509\u001B[0m     \u001B[38;5;28;01mreturn\u001B[39;00m \u001B[43mpivot_table\u001B[49m\u001B[43m(\u001B[49m\n\u001B[1;32m   9510\u001B[0m \u001B[43m        \u001B[49m\u001B[38;5;28;43mself\u001B[39;49m\u001B[43m,\u001B[49m\n\u001B[1;32m   9511\u001B[0m \u001B[43m        \u001B[49m\u001B[43mvalues\u001B[49m\u001B[38;5;241;43m=\u001B[39;49m\u001B[43mvalues\u001B[49m\u001B[43m,\u001B[49m\n\u001B[1;32m   9512\u001B[0m \u001B[43m        \u001B[49m\u001B[43mindex\u001B[49m\u001B[38;5;241;43m=\u001B[39;49m\u001B[43mindex\u001B[49m\u001B[43m,\u001B[49m\n\u001B[1;32m   9513\u001B[0m \u001B[43m        \u001B[49m\u001B[43mcolumns\u001B[49m\u001B[38;5;241;43m=\u001B[39;49m\u001B[43mcolumns\u001B[49m\u001B[43m,\u001B[49m\n\u001B[1;32m   9514\u001B[0m \u001B[43m        \u001B[49m\u001B[43maggfunc\u001B[49m\u001B[38;5;241;43m=\u001B[39;49m\u001B[43maggfunc\u001B[49m\u001B[43m,\u001B[49m\n\u001B[1;32m   9515\u001B[0m \u001B[43m        \u001B[49m\u001B[43mfill_value\u001B[49m\u001B[38;5;241;43m=\u001B[39;49m\u001B[43mfill_value\u001B[49m\u001B[43m,\u001B[49m\n\u001B[1;32m   9516\u001B[0m \u001B[43m        \u001B[49m\u001B[43mmargins\u001B[49m\u001B[38;5;241;43m=\u001B[39;49m\u001B[43mmargins\u001B[49m\u001B[43m,\u001B[49m\n\u001B[1;32m   9517\u001B[0m \u001B[43m        \u001B[49m\u001B[43mdropna\u001B[49m\u001B[38;5;241;43m=\u001B[39;49m\u001B[43mdropna\u001B[49m\u001B[43m,\u001B[49m\n\u001B[1;32m   9518\u001B[0m \u001B[43m        \u001B[49m\u001B[43mmargins_name\u001B[49m\u001B[38;5;241;43m=\u001B[39;49m\u001B[43mmargins_name\u001B[49m\u001B[43m,\u001B[49m\n\u001B[1;32m   9519\u001B[0m \u001B[43m        \u001B[49m\u001B[43mobserved\u001B[49m\u001B[38;5;241;43m=\u001B[39;49m\u001B[43mobserved\u001B[49m\u001B[43m,\u001B[49m\n\u001B[1;32m   9520\u001B[0m \u001B[43m        \u001B[49m\u001B[43msort\u001B[49m\u001B[38;5;241;43m=\u001B[39;49m\u001B[43msort\u001B[49m\u001B[43m,\u001B[49m\n\u001B[1;32m   9521\u001B[0m \u001B[43m    \u001B[49m\u001B[43m)\u001B[49m\n",
      "File \u001B[0;32m~/Documents/Projects/graphical_sampling/.venv/lib/python3.10/site-packages/pandas/core/reshape/pivot.py:102\u001B[0m, in \u001B[0;36mpivot_table\u001B[0;34m(data, values, index, columns, aggfunc, fill_value, margins, dropna, margins_name, observed, sort)\u001B[0m\n\u001B[1;32m     99\u001B[0m     table \u001B[38;5;241m=\u001B[39m concat(pieces, keys\u001B[38;5;241m=\u001B[39mkeys, axis\u001B[38;5;241m=\u001B[39m\u001B[38;5;241m1\u001B[39m)\n\u001B[1;32m    100\u001B[0m     \u001B[38;5;28;01mreturn\u001B[39;00m table\u001B[38;5;241m.\u001B[39m__finalize__(data, method\u001B[38;5;241m=\u001B[39m\u001B[38;5;124m\"\u001B[39m\u001B[38;5;124mpivot_table\u001B[39m\u001B[38;5;124m\"\u001B[39m)\n\u001B[0;32m--> 102\u001B[0m table \u001B[38;5;241m=\u001B[39m \u001B[43m__internal_pivot_table\u001B[49m\u001B[43m(\u001B[49m\n\u001B[1;32m    103\u001B[0m \u001B[43m    \u001B[49m\u001B[43mdata\u001B[49m\u001B[43m,\u001B[49m\n\u001B[1;32m    104\u001B[0m \u001B[43m    \u001B[49m\u001B[43mvalues\u001B[49m\u001B[43m,\u001B[49m\n\u001B[1;32m    105\u001B[0m \u001B[43m    \u001B[49m\u001B[43mindex\u001B[49m\u001B[43m,\u001B[49m\n\u001B[1;32m    106\u001B[0m \u001B[43m    \u001B[49m\u001B[43mcolumns\u001B[49m\u001B[43m,\u001B[49m\n\u001B[1;32m    107\u001B[0m \u001B[43m    \u001B[49m\u001B[43maggfunc\u001B[49m\u001B[43m,\u001B[49m\n\u001B[1;32m    108\u001B[0m \u001B[43m    \u001B[49m\u001B[43mfill_value\u001B[49m\u001B[43m,\u001B[49m\n\u001B[1;32m    109\u001B[0m \u001B[43m    \u001B[49m\u001B[43mmargins\u001B[49m\u001B[43m,\u001B[49m\n\u001B[1;32m    110\u001B[0m \u001B[43m    \u001B[49m\u001B[43mdropna\u001B[49m\u001B[43m,\u001B[49m\n\u001B[1;32m    111\u001B[0m \u001B[43m    \u001B[49m\u001B[43mmargins_name\u001B[49m\u001B[43m,\u001B[49m\n\u001B[1;32m    112\u001B[0m \u001B[43m    \u001B[49m\u001B[43mobserved\u001B[49m\u001B[43m,\u001B[49m\n\u001B[1;32m    113\u001B[0m \u001B[43m    \u001B[49m\u001B[43msort\u001B[49m\u001B[43m,\u001B[49m\n\u001B[1;32m    114\u001B[0m \u001B[43m\u001B[49m\u001B[43m)\u001B[49m\n\u001B[1;32m    115\u001B[0m \u001B[38;5;28;01mreturn\u001B[39;00m table\u001B[38;5;241m.\u001B[39m__finalize__(data, method\u001B[38;5;241m=\u001B[39m\u001B[38;5;124m\"\u001B[39m\u001B[38;5;124mpivot_table\u001B[39m\u001B[38;5;124m\"\u001B[39m)\n",
      "File \u001B[0;32m~/Documents/Projects/graphical_sampling/.venv/lib/python3.10/site-packages/pandas/core/reshape/pivot.py:172\u001B[0m, in \u001B[0;36m__internal_pivot_table\u001B[0;34m(data, values, index, columns, aggfunc, fill_value, margins, dropna, margins_name, observed, sort)\u001B[0m\n\u001B[1;32m    169\u001B[0m     values \u001B[38;5;241m=\u001B[39m \u001B[38;5;28mlist\u001B[39m(values)\n\u001B[1;32m    171\u001B[0m observed_bool \u001B[38;5;241m=\u001B[39m \u001B[38;5;28;01mFalse\u001B[39;00m \u001B[38;5;28;01mif\u001B[39;00m observed \u001B[38;5;129;01mis\u001B[39;00m lib\u001B[38;5;241m.\u001B[39mno_default \u001B[38;5;28;01melse\u001B[39;00m observed\n\u001B[0;32m--> 172\u001B[0m grouped \u001B[38;5;241m=\u001B[39m \u001B[43mdata\u001B[49m\u001B[38;5;241;43m.\u001B[39;49m\u001B[43mgroupby\u001B[49m\u001B[43m(\u001B[49m\u001B[43mkeys\u001B[49m\u001B[43m,\u001B[49m\u001B[43m \u001B[49m\u001B[43mobserved\u001B[49m\u001B[38;5;241;43m=\u001B[39;49m\u001B[43mobserved_bool\u001B[49m\u001B[43m,\u001B[49m\u001B[43m \u001B[49m\u001B[43msort\u001B[49m\u001B[38;5;241;43m=\u001B[39;49m\u001B[43msort\u001B[49m\u001B[43m,\u001B[49m\u001B[43m \u001B[49m\u001B[43mdropna\u001B[49m\u001B[38;5;241;43m=\u001B[39;49m\u001B[43mdropna\u001B[49m\u001B[43m)\u001B[49m\n\u001B[1;32m    173\u001B[0m \u001B[38;5;28;01mif\u001B[39;00m observed \u001B[38;5;129;01mis\u001B[39;00m lib\u001B[38;5;241m.\u001B[39mno_default \u001B[38;5;129;01mand\u001B[39;00m \u001B[38;5;28many\u001B[39m(\n\u001B[1;32m    174\u001B[0m     ping\u001B[38;5;241m.\u001B[39m_passed_categorical \u001B[38;5;28;01mfor\u001B[39;00m ping \u001B[38;5;129;01min\u001B[39;00m grouped\u001B[38;5;241m.\u001B[39m_grouper\u001B[38;5;241m.\u001B[39mgroupings\n\u001B[1;32m    175\u001B[0m ):\n\u001B[1;32m    176\u001B[0m     warnings\u001B[38;5;241m.\u001B[39mwarn(\n\u001B[1;32m    177\u001B[0m         \u001B[38;5;124m\"\u001B[39m\u001B[38;5;124mThe default value of observed=False is deprecated and will change \u001B[39m\u001B[38;5;124m\"\u001B[39m\n\u001B[1;32m    178\u001B[0m         \u001B[38;5;124m\"\u001B[39m\u001B[38;5;124mto observed=True in a future version of pandas. Specify \u001B[39m\u001B[38;5;124m\"\u001B[39m\n\u001B[0;32m   (...)\u001B[0m\n\u001B[1;32m    181\u001B[0m         stacklevel\u001B[38;5;241m=\u001B[39mfind_stack_level(),\n\u001B[1;32m    182\u001B[0m     )\n",
      "File \u001B[0;32m~/Documents/Projects/graphical_sampling/.venv/lib/python3.10/site-packages/pandas/core/frame.py:9183\u001B[0m, in \u001B[0;36mDataFrame.groupby\u001B[0;34m(self, by, axis, level, as_index, sort, group_keys, observed, dropna)\u001B[0m\n\u001B[1;32m   9180\u001B[0m \u001B[38;5;28;01mif\u001B[39;00m level \u001B[38;5;129;01mis\u001B[39;00m \u001B[38;5;28;01mNone\u001B[39;00m \u001B[38;5;129;01mand\u001B[39;00m by \u001B[38;5;129;01mis\u001B[39;00m \u001B[38;5;28;01mNone\u001B[39;00m:\n\u001B[1;32m   9181\u001B[0m     \u001B[38;5;28;01mraise\u001B[39;00m \u001B[38;5;167;01mTypeError\u001B[39;00m(\u001B[38;5;124m\"\u001B[39m\u001B[38;5;124mYou have to supply one of \u001B[39m\u001B[38;5;124m'\u001B[39m\u001B[38;5;124mby\u001B[39m\u001B[38;5;124m'\u001B[39m\u001B[38;5;124m and \u001B[39m\u001B[38;5;124m'\u001B[39m\u001B[38;5;124mlevel\u001B[39m\u001B[38;5;124m'\u001B[39m\u001B[38;5;124m\"\u001B[39m)\n\u001B[0;32m-> 9183\u001B[0m \u001B[38;5;28;01mreturn\u001B[39;00m \u001B[43mDataFrameGroupBy\u001B[49m\u001B[43m(\u001B[49m\n\u001B[1;32m   9184\u001B[0m \u001B[43m    \u001B[49m\u001B[43mobj\u001B[49m\u001B[38;5;241;43m=\u001B[39;49m\u001B[38;5;28;43mself\u001B[39;49m\u001B[43m,\u001B[49m\n\u001B[1;32m   9185\u001B[0m \u001B[43m    \u001B[49m\u001B[43mkeys\u001B[49m\u001B[38;5;241;43m=\u001B[39;49m\u001B[43mby\u001B[49m\u001B[43m,\u001B[49m\n\u001B[1;32m   9186\u001B[0m \u001B[43m    \u001B[49m\u001B[43maxis\u001B[49m\u001B[38;5;241;43m=\u001B[39;49m\u001B[43maxis\u001B[49m\u001B[43m,\u001B[49m\n\u001B[1;32m   9187\u001B[0m \u001B[43m    \u001B[49m\u001B[43mlevel\u001B[49m\u001B[38;5;241;43m=\u001B[39;49m\u001B[43mlevel\u001B[49m\u001B[43m,\u001B[49m\n\u001B[1;32m   9188\u001B[0m \u001B[43m    \u001B[49m\u001B[43mas_index\u001B[49m\u001B[38;5;241;43m=\u001B[39;49m\u001B[43mas_index\u001B[49m\u001B[43m,\u001B[49m\n\u001B[1;32m   9189\u001B[0m \u001B[43m    \u001B[49m\u001B[43msort\u001B[49m\u001B[38;5;241;43m=\u001B[39;49m\u001B[43msort\u001B[49m\u001B[43m,\u001B[49m\n\u001B[1;32m   9190\u001B[0m \u001B[43m    \u001B[49m\u001B[43mgroup_keys\u001B[49m\u001B[38;5;241;43m=\u001B[39;49m\u001B[43mgroup_keys\u001B[49m\u001B[43m,\u001B[49m\n\u001B[1;32m   9191\u001B[0m \u001B[43m    \u001B[49m\u001B[43mobserved\u001B[49m\u001B[38;5;241;43m=\u001B[39;49m\u001B[43mobserved\u001B[49m\u001B[43m,\u001B[49m\n\u001B[1;32m   9192\u001B[0m \u001B[43m    \u001B[49m\u001B[43mdropna\u001B[49m\u001B[38;5;241;43m=\u001B[39;49m\u001B[43mdropna\u001B[49m\u001B[43m,\u001B[49m\n\u001B[1;32m   9193\u001B[0m \u001B[43m\u001B[49m\u001B[43m)\u001B[49m\n",
      "File \u001B[0;32m~/Documents/Projects/graphical_sampling/.venv/lib/python3.10/site-packages/pandas/core/groupby/groupby.py:1329\u001B[0m, in \u001B[0;36mGroupBy.__init__\u001B[0;34m(self, obj, keys, axis, level, grouper, exclusions, selection, as_index, sort, group_keys, observed, dropna)\u001B[0m\n\u001B[1;32m   1326\u001B[0m \u001B[38;5;28mself\u001B[39m\u001B[38;5;241m.\u001B[39mdropna \u001B[38;5;241m=\u001B[39m dropna\n\u001B[1;32m   1328\u001B[0m \u001B[38;5;28;01mif\u001B[39;00m grouper \u001B[38;5;129;01mis\u001B[39;00m \u001B[38;5;28;01mNone\u001B[39;00m:\n\u001B[0;32m-> 1329\u001B[0m     grouper, exclusions, obj \u001B[38;5;241m=\u001B[39m \u001B[43mget_grouper\u001B[49m\u001B[43m(\u001B[49m\n\u001B[1;32m   1330\u001B[0m \u001B[43m        \u001B[49m\u001B[43mobj\u001B[49m\u001B[43m,\u001B[49m\n\u001B[1;32m   1331\u001B[0m \u001B[43m        \u001B[49m\u001B[43mkeys\u001B[49m\u001B[43m,\u001B[49m\n\u001B[1;32m   1332\u001B[0m \u001B[43m        \u001B[49m\u001B[43maxis\u001B[49m\u001B[38;5;241;43m=\u001B[39;49m\u001B[43maxis\u001B[49m\u001B[43m,\u001B[49m\n\u001B[1;32m   1333\u001B[0m \u001B[43m        \u001B[49m\u001B[43mlevel\u001B[49m\u001B[38;5;241;43m=\u001B[39;49m\u001B[43mlevel\u001B[49m\u001B[43m,\u001B[49m\n\u001B[1;32m   1334\u001B[0m \u001B[43m        \u001B[49m\u001B[43msort\u001B[49m\u001B[38;5;241;43m=\u001B[39;49m\u001B[43msort\u001B[49m\u001B[43m,\u001B[49m\n\u001B[1;32m   1335\u001B[0m \u001B[43m        \u001B[49m\u001B[43mobserved\u001B[49m\u001B[38;5;241;43m=\u001B[39;49m\u001B[38;5;28;43;01mFalse\u001B[39;49;00m\u001B[43m \u001B[49m\u001B[38;5;28;43;01mif\u001B[39;49;00m\u001B[43m \u001B[49m\u001B[43mobserved\u001B[49m\u001B[43m \u001B[49m\u001B[38;5;129;43;01mis\u001B[39;49;00m\u001B[43m \u001B[49m\u001B[43mlib\u001B[49m\u001B[38;5;241;43m.\u001B[39;49m\u001B[43mno_default\u001B[49m\u001B[43m \u001B[49m\u001B[38;5;28;43;01melse\u001B[39;49;00m\u001B[43m \u001B[49m\u001B[43mobserved\u001B[49m\u001B[43m,\u001B[49m\n\u001B[1;32m   1336\u001B[0m \u001B[43m        \u001B[49m\u001B[43mdropna\u001B[49m\u001B[38;5;241;43m=\u001B[39;49m\u001B[38;5;28;43mself\u001B[39;49m\u001B[38;5;241;43m.\u001B[39;49m\u001B[43mdropna\u001B[49m\u001B[43m,\u001B[49m\n\u001B[1;32m   1337\u001B[0m \u001B[43m    \u001B[49m\u001B[43m)\u001B[49m\n\u001B[1;32m   1339\u001B[0m \u001B[38;5;28;01mif\u001B[39;00m observed \u001B[38;5;129;01mis\u001B[39;00m lib\u001B[38;5;241m.\u001B[39mno_default:\n\u001B[1;32m   1340\u001B[0m     \u001B[38;5;28;01mif\u001B[39;00m \u001B[38;5;28many\u001B[39m(ping\u001B[38;5;241m.\u001B[39m_passed_categorical \u001B[38;5;28;01mfor\u001B[39;00m ping \u001B[38;5;129;01min\u001B[39;00m grouper\u001B[38;5;241m.\u001B[39mgroupings):\n",
      "File \u001B[0;32m~/Documents/Projects/graphical_sampling/.venv/lib/python3.10/site-packages/pandas/core/groupby/grouper.py:1043\u001B[0m, in \u001B[0;36mget_grouper\u001B[0;34m(obj, key, axis, level, sort, observed, validate, dropna)\u001B[0m\n\u001B[1;32m   1041\u001B[0m         in_axis, level, gpr \u001B[38;5;241m=\u001B[39m \u001B[38;5;28;01mFalse\u001B[39;00m, gpr, \u001B[38;5;28;01mNone\u001B[39;00m\n\u001B[1;32m   1042\u001B[0m     \u001B[38;5;28;01melse\u001B[39;00m:\n\u001B[0;32m-> 1043\u001B[0m         \u001B[38;5;28;01mraise\u001B[39;00m \u001B[38;5;167;01mKeyError\u001B[39;00m(gpr)\n\u001B[1;32m   1044\u001B[0m \u001B[38;5;28;01melif\u001B[39;00m \u001B[38;5;28misinstance\u001B[39m(gpr, Grouper) \u001B[38;5;129;01mand\u001B[39;00m gpr\u001B[38;5;241m.\u001B[39mkey \u001B[38;5;129;01mis\u001B[39;00m \u001B[38;5;129;01mnot\u001B[39;00m \u001B[38;5;28;01mNone\u001B[39;00m:\n\u001B[1;32m   1045\u001B[0m     \u001B[38;5;66;03m# Add key to exclusions\u001B[39;00m\n\u001B[1;32m   1046\u001B[0m     exclusions\u001B[38;5;241m.\u001B[39madd(gpr\u001B[38;5;241m.\u001B[39mkey)\n",
      "\u001B[0;31mKeyError\u001B[0m: 'sort'"
     ]
    }
   ],
   "execution_count": 34
  },
  {
   "metadata": {},
   "cell_type": "code",
   "outputs": [],
   "execution_count": null,
   "source": "",
   "id": "ca7bfdaf16f5388b"
  }
 ],
 "metadata": {
  "kernelspec": {
   "display_name": "geometric-sampling",
   "language": "python",
   "name": "python3"
  },
  "language_info": {
   "name": "python",
   "version": "3.10.17"
  }
 },
 "nbformat": 4,
 "nbformat_minor": 5
}
