{
 "cells": [
  {
   "cell_type": "code",
   "execution_count": 3,
   "id": "52f66c12",
   "metadata": {},
   "outputs": [
    {
     "name": "stdout",
     "output_type": "stream",
     "text": [
      "2\n",
      "[4, 8, 5]\n"
     ]
    }
   ],
   "source": [
    "import heapq\n",
    "h = [5, 2, 8]\n",
    "heapq.heapify(h)  # Make 'h' a heap\n",
    "\n",
    "smallest = heapq.heappop(h)  # removes 2 (the smallest)\n",
    "print(smallest)  # Output: 2\n",
    "h.append(4)  # Add 4 to the heap\n",
    "heapq.heapify(h)  # Re-heapify after appending\n",
    "print(h)  # Output: [4, 5, 8] (the heap structure is maintained)"
   ]
  },
  {
   "cell_type": "code",
   "execution_count": 1,
   "id": "e2f4c4fb",
   "metadata": {},
   "outputs": [
    {
     "name": "stdout",
     "output_type": "stream",
     "text": [
      "Sum of inclusions: 3.0\n",
      "\n",
      "== (A) Classic (no perm, no atom) ==\n",
      "Sample(probability=np.float64(0.5), ids=frozenset({1, 4, 5}))\n",
      "Sample(probability=np.float64(0.2), ids=frozenset({0, 2, 5}))\n",
      "Sample(probability=np.float64(0.2), ids=frozenset({0, 3, 5}))\n",
      "Sample(probability=np.float64(0.1), ids=frozenset({0, 2, 4}))\n",
      "\n",
      "== (B) Permutation only (no atom) ==\n",
      "Permutation: [4 1 2 0 3 5]\n",
      "Sample(probability=np.float64(0.3), ids=frozenset({2, 4, 5}))\n",
      "Sample(probability=np.float64(0.3), ids=frozenset({0, 1, 5}))\n",
      "Sample(probability=np.float64(0.2), ids=frozenset({0, 4, 5}))\n",
      "Sample(probability=np.float64(0.1), ids=frozenset({1, 3, 4}))\n",
      "Sample(probability=np.float64(0.1), ids=frozenset({1, 3, 5}))\n",
      "0.9\n"
     ]
    }
   ],
   "source": [
    "%load_ext autoreload\n",
    "%autoreload 2\n",
    "%load_ext rpy2.ipython\n",
    "from geometric_sampling.design import Design\n",
    "import numpy as np\n",
    "\n",
    "# 8 inclusions summing to 3 (example)\n",
    "inclusions = np.array([0.5, 0.5, 0.3, 0.2, 0.6, 0.9])  # sum = 3.0\n",
    "print(\"Sum of inclusions:\", inclusions.sum())\n",
    "\n",
    "# (A) No perm, no atomization\n",
    "d_classic = Design(inclusions=inclusions)\n",
    "print(\"\\n== (A) Classic (no perm, no atom) ==\")\n",
    "for s in d_classic:\n",
    "    print(s)\n",
    "\n",
    "# (B) With permutation, no atomization\n",
    "perm = np.random.permutation(len(inclusions))\n",
    "d_perm = Design(inclusions=inclusions, perm=perm)\n",
    "print(\"\\n== (B) Permutation only (no atom) ==\")\n",
    "print(\"Permutation:\", perm)\n",
    "for s in d_perm:\n",
    "    print(s)\n",
    "\n",
    "print(inclusions[5])\n"
   ]
  },
  {
   "cell_type": "code",
   "execution_count": 20,
   "id": "4b8bc339",
   "metadata": {},
   "outputs": [
    {
     "name": "stdout",
     "output_type": "stream",
     "text": [
      "\n",
      "Permutation: [2 0 1 3 5 4]\n",
      "Unit map (new->orig): {0: np.int64(2), 1: np.int64(0), 2: np.int64(1), 3: np.int64(3), 4: np.int64(5), 5: np.int64(4)}\n",
      "n_atoms: 300, atom to unit: [0 0 0 0 0 0 0 0 0 0 0 0 0 0 0 0 0 0 0 0 0 0 0 0 0 0 0 0 0 0 0 0 0 0 0 0 0\n",
      " 0 0 0 0 0 0 0 0 0 0 0 0 0 0 0 0 0 0 0 0 0 0 0 1 1 1 1 1 1 1 1 1 1 1 1 1 1\n",
      " 1 1 1 1 1 1 1 1 1 1 1 1 1 1 1 1 1 1 1 1 1 1 1 1 1 1 2 2 2 2 2 2 2 2 2 2 2\n",
      " 2 2 2 2 2 2 2 2 2 2 2 2 2 2 2 2 2 2 2 2 2 2 2 2 2 2 2 2 2 2 2 2 2 2 2 2 2\n",
      " 2 2 2 2 2 2 2 2 2 2 2 2 2 2 2 2 2 2 2 2 2 2 2 2 2 2 2 2 2 2 2 2 2 2 2 2 2\n",
      " 2 2 2 2 2 2 2 2 2 2 2 2 2 2 2 3 3 3 3 3 3 3 3 3 3 3 3 3 3 3 3 3 3 3 3 3 3\n",
      " 3 3 3 3 3 3 3 3 3 3 3 3 3 3 3 3 3 3 3 3 3 3 3 3 3 3 3 3 3 3 3 3 3 3 3 3 3\n",
      " 3 3 3 3 3 3 3 3 3 3 3 3 3 3 3 3 3 3 3 3 3 4 4 4 4 4 4 4 4 4 4 5 5 5 5 5 5\n",
      " 5 5 5 5]\n",
      "Example designs (prob, orig_unit_ids, atom_probs):\n",
      "(np.float64(1.0000000000000007), frozenset({np.int64(0), np.int64(1), np.int64(2), np.int64(3), np.int64(4), np.int64(5)}), [np.float64(0.01), np.float64(0.01), np.float64(0.01), np.float64(0.01), np.float64(0.01), np.float64(0.01), np.float64(0.01), np.float64(0.01), np.float64(0.01), np.float64(0.01), np.float64(0.01), np.float64(0.01), np.float64(0.01), np.float64(0.01), np.float64(0.01), np.float64(0.01), np.float64(0.01), np.float64(0.01), np.float64(0.01), np.float64(0.01), np.float64(0.01), np.float64(0.01), np.float64(0.01), np.float64(0.01), np.float64(0.01), np.float64(0.01), np.float64(0.01), np.float64(0.01), np.float64(0.01), np.float64(0.01), np.float64(0.01), np.float64(0.01), np.float64(0.01), np.float64(0.01), np.float64(0.01), np.float64(0.01), np.float64(0.01), np.float64(0.01), np.float64(0.01), np.float64(0.01), np.float64(0.01), np.float64(0.01), np.float64(0.01), np.float64(0.01), np.float64(0.01), np.float64(0.01), np.float64(0.01), np.float64(0.01), np.float64(0.01), np.float64(0.01), np.float64(0.01), np.float64(0.01), np.float64(0.01), np.float64(0.01), np.float64(0.01), np.float64(0.01), np.float64(0.01), np.float64(0.01), np.float64(0.01), np.float64(0.01), np.float64(0.01), np.float64(0.01), np.float64(0.01), np.float64(0.01), np.float64(0.01), np.float64(0.01), np.float64(0.01), np.float64(0.01), np.float64(0.01), np.float64(0.01), np.float64(0.01), np.float64(0.01), np.float64(0.01), np.float64(0.01), np.float64(0.01), np.float64(0.01), np.float64(0.01), np.float64(0.01), np.float64(0.01), np.float64(0.01), np.float64(0.01), np.float64(0.01), np.float64(0.01), np.float64(0.01), np.float64(0.01), np.float64(0.01), np.float64(0.01), np.float64(0.01), np.float64(0.01), np.float64(0.01), np.float64(0.01), np.float64(0.01), np.float64(0.01), np.float64(0.01), np.float64(0.01), np.float64(0.01), np.float64(0.01), np.float64(0.01), np.float64(0.01), np.float64(0.01)])\n",
      "(np.float64(1.0000000000000007), frozenset({np.int64(0), np.int64(1), np.int64(2), np.int64(3), np.int64(4), np.int64(5)}), [np.float64(0.01), np.float64(0.01), np.float64(0.01), np.float64(0.01), np.float64(0.01), np.float64(0.01), np.float64(0.01), np.float64(0.01), np.float64(0.01), np.float64(0.01), np.float64(0.01), np.float64(0.01), np.float64(0.01), np.float64(0.01), np.float64(0.01), np.float64(0.01), np.float64(0.01), np.float64(0.01), np.float64(0.01), np.float64(0.01), np.float64(0.01), np.float64(0.01), np.float64(0.01), np.float64(0.01), np.float64(0.01), np.float64(0.01), np.float64(0.01), np.float64(0.01), np.float64(0.01), np.float64(0.01), np.float64(0.01), np.float64(0.01), np.float64(0.01), np.float64(0.01), np.float64(0.01), np.float64(0.01), np.float64(0.01), np.float64(0.01), np.float64(0.01), np.float64(0.01), np.float64(0.01), np.float64(0.01), np.float64(0.01), np.float64(0.01), np.float64(0.01), np.float64(0.01), np.float64(0.01), np.float64(0.01), np.float64(0.01), np.float64(0.01), np.float64(0.01), np.float64(0.01), np.float64(0.01), np.float64(0.01), np.float64(0.01), np.float64(0.01), np.float64(0.01), np.float64(0.01), np.float64(0.01), np.float64(0.01), np.float64(0.01), np.float64(0.01), np.float64(0.01), np.float64(0.01), np.float64(0.01), np.float64(0.01), np.float64(0.01), np.float64(0.01), np.float64(0.01), np.float64(0.01), np.float64(0.01), np.float64(0.01), np.float64(0.01), np.float64(0.01), np.float64(0.01), np.float64(0.01), np.float64(0.01), np.float64(0.01), np.float64(0.01), np.float64(0.01), np.float64(0.01), np.float64(0.01), np.float64(0.01), np.float64(0.01), np.float64(0.01), np.float64(0.01), np.float64(0.01), np.float64(0.01), np.float64(0.01), np.float64(0.01), np.float64(0.01), np.float64(0.01), np.float64(0.01), np.float64(0.01), np.float64(0.01), np.float64(0.01), np.float64(0.01), np.float64(0.01), np.float64(0.01), np.float64(0.01)])\n",
      "(np.float64(1.0000000000000007), frozenset({np.int64(0), np.int64(1), np.int64(2), np.int64(3), np.int64(4), np.int64(5)}), [np.float64(0.01), np.float64(0.01), np.float64(0.01), np.float64(0.01), np.float64(0.01), np.float64(0.01), np.float64(0.01), np.float64(0.01), np.float64(0.01), np.float64(0.01), np.float64(0.01), np.float64(0.01), np.float64(0.01), np.float64(0.01), np.float64(0.01), np.float64(0.01), np.float64(0.01), np.float64(0.01), np.float64(0.01), np.float64(0.01), np.float64(0.01), np.float64(0.01), np.float64(0.01), np.float64(0.01), np.float64(0.01), np.float64(0.01), np.float64(0.01), np.float64(0.01), np.float64(0.01), np.float64(0.01), np.float64(0.01), np.float64(0.01), np.float64(0.01), np.float64(0.01), np.float64(0.01), np.float64(0.01), np.float64(0.01), np.float64(0.01), np.float64(0.01), np.float64(0.01), np.float64(0.01), np.float64(0.01), np.float64(0.01), np.float64(0.01), np.float64(0.01), np.float64(0.01), np.float64(0.01), np.float64(0.01), np.float64(0.01), np.float64(0.01), np.float64(0.01), np.float64(0.01), np.float64(0.01), np.float64(0.01), np.float64(0.01), np.float64(0.01), np.float64(0.01), np.float64(0.01), np.float64(0.01), np.float64(0.01), np.float64(0.01), np.float64(0.01), np.float64(0.01), np.float64(0.01), np.float64(0.01), np.float64(0.01), np.float64(0.01), np.float64(0.01), np.float64(0.01), np.float64(0.01), np.float64(0.01), np.float64(0.01), np.float64(0.01), np.float64(0.01), np.float64(0.01), np.float64(0.01), np.float64(0.01), np.float64(0.01), np.float64(0.01), np.float64(0.01), np.float64(0.01), np.float64(0.01), np.float64(0.01), np.float64(0.01), np.float64(0.01), np.float64(0.01), np.float64(0.01), np.float64(0.01), np.float64(0.01), np.float64(0.01), np.float64(0.01), np.float64(0.01), np.float64(0.01), np.float64(0.01), np.float64(0.01), np.float64(0.01), np.float64(0.01), np.float64(0.01), np.float64(0.01), np.float64(0.01)])\n",
      "(np.float64(1.0000000000000007), frozenset({np.int64(0), np.int64(1), np.int64(2), np.int64(3), np.int64(4), np.int64(5)}), [np.float64(0.01), np.float64(0.01), np.float64(0.01), np.float64(0.01), np.float64(0.01), np.float64(0.01), np.float64(0.01), np.float64(0.01), np.float64(0.01), np.float64(0.01), np.float64(0.01), np.float64(0.01), np.float64(0.01), np.float64(0.01), np.float64(0.01), np.float64(0.01), np.float64(0.01), np.float64(0.01), np.float64(0.01), np.float64(0.01), np.float64(0.01), np.float64(0.01), np.float64(0.01), np.float64(0.01), np.float64(0.01), np.float64(0.01), np.float64(0.01), np.float64(0.01), np.float64(0.01), np.float64(0.01), np.float64(0.01), np.float64(0.01), np.float64(0.01), np.float64(0.01), np.float64(0.01), np.float64(0.01), np.float64(0.01), np.float64(0.01), np.float64(0.01), np.float64(0.01), np.float64(0.01), np.float64(0.01), np.float64(0.01), np.float64(0.01), np.float64(0.01), np.float64(0.01), np.float64(0.01), np.float64(0.01), np.float64(0.01), np.float64(0.01), np.float64(0.01), np.float64(0.01), np.float64(0.01), np.float64(0.01), np.float64(0.01), np.float64(0.01), np.float64(0.01), np.float64(0.01), np.float64(0.01), np.float64(0.01), np.float64(0.01), np.float64(0.01), np.float64(0.01), np.float64(0.01), np.float64(0.01), np.float64(0.01), np.float64(0.010000000000000009), np.float64(0.01), np.float64(0.01), np.float64(0.01), np.float64(0.01), np.float64(0.01), np.float64(0.01), np.float64(0.01), np.float64(0.01), np.float64(0.01), np.float64(0.01), np.float64(0.01), np.float64(0.01), np.float64(0.01), np.float64(0.01), np.float64(0.01), np.float64(0.01), np.float64(0.01), np.float64(0.01), np.float64(0.01), np.float64(0.01), np.float64(0.01), np.float64(0.01), np.float64(0.01), np.float64(0.01), np.float64(0.01), np.float64(0.01), np.float64(0.01), np.float64(0.01), np.float64(0.01), np.float64(0.01), np.float64(0.01), np.float64(0.01), np.float64(0.01)])\n",
      "(np.float64(1.0000000000000007), frozenset({np.int64(0), np.int64(1), np.int64(2), np.int64(3), np.int64(4), np.int64(5)}), [np.float64(0.01), np.float64(0.01), np.float64(0.01), np.float64(0.01), np.float64(0.01), np.float64(0.01), np.float64(0.01), np.float64(0.01), np.float64(0.01), np.float64(0.01), np.float64(0.01), np.float64(0.01), np.float64(0.01), np.float64(0.01), np.float64(0.01), np.float64(0.01), np.float64(0.01), np.float64(0.01), np.float64(0.01), np.float64(0.01), np.float64(0.01), np.float64(0.01), np.float64(0.01), np.float64(0.01), np.float64(0.01), np.float64(0.01), np.float64(0.01), np.float64(0.01), np.float64(0.01), np.float64(0.01), np.float64(0.01), np.float64(0.01), np.float64(0.01), np.float64(0.01), np.float64(0.01), np.float64(0.01), np.float64(0.01), np.float64(0.01), np.float64(0.01), np.float64(0.01), np.float64(0.01), np.float64(0.01), np.float64(0.01), np.float64(0.01), np.float64(0.01), np.float64(0.01), np.float64(0.01), np.float64(0.01), np.float64(0.01), np.float64(0.01), np.float64(0.01), np.float64(0.01), np.float64(0.01), np.float64(0.01), np.float64(0.01), np.float64(0.01), np.float64(0.01), np.float64(0.01), np.float64(0.01), np.float64(0.01), np.float64(0.01), np.float64(0.01), np.float64(0.01), np.float64(0.01), np.float64(0.01), np.float64(0.01), np.float64(0.01), np.float64(0.01), np.float64(0.01), np.float64(0.01), np.float64(0.01), np.float64(0.01), np.float64(0.01), np.float64(0.01), np.float64(0.01), np.float64(0.01), np.float64(0.01), np.float64(0.01), np.float64(0.01), np.float64(0.01), np.float64(0.01), np.float64(0.01), np.float64(0.01), np.float64(0.01), np.float64(0.01), np.float64(0.01), np.float64(0.01), np.float64(0.01), np.float64(0.01), np.float64(0.01), np.float64(0.01), np.float64(0.01), np.float64(0.01), np.float64(0.01), np.float64(0.01), np.float64(0.01), np.float64(0.01), np.float64(0.01), np.float64(0.01), np.float64(0.01)])\n"
     ]
    }
   ],
   "source": [
    "import numpy as np\n",
    "\n",
    "class WindowedAtomizedDesign:\n",
    "    def __init__(self, inclusions, k, window_size=None, rng=None, delta=1e-2):\n",
    "        \"\"\"\n",
    "        inclusions: list of floats (the original unit weights)\n",
    "        k: int (design size = window size usually)\n",
    "        window_size: int or None, if None, use k\n",
    "        rng: np.random.Generator instance\n",
    "        delta: atom granularity\n",
    "        \"\"\"\n",
    "        self.rng = rng if rng is not None else np.random.default_rng()\n",
    "        self.delta = delta\n",
    "        self.inclusions = np.array(inclusions)\n",
    "        self.n_units = len(self.inclusions)\n",
    "        self.window_size = window_size or k\n",
    "        self.k = k\n",
    "        # Step 1: Permute units and keep map\n",
    "        self.perm = self.rng.permutation(self.n_units)\n",
    "        self.unit_map = {new: orig for new, orig in enumerate(self.perm)}\n",
    "        self.perm_inclusions = self.inclusions[self.perm]\n",
    "        # Step 2: Atomize each permuted inclusion\n",
    "        self.atoms = []\n",
    "        self.atom_to_unit = []  # which permuted unit does each atom come from\n",
    "        for i, p in enumerate(self.perm_inclusions):\n",
    "            n_full = int(p // delta)\n",
    "            for _ in range(n_full):\n",
    "                self.atoms.append(delta)\n",
    "                self.atom_to_unit.append(i)\n",
    "            remainder = p - n_full * delta\n",
    "            if remainder > 1e-12:\n",
    "                self.atoms.append(remainder)\n",
    "                self.atom_to_unit.append(i)\n",
    "        self.atoms = np.array(self.atoms)\n",
    "        self.atom_to_unit = np.array(self.atom_to_unit)\n",
    "        self.n_atoms = len(self.atoms)\n",
    "\n",
    "    def sample_design(self):\n",
    "        \"\"\"\n",
    "        For a single design:\n",
    "        - Split atoms into windows of given 'window_size'.\n",
    "        - In each window, randomly permute atom order (leaving border outside window, if total atoms not divisible).\n",
    "        - Select first atom from each window (fixed design size = number of windows).\n",
    "        - Return: [probability, set of original_unit_indices] (map through permutations)\n",
    "        \"\"\"\n",
    "        n_windows = self.n_atoms // self.window_size\n",
    "        selected_atom_indices = []\n",
    "        for w in range(n_windows):\n",
    "            start = w * self.window_size\n",
    "            end = (w+1) * self.window_size\n",
    "            window_indices = np.arange(start, end)\n",
    "            permuted_indices = self.rng.permutation(window_indices)\n",
    "            # select first in permuted order (fixed one per window)\n",
    "            selected_atom_indices.append(permuted_indices[0])\n",
    "        # fixed design size = n_windows (could also do window sampling for k)\n",
    "        sel_atom_units = [self.atom_to_unit[idx] for idx in selected_atom_indices]\n",
    "        # Map back to original units\n",
    "        orig_units = [self.unit_map[u] for u in sel_atom_units]\n",
    "        # Collect their atom's probability weights:\n",
    "        probs = [self.atoms[idx] for idx in selected_atom_indices]\n",
    "        total_prob = sum(probs)\n",
    "        return total_prob, frozenset(orig_units), probs\n",
    "\n",
    "    def many_designs(self, N=10):\n",
    "        return [self.sample_design() for _ in range(N)]\n",
    "\n",
    "if __name__ == \"__main__\":\n",
    "    inclusions = [0.4, 1.0, 0.6, 0.8, 0.1, 0.1]  # example: sum = 3.0\n",
    "    k = 3  # design size, also used for window size\n",
    "\n",
    "    design = WindowedAtomizedDesign(inclusions, k)\n",
    "    print(f\"\\nPermutation: {design.perm}\")\n",
    "    print(f\"Unit map (new->orig): {design.unit_map}\")\n",
    "    print(f\"n_atoms: {design.n_atoms}, atom to unit: {design.atom_to_unit}\")\n",
    "    print(\"Example designs (prob, orig_unit_ids, atom_probs):\")\n",
    "    for d in design.many_designs(5):\n",
    "        print(d)"
   ]
  },
  {
   "cell_type": "code",
   "execution_count": 1,
   "id": "598fe8c2",
   "metadata": {},
   "outputs": [
    {
     "data": {
      "text/plain": [
       "array([0, 1, 2, 3, 4, 5, 6, 7, 8, 9])"
      ]
     },
     "execution_count": 1,
     "metadata": {},
     "output_type": "execute_result"
    }
   ],
   "source": [
    "import numpy as np\n",
    "x = np.array([1, 2, 1, 6, 7, 3, 8])\n",
    "perm = np.argsort(x)\n",
    "x[perm]\n",
    "np.argsort(np.array(range(10)))  # increasing order of x\n"
   ]
  },
  {
   "cell_type": "code",
   "execution_count": 28,
   "id": "aa12f71f",
   "metadata": {},
   "outputs": [],
   "source": [
    "from geometric_sampling.design import Design\n",
    "import numpy as np"
   ]
  },
  {
   "cell_type": "code",
   "execution_count": 29,
   "id": "013304d7",
   "metadata": {},
   "outputs": [
    {
     "name": "stdout",
     "output_type": "stream",
     "text": [
      "=== Case 1: Classical (no perm, no delta)===\n",
      "Sample(probability=np.float64(0.3), ids=frozenset({1, 3}))\n",
      "Sample(probability=np.float64(0.2), ids=frozenset({0, 3}))\n",
      "Sample(probability=np.float64(0.3), ids=frozenset({2, 3}))\n",
      "Sample(probability=np.float64(0.15), ids=frozenset({2, 4}))\n",
      "Sample(probability=np.float64(0.05), ids=frozenset({3, 4}))\n",
      "\n",
      "=== Case 2: Random UNIT perm (perm on inclusions, NO delta)===\n",
      "Sample(probability=np.float64(0.45), ids=frozenset({2, 4}))\n",
      "Sample(probability=np.float64(0.3), ids=frozenset({0, 2}))\n",
      "Sample(probability=np.float64(0.15), ids=frozenset({1, 3}))\n",
      "Sample(probability=np.float64(0.05), ids=frozenset({2, 3}))\n",
      "Sample(probability=np.float64(0.05), ids=frozenset({1, 2}))\n",
      "\n",
      "=== Case 3: Atomized, random perm on ALL atoms, delta<1.0 ===\n",
      "Sample(probability=np.float64(0.05), ids=frozenset({0, 3}))\n",
      "Sample(probability=np.float64(0.05), ids=frozenset({0, 3}))\n",
      "Sample(probability=np.float64(0.05), ids=frozenset({0, 3}))\n",
      "Sample(probability=np.float64(0.05), ids=frozenset({0, 3}))\n",
      "Sample(probability=np.float64(0.05), ids=frozenset({1, 3}))\n",
      "Sample(probability=np.float64(0.05), ids=frozenset({1, 3}))\n",
      "Sample(probability=np.float64(0.05), ids=frozenset({1, 3}))\n",
      "Sample(probability=np.float64(0.05), ids=frozenset({1, 3}))\n",
      "Sample(probability=np.float64(0.05), ids=frozenset({1, 3}))\n",
      "Sample(probability=np.float64(0.05), ids=frozenset({1, 3}))\n",
      "Sample(probability=np.float64(0.05), ids=frozenset({2, 3}))\n",
      "Sample(probability=np.float64(0.05), ids=frozenset({2, 3}))\n",
      "Sample(probability=np.float64(0.05), ids=frozenset({2, 3}))\n",
      "Sample(probability=np.float64(0.05), ids=frozenset({2, 3}))\n",
      "Sample(probability=np.float64(0.05), ids=frozenset({2, 3}))\n",
      "Sample(probability=np.float64(0.05), ids=frozenset({2, 3}))\n",
      "Sample(probability=np.float64(0.05), ids=frozenset({2, 4}))\n",
      "Sample(probability=np.float64(0.05), ids=frozenset({2, 4}))\n",
      "Sample(probability=np.float64(0.05), ids=frozenset({2, 4}))\n",
      "Sample(probability=np.float64(0.05), ids=frozenset({3, 4}))\n"
     ]
    }
   ],
   "source": [
    "# ======\n",
    "# DEMO\n",
    "# ======\n",
    "\n",
    "inclusions = np.array([.2, .3, .45, .85, .2])\n",
    "print(\"=== Case 1: Classical (no perm, no delta)===\")\n",
    "d1 = Design(inclusions=inclusions, delta=1.0)\n",
    "for sample in d1:\n",
    "    print(sample)\n",
    "\n",
    "print(\"\\n=== Case 2: Random UNIT perm (perm on inclusions, NO delta)===\")\n",
    "perm = np.random.permutation(len(inclusions))\n",
    "d2 = Design(inclusions=inclusions[perm], delta=1.0)\n",
    "for sample in d2:\n",
    "    print(sample)\n",
    "\n",
    "print(\"\\n=== Case 3: Atomized, random perm on ALL atoms, delta<1.0 ===\")\n",
    "d3 = Design(inclusions=inclusions, delta=0.05)\n",
    "for sample in d3:\n",
    "    print(sample)"
   ]
  },
  {
   "cell_type": "code",
   "execution_count": null,
   "id": "df46532b",
   "metadata": {},
   "outputs": [],
   "source": [
    "Sample(probability=np.float64(0.3), ids=frozenset({1, 3}))\n",
    "Sample(probability=np.float64(0.2), ids=frozenset({0, 3}))\n",
    "Sample(probability=np.float64(0.3), ids=frozenset({2, 3}))\n",
    "Sample(probability=np.float64(0.15), ids=frozenset({2, 4}))\n",
    "Sample(probability=np.float64(0.05), ids=frozenset({3, 4}))"
   ]
  }
 ],
 "metadata": {
  "kernelspec": {
   "display_name": ".venv",
   "language": "python",
   "name": "python3"
  },
  "language_info": {
   "codemirror_mode": {
    "name": "ipython",
    "version": 3
   },
   "file_extension": ".py",
   "mimetype": "text/x-python",
   "name": "python",
   "nbconvert_exporter": "python",
   "pygments_lexer": "ipython3",
   "version": "3.12.3"
  }
 },
 "nbformat": 4,
 "nbformat_minor": 5
}
