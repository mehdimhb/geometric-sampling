{
 "cells": [
  {
   "cell_type": "markdown",
   "id": "26f67b08",
   "metadata": {},
   "source": [
    "# Imports"
   ]
  },
  {
   "cell_type": "code",
   "id": "d0854f65",
   "metadata": {
    "ExecuteTime": {
     "end_time": "2025-07-18T20:08:56.021936Z",
     "start_time": "2025-07-18T20:08:56.010418Z"
    }
   },
   "source": [
    "%load_ext autoreload\n",
    "%autoreload 2"
   ],
   "outputs": [],
   "execution_count": 1
  },
  {
   "metadata": {
    "ExecuteTime": {
     "end_time": "2025-07-18T21:20:27.416214Z",
     "start_time": "2025-07-18T21:20:27.326436Z"
    }
   },
   "cell_type": "code",
   "source": [
    "import os\n",
    "import glob\n",
    "import geometric_sampling as gs\n",
    "import pandas as pd\n",
    "import numpy as np\n",
    "import itertools\n",
    "from tqdm import tqdm\n",
    "import rpy2.robjects as ro\n",
    "from rpy2.robjects import numpy2ri, default_converter\n",
    "from rpy2.robjects.conversion import localconverter\n",
    "from package_sampling.utils import inclusion_probabilities"
   ],
   "id": "f1f467631ccbd8ef",
   "outputs": [],
   "execution_count": 76
  },
  {
   "metadata": {
    "ExecuteTime": {
     "end_time": "2025-07-18T20:09:05.715511Z",
     "start_time": "2025-07-18T20:09:05.686735Z"
    }
   },
   "cell_type": "code",
   "source": "%load_ext rpy2.ipython",
   "id": "4881c6ff443fa2a3",
   "outputs": [],
   "execution_count": 3
  },
  {
   "metadata": {
    "ExecuteTime": {
     "end_time": "2025-07-18T20:09:06.824616Z",
     "start_time": "2025-07-18T20:09:06.463335Z"
    }
   },
   "cell_type": "code",
   "source": [
    "%%R\n",
    "\n",
    "library(WaveSampling)\n",
    "library(sampling)\n",
    "library(BalancedSampling)\n"
   ],
   "id": "c7902975de8929ce",
   "outputs": [
    {
     "data": {
      "text/plain": [
       "Loading required package: Matrix\n"
      ]
     },
     "metadata": {},
     "output_type": "display_data"
    }
   ],
   "execution_count": 4
  },
  {
   "metadata": {},
   "cell_type": "markdown",
   "source": "# Moran and Local Balance Score",
   "id": "3ee1bd250bfff9ef"
  },
  {
   "metadata": {
    "ExecuteTime": {
     "end_time": "2025-07-18T20:09:09.359618Z",
     "start_time": "2025-07-18T20:09:09.337191Z"
    }
   },
   "cell_type": "code",
   "source": [
    "def score_all_samples_moran_lb(coords, probs, sample_indices_list):\n",
    "    \"\"\"\n",
    "    coords          : an (N×2)-array of spatial coordinates\n",
    "    probs           : length-N array of inclusion probabilities\n",
    "    sample_indices_list : list of length-n integer numpy arrays (0-based indices)\n",
    "\n",
    "    Returns an (S×2) numpy array of [IB, SBLB] for each of the S samples.\n",
    "    \"\"\"\n",
    "\n",
    "    # Convert Python list of numpy arrays into an R list of integer vectors\n",
    "    #   * add +1 because R is 1-based\n",
    "    r_sample_list = ro.ListVector({\n",
    "        str(i+1): ro.IntVector(sample_idx.astype(int) + 1)\n",
    "        for i, sample_idx in enumerate(sample_indices_list)\n",
    "    })\n",
    "\n",
    "    with localconverter(default_converter + numpy2ri.converter):\n",
    "        ro.globalenv['coords'] = coords\n",
    "        ro.globalenv['probs'] = probs\n",
    "        # Precompute W once\n",
    "        ro.r(\"\"\"\n",
    "            W0 <- wpik(coords, probs)\n",
    "            W <- W0 - diag(diag(W0))\n",
    "            diag(W) <- 0\n",
    "        \"\"\")\n",
    "        ro.globalenv['samples'] = r_sample_list\n",
    "\n",
    "        # Define an R function that loops over all samples\n",
    "        ro.r(\"\"\"\n",
    "            score_samples <- function(W, probs, coords, samples_list) {\n",
    "              S <- length(samples_list)\n",
    "              IBs   <- numeric(S)\n",
    "              SBLBs <- numeric(S)\n",
    "\n",
    "              for (i in seq_len(S)) {\n",
    "                samp_idx <- samples_list[[i]]\n",
    "                mask <- integer(length(probs))\n",
    "                mask[samp_idx] <- 1\n",
    "\n",
    "                IBs[i]   <- tryCatch(IB(W, mask),        error = function(e) Inf)\n",
    "                SBLBs[i] <- tryCatch(sblb(probs, coords, samp_idx), error = function(e) Inf)\n",
    "              }\n",
    "              # return as a 2-column matrix\n",
    "              cbind(IB = IBs, SBLB = SBLBs)\n",
    "            }\n",
    "        \"\"\")\n",
    "\n",
    "        # Call it once\n",
    "        result = ro.r(\"score_samples(W, probs, coords, samples)\")\n",
    "        # result comes back as an R matrix  S×2\n",
    "\n",
    "    # Turn it into an (S×2) numpy array\n",
    "    with localconverter(default_converter + numpy2ri.converter):\n",
    "        np_result = np.array(result)\n",
    "    return np_result[:, 0], np_result[:, 1]\n"
   ],
   "id": "6e645c839b6add6f",
   "outputs": [],
   "execution_count": 5
  },
  {
   "metadata": {},
   "cell_type": "markdown",
   "source": "# Loading Population",
   "id": "6464cee173f03109"
  },
  {
   "metadata": {
    "ExecuteTime": {
     "end_time": "2025-07-18T20:09:11.121406Z",
     "start_time": "2025-07-18T20:09:11.102424Z"
    }
   },
   "cell_type": "code",
   "source": [
    "DATA_DIR = \"../data_samples/coords_probs\"\n",
    "csv_paths = glob.glob(os.path.join(DATA_DIR, \"*.csv\"))\n",
    "\n",
    "coords_dict = {}\n",
    "probs_dict = {}\n",
    "\n",
    "for fp in csv_paths:\n",
    "    if 'swiss' not in fp:\n",
    "        name = os.path.splitext(os.path.basename(fp))[0]\n",
    "        data = np.loadtxt(fp, delimiter=\",\", skiprows=1)\n",
    "        coords = data[:, :2]\n",
    "        probs  = data[:, -1]\n",
    "\n",
    "        coord_name, prob_name = name.split(\"_\")\n",
    "        coord_name = 'cluster' if coord_name == 'clust' else coord_name\n",
    "        prob_name = 'equal' if prob_name == 'eq' else 'unequal'\n",
    "\n",
    "        coords_dict[coord_name] = coords\n",
    "        probs_dict[coord_name] = probs_dict.get(coord_name, {})\n",
    "        probs_dict[coord_name][prob_name] = probs\n",
    "\n",
    "print(coords_dict.keys())\n",
    "print(probs_dict.keys())\n",
    "print(probs_dict['random'].keys())"
   ],
   "id": "2331e44bebecb7a9",
   "outputs": [
    {
     "name": "stdout",
     "output_type": "stream",
     "text": [
      "dict_keys(['random', 'cluster', 'meuse', 'grid'])\n",
      "dict_keys(['random', 'cluster', 'meuse', 'grid'])\n",
      "dict_keys(['equal', 'unequal'])\n"
     ]
    }
   ],
   "execution_count": 6
  },
  {
   "metadata": {},
   "cell_type": "markdown",
   "source": "# Evaluation Function",
   "id": "2a62567e2caf69b1"
  },
  {
   "metadata": {
    "ExecuteTime": {
     "end_time": "2025-07-18T20:09:12.703638Z",
     "start_time": "2025-07-18T20:09:12.686609Z"
    }
   },
   "cell_type": "code",
   "source": [
    "def top_n_records(df: pd.DataFrame,\n",
    "                  name_cols: list,\n",
    "                  sort_col: str = 'exp_moran',\n",
    "                  k: int = 10,\n",
    "                  smallest: bool = True) -> pd.DataFrame:\n",
    "\n",
    "    df_copy = df.copy()\n",
    "\n",
    "    df_copy['name'] = df_copy[name_cols].astype(str).agg(' - '.join, axis=1)\n",
    "\n",
    "    if smallest:\n",
    "        return df_copy.nsmallest(k, sort_col)[['name', sort_col]].reset_index(drop=True)\n",
    "    return df_copy.nlargest(k, sort_col)[['name', sort_col]].reset_index(drop=True)"
   ],
   "id": "c06718b3febee889",
   "outputs": [],
   "execution_count": 7
  },
  {
   "metadata": {
    "ExecuteTime": {
     "end_time": "2025-07-18T19:52:47.566999Z",
     "start_time": "2025-07-18T19:52:47.483740Z"
    }
   },
   "cell_type": "code",
   "source": [
    "def evaluate(\n",
    "        coords_dict,\n",
    "        probs_dict,\n",
    "        n_values=[4, 8, 16],\n",
    "        zone_list=[(1, 1), (2, 2), (3, 3)],\n",
    "        sort_method_list=['lexico', 'random', 'angle_0', 'distance_0', 'projection', \"center\", \"spiral\", \"max\"],\n",
    "        zonal_sort_list=['lexico', 'random', 'angle_0', 'distance_0', 'projection', \"center\", \"spiral\", \"max\"],\n",
    "        tolerance=5,\n",
    "        split_size=1e-3,\n",
    "):\n",
    "    records = []\n",
    "\n",
    "    # pre‐compute all combinations\n",
    "    combos = list(itertools.product(\n",
    "        n_values,\n",
    "        zone_list,\n",
    "        sort_method_list,\n",
    "        zonal_sort_list\n",
    "    ))\n",
    "\n",
    "    for n, zones, sort_method, zonal_sort in tqdm(\n",
    "        combos,\n",
    "        desc=\"Total combos\",\n",
    "        unit=\"combo\"\n",
    "    ):\n",
    "\n",
    "        for coord_name in probs_dict.keys():\n",
    "            for prob_name in probs_dict[coord_name].keys():\n",
    "\n",
    "                coords = coords_dict[coord_name]\n",
    "                probs = probs_dict[coord_name][prob_name]\n",
    "\n",
    "                kss = gs.sampling.KMeansSpatialSamplingSimple(\n",
    "                    coords, probs,\n",
    "                    n=n,\n",
    "                    n_zones=zones,\n",
    "                    tolerance=tolerance,\n",
    "                    split_size=split_size,\n",
    "                    sort_method = sort_method,\n",
    "                    zonal_sort = zonal_sort,\n",
    "                    zone_mode='cluster'\n",
    "                )\n",
    "\n",
    "                density_expected = np.round(kss.expected_score(), 4)\n",
    "                density_val = np.round(kss.var_score(), 4)\n",
    "\n",
    "                moran_scores, lb_scores = score_all_samples_moran_lb(coords, probs, kss.all_samples)\n",
    "\n",
    "                moran_expected = np.round(kss.expected_score(moran_scores), 4)\n",
    "                moran_val = np.round(kss.var_score(moran_scores), 4)\n",
    "\n",
    "                lb_expected = np.round(kss.expected_score(lb_scores), 4)\n",
    "                lb_val = np.round(kss.var_score(lb_scores), 4)\n",
    "\n",
    "                records.append({\n",
    "                    # 'n': n,\n",
    "                    # 'zones': f\"{zones[0]}×{zones[1]}\",\n",
    "                    'zones': zones,\n",
    "                    'bar_sort': sort_method,\n",
    "                    'zonal_sort': zonal_sort if zonal_sort else 'None',\n",
    "                    'coord': coord_name,\n",
    "                    'prob': prob_name,\n",
    "                    'exp_density': density_expected,\n",
    "                    'exp_moran': moran_expected,\n",
    "                    'exp_lb': lb_expected,\n",
    "                    'var_density': density_val,\n",
    "                    'var_moran': moran_val,\n",
    "                    'var_lb': lb_val,\n",
    "                })\n",
    "\n",
    "    return pd.DataFrame.from_records(records)\n"
   ],
   "id": "bd8d07d13cae09c1",
   "outputs": [],
   "execution_count": 45
  },
  {
   "metadata": {
    "ExecuteTime": {
     "end_time": "2025-07-18T19:57:46.343693Z",
     "start_time": "2025-07-18T19:53:11.722583Z"
    }
   },
   "cell_type": "code",
   "source": [
    "df = evaluate(\n",
    "    coords_dict,\n",
    "    probs_dict,\n",
    "    n_values=[4],\n",
    "    # zone_list=[(1, 1), (2, 2), (3, 3)],\n",
    "    zone_list=[2, 3, 4],\n",
    "    sort_method_list=['distance_0', 'projection'],\n",
    "    zonal_sort_list=[None, 'distance_0', 'projection'],\n",
    "    tolerance=5,\n",
    "    split_size=1e-3,\n",
    ")"
   ],
   "id": "552e14d0bba01544",
   "outputs": [
    {
     "name": "stderr",
     "output_type": "stream",
     "text": [
      "Total combos: 100%|██████████| 18/18 [04:34<00:00, 15.26s/combo]\n"
     ]
    }
   ],
   "execution_count": 48
  },
  {
   "metadata": {
    "ExecuteTime": {
     "end_time": "2025-07-18T19:57:55.881300Z",
     "start_time": "2025-07-18T19:57:55.805524Z"
    }
   },
   "cell_type": "code",
   "source": [
    "summary = df.pivot_table(\n",
    "    columns=['zones', 'zonal_sort', 'bar_sort'],\n",
    "    # values=['exp_density', 'exp_moran', 'exp_lb', 'var_density', 'var_moran', 'var_lb'],\n",
    "    values=['exp_moran',],\n",
    "    index=['coord', 'prob'],\n",
    "    aggfunc='first'\n",
    ")\n",
    "\n",
    "summary"
   ],
   "id": "b419cb2b24d3198b",
   "outputs": [
    {
     "data": {
      "text/plain": [
       "                 exp_moran                                              \\\n",
       "zones                    2                                               \n",
       "zonal_sort            None            distance_0            projection   \n",
       "bar_sort        distance_0 projection distance_0 projection distance_0   \n",
       "coord   prob                                                             \n",
       "cluster equal      -0.1253    -0.1276    -0.1985    -0.2043    -0.1915   \n",
       "        unequal    -0.0786    -0.1228    -0.1248    -0.1248    -0.1248   \n",
       "grid    equal      -0.1116    -0.2019    -0.1781    -0.1758    -0.1758   \n",
       "        unequal    -0.1174    -0.0574    -0.1174    -0.1174    -0.1174   \n",
       "meuse   equal      -0.2683    -0.2547    -0.2745    -0.2745    -0.2745   \n",
       "        unequal    -0.1968    -0.1676    -0.2193    -0.2183    -0.2193   \n",
       "random  equal      -0.1618    -0.1318    -0.1603    -0.1618    -0.1600   \n",
       "        unequal    -0.0869    -0.1104    -0.1336    -0.1341    -0.1336   \n",
       "\n",
       "                                                                        \\\n",
       "zones                               3                                    \n",
       "zonal_sort                       None            distance_0              \n",
       "bar_sort        projection distance_0 projection distance_0 projection   \n",
       "coord   prob                                                             \n",
       "cluster equal      -0.1985    -0.2449    -0.1455    -0.2392    -0.2384   \n",
       "        unequal    -0.1248    -0.1149    -0.1299    -0.1058    -0.1294   \n",
       "grid    equal      -0.1781    -0.1489    -0.1537    -0.1900    -0.1576   \n",
       "        unequal    -0.1174    -0.0971    -0.0973    -0.1215    -0.1215   \n",
       "meuse   equal      -0.2745    -0.2612    -0.1856    -0.3335    -0.3335   \n",
       "        unequal    -0.2183    -0.1839    -0.1416    -0.2228    -0.2228   \n",
       "random  equal      -0.1603    -0.1551    -0.1615    -0.1573    -0.1573   \n",
       "        unequal    -0.1336    -0.0977    -0.1498    -0.1219    -0.1274   \n",
       "\n",
       "                                                                        \\\n",
       "zones                                          4                         \n",
       "zonal_sort      projection                  None            distance_0   \n",
       "bar_sort        distance_0 projection distance_0 projection distance_0   \n",
       "coord   prob                                                             \n",
       "cluster equal      -0.2385    -0.2485    -0.3012    -0.2648    -0.3162   \n",
       "        unequal    -0.1068    -0.1083    -0.1405    -0.0956    -0.1454   \n",
       "grid    equal      -0.1708    -0.1478    -0.1527    -0.1396    -0.2041   \n",
       "        unequal    -0.1229    -0.1197    -0.0938    -0.1060    -0.1224   \n",
       "meuse   equal      -0.3335    -0.3335    -0.2753    -0.1998    -0.2930   \n",
       "        unequal    -0.2228    -0.2228    -0.2206    -0.1668    -0.2395   \n",
       "random  equal      -0.1571    -0.1568    -0.1502    -0.1106    -0.1756   \n",
       "        unequal    -0.1245    -0.1245    -0.1096    -0.0926    -0.1158   \n",
       "\n",
       "                                                  \n",
       "zones                                             \n",
       "zonal_sort                 projection             \n",
       "bar_sort        projection distance_0 projection  \n",
       "coord   prob                                      \n",
       "cluster equal      -0.3118    -0.3211    -0.3240  \n",
       "        unequal    -0.1450    -0.1302    -0.1267  \n",
       "grid    equal      -0.1683    -0.1817    -0.1761  \n",
       "        unequal    -0.1186    -0.1085    -0.1220  \n",
       "meuse   equal      -0.2926    -0.3298    -0.3271  \n",
       "        unequal    -0.2307    -0.2223    -0.2203  \n",
       "random  equal      -0.1734    -0.1756    -0.1756  \n",
       "        unequal    -0.1158    -0.1112    -0.1116  "
      ],
      "text/html": [
       "<div>\n",
       "<style scoped>\n",
       "    .dataframe tbody tr th:only-of-type {\n",
       "        vertical-align: middle;\n",
       "    }\n",
       "\n",
       "    .dataframe tbody tr th {\n",
       "        vertical-align: top;\n",
       "    }\n",
       "\n",
       "    .dataframe thead tr th {\n",
       "        text-align: left;\n",
       "    }\n",
       "\n",
       "    .dataframe thead tr:last-of-type th {\n",
       "        text-align: right;\n",
       "    }\n",
       "</style>\n",
       "<table border=\"1\" class=\"dataframe\">\n",
       "  <thead>\n",
       "    <tr>\n",
       "      <th></th>\n",
       "      <th></th>\n",
       "      <th colspan=\"18\" halign=\"left\">exp_moran</th>\n",
       "    </tr>\n",
       "    <tr>\n",
       "      <th></th>\n",
       "      <th>zones</th>\n",
       "      <th colspan=\"6\" halign=\"left\">2</th>\n",
       "      <th colspan=\"6\" halign=\"left\">3</th>\n",
       "      <th colspan=\"6\" halign=\"left\">4</th>\n",
       "    </tr>\n",
       "    <tr>\n",
       "      <th></th>\n",
       "      <th>zonal_sort</th>\n",
       "      <th colspan=\"2\" halign=\"left\">None</th>\n",
       "      <th colspan=\"2\" halign=\"left\">distance_0</th>\n",
       "      <th colspan=\"2\" halign=\"left\">projection</th>\n",
       "      <th colspan=\"2\" halign=\"left\">None</th>\n",
       "      <th colspan=\"2\" halign=\"left\">distance_0</th>\n",
       "      <th colspan=\"2\" halign=\"left\">projection</th>\n",
       "      <th colspan=\"2\" halign=\"left\">None</th>\n",
       "      <th colspan=\"2\" halign=\"left\">distance_0</th>\n",
       "      <th colspan=\"2\" halign=\"left\">projection</th>\n",
       "    </tr>\n",
       "    <tr>\n",
       "      <th></th>\n",
       "      <th>bar_sort</th>\n",
       "      <th>distance_0</th>\n",
       "      <th>projection</th>\n",
       "      <th>distance_0</th>\n",
       "      <th>projection</th>\n",
       "      <th>distance_0</th>\n",
       "      <th>projection</th>\n",
       "      <th>distance_0</th>\n",
       "      <th>projection</th>\n",
       "      <th>distance_0</th>\n",
       "      <th>projection</th>\n",
       "      <th>distance_0</th>\n",
       "      <th>projection</th>\n",
       "      <th>distance_0</th>\n",
       "      <th>projection</th>\n",
       "      <th>distance_0</th>\n",
       "      <th>projection</th>\n",
       "      <th>distance_0</th>\n",
       "      <th>projection</th>\n",
       "    </tr>\n",
       "    <tr>\n",
       "      <th>coord</th>\n",
       "      <th>prob</th>\n",
       "      <th></th>\n",
       "      <th></th>\n",
       "      <th></th>\n",
       "      <th></th>\n",
       "      <th></th>\n",
       "      <th></th>\n",
       "      <th></th>\n",
       "      <th></th>\n",
       "      <th></th>\n",
       "      <th></th>\n",
       "      <th></th>\n",
       "      <th></th>\n",
       "      <th></th>\n",
       "      <th></th>\n",
       "      <th></th>\n",
       "      <th></th>\n",
       "      <th></th>\n",
       "      <th></th>\n",
       "    </tr>\n",
       "  </thead>\n",
       "  <tbody>\n",
       "    <tr>\n",
       "      <th rowspan=\"2\" valign=\"top\">cluster</th>\n",
       "      <th>equal</th>\n",
       "      <td>-0.1253</td>\n",
       "      <td>-0.1276</td>\n",
       "      <td>-0.1985</td>\n",
       "      <td>-0.2043</td>\n",
       "      <td>-0.1915</td>\n",
       "      <td>-0.1985</td>\n",
       "      <td>-0.2449</td>\n",
       "      <td>-0.1455</td>\n",
       "      <td>-0.2392</td>\n",
       "      <td>-0.2384</td>\n",
       "      <td>-0.2385</td>\n",
       "      <td>-0.2485</td>\n",
       "      <td>-0.3012</td>\n",
       "      <td>-0.2648</td>\n",
       "      <td>-0.3162</td>\n",
       "      <td>-0.3118</td>\n",
       "      <td>-0.3211</td>\n",
       "      <td>-0.3240</td>\n",
       "    </tr>\n",
       "    <tr>\n",
       "      <th>unequal</th>\n",
       "      <td>-0.0786</td>\n",
       "      <td>-0.1228</td>\n",
       "      <td>-0.1248</td>\n",
       "      <td>-0.1248</td>\n",
       "      <td>-0.1248</td>\n",
       "      <td>-0.1248</td>\n",
       "      <td>-0.1149</td>\n",
       "      <td>-0.1299</td>\n",
       "      <td>-0.1058</td>\n",
       "      <td>-0.1294</td>\n",
       "      <td>-0.1068</td>\n",
       "      <td>-0.1083</td>\n",
       "      <td>-0.1405</td>\n",
       "      <td>-0.0956</td>\n",
       "      <td>-0.1454</td>\n",
       "      <td>-0.1450</td>\n",
       "      <td>-0.1302</td>\n",
       "      <td>-0.1267</td>\n",
       "    </tr>\n",
       "    <tr>\n",
       "      <th rowspan=\"2\" valign=\"top\">grid</th>\n",
       "      <th>equal</th>\n",
       "      <td>-0.1116</td>\n",
       "      <td>-0.2019</td>\n",
       "      <td>-0.1781</td>\n",
       "      <td>-0.1758</td>\n",
       "      <td>-0.1758</td>\n",
       "      <td>-0.1781</td>\n",
       "      <td>-0.1489</td>\n",
       "      <td>-0.1537</td>\n",
       "      <td>-0.1900</td>\n",
       "      <td>-0.1576</td>\n",
       "      <td>-0.1708</td>\n",
       "      <td>-0.1478</td>\n",
       "      <td>-0.1527</td>\n",
       "      <td>-0.1396</td>\n",
       "      <td>-0.2041</td>\n",
       "      <td>-0.1683</td>\n",
       "      <td>-0.1817</td>\n",
       "      <td>-0.1761</td>\n",
       "    </tr>\n",
       "    <tr>\n",
       "      <th>unequal</th>\n",
       "      <td>-0.1174</td>\n",
       "      <td>-0.0574</td>\n",
       "      <td>-0.1174</td>\n",
       "      <td>-0.1174</td>\n",
       "      <td>-0.1174</td>\n",
       "      <td>-0.1174</td>\n",
       "      <td>-0.0971</td>\n",
       "      <td>-0.0973</td>\n",
       "      <td>-0.1215</td>\n",
       "      <td>-0.1215</td>\n",
       "      <td>-0.1229</td>\n",
       "      <td>-0.1197</td>\n",
       "      <td>-0.0938</td>\n",
       "      <td>-0.1060</td>\n",
       "      <td>-0.1224</td>\n",
       "      <td>-0.1186</td>\n",
       "      <td>-0.1085</td>\n",
       "      <td>-0.1220</td>\n",
       "    </tr>\n",
       "    <tr>\n",
       "      <th rowspan=\"2\" valign=\"top\">meuse</th>\n",
       "      <th>equal</th>\n",
       "      <td>-0.2683</td>\n",
       "      <td>-0.2547</td>\n",
       "      <td>-0.2745</td>\n",
       "      <td>-0.2745</td>\n",
       "      <td>-0.2745</td>\n",
       "      <td>-0.2745</td>\n",
       "      <td>-0.2612</td>\n",
       "      <td>-0.1856</td>\n",
       "      <td>-0.3335</td>\n",
       "      <td>-0.3335</td>\n",
       "      <td>-0.3335</td>\n",
       "      <td>-0.3335</td>\n",
       "      <td>-0.2753</td>\n",
       "      <td>-0.1998</td>\n",
       "      <td>-0.2930</td>\n",
       "      <td>-0.2926</td>\n",
       "      <td>-0.3298</td>\n",
       "      <td>-0.3271</td>\n",
       "    </tr>\n",
       "    <tr>\n",
       "      <th>unequal</th>\n",
       "      <td>-0.1968</td>\n",
       "      <td>-0.1676</td>\n",
       "      <td>-0.2193</td>\n",
       "      <td>-0.2183</td>\n",
       "      <td>-0.2193</td>\n",
       "      <td>-0.2183</td>\n",
       "      <td>-0.1839</td>\n",
       "      <td>-0.1416</td>\n",
       "      <td>-0.2228</td>\n",
       "      <td>-0.2228</td>\n",
       "      <td>-0.2228</td>\n",
       "      <td>-0.2228</td>\n",
       "      <td>-0.2206</td>\n",
       "      <td>-0.1668</td>\n",
       "      <td>-0.2395</td>\n",
       "      <td>-0.2307</td>\n",
       "      <td>-0.2223</td>\n",
       "      <td>-0.2203</td>\n",
       "    </tr>\n",
       "    <tr>\n",
       "      <th rowspan=\"2\" valign=\"top\">random</th>\n",
       "      <th>equal</th>\n",
       "      <td>-0.1618</td>\n",
       "      <td>-0.1318</td>\n",
       "      <td>-0.1603</td>\n",
       "      <td>-0.1618</td>\n",
       "      <td>-0.1600</td>\n",
       "      <td>-0.1603</td>\n",
       "      <td>-0.1551</td>\n",
       "      <td>-0.1615</td>\n",
       "      <td>-0.1573</td>\n",
       "      <td>-0.1573</td>\n",
       "      <td>-0.1571</td>\n",
       "      <td>-0.1568</td>\n",
       "      <td>-0.1502</td>\n",
       "      <td>-0.1106</td>\n",
       "      <td>-0.1756</td>\n",
       "      <td>-0.1734</td>\n",
       "      <td>-0.1756</td>\n",
       "      <td>-0.1756</td>\n",
       "    </tr>\n",
       "    <tr>\n",
       "      <th>unequal</th>\n",
       "      <td>-0.0869</td>\n",
       "      <td>-0.1104</td>\n",
       "      <td>-0.1336</td>\n",
       "      <td>-0.1341</td>\n",
       "      <td>-0.1336</td>\n",
       "      <td>-0.1336</td>\n",
       "      <td>-0.0977</td>\n",
       "      <td>-0.1498</td>\n",
       "      <td>-0.1219</td>\n",
       "      <td>-0.1274</td>\n",
       "      <td>-0.1245</td>\n",
       "      <td>-0.1245</td>\n",
       "      <td>-0.1096</td>\n",
       "      <td>-0.0926</td>\n",
       "      <td>-0.1158</td>\n",
       "      <td>-0.1158</td>\n",
       "      <td>-0.1112</td>\n",
       "      <td>-0.1116</td>\n",
       "    </tr>\n",
       "  </tbody>\n",
       "</table>\n",
       "</div>"
      ]
     },
     "execution_count": 49,
     "metadata": {},
     "output_type": "execute_result"
    }
   ],
   "execution_count": 49
  },
  {
   "metadata": {},
   "cell_type": "markdown",
   "source": "# Meuse",
   "id": "96ac85cd8d339376"
  },
  {
   "metadata": {
    "ExecuteTime": {
     "end_time": "2025-07-18T21:07:22.720546Z",
     "start_time": "2025-07-18T21:07:17.757614Z"
    }
   },
   "cell_type": "code",
   "source": [
    "coords = coords_dict['meuse']\n",
    "probs = probs_dict['meuse']['unequal']*()\n",
    "n=30\n",
    "zones = (1, 1)\n",
    "zone_mode = 'sweep'\n",
    "tolerance = 5\n",
    "split_size = 1e-3\n",
    "sort_method = 'lexico'\n",
    "zonal_sort = None\n",
    "\n",
    "kss = gs.sampling.KMeansSpatialSamplingSimple(\n",
    "            coords, probs,\n",
    "            n=n,\n",
    "            n_zones=zones if zone_mode == 'sweep' else zones[0]+1,\n",
    "            tolerance=tolerance,\n",
    "            split_size=split_size,\n",
    "            zone_mode=zone_mode,\n",
    "            sort_method=sort_method,\n",
    "            zonal_sort=zonal_sort\n",
    "        )\n",
    "\n",
    "samples = kss.sample(1000)\n",
    "\n",
    "# kss.popu.plot_with_samples(samples)"
   ],
   "id": "9f5360eae9dfed00",
   "outputs": [],
   "execution_count": 67
  },
  {
   "metadata": {
    "ExecuteTime": {
     "end_time": "2025-07-18T21:21:15.883642Z",
     "start_time": "2025-07-18T21:21:15.871736Z"
    }
   },
   "cell_type": "code",
   "source": "inclusion_probabilities(probs, n=30)",
   "id": "ae6fb2a1a0e20e32",
   "outputs": [
    {
     "data": {
      "text/plain": [
       "np.float64(30.0)"
      ]
     },
     "execution_count": 78,
     "metadata": {},
     "output_type": "execute_result"
    }
   ],
   "execution_count": 78
  },
  {
   "metadata": {
    "ExecuteTime": {
     "end_time": "2025-07-18T21:08:23.297373Z",
     "start_time": "2025-07-18T21:08:22.843890Z"
    }
   },
   "cell_type": "code",
   "source": [
    "moran_scores, lb_scores = score_all_samples_moran_lb(coords, probs, samples)\n",
    "np.argmax(moran_scores), moran_scores[np.argmax(moran_scores)]"
   ],
   "id": "730685529729af4f",
   "outputs": [
    {
     "data": {
      "text/plain": [
       "(np.int64(4), np.float64(-0.012958958921919719))"
      ]
     },
     "execution_count": 72,
     "metadata": {},
     "output_type": "execute_result"
    }
   ],
   "execution_count": 72
  },
  {
   "metadata": {
    "ExecuteTime": {
     "end_time": "2025-07-18T21:09:29.961828Z",
     "start_time": "2025-07-18T21:09:29.766835Z"
    }
   },
   "cell_type": "code",
   "source": "kss.popu.plot_with_samples(samples[[4, 5]], 2)",
   "id": "26507e94bb7b780",
   "outputs": [
    {
     "data": {
      "text/plain": [
       "<Figure size 1000x500 with 2 Axes>"
      ],
      "image/png": "[encoded data removed]"
     },
     "metadata": {},
     "output_type": "display_data"
    }
   ],
   "execution_count": 75
  },
  {
   "metadata": {
    "ExecuteTime": {
     "end_time": "2025-07-18T22:00:47.356974Z",
     "start_time": "2025-07-18T22:00:47.343213Z"
    }
   },
   "cell_type": "code",
   "source": [
    "def evaluate_meuse(\n",
    "        coords_dict,\n",
    "        probs_dict,\n",
    "        n_values=[4],\n",
    "        zone_list=[(1, 1), (2, 2), (3, 3)],\n",
    "        sort_method_list=['lexico', 'random', 'angle_0', 'distance_0', 'projection', \"center\", \"spiral\", \"max\"],\n",
    "        zonal_sort_list=['lexico', 'random', 'angle_0', 'distance_0', 'projection', \"center\", \"spiral\", \"max\"],\n",
    "        zone_mode_list=['sweep' 'cluster'],\n",
    "        tolerance=5,\n",
    "        split_size=1e-3,\n",
    "):\n",
    "    records = []\n",
    "\n",
    "    # pre‐compute all combinations\n",
    "    combos = list(itertools.product(\n",
    "        n_values,\n",
    "        zone_list,\n",
    "        zone_mode_list,\n",
    "        zonal_sort_list,\n",
    "        sort_method_list\n",
    "    ))\n",
    "    coords = coords_dict['meuse']\n",
    "    probs = probs_dict['meuse']['equal']\n",
    "\n",
    "    for n, zones, zone_mode, zonal_sort, sort_method in tqdm(\n",
    "        combos,\n",
    "        desc=\"Total combos\",\n",
    "        unit=\"combo\"\n",
    "    ):\n",
    "\n",
    "        # print(n, zones, zone_mode, zonal_sort, sort_method)\n",
    "\n",
    "        modified_probs = inclusion_probabilities(probs, n=n)\n",
    "        kss = gs.sampling.KMeansSpatialSamplingSimple(\n",
    "            coords, modified_probs,\n",
    "            n=n,\n",
    "            n_zones=zones if zone_mode == 'sweep' else zones[0]+1,\n",
    "            tolerance=tolerance,\n",
    "            split_size=split_size,\n",
    "            zone_mode=zone_mode,\n",
    "            sort_method=sort_method,\n",
    "            zonal_sort=zonal_sort\n",
    "        )\n",
    "\n",
    "        density_expected = np.round(kss.expected_score(), 4)\n",
    "        density_val = np.round(kss.var_score(), 4)\n",
    "\n",
    "        moran_scores, lb_scores = score_all_samples_moran_lb(coords, modified_probs, kss.all_samples)\n",
    "\n",
    "        moran_expected = np.round(kss.expected_score(moran_scores), 4)\n",
    "        moran_val = np.round(kss.var_score(moran_scores), 4)\n",
    "\n",
    "        lb_expected = np.round(kss.expected_score(lb_scores), 4)\n",
    "        lb_val = np.round(kss.var_score(lb_scores), 4)\n",
    "\n",
    "        records.append({\n",
    "            'n': n,\n",
    "            'zones': zones if zone_mode == 'cluster' else f\"{zones[0]}×{zones[1]}\",\n",
    "            'zone_mode': zone_mode,\n",
    "            'bar_sort': sort_method,\n",
    "            'zonal_sort': zonal_sort if zonal_sort else 'None',\n",
    "            'exp_density': density_expected,\n",
    "            'exp_moran': moran_expected,\n",
    "            'exp_lb': lb_expected,\n",
    "            'var_density': density_val,\n",
    "            'var_moran': moran_val,\n",
    "            'var_lb': lb_val,\n",
    "        })\n",
    "\n",
    "    return pd.DataFrame.from_records(records)\n"
   ],
   "id": "718f61e95bc57da3",
   "outputs": [],
   "execution_count": 87
  },
  {
   "metadata": {
    "ExecuteTime": {
     "end_time": "2025-07-18T22:04:31.556101Z",
     "start_time": "2025-07-18T22:00:48.701427Z"
    }
   },
   "cell_type": "code",
   "source": [
    "df = evaluate_meuse(\n",
    "    coords_dict,\n",
    "    probs_dict,\n",
    "    n_values=[15, 30],\n",
    "    zone_list=[(1, 1)],\n",
    "    # zone_list=[2, 3, 4, 5],\n",
    "    sort_method_list=['lexico', 'random', 'distance_0', 'projection', \"max\"],\n",
    "    # zonal_sort_list=[None,'lexico', 'random', 'distance_0', 'projection', \"max\"],\n",
    "    zonal_sort_list=[None],\n",
    "    zone_mode_list=['sweep'],\n",
    "    tolerance=5,\n",
    "    split_size=1e-3,\n",
    ")"
   ],
   "id": "947c9dee2b780afb",
   "outputs": [
    {
     "name": "stderr",
     "output_type": "stream",
     "text": [
      "Total combos:   0%|          | 0/10 [00:00<?, ?combo/s]"
     ]
    },
    {
     "name": "stdout",
     "output_type": "stream",
     "text": [
      "1 75 0.0133\n"
     ]
    },
    {
     "name": "stderr",
     "output_type": "stream",
     "text": [
      "Total combos:  20%|██        | 2/10 [00:14<00:58,  7.27s/combo]"
     ]
    },
    {
     "name": "stdout",
     "output_type": "stream",
     "text": [
      "6 77 0.0779\n"
     ]
    },
    {
     "name": "stderr",
     "output_type": "stream",
     "text": [
      "Total combos:  30%|███       | 3/10 [00:21<00:49,  7.13s/combo]"
     ]
    },
    {
     "name": "stdout",
     "output_type": "stream",
     "text": [
      "0 90 0.0\n"
     ]
    },
    {
     "name": "stderr",
     "output_type": "stream",
     "text": [
      "Total combos:  40%|████      | 4/10 [00:29<00:43,  7.25s/combo]"
     ]
    },
    {
     "name": "stdout",
     "output_type": "stream",
     "text": [
      "0 105 0.0\n"
     ]
    },
    {
     "name": "stderr",
     "output_type": "stream",
     "text": [
      "Total combos:  50%|█████     | 5/10 [00:35<00:34,  6.93s/combo]"
     ]
    },
    {
     "name": "stdout",
     "output_type": "stream",
     "text": [
      "4 97 0.0412\n"
     ]
    },
    {
     "name": "stderr",
     "output_type": "stream",
     "text": [
      "Total combos:  60%|██████    | 6/10 [01:10<01:06, 16.56s/combo]"
     ]
    },
    {
     "name": "stdout",
     "output_type": "stream",
     "text": [
      "3 78 0.0385\n"
     ]
    },
    {
     "name": "stderr",
     "output_type": "stream",
     "text": [
      "Total combos:  70%|███████   | 7/10 [01:44<01:06, 22.29s/combo]"
     ]
    },
    {
     "name": "stdout",
     "output_type": "stream",
     "text": [
      "12 81 0.1481\n"
     ]
    },
    {
     "name": "stderr",
     "output_type": "stream",
     "text": [
      "Total combos:  80%|████████  | 8/10 [02:29<00:58, 29.26s/combo]"
     ]
    },
    {
     "name": "stdout",
     "output_type": "stream",
     "text": [
      "17 82 0.2073\n"
     ]
    },
    {
     "name": "stderr",
     "output_type": "stream",
     "text": [
      "Total combos:  90%|█████████ | 9/10 [03:06<00:31, 31.89s/combo]"
     ]
    },
    {
     "name": "stdout",
     "output_type": "stream",
     "text": [
      "0 94 0.0\n"
     ]
    },
    {
     "name": "stderr",
     "output_type": "stream",
     "text": [
      "Total combos: 100%|██████████| 10/10 [03:42<00:00, 22.28s/combo]"
     ]
    },
    {
     "name": "stdout",
     "output_type": "stream",
     "text": [
      "8 80 0.1\n"
     ]
    },
    {
     "name": "stderr",
     "output_type": "stream",
     "text": [
      "\n"
     ]
    }
   ],
   "execution_count": 88
  },
  {
   "metadata": {
    "ExecuteTime": {
     "end_time": "2025-07-18T22:04:42.658928Z",
     "start_time": "2025-07-18T22:04:42.565371Z"
    }
   },
   "cell_type": "code",
   "source": [
    "summary = df.pivot_table(\n",
    "    values=['exp_density', 'exp_moran'],\n",
    "    columns=['n', 'zones'],\n",
    "    index=['zonal_sort', 'bar_sort'],\n",
    "    aggfunc='first'\n",
    ")\n",
    "\n",
    "summary"
   ],
   "id": "c230889f7f4a0fc9",
   "outputs": [
    {
     "data": {
      "text/plain": [
       "                      exp_density         exp_moran        \n",
       "n                              15      30        15      30\n",
       "zones                         1×1     1×1       1×1     1×1\n",
       "zonal_sort bar_sort                                        \n",
       "None       distance_0      0.0346  0.0161   -0.3892 -0.4989\n",
       "           lexico          0.0252  0.0104   -0.3328 -0.4702\n",
       "           max             0.0267  0.0068   -0.3469 -0.4280\n",
       "           projection      0.0255  0.0174   -0.3948 -0.4678\n",
       "           random          0.0530  0.0237   -0.2935 -0.3800"
      ],
      "text/html": [
       "<div>\n",
       "<style scoped>\n",
       "    .dataframe tbody tr th:only-of-type {\n",
       "        vertical-align: middle;\n",
       "    }\n",
       "\n",
       "    .dataframe tbody tr th {\n",
       "        vertical-align: top;\n",
       "    }\n",
       "\n",
       "    .dataframe thead tr th {\n",
       "        text-align: left;\n",
       "    }\n",
       "\n",
       "    .dataframe thead tr:last-of-type th {\n",
       "        text-align: right;\n",
       "    }\n",
       "</style>\n",
       "<table border=\"1\" class=\"dataframe\">\n",
       "  <thead>\n",
       "    <tr>\n",
       "      <th></th>\n",
       "      <th></th>\n",
       "      <th colspan=\"2\" halign=\"left\">exp_density</th>\n",
       "      <th colspan=\"2\" halign=\"left\">exp_moran</th>\n",
       "    </tr>\n",
       "    <tr>\n",
       "      <th></th>\n",
       "      <th>n</th>\n",
       "      <th>15</th>\n",
       "      <th>30</th>\n",
       "      <th>15</th>\n",
       "      <th>30</th>\n",
       "    </tr>\n",
       "    <tr>\n",
       "      <th></th>\n",
       "      <th>zones</th>\n",
       "      <th>1×1</th>\n",
       "      <th>1×1</th>\n",
       "      <th>1×1</th>\n",
       "      <th>1×1</th>\n",
       "    </tr>\n",
       "    <tr>\n",
       "      <th>zonal_sort</th>\n",
       "      <th>bar_sort</th>\n",
       "      <th></th>\n",
       "      <th></th>\n",
       "      <th></th>\n",
       "      <th></th>\n",
       "    </tr>\n",
       "  </thead>\n",
       "  <tbody>\n",
       "    <tr>\n",
       "      <th rowspan=\"5\" valign=\"top\">None</th>\n",
       "      <th>distance_0</th>\n",
       "      <td>0.0346</td>\n",
       "      <td>0.0161</td>\n",
       "      <td>-0.3892</td>\n",
       "      <td>-0.4989</td>\n",
       "    </tr>\n",
       "    <tr>\n",
       "      <th>lexico</th>\n",
       "      <td>0.0252</td>\n",
       "      <td>0.0104</td>\n",
       "      <td>-0.3328</td>\n",
       "      <td>-0.4702</td>\n",
       "    </tr>\n",
       "    <tr>\n",
       "      <th>max</th>\n",
       "      <td>0.0267</td>\n",
       "      <td>0.0068</td>\n",
       "      <td>-0.3469</td>\n",
       "      <td>-0.4280</td>\n",
       "    </tr>\n",
       "    <tr>\n",
       "      <th>projection</th>\n",
       "      <td>0.0255</td>\n",
       "      <td>0.0174</td>\n",
       "      <td>-0.3948</td>\n",
       "      <td>-0.4678</td>\n",
       "    </tr>\n",
       "    <tr>\n",
       "      <th>random</th>\n",
       "      <td>0.0530</td>\n",
       "      <td>0.0237</td>\n",
       "      <td>-0.2935</td>\n",
       "      <td>-0.3800</td>\n",
       "    </tr>\n",
       "  </tbody>\n",
       "</table>\n",
       "</div>"
      ]
     },
     "execution_count": 89,
     "metadata": {},
     "output_type": "execute_result"
    }
   ],
   "execution_count": 89
  },
  {
   "metadata": {
    "ExecuteTime": {
     "end_time": "2025-07-18T19:08:08.697350Z",
     "start_time": "2025-07-18T19:08:08.672969Z"
    }
   },
   "cell_type": "code",
   "source": "top_n_records(df, ['zonal_sort', 'bar_sort', 'zones'], k=10)",
   "id": "90a5a7fc4180d251",
   "outputs": [
    {
     "data": {
      "text/plain": [
       "                          name  exp_moran\n",
       "0      distance_0 - lexico - 3    -0.3426\n",
       "1          random - lexico - 5    -0.3400\n",
       "2  projection - distance_0 - 4    -0.3355\n",
       "3      distance_0 - random - 3    -0.3335\n",
       "4  distance_0 - distance_0 - 3    -0.3335\n",
       "5  distance_0 - projection - 3    -0.3335\n",
       "6         distance_0 - max - 3    -0.3335\n",
       "7      projection - lexico - 3    -0.3335\n",
       "8      projection - random - 3    -0.3335\n",
       "9  projection - distance_0 - 3    -0.3335"
      ],
      "text/html": [
       "<div>\n",
       "<style scoped>\n",
       "    .dataframe tbody tr th:only-of-type {\n",
       "        vertical-align: middle;\n",
       "    }\n",
       "\n",
       "    .dataframe tbody tr th {\n",
       "        vertical-align: top;\n",
       "    }\n",
       "\n",
       "    .dataframe thead th {\n",
       "        text-align: right;\n",
       "    }\n",
       "</style>\n",
       "<table border=\"1\" class=\"dataframe\">\n",
       "  <thead>\n",
       "    <tr style=\"text-align: right;\">\n",
       "      <th></th>\n",
       "      <th>name</th>\n",
       "      <th>exp_moran</th>\n",
       "    </tr>\n",
       "  </thead>\n",
       "  <tbody>\n",
       "    <tr>\n",
       "      <th>0</th>\n",
       "      <td>distance_0 - lexico - 3</td>\n",
       "      <td>-0.3426</td>\n",
       "    </tr>\n",
       "    <tr>\n",
       "      <th>1</th>\n",
       "      <td>random - lexico - 5</td>\n",
       "      <td>-0.3400</td>\n",
       "    </tr>\n",
       "    <tr>\n",
       "      <th>2</th>\n",
       "      <td>projection - distance_0 - 4</td>\n",
       "      <td>-0.3355</td>\n",
       "    </tr>\n",
       "    <tr>\n",
       "      <th>3</th>\n",
       "      <td>distance_0 - random - 3</td>\n",
       "      <td>-0.3335</td>\n",
       "    </tr>\n",
       "    <tr>\n",
       "      <th>4</th>\n",
       "      <td>distance_0 - distance_0 - 3</td>\n",
       "      <td>-0.3335</td>\n",
       "    </tr>\n",
       "    <tr>\n",
       "      <th>5</th>\n",
       "      <td>distance_0 - projection - 3</td>\n",
       "      <td>-0.3335</td>\n",
       "    </tr>\n",
       "    <tr>\n",
       "      <th>6</th>\n",
       "      <td>distance_0 - max - 3</td>\n",
       "      <td>-0.3335</td>\n",
       "    </tr>\n",
       "    <tr>\n",
       "      <th>7</th>\n",
       "      <td>projection - lexico - 3</td>\n",
       "      <td>-0.3335</td>\n",
       "    </tr>\n",
       "    <tr>\n",
       "      <th>8</th>\n",
       "      <td>projection - random - 3</td>\n",
       "      <td>-0.3335</td>\n",
       "    </tr>\n",
       "    <tr>\n",
       "      <th>9</th>\n",
       "      <td>projection - distance_0 - 3</td>\n",
       "      <td>-0.3335</td>\n",
       "    </tr>\n",
       "  </tbody>\n",
       "</table>\n",
       "</div>"
      ]
     },
     "execution_count": 36,
     "metadata": {},
     "output_type": "execute_result"
    }
   ],
   "execution_count": 36
  },
  {
   "metadata": {
    "ExecuteTime": {
     "end_time": "2025-07-17T22:58:01.583006Z",
     "start_time": "2025-07-17T22:57:57.292109Z"
    }
   },
   "cell_type": "code",
   "source": [
    "df = evaluate_meuse(\n",
    "    coords_dict,\n",
    "    probs_dict,\n",
    "    n_values=[4],\n",
    "    zone_list=[(1, 1), (2, 2), (3, 3), (4, 4), (5, 5), (6, 6), (7, 7), (8, 8), (9, 9), (10, 10)],\n",
    "    sort_method_list=['random'],\n",
    "    tolerance=5,\n",
    "    split_size=1e-3,\n",
    ")"
   ],
   "id": "e422c15516d056c7",
   "outputs": [
    {
     "name": "stderr",
     "output_type": "stream",
     "text": [
      "Total combos: 100%|██████████| 10/10 [00:04<00:00,  2.34combo/s]\n"
     ]
    }
   ],
   "execution_count": 72
  },
  {
   "metadata": {
    "ExecuteTime": {
     "end_time": "2025-07-18T12:23:50.920794Z",
     "start_time": "2025-07-18T12:23:50.541770Z"
    }
   },
   "cell_type": "code",
   "source": [
    "summary = df.pivot_table(\n",
    "    columns=['sort'],\n",
    "    values=['exp_density', 'exp_moran', 'var_density', 'var_moran'],\n",
    "    index=['zones'],\n",
    "    aggfunc='first'\n",
    ")\n",
    "\n",
    "summary"
   ],
   "id": "bfca5f641c6d476a",
   "outputs": [
    {
     "ename": "KeyError",
     "evalue": "'sort'",
     "output_type": "error",
     "traceback": [
      "\u001B[0;31m---------------------------------------------------------------------------\u001B[0m",
      "\u001B[0;31mKeyError\u001B[0m                                  Traceback (most recent call last)",
      "Cell \u001B[0;32mIn[34], line 1\u001B[0m\n\u001B[0;32m----> 1\u001B[0m summary \u001B[38;5;241m=\u001B[39m \u001B[43mdf\u001B[49m\u001B[38;5;241;43m.\u001B[39;49m\u001B[43mpivot_table\u001B[49m\u001B[43m(\u001B[49m\n\u001B[1;32m      2\u001B[0m \u001B[43m    \u001B[49m\u001B[43mcolumns\u001B[49m\u001B[38;5;241;43m=\u001B[39;49m\u001B[43m[\u001B[49m\u001B[38;5;124;43m'\u001B[39;49m\u001B[38;5;124;43msort\u001B[39;49m\u001B[38;5;124;43m'\u001B[39;49m\u001B[43m]\u001B[49m\u001B[43m,\u001B[49m\n\u001B[1;32m      3\u001B[0m \u001B[43m    \u001B[49m\u001B[43mvalues\u001B[49m\u001B[38;5;241;43m=\u001B[39;49m\u001B[43m[\u001B[49m\u001B[38;5;124;43m'\u001B[39;49m\u001B[38;5;124;43mexp_density\u001B[39;49m\u001B[38;5;124;43m'\u001B[39;49m\u001B[43m,\u001B[49m\u001B[43m \u001B[49m\u001B[38;5;124;43m'\u001B[39;49m\u001B[38;5;124;43mexp_moran\u001B[39;49m\u001B[38;5;124;43m'\u001B[39;49m\u001B[43m,\u001B[49m\u001B[43m \u001B[49m\u001B[38;5;124;43m'\u001B[39;49m\u001B[38;5;124;43mvar_density\u001B[39;49m\u001B[38;5;124;43m'\u001B[39;49m\u001B[43m,\u001B[49m\u001B[43m \u001B[49m\u001B[38;5;124;43m'\u001B[39;49m\u001B[38;5;124;43mvar_moran\u001B[39;49m\u001B[38;5;124;43m'\u001B[39;49m\u001B[43m]\u001B[49m\u001B[43m,\u001B[49m\n\u001B[1;32m      4\u001B[0m \u001B[43m    \u001B[49m\u001B[43mindex\u001B[49m\u001B[38;5;241;43m=\u001B[39;49m\u001B[43m[\u001B[49m\u001B[38;5;124;43m'\u001B[39;49m\u001B[38;5;124;43mzones\u001B[39;49m\u001B[38;5;124;43m'\u001B[39;49m\u001B[43m]\u001B[49m\u001B[43m,\u001B[49m\n\u001B[1;32m      5\u001B[0m \u001B[43m    \u001B[49m\u001B[43maggfunc\u001B[49m\u001B[38;5;241;43m=\u001B[39;49m\u001B[38;5;124;43m'\u001B[39;49m\u001B[38;5;124;43mfirst\u001B[39;49m\u001B[38;5;124;43m'\u001B[39;49m\n\u001B[1;32m      6\u001B[0m \u001B[43m)\u001B[49m\n\u001B[1;32m      8\u001B[0m summary\n",
      "File \u001B[0;32m~/Documents/Projects/graphical_sampling/.venv/lib/python3.10/site-packages/pandas/core/frame.py:9509\u001B[0m, in \u001B[0;36mDataFrame.pivot_table\u001B[0;34m(self, values, index, columns, aggfunc, fill_value, margins, dropna, margins_name, observed, sort)\u001B[0m\n\u001B[1;32m   9492\u001B[0m \u001B[38;5;129m@Substitution\u001B[39m(\u001B[38;5;124m\"\u001B[39m\u001B[38;5;124m\"\u001B[39m)\n\u001B[1;32m   9493\u001B[0m \u001B[38;5;129m@Appender\u001B[39m(_shared_docs[\u001B[38;5;124m\"\u001B[39m\u001B[38;5;124mpivot_table\u001B[39m\u001B[38;5;124m\"\u001B[39m])\n\u001B[1;32m   9494\u001B[0m \u001B[38;5;28;01mdef\u001B[39;00m\u001B[38;5;250m \u001B[39m\u001B[38;5;21mpivot_table\u001B[39m(\n\u001B[0;32m   (...)\u001B[0m\n\u001B[1;32m   9505\u001B[0m     sort: \u001B[38;5;28mbool\u001B[39m \u001B[38;5;241m=\u001B[39m \u001B[38;5;28;01mTrue\u001B[39;00m,\n\u001B[1;32m   9506\u001B[0m ) \u001B[38;5;241m-\u001B[39m\u001B[38;5;241m>\u001B[39m DataFrame:\n\u001B[1;32m   9507\u001B[0m     \u001B[38;5;28;01mfrom\u001B[39;00m\u001B[38;5;250m \u001B[39m\u001B[38;5;21;01mpandas\u001B[39;00m\u001B[38;5;21;01m.\u001B[39;00m\u001B[38;5;21;01mcore\u001B[39;00m\u001B[38;5;21;01m.\u001B[39;00m\u001B[38;5;21;01mreshape\u001B[39;00m\u001B[38;5;21;01m.\u001B[39;00m\u001B[38;5;21;01mpivot\u001B[39;00m\u001B[38;5;250m \u001B[39m\u001B[38;5;28;01mimport\u001B[39;00m pivot_table\n\u001B[0;32m-> 9509\u001B[0m     \u001B[38;5;28;01mreturn\u001B[39;00m \u001B[43mpivot_table\u001B[49m\u001B[43m(\u001B[49m\n\u001B[1;32m   9510\u001B[0m \u001B[43m        \u001B[49m\u001B[38;5;28;43mself\u001B[39;49m\u001B[43m,\u001B[49m\n\u001B[1;32m   9511\u001B[0m \u001B[43m        \u001B[49m\u001B[43mvalues\u001B[49m\u001B[38;5;241;43m=\u001B[39;49m\u001B[43mvalues\u001B[49m\u001B[43m,\u001B[49m\n\u001B[1;32m   9512\u001B[0m \u001B[43m        \u001B[49m\u001B[43mindex\u001B[49m\u001B[38;5;241;43m=\u001B[39;49m\u001B[43mindex\u001B[49m\u001B[43m,\u001B[49m\n\u001B[1;32m   9513\u001B[0m \u001B[43m        \u001B[49m\u001B[43mcolumns\u001B[49m\u001B[38;5;241;43m=\u001B[39;49m\u001B[43mcolumns\u001B[49m\u001B[43m,\u001B[49m\n\u001B[1;32m   9514\u001B[0m \u001B[43m        \u001B[49m\u001B[43maggfunc\u001B[49m\u001B[38;5;241;43m=\u001B[39;49m\u001B[43maggfunc\u001B[49m\u001B[43m,\u001B[49m\n\u001B[1;32m   9515\u001B[0m \u001B[43m        \u001B[49m\u001B[43mfill_value\u001B[49m\u001B[38;5;241;43m=\u001B[39;49m\u001B[43mfill_value\u001B[49m\u001B[43m,\u001B[49m\n\u001B[1;32m   9516\u001B[0m \u001B[43m        \u001B[49m\u001B[43mmargins\u001B[49m\u001B[38;5;241;43m=\u001B[39;49m\u001B[43mmargins\u001B[49m\u001B[43m,\u001B[49m\n\u001B[1;32m   9517\u001B[0m \u001B[43m        \u001B[49m\u001B[43mdropna\u001B[49m\u001B[38;5;241;43m=\u001B[39;49m\u001B[43mdropna\u001B[49m\u001B[43m,\u001B[49m\n\u001B[1;32m   9518\u001B[0m \u001B[43m        \u001B[49m\u001B[43mmargins_name\u001B[49m\u001B[38;5;241;43m=\u001B[39;49m\u001B[43mmargins_name\u001B[49m\u001B[43m,\u001B[49m\n\u001B[1;32m   9519\u001B[0m \u001B[43m        \u001B[49m\u001B[43mobserved\u001B[49m\u001B[38;5;241;43m=\u001B[39;49m\u001B[43mobserved\u001B[49m\u001B[43m,\u001B[49m\n\u001B[1;32m   9520\u001B[0m \u001B[43m        \u001B[49m\u001B[43msort\u001B[49m\u001B[38;5;241;43m=\u001B[39;49m\u001B[43msort\u001B[49m\u001B[43m,\u001B[49m\n\u001B[1;32m   9521\u001B[0m \u001B[43m    \u001B[49m\u001B[43m)\u001B[49m\n",
      "File \u001B[0;32m~/Documents/Projects/graphical_sampling/.venv/lib/python3.10/site-packages/pandas/core/reshape/pivot.py:102\u001B[0m, in \u001B[0;36mpivot_table\u001B[0;34m(data, values, index, columns, aggfunc, fill_value, margins, dropna, margins_name, observed, sort)\u001B[0m\n\u001B[1;32m     99\u001B[0m     table \u001B[38;5;241m=\u001B[39m concat(pieces, keys\u001B[38;5;241m=\u001B[39mkeys, axis\u001B[38;5;241m=\u001B[39m\u001B[38;5;241m1\u001B[39m)\n\u001B[1;32m    100\u001B[0m     \u001B[38;5;28;01mreturn\u001B[39;00m table\u001B[38;5;241m.\u001B[39m__finalize__(data, method\u001B[38;5;241m=\u001B[39m\u001B[38;5;124m\"\u001B[39m\u001B[38;5;124mpivot_table\u001B[39m\u001B[38;5;124m\"\u001B[39m)\n\u001B[0;32m--> 102\u001B[0m table \u001B[38;5;241m=\u001B[39m \u001B[43m__internal_pivot_table\u001B[49m\u001B[43m(\u001B[49m\n\u001B[1;32m    103\u001B[0m \u001B[43m    \u001B[49m\u001B[43mdata\u001B[49m\u001B[43m,\u001B[49m\n\u001B[1;32m    104\u001B[0m \u001B[43m    \u001B[49m\u001B[43mvalues\u001B[49m\u001B[43m,\u001B[49m\n\u001B[1;32m    105\u001B[0m \u001B[43m    \u001B[49m\u001B[43mindex\u001B[49m\u001B[43m,\u001B[49m\n\u001B[1;32m    106\u001B[0m \u001B[43m    \u001B[49m\u001B[43mcolumns\u001B[49m\u001B[43m,\u001B[49m\n\u001B[1;32m    107\u001B[0m \u001B[43m    \u001B[49m\u001B[43maggfunc\u001B[49m\u001B[43m,\u001B[49m\n\u001B[1;32m    108\u001B[0m \u001B[43m    \u001B[49m\u001B[43mfill_value\u001B[49m\u001B[43m,\u001B[49m\n\u001B[1;32m    109\u001B[0m \u001B[43m    \u001B[49m\u001B[43mmargins\u001B[49m\u001B[43m,\u001B[49m\n\u001B[1;32m    110\u001B[0m \u001B[43m    \u001B[49m\u001B[43mdropna\u001B[49m\u001B[43m,\u001B[49m\n\u001B[1;32m    111\u001B[0m \u001B[43m    \u001B[49m\u001B[43mmargins_name\u001B[49m\u001B[43m,\u001B[49m\n\u001B[1;32m    112\u001B[0m \u001B[43m    \u001B[49m\u001B[43mobserved\u001B[49m\u001B[43m,\u001B[49m\n\u001B[1;32m    113\u001B[0m \u001B[43m    \u001B[49m\u001B[43msort\u001B[49m\u001B[43m,\u001B[49m\n\u001B[1;32m    114\u001B[0m \u001B[43m\u001B[49m\u001B[43m)\u001B[49m\n\u001B[1;32m    115\u001B[0m \u001B[38;5;28;01mreturn\u001B[39;00m table\u001B[38;5;241m.\u001B[39m__finalize__(data, method\u001B[38;5;241m=\u001B[39m\u001B[38;5;124m\"\u001B[39m\u001B[38;5;124mpivot_table\u001B[39m\u001B[38;5;124m\"\u001B[39m)\n",
      "File \u001B[0;32m~/Documents/Projects/graphical_sampling/.venv/lib/python3.10/site-packages/pandas/core/reshape/pivot.py:172\u001B[0m, in \u001B[0;36m__internal_pivot_table\u001B[0;34m(data, values, index, columns, aggfunc, fill_value, margins, dropna, margins_name, observed, sort)\u001B[0m\n\u001B[1;32m    169\u001B[0m     values \u001B[38;5;241m=\u001B[39m \u001B[38;5;28mlist\u001B[39m(values)\n\u001B[1;32m    171\u001B[0m observed_bool \u001B[38;5;241m=\u001B[39m \u001B[38;5;28;01mFalse\u001B[39;00m \u001B[38;5;28;01mif\u001B[39;00m observed \u001B[38;5;129;01mis\u001B[39;00m lib\u001B[38;5;241m.\u001B[39mno_default \u001B[38;5;28;01melse\u001B[39;00m observed\n\u001B[0;32m--> 172\u001B[0m grouped \u001B[38;5;241m=\u001B[39m \u001B[43mdata\u001B[49m\u001B[38;5;241;43m.\u001B[39;49m\u001B[43mgroupby\u001B[49m\u001B[43m(\u001B[49m\u001B[43mkeys\u001B[49m\u001B[43m,\u001B[49m\u001B[43m \u001B[49m\u001B[43mobserved\u001B[49m\u001B[38;5;241;43m=\u001B[39;49m\u001B[43mobserved_bool\u001B[49m\u001B[43m,\u001B[49m\u001B[43m \u001B[49m\u001B[43msort\u001B[49m\u001B[38;5;241;43m=\u001B[39;49m\u001B[43msort\u001B[49m\u001B[43m,\u001B[49m\u001B[43m \u001B[49m\u001B[43mdropna\u001B[49m\u001B[38;5;241;43m=\u001B[39;49m\u001B[43mdropna\u001B[49m\u001B[43m)\u001B[49m\n\u001B[1;32m    173\u001B[0m \u001B[38;5;28;01mif\u001B[39;00m observed \u001B[38;5;129;01mis\u001B[39;00m lib\u001B[38;5;241m.\u001B[39mno_default \u001B[38;5;129;01mand\u001B[39;00m \u001B[38;5;28many\u001B[39m(\n\u001B[1;32m    174\u001B[0m     ping\u001B[38;5;241m.\u001B[39m_passed_categorical \u001B[38;5;28;01mfor\u001B[39;00m ping \u001B[38;5;129;01min\u001B[39;00m grouped\u001B[38;5;241m.\u001B[39m_grouper\u001B[38;5;241m.\u001B[39mgroupings\n\u001B[1;32m    175\u001B[0m ):\n\u001B[1;32m    176\u001B[0m     warnings\u001B[38;5;241m.\u001B[39mwarn(\n\u001B[1;32m    177\u001B[0m         \u001B[38;5;124m\"\u001B[39m\u001B[38;5;124mThe default value of observed=False is deprecated and will change \u001B[39m\u001B[38;5;124m\"\u001B[39m\n\u001B[1;32m    178\u001B[0m         \u001B[38;5;124m\"\u001B[39m\u001B[38;5;124mto observed=True in a future version of pandas. Specify \u001B[39m\u001B[38;5;124m\"\u001B[39m\n\u001B[0;32m   (...)\u001B[0m\n\u001B[1;32m    181\u001B[0m         stacklevel\u001B[38;5;241m=\u001B[39mfind_stack_level(),\n\u001B[1;32m    182\u001B[0m     )\n",
      "File \u001B[0;32m~/Documents/Projects/graphical_sampling/.venv/lib/python3.10/site-packages/pandas/core/frame.py:9183\u001B[0m, in \u001B[0;36mDataFrame.groupby\u001B[0;34m(self, by, axis, level, as_index, sort, group_keys, observed, dropna)\u001B[0m\n\u001B[1;32m   9180\u001B[0m \u001B[38;5;28;01mif\u001B[39;00m level \u001B[38;5;129;01mis\u001B[39;00m \u001B[38;5;28;01mNone\u001B[39;00m \u001B[38;5;129;01mand\u001B[39;00m by \u001B[38;5;129;01mis\u001B[39;00m \u001B[38;5;28;01mNone\u001B[39;00m:\n\u001B[1;32m   9181\u001B[0m     \u001B[38;5;28;01mraise\u001B[39;00m \u001B[38;5;167;01mTypeError\u001B[39;00m(\u001B[38;5;124m\"\u001B[39m\u001B[38;5;124mYou have to supply one of \u001B[39m\u001B[38;5;124m'\u001B[39m\u001B[38;5;124mby\u001B[39m\u001B[38;5;124m'\u001B[39m\u001B[38;5;124m and \u001B[39m\u001B[38;5;124m'\u001B[39m\u001B[38;5;124mlevel\u001B[39m\u001B[38;5;124m'\u001B[39m\u001B[38;5;124m\"\u001B[39m)\n\u001B[0;32m-> 9183\u001B[0m \u001B[38;5;28;01mreturn\u001B[39;00m \u001B[43mDataFrameGroupBy\u001B[49m\u001B[43m(\u001B[49m\n\u001B[1;32m   9184\u001B[0m \u001B[43m    \u001B[49m\u001B[43mobj\u001B[49m\u001B[38;5;241;43m=\u001B[39;49m\u001B[38;5;28;43mself\u001B[39;49m\u001B[43m,\u001B[49m\n\u001B[1;32m   9185\u001B[0m \u001B[43m    \u001B[49m\u001B[43mkeys\u001B[49m\u001B[38;5;241;43m=\u001B[39;49m\u001B[43mby\u001B[49m\u001B[43m,\u001B[49m\n\u001B[1;32m   9186\u001B[0m \u001B[43m    \u001B[49m\u001B[43maxis\u001B[49m\u001B[38;5;241;43m=\u001B[39;49m\u001B[43maxis\u001B[49m\u001B[43m,\u001B[49m\n\u001B[1;32m   9187\u001B[0m \u001B[43m    \u001B[49m\u001B[43mlevel\u001B[49m\u001B[38;5;241;43m=\u001B[39;49m\u001B[43mlevel\u001B[49m\u001B[43m,\u001B[49m\n\u001B[1;32m   9188\u001B[0m \u001B[43m    \u001B[49m\u001B[43mas_index\u001B[49m\u001B[38;5;241;43m=\u001B[39;49m\u001B[43mas_index\u001B[49m\u001B[43m,\u001B[49m\n\u001B[1;32m   9189\u001B[0m \u001B[43m    \u001B[49m\u001B[43msort\u001B[49m\u001B[38;5;241;43m=\u001B[39;49m\u001B[43msort\u001B[49m\u001B[43m,\u001B[49m\n\u001B[1;32m   9190\u001B[0m \u001B[43m    \u001B[49m\u001B[43mgroup_keys\u001B[49m\u001B[38;5;241;43m=\u001B[39;49m\u001B[43mgroup_keys\u001B[49m\u001B[43m,\u001B[49m\n\u001B[1;32m   9191\u001B[0m \u001B[43m    \u001B[49m\u001B[43mobserved\u001B[49m\u001B[38;5;241;43m=\u001B[39;49m\u001B[43mobserved\u001B[49m\u001B[43m,\u001B[49m\n\u001B[1;32m   9192\u001B[0m \u001B[43m    \u001B[49m\u001B[43mdropna\u001B[49m\u001B[38;5;241;43m=\u001B[39;49m\u001B[43mdropna\u001B[49m\u001B[43m,\u001B[49m\n\u001B[1;32m   9193\u001B[0m \u001B[43m\u001B[49m\u001B[43m)\u001B[49m\n",
      "File \u001B[0;32m~/Documents/Projects/graphical_sampling/.venv/lib/python3.10/site-packages/pandas/core/groupby/groupby.py:1329\u001B[0m, in \u001B[0;36mGroupBy.__init__\u001B[0;34m(self, obj, keys, axis, level, grouper, exclusions, selection, as_index, sort, group_keys, observed, dropna)\u001B[0m\n\u001B[1;32m   1326\u001B[0m \u001B[38;5;28mself\u001B[39m\u001B[38;5;241m.\u001B[39mdropna \u001B[38;5;241m=\u001B[39m dropna\n\u001B[1;32m   1328\u001B[0m \u001B[38;5;28;01mif\u001B[39;00m grouper \u001B[38;5;129;01mis\u001B[39;00m \u001B[38;5;28;01mNone\u001B[39;00m:\n\u001B[0;32m-> 1329\u001B[0m     grouper, exclusions, obj \u001B[38;5;241m=\u001B[39m \u001B[43mget_grouper\u001B[49m\u001B[43m(\u001B[49m\n\u001B[1;32m   1330\u001B[0m \u001B[43m        \u001B[49m\u001B[43mobj\u001B[49m\u001B[43m,\u001B[49m\n\u001B[1;32m   1331\u001B[0m \u001B[43m        \u001B[49m\u001B[43mkeys\u001B[49m\u001B[43m,\u001B[49m\n\u001B[1;32m   1332\u001B[0m \u001B[43m        \u001B[49m\u001B[43maxis\u001B[49m\u001B[38;5;241;43m=\u001B[39;49m\u001B[43maxis\u001B[49m\u001B[43m,\u001B[49m\n\u001B[1;32m   1333\u001B[0m \u001B[43m        \u001B[49m\u001B[43mlevel\u001B[49m\u001B[38;5;241;43m=\u001B[39;49m\u001B[43mlevel\u001B[49m\u001B[43m,\u001B[49m\n\u001B[1;32m   1334\u001B[0m \u001B[43m        \u001B[49m\u001B[43msort\u001B[49m\u001B[38;5;241;43m=\u001B[39;49m\u001B[43msort\u001B[49m\u001B[43m,\u001B[49m\n\u001B[1;32m   1335\u001B[0m \u001B[43m        \u001B[49m\u001B[43mobserved\u001B[49m\u001B[38;5;241;43m=\u001B[39;49m\u001B[38;5;28;43;01mFalse\u001B[39;49;00m\u001B[43m \u001B[49m\u001B[38;5;28;43;01mif\u001B[39;49;00m\u001B[43m \u001B[49m\u001B[43mobserved\u001B[49m\u001B[43m \u001B[49m\u001B[38;5;129;43;01mis\u001B[39;49;00m\u001B[43m \u001B[49m\u001B[43mlib\u001B[49m\u001B[38;5;241;43m.\u001B[39;49m\u001B[43mno_default\u001B[49m\u001B[43m \u001B[49m\u001B[38;5;28;43;01melse\u001B[39;49;00m\u001B[43m \u001B[49m\u001B[43mobserved\u001B[49m\u001B[43m,\u001B[49m\n\u001B[1;32m   1336\u001B[0m \u001B[43m        \u001B[49m\u001B[43mdropna\u001B[49m\u001B[38;5;241;43m=\u001B[39;49m\u001B[38;5;28;43mself\u001B[39;49m\u001B[38;5;241;43m.\u001B[39;49m\u001B[43mdropna\u001B[49m\u001B[43m,\u001B[49m\n\u001B[1;32m   1337\u001B[0m \u001B[43m    \u001B[49m\u001B[43m)\u001B[49m\n\u001B[1;32m   1339\u001B[0m \u001B[38;5;28;01mif\u001B[39;00m observed \u001B[38;5;129;01mis\u001B[39;00m lib\u001B[38;5;241m.\u001B[39mno_default:\n\u001B[1;32m   1340\u001B[0m     \u001B[38;5;28;01mif\u001B[39;00m \u001B[38;5;28many\u001B[39m(ping\u001B[38;5;241m.\u001B[39m_passed_categorical \u001B[38;5;28;01mfor\u001B[39;00m ping \u001B[38;5;129;01min\u001B[39;00m grouper\u001B[38;5;241m.\u001B[39mgroupings):\n",
      "File \u001B[0;32m~/Documents/Projects/graphical_sampling/.venv/lib/python3.10/site-packages/pandas/core/groupby/grouper.py:1043\u001B[0m, in \u001B[0;36mget_grouper\u001B[0;34m(obj, key, axis, level, sort, observed, validate, dropna)\u001B[0m\n\u001B[1;32m   1041\u001B[0m         in_axis, level, gpr \u001B[38;5;241m=\u001B[39m \u001B[38;5;28;01mFalse\u001B[39;00m, gpr, \u001B[38;5;28;01mNone\u001B[39;00m\n\u001B[1;32m   1042\u001B[0m     \u001B[38;5;28;01melse\u001B[39;00m:\n\u001B[0;32m-> 1043\u001B[0m         \u001B[38;5;28;01mraise\u001B[39;00m \u001B[38;5;167;01mKeyError\u001B[39;00m(gpr)\n\u001B[1;32m   1044\u001B[0m \u001B[38;5;28;01melif\u001B[39;00m \u001B[38;5;28misinstance\u001B[39m(gpr, Grouper) \u001B[38;5;129;01mand\u001B[39;00m gpr\u001B[38;5;241m.\u001B[39mkey \u001B[38;5;129;01mis\u001B[39;00m \u001B[38;5;129;01mnot\u001B[39;00m \u001B[38;5;28;01mNone\u001B[39;00m:\n\u001B[1;32m   1045\u001B[0m     \u001B[38;5;66;03m# Add key to exclusions\u001B[39;00m\n\u001B[1;32m   1046\u001B[0m     exclusions\u001B[38;5;241m.\u001B[39madd(gpr\u001B[38;5;241m.\u001B[39mkey)\n",
      "\u001B[0;31mKeyError\u001B[0m: 'sort'"
     ]
    }
   ],
   "execution_count": 34
  },
  {
   "metadata": {},
   "cell_type": "code",
   "outputs": [],
   "execution_count": null,
   "source": "",
   "id": "ca7bfdaf16f5388b"
  }
 ],
 "metadata": {
  "kernelspec": {
   "display_name": "geometric-sampling",
   "language": "python",
   "name": "python3"
  },
  "language_info": {
   "name": "python",
   "version": "3.10.17"
  }
 },
 "nbformat": 4,
 "nbformat_minor": 5
}
