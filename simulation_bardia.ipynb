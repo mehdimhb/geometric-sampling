{
  "cells": [
    {
      "cell_type": "markdown",
      "metadata": {
        "id": "L8EamewvRhiV"
      },
      "source": [
        "### Dpi Setting"
      ]
    },
    {
      "cell_type": "code",
      "execution_count": 162,
      "metadata": {
        "id": "5lAzzJ8sZy9Z"
      },
      "outputs": [],
      "source": [
        "import matplotlib as mpl\n",
        "mpl.rcParams['figure.dpi'] = 100 # 300"
      ]
    },
    {
      "cell_type": "code",
      "execution_count": 163,
      "metadata": {},
      "outputs": [
        {
          "name": "stdout",
          "output_type": "stream",
          "text": [
            "The autoreload extension is already loaded. To reload it, use:\n",
            "  %reload_ext autoreload\n"
          ]
        }
      ],
      "source": [
        "%load_ext autoreload\n",
        "%autoreload 2"
      ]
    },
    {
      "cell_type": "code",
      "execution_count": 164,
      "metadata": {},
      "outputs": [],
      "source": [
        "from package_sampling.sampling import up_tille, up_brewer, up_systematic, up_max_entropy\n",
        "from package_sampling.utils import inclusion_probabilities\n"
      ]
    },
    {
      "cell_type": "markdown",
      "metadata": {
        "id": "xaeYeRJUkg0Z"
      },
      "source": [
        "# Dependencies"
      ]
    },
    {
      "cell_type": "markdown",
      "metadata": {
        "id": "Yo13_-M0RaP9"
      },
      "source": [
        "### Python"
      ]
    },
    {
      "cell_type": "code",
      "execution_count": 165,
      "metadata": {
        "colab": {
          "base_uri": "https://localhost:8080/"
        },
        "id": "YRKCwND9N8_J",
        "outputId": "4cce13ce-f942-4370-81ee-2887d316912e"
      },
      "outputs": [],
      "source": [
        "#%pip install -q git+https://github.com/mehdimhb/geometric-sampling@dev\n",
        "# !pip install git+https://github.com/mehdimhb/geometric-sampling@legacy-measure"
      ]
    },
    {
      "cell_type": "code",
      "execution_count": 166,
      "metadata": {
        "colab": {
          "base_uri": "https://localhost:8080/"
        },
        "id": "J60DuP82jaME",
        "outputId": "377e9528-0f57-40d4-9b1b-591352e20fa1"
      },
      "outputs": [],
      "source": [
        "# !apt-get install -y r-base\n",
        "# %pip install -q rpy2 tqdm"
      ]
    },
    {
      "cell_type": "code",
      "execution_count": 167,
      "metadata": {
        "id": "dvCqCmwnjuHn"
      },
      "outputs": [
        {
          "name": "stdout",
          "output_type": "stream",
          "text": [
            "The rpy2.ipython extension is already loaded. To reload it, use:\n",
            "  %reload_ext rpy2.ipython\n"
          ]
        }
      ],
      "source": [
        "#%load_ext rpy2.ipython\n",
        "%load_ext rpy2.ipython"
      ]
    },
    {
      "cell_type": "markdown",
      "metadata": {
        "id": "BEcbxvujRdPr"
      },
      "source": [
        "### R"
      ]
    },
    {
      "cell_type": "code",
      "execution_count": 168,
      "metadata": {
        "colab": {
          "base_uri": "https://localhost:8080/"
        },
        "id": "Ge6aoQ8fkl0n",
        "outputId": "19ad56b9-83da-49e2-a37a-de58d4bdcdd1"
      },
      "outputs": [],
      "source": [
        "%%R\n",
        "\n",
        "# if(!require(WaveSampling)){\n",
        "#     install.packages(\"WaveSampling\")\n",
        "#     library(WaveSampling)\n",
        "# }\n",
        "# if(!require(sampling)){\n",
        "#     install.packages(\"sampling\")\n",
        "#     library(sampling)\n",
        "# }\n",
        "# if(!require(BalancedSampling)){\n",
        "#     install.packages(\"BalancedSampling\")\n",
        "#     library(BalancedSampling)\n",
        "# }\n",
        "\n",
        "library(WaveSampling)\n",
        "library(sampling)\n",
        "library(BalancedSampling)\n",
        "# Now your R code goes here"
      ]
    },
    {
      "cell_type": "markdown",
      "metadata": {
        "id": "eNZsi2g5mC6N"
      },
      "source": [
        "### Imports"
      ]
    },
    {
      "cell_type": "code",
      "execution_count": 169,
      "metadata": {
        "id": "7jjvs1ctOBa3"
      },
      "outputs": [],
      "source": [
        "import matplotlib as mpl\n",
        "import numpy as np\n",
        "from rpy2.robjects import r, numpy2ri\n",
        "import rpy2.robjects as ro\n",
        "from matplotlib import pyplot as plt\n",
        "from itertools import combinations\n",
        "from collections import OrderedDict\n",
        "import pandas as pd\n",
        "import geometric_sampling as gs\n",
        "from tqdm import tqdm\n",
        "from tqdm.contrib import tenumerate\n",
        "import seaborn as sns\n",
        "import matplotlib.pyplot as plt\n",
        "import pandas as pd\n",
        "\n",
        "numpy2ri.activate()\n",
        "    \n",
        "rng = gs.random.rng()"
      ]
    },
    {
      "cell_type": "markdown",
      "metadata": {
        "id": "cUVL883DmG1Z"
      },
      "source": [
        "## Functions"
      ]
    },
    {
      "cell_type": "markdown",
      "metadata": {
        "id": "ugL9lyKcmK7h"
      },
      "source": [
        "### Scores in R"
      ]
    },
    {
      "cell_type": "code",
      "execution_count": 170,
      "metadata": {
        "id": "-oAyNRBiOVm4"
      },
      "outputs": [],
      "source": [
        "def scores(coords, probs, n, N, sample_idx):\n",
        "    assert len(coords) == len(probs) == N\n",
        "    assert len(sample_idx) == n\n",
        "    sample_mask = np.zeros(N, dtype=int)\n",
        "    sample_mask[sample_idx] = 1\n",
        "\n",
        "    ro.globalenv['sample_mask'] = sample_mask\n",
        "    ro.globalenv['sample_idx'] = sample_idx + 1\n",
        "    ro.globalenv['coords'] = coords\n",
        "    ro.globalenv['probs'] = probs\n",
        "    ro.globalenv['n'] = n\n",
        "    ro.globalenv['N'] = N\n",
        "\n",
        "    r_code = \"\"\"\n",
        "W <- wpik(coords,probs)\n",
        "W <- W - diag(diag(W))\n",
        "diag(W) <- 0  # Ensure W has zero diagonal\n",
        "\n",
        "\n",
        "ib_value <- tryCatch({\n",
        "  IB(W, sample_mask)  # Moran's Index\n",
        "}, error = function(e) {\n",
        "  Inf\n",
        "})\n",
        "\n",
        "sb_value <- tryCatch({\n",
        "  sb(probs, coords, sample_idx)  # Spatial balance\n",
        "}, error = function(e) {\n",
        "  Inf\n",
        "})\n",
        "\n",
        "sblb_value <- tryCatch({\n",
        "  sblb(probs, coords, sample_idx)  # Spatial balance using local balance\n",
        "}, error = function(e) {\n",
        "  Inf\n",
        "})\n",
        "\"\"\"\n",
        "    ro.r(r_code)\n",
        "    IB_value = ro.r(\"ib_value\")[0]\n",
        "    SB_value = ro.r(\"sb_value\")[0]\n",
        "    SBLB_value = ro.r(\"sblb_value\")[0]\n",
        "\n",
        "    scaled_coords = (coords - np.min(coords, axis=0)) / np.ptp(coords, axis=0)\n",
        "    density_measure = gs.measure.Density(scaled_coords, probs, n)\n",
        "    scores, _ = density_measure.score(sample_idx.reshape(1, -1))\n",
        "    return scores[1][0], SB_value, IB_value, SBLB_value\n",
        "    # Legacy Measure: return scores[3][0], SB_value, IB_value, SBLB_value"
      ]
    },
    {
      "cell_type": "markdown",
      "metadata": {
        "id": "qX4jASsXm7jp"
      },
      "source": [
        "# Handpicked Cases"
      ]
    },
    {
      "cell_type": "markdown",
      "metadata": {
        "id": "uCLKd3elnAA_"
      },
      "source": [
        "## Linear 1D"
      ]
    },
    {
      "cell_type": "code",
      "execution_count": 171,
      "metadata": {
        "colab": {
          "base_uri": "https://localhost:8080/"
        },
        "id": "hM4WHviCm_kh",
        "outputId": "f8af2e5c-e900-4d4c-f320-309cae6f35d2"
      },
      "outputs": [
        {
          "data": {
            "image/png": "[encoded data removed]",
            "text/plain": [
              "<Figure size 640x480 with 1 Axes>"
            ]
          },
          "metadata": {},
          "output_type": "display_data"
        },
        {
          "name": "stdout",
          "output_type": "stream",
          "text": [
            "   Sample   # Density Voronai  Moran Local Balance\n",
            "0   ai aj   1    0.14     0.0  -0.25          0.49\n",
            "1   ai bi   2    0.14    0.04  -0.06          0.55\n",
            "2   ai bj   2    0.11    0.04  -0.17          0.39\n",
            "3   ai ci   2    0.11    0.04    0.0          0.52\n",
            "4   ai cj   2    0.07    0.04  -0.79          0.36\n",
            "5   ai di   2    0.07    0.16  -0.24          0.59\n",
            "6   ai dj   2    0.02    0.16  -0.84          0.47\n",
            "7   ai ei   2    0.02    0.25   -0.2          0.71\n",
            "8   ai ej   2     0.0    0.16   -1.0          0.58\n",
            "9   bi bj   1    0.07     0.0  -0.79          0.25\n",
            "10  bi ci   2    0.14    0.16   0.06          0.69\n",
            "11  bi cj   2    0.02    0.01  -0.84          0.18\n",
            "12  bi di   2    0.11    0.36   0.13          0.76\n",
            "13  bi dj   2     0.0    0.04   -1.0          0.28\n",
            "14  bi ei   2    0.07    0.36  -0.13          0.85\n",
            "15  bi ej   2    0.03    0.04  -0.76          0.42\n",
            "16  ci cj   1     0.0     0.0   -1.0           0.0\n",
            "17  ci di   2    0.14    0.36   0.19          0.89\n",
            "18  ci dj   2    0.03    0.01  -0.76           0.2\n",
            "19  ci ei   2    0.14    0.36    0.3          0.97\n",
            "20  ci ej   2    0.11    0.04  -0.61          0.39\n",
            "21  di dj   1    0.11     0.0  -0.61          0.25\n",
            "22  di ei   2    0.14    0.64   0.37          1.14\n",
            "23  di ej   2     0.2     0.0   -0.5          0.39\n",
            "24  ei ej   1    0.29     0.0  -0.41          0.49\n",
            "25   Mean  45    0.09    0.15  -0.37          0.54\n"
          ]
        }
      ],
      "source": [
        "points = {\n",
        "    (0.35,): \"a1\",\n",
        "    (-0.35,): \"a2\",\n",
        "    (1.05,): \"b1\",\n",
        "    (-1.05,): \"b2\",\n",
        "    (1.75,): \"c1\",\n",
        "    (-1.75,): \"c2\",\n",
        "    (2.45,): \"d1\",\n",
        "    (-2.45,): \"d2\",\n",
        "    (3.15,): \"e1\",\n",
        "    (-3.15,): \"e2\",\n",
        "}\n",
        "\n",
        "N = len(points)\n",
        "n = 2\n",
        "coords = np.array(list(points.keys()))\n",
        "probs = rng.equal_probabilities(n, N)\n",
        "fig, ax = plt.subplots()\n",
        "for (x,), label in points.items():\n",
        "    ax.plot(x, 0, 'o', markersize=25, markerfacecolor='white', markeredgecolor='black', markeredgewidth=1)\n",
        "    ax.text(x, 0, label, color=\"black\", ha=\"center\", va=\"center\", fontsize=12)\n",
        "ax.set_xlim(-4, 4)\n",
        "ax.set_ylim(-1, 1)\n",
        "ax.set_aspect(\"equal\")\n",
        "ax.axis(\"off\")\n",
        "ax.axvspan(0, 4, facecolor='green', alpha=0.3)\n",
        "ax.axvspan(-4, 0, facecolor='blue', alpha=0.3)\n",
        "\n",
        "plt.show()\n",
        "\n",
        "dic_score = {}\n",
        "for i, j in combinations(range(0, N), 2):\n",
        "    i_label, j_label = points[tuple(coords[i])], points[tuple(coords[j])]\n",
        "    if i_label[1] == j_label[1]:\n",
        "        identifier = f\"{i_label[0]}i {j_label[0]}i\"\n",
        "    else:\n",
        "        identifier = f\"{i_label[0]}i {j_label[0]}j\"\n",
        "    sample_idx = np.array([i, j])\n",
        "    dic_score.setdefault(identifier, [])\n",
        "    dic_score[identifier].append(np.array(scores(coords, probs, n, N, sample_idx)))\n",
        "\n",
        "result = []\n",
        "for i, s in dic_score.items():\n",
        "    ss = np.round(np.mean(s, axis=0), 2)\n",
        "    row = np.concatenate([[i, len(s)], ss])\n",
        "    result.append(row)\n",
        "\n",
        "all_scores = np.concatenate([s for s in dic_score.values()])\n",
        "overall_mean = np.round(np.mean(all_scores, axis=0), 2)\n",
        "\n",
        "\n",
        "result.append(\n",
        "    np.concatenate([[\"Mean\", len(all_scores)], overall_mean])\n",
        ")\n",
        "\n",
        "df = pd.DataFrame(result, columns=[\"Sample\", \"#\", \"Density\", \"Voronai\", \"Moran\", \"Local Balance\"])\n",
        "# print(df.to_latex(index=False))\n",
        "print(df)"
      ]
    },
    {
      "cell_type": "markdown",
      "metadata": {
        "id": "3-YqwpozLcRG"
      },
      "source": [
        "## 4 3x3"
      ]
    },
    {
      "cell_type": "code",
      "execution_count": 172,
      "metadata": {
        "colab": {
          "base_uri": "https://localhost:8080/",
          "height": 1000
        },
        "id": "CMD3VCXBywj7",
        "outputId": "2861e0ba-04c2-4534-82cd-1bd9c5d5e6cb"
      },
      "outputs": [
        {
          "data": {
            "image/png": "[encoded data removed]",
            "text/plain": [
              "<Figure size 600x600 with 1 Axes>"
            ]
          },
          "metadata": {},
          "output_type": "display_data"
        },
        {
          "data": {
            "text/html": [
              "<div>\n",
              "<style scoped>\n",
              "    .dataframe tbody tr th:only-of-type {\n",
              "        vertical-align: middle;\n",
              "    }\n",
              "\n",
              "    .dataframe tbody tr th {\n",
              "        vertical-align: top;\n",
              "    }\n",
              "\n",
              "    .dataframe thead th {\n",
              "        text-align: right;\n",
              "    }\n",
              "</style>\n",
              "<table border=\"1\" class=\"dataframe\">\n",
              "  <thead>\n",
              "    <tr style=\"text-align: right;\">\n",
              "      <th></th>\n",
              "      <th>Sample</th>\n",
              "      <th>Density</th>\n",
              "      <th>Voronai</th>\n",
              "      <th>Moran</th>\n",
              "      <th>Local Balance</th>\n",
              "    </tr>\n",
              "  </thead>\n",
              "  <tbody>\n",
              "    <tr>\n",
              "      <th>0</th>\n",
              "      <td>e1 e2 e3 e4</td>\n",
              "      <td>0.00</td>\n",
              "      <td>0.00</td>\n",
              "      <td>-1.00</td>\n",
              "      <td>0.00</td>\n",
              "    </tr>\n",
              "    <tr>\n",
              "      <th>1</th>\n",
              "      <td>a1 a2 a3 a4</td>\n",
              "      <td>0.00</td>\n",
              "      <td>0.11</td>\n",
              "      <td>-0.59</td>\n",
              "      <td>0.43</td>\n",
              "    </tr>\n",
              "    <tr>\n",
              "      <th>2</th>\n",
              "      <td>d1 d2 d3 d4</td>\n",
              "      <td>0.00</td>\n",
              "      <td>0.02</td>\n",
              "      <td>-0.83</td>\n",
              "      <td>0.28</td>\n",
              "    </tr>\n",
              "    <tr>\n",
              "      <th>3</th>\n",
              "      <td>b1 d2 h3 f4</td>\n",
              "      <td>0.02</td>\n",
              "      <td>0.00</td>\n",
              "      <td>-0.75</td>\n",
              "      <td>0.19</td>\n",
              "    </tr>\n",
              "    <tr>\n",
              "      <th>4</th>\n",
              "      <td>f1 b2 d3 h4</td>\n",
              "      <td>0.33</td>\n",
              "      <td>0.00</td>\n",
              "      <td>-0.69</td>\n",
              "      <td>0.26</td>\n",
              "    </tr>\n",
              "    <tr>\n",
              "      <th>5</th>\n",
              "      <td>d1 h2 f3 b4</td>\n",
              "      <td>0.40</td>\n",
              "      <td>0.00</td>\n",
              "      <td>-0.50</td>\n",
              "      <td>0.26</td>\n",
              "    </tr>\n",
              "    <tr>\n",
              "      <th>6</th>\n",
              "      <td>a1 c1 g1 i1</td>\n",
              "      <td>0.34</td>\n",
              "      <td>0.56</td>\n",
              "      <td>0.38</td>\n",
              "      <td>0.84</td>\n",
              "    </tr>\n",
              "    <tr>\n",
              "      <th>7</th>\n",
              "      <td>b1 d1 f1 h1</td>\n",
              "      <td>0.48</td>\n",
              "      <td>0.56</td>\n",
              "      <td>0.52</td>\n",
              "      <td>0.79</td>\n",
              "    </tr>\n",
              "    <tr>\n",
              "      <th>8</th>\n",
              "      <td>h1 d2 b3 f4</td>\n",
              "      <td>0.03</td>\n",
              "      <td>0.00</td>\n",
              "      <td>-0.00</td>\n",
              "      <td>0.26</td>\n",
              "    </tr>\n",
              "  </tbody>\n",
              "</table>\n",
              "</div>"
            ],
            "text/plain": [
              "        Sample Density Voronai  Moran Local Balance\n",
              "0  e1 e2 e3 e4    0.00    0.00  -1.00          0.00\n",
              "1  a1 a2 a3 a4    0.00    0.11  -0.59          0.43\n",
              "2  d1 d2 d3 d4    0.00    0.02  -0.83          0.28\n",
              "3  b1 d2 h3 f4    0.02    0.00  -0.75          0.19\n",
              "4  f1 b2 d3 h4    0.33    0.00  -0.69          0.26\n",
              "5  d1 h2 f3 b4    0.40    0.00  -0.50          0.26\n",
              "6  a1 c1 g1 i1    0.34    0.56   0.38          0.84\n",
              "7  b1 d1 f1 h1    0.48    0.56   0.52          0.79\n",
              "8  h1 d2 b3 f4    0.03    0.00  -0.00          0.26"
            ]
          },
          "metadata": {},
          "output_type": "display_data"
        }
      ],
      "source": [
        "samples = np.array([\n",
        "    [\"e1\", \"e2\", \"e3\", \"e4\"],\n",
        "    [\"a1\", \"a2\", \"a3\", \"a4\"],\n",
        "    [\"d1\", \"d2\", \"d3\", \"d4\"],\n",
        "    [\"f4\", \"h3\", \"d2\", \"b1\"],\n",
        "    [\"f1\", \"b2\", \"d3\", \"h4\"],\n",
        "    [\"f3\", \"d1\", \"b4\", \"h2\"],\n",
        "    [\"a1\", \"c1\", \"g1\", \"i1\"],\n",
        "    [\"b1\", \"d1\", \"f1\", \"h1\"],\n",
        "    #### NEW Interstings\n",
        "    \"h1 d2 b3 f4\".split(\" \"),\n",
        "])\n",
        "\n",
        "x3coords = rng.grid_coordinates((3, 2)) * 2\n",
        "x3probs = rng.equal_probabilities(1, 9)\n",
        "\n",
        "left = x3coords.copy()\n",
        "right = x3coords.copy()\n",
        "up = x3coords.copy()\n",
        "down = x3coords.copy()\n",
        "\n",
        "left_labels = [chr(ord('a') + i) + '1' for i in range(9)]\n",
        "right_labels = [chr(ord('a') + i) + '3' for i in range(9)]\n",
        "up_labels = [chr(ord('a') + i) + '2' for i in range(9)]\n",
        "down_labels = [chr(ord('a') + i) + '4' for i in range(9)]\n",
        "\n",
        "####### TEST\n",
        "import itertools\n",
        "# samples = np.array([\n",
        "#     [l, u, r, d]\n",
        "#     for l, u, r, d in itertools.product(left_labels, up_labels, right_labels, down_labels)\n",
        "# ])\n",
        "#######\n",
        "\n",
        "left[:, 0] += 1\n",
        "left[:, 1] += 3.5\n",
        "right[:, 0] += 6\n",
        "right[:, 1] += 3.5\n",
        "up[:, 0] += 3.5\n",
        "up[:, 1] += 6\n",
        "down[:, 0] += 3.5\n",
        "down[:, 1] += 1\n",
        "\n",
        "\n",
        "coords = np.vstack([left, right, up, down])\n",
        "probs = np.concatenate([x3probs, x3probs, x3probs, x3probs])\n",
        "labels = np.concatenate([left_labels, right_labels, up_labels, down_labels])\n",
        "label_to_idx = {l: idx for idx, (c, l) in enumerate(zip(coords, labels))}\n",
        "assert len(probs) == len(coords) == len(labels)\n",
        "\n",
        "N = len(coords)\n",
        "n = 4\n",
        "points = {}\n",
        "fig, ax = plt.subplots(figsize=(6, 6))\n",
        "ax.set_aspect(\"equal\")\n",
        "for (x, y), label in zip(coords, labels):\n",
        "    points[label] = (x, y)\n",
        "    ax.plot(x, y, 'o', markersize=25, markerfacecolor='white', label=1, markeredgecolor='black', markeredgewidth=1)\n",
        "    ax.text(x, y, label, fontsize=12, ha='center', va='center')\n",
        "\n",
        "plt.show()\n",
        "\n",
        "results = []\n",
        "for sample in samples:\n",
        "    sample_idx = np.array([label_to_idx[s] for s in sample])\n",
        "    identifier = \" \".join(sorted(sample, key=lambda x: x[1]))\n",
        "    s = scores(coords, probs, n, N, sample_idx)\n",
        "    s_formatted = [f\"{num:.2f}\" for num in s]  # Corrected line\n",
        "    results.append([identifier] + s_formatted)\n",
        "\n",
        "df = pd.DataFrame(results, columns=[\"Sample\", \"Density\", \"Voronai\", \"Moran\", \"Local Balance\"])\n",
        "display(df)\n",
        "#print(df.to_latex())\n"
      ]
    },
    {
      "cell_type": "markdown",
      "metadata": {
        "id": "Gl_TYPfeL2ra"
      },
      "source": [
        "## Rotating"
      ]
    },
    {
      "cell_type": "code",
      "execution_count": 173,
      "metadata": {
        "colab": {
          "base_uri": "https://localhost:8080/"
        },
        "id": "QwZ4qUjSL60b",
        "outputId": "1660c4f9-5f01-4697-b7f2-5c78217dd714"
      },
      "outputs": [
        {
          "data": {
            "image/png": "[encoded data removed]",
            "text/plain": [
              "<Figure size 600x600 with 1 Axes>"
            ]
          },
          "metadata": {},
          "output_type": "display_data"
        },
        {
          "data": {
            "text/html": [
              "<div>\n",
              "<style scoped>\n",
              "    .dataframe tbody tr th:only-of-type {\n",
              "        vertical-align: middle;\n",
              "    }\n",
              "\n",
              "    .dataframe tbody tr th {\n",
              "        vertical-align: top;\n",
              "    }\n",
              "\n",
              "    .dataframe thead th {\n",
              "        text-align: right;\n",
              "    }\n",
              "</style>\n",
              "<table border=\"1\" class=\"dataframe\">\n",
              "  <thead>\n",
              "    <tr style=\"text-align: right;\">\n",
              "      <th></th>\n",
              "      <th>Sample</th>\n",
              "      <th>#</th>\n",
              "      <th>Density</th>\n",
              "      <th>Voronai</th>\n",
              "      <th>Moran</th>\n",
              "      <th>Local Balance</th>\n",
              "    </tr>\n",
              "  </thead>\n",
              "  <tbody>\n",
              "    <tr>\n",
              "      <th>0</th>\n",
              "      <td>aaa</td>\n",
              "      <td>1</td>\n",
              "      <td>0.56</td>\n",
              "      <td>0.0</td>\n",
              "      <td>-1.0</td>\n",
              "      <td>0.263</td>\n",
              "    </tr>\n",
              "    <tr>\n",
              "      <th>1</th>\n",
              "      <td>aab</td>\n",
              "      <td>3</td>\n",
              "      <td>0.3</td>\n",
              "      <td>0.0</td>\n",
              "      <td>-1.0</td>\n",
              "      <td>0.214</td>\n",
              "    </tr>\n",
              "    <tr>\n",
              "      <th>2</th>\n",
              "      <td>aac</td>\n",
              "      <td>3</td>\n",
              "      <td>0.141</td>\n",
              "      <td>0.0</td>\n",
              "      <td>-1.0</td>\n",
              "      <td>0.263</td>\n",
              "    </tr>\n",
              "    <tr>\n",
              "      <th>3</th>\n",
              "      <td>abb</td>\n",
              "      <td>3</td>\n",
              "      <td>0.101</td>\n",
              "      <td>0.0</td>\n",
              "      <td>-1.0</td>\n",
              "      <td>0.152</td>\n",
              "    </tr>\n",
              "    <tr>\n",
              "      <th>4</th>\n",
              "      <td>abc</td>\n",
              "      <td>6</td>\n",
              "      <td>0.045</td>\n",
              "      <td>0.0</td>\n",
              "      <td>-1.0</td>\n",
              "      <td>0.214</td>\n",
              "    </tr>\n",
              "    <tr>\n",
              "      <th>5</th>\n",
              "      <td>acc</td>\n",
              "      <td>3</td>\n",
              "      <td>0.039</td>\n",
              "      <td>0.0</td>\n",
              "      <td>-1.0</td>\n",
              "      <td>0.263</td>\n",
              "    </tr>\n",
              "    <tr>\n",
              "      <th>6</th>\n",
              "      <td>bbb</td>\n",
              "      <td>1</td>\n",
              "      <td>0.0</td>\n",
              "      <td>0.0</td>\n",
              "      <td>-1.0</td>\n",
              "      <td>0.0</td>\n",
              "    </tr>\n",
              "    <tr>\n",
              "      <th>7</th>\n",
              "      <td>bbc</td>\n",
              "      <td>3</td>\n",
              "      <td>0.067</td>\n",
              "      <td>0.0</td>\n",
              "      <td>-1.0</td>\n",
              "      <td>0.152</td>\n",
              "    </tr>\n",
              "    <tr>\n",
              "      <th>8</th>\n",
              "      <td>bcc</td>\n",
              "      <td>3</td>\n",
              "      <td>0.161</td>\n",
              "      <td>0.0</td>\n",
              "      <td>-1.0</td>\n",
              "      <td>0.214</td>\n",
              "    </tr>\n",
              "    <tr>\n",
              "      <th>9</th>\n",
              "      <td>ccc</td>\n",
              "      <td>1</td>\n",
              "      <td>0.223</td>\n",
              "      <td>0.0</td>\n",
              "      <td>-1.0</td>\n",
              "      <td>0.263</td>\n",
              "    </tr>\n",
              "    <tr>\n",
              "      <th>10</th>\n",
              "      <td>Mean</td>\n",
              "      <td>27</td>\n",
              "      <td>0.13</td>\n",
              "      <td>0.0</td>\n",
              "      <td>-1.0</td>\n",
              "      <td>0.21</td>\n",
              "    </tr>\n",
              "  </tbody>\n",
              "</table>\n",
              "</div>"
            ],
            "text/plain": [
              "   Sample   # Density Voronai Moran Local Balance\n",
              "0     aaa   1    0.56     0.0  -1.0         0.263\n",
              "1     aab   3     0.3     0.0  -1.0         0.214\n",
              "2     aac   3   0.141     0.0  -1.0         0.263\n",
              "3     abb   3   0.101     0.0  -1.0         0.152\n",
              "4     abc   6   0.045     0.0  -1.0         0.214\n",
              "5     acc   3   0.039     0.0  -1.0         0.263\n",
              "6     bbb   1     0.0     0.0  -1.0           0.0\n",
              "7     bbc   3   0.067     0.0  -1.0         0.152\n",
              "8     bcc   3   0.161     0.0  -1.0         0.214\n",
              "9     ccc   1   0.223     0.0  -1.0         0.263\n",
              "10   Mean  27    0.13     0.0  -1.0          0.21"
            ]
          },
          "metadata": {},
          "output_type": "display_data"
        }
      ],
      "source": [
        "def rotate_point(p, t, cost=None, sint=None):\n",
        "    if cost is None or sint is None:\n",
        "        cost, sint = np.cos(t), np.sin(t)\n",
        "    return np.array([\n",
        "        p[0] * cost - p[1] * sint,\n",
        "        p[0] * sint + p[1] * cost\n",
        "    ])\n",
        "\n",
        "def rotate_matrix(matrix, t, cost=None, sint=None):\n",
        "    if cost is None or sint is None:\n",
        "        cost, sint = np.cos(t), np.sin(t)\n",
        "    return np.apply_along_axis(rotate_point, 1, matrix, t, cost, sint)\n",
        "\n",
        "template = np.array([\n",
        "    [0.0, -0.5],\n",
        "    [0.0, -1],\n",
        "    [0.0, -1.5]\n",
        "])\n",
        "template = np.array([\n",
        "    [0.0, -2],\n",
        "    [0.0, -3],\n",
        "    [0.0, -4]\n",
        "])\n",
        "\n",
        "angles = np.arange(0, 3) * (2.0 * np.pi / 3.0)\n",
        "pop = np.vstack([rotate_matrix(template, angle) for angle in angles])\n",
        "\n",
        "all_points = pop\n",
        "labels = [\"a1\", \"b1\", \"c1\", \"a2\", \"b2\", \"c2\", \"a3\", \"b3\", \"c3\"]\n",
        "\n",
        "fig, ax = plt.subplots(figsize=(6, 6))\n",
        "ax.set_aspect(\"equal\")\n",
        "\n",
        "for (x, y), label in zip(all_points, labels):\n",
        "    ax.plot(x, y, 'o', markersize=25, markerfacecolor='white', markeredgecolor='black', markeredgewidth=1)\n",
        "    ax.text(x, y, label, fontsize=12, ha='center', va='center')\n",
        "\n",
        "ax.set_xticks([])\n",
        "ax.set_yticks([])\n",
        "plt.show()\n",
        "\n",
        "N = len(all_points)\n",
        "n = 3\n",
        "coords = np.array(all_points)\n",
        "probs = rng.equal_probabilities(n, N)\n",
        "\n",
        "from itertools import combinations, combinations_with_replacement\n",
        "\n",
        "dic_score = {}\n",
        "for i, j, k in combinations(range(0, N), 3):\n",
        "    i_label, j_label, k_label = labels[i], labels[j], labels[k]\n",
        "    ids = list(sorted([i_label[0], j_label[0], k_label[0]]))\n",
        "    identifier = \"\".join(ids)\n",
        "\n",
        "    if len(set([i_label[1], j_label[1], k_label[1]])) != n:\n",
        "      continue\n",
        "\n",
        "    sample_idx = np.array([i, j, k])\n",
        "    dic_score.setdefault(identifier, [])\n",
        "    dic_score[identifier].append(np.array(scores(coords, probs, n, N, sample_idx)))\n",
        "\n",
        "result = []\n",
        "for i, s in dic_score.items():\n",
        "    ss = np.round(np.mean(s, axis=0), 3)\n",
        "    row = np.concatenate([[i, len(s)], ss])\n",
        "    result.append(row)\n",
        "\n",
        "all_scores = np.concatenate([s for s in dic_score.values()])\n",
        "overall_mean = np.mean(all_scores, axis=0)\n",
        "\n",
        "result.append(\n",
        "    np.concatenate([[\"Mean\", len(all_scores)], np.round(overall_mean, 2)])\n",
        ")\n",
        "df = pd.DataFrame(result, columns=[\"Sample\", \"#\", \"Density\", \"Voronai\", \"Moran\", \"Local Balance\"])\n",
        "df = df.round(2)  # Rounds all float columns to 2 decimals\n",
        "display(df)\n",
        "# print(df.to_latex())"
      ]
    },
    {
      "cell_type": "markdown",
      "metadata": {
        "id": "TyuVl1gw8_tA"
      },
      "source": [
        "# Simulations"
      ]
    },
    {
      "cell_type": "markdown",
      "metadata": {
        "id": "ej46nL5U9JTF"
      },
      "source": [
        "## Methods"
      ]
    },
    {
      "cell_type": "code",
      "execution_count": 174,
      "metadata": {
        "id": "WbmlUyZf9QIj"
      },
      "outputs": [],
      "source": [
        "def local_pivotal_samples(coords, probs, n, num_samples):\n",
        "    ro.globalenv['coords'] = coords\n",
        "    ro.globalenv['probs'] = probs\n",
        "\n",
        "    samples_idx = np.zeros((num_samples, n), dtype=int)\n",
        "    for i in range(num_samples):\n",
        "        r_code = \"\"\"\n",
        "s <- lpm(probs, coords) # Local Pivotal Method\n",
        "\"\"\"\n",
        "        ro.r(r_code)\n",
        "        sample_idx = np.array(list(ro.r(\"s\"))) - 1\n",
        "        samples_idx[i] = sample_idx\n",
        "\n",
        "    return samples_idx\n",
        "\n",
        "def k_means_samples(coords, probs, n, num_samples, n_zones):\n",
        "    return gs.sampling.KMeansSpatialSampling(coords, probs, n=n, n_zones=n_zones, tolerance=5).sample(num_samples)\n",
        "\n",
        "def random_samples(coords, probs, n, num_samples):\n",
        "    return gs.sampling.RandomSampling(coords, probs, n=n).sample(num_samples)\n",
        "\n",
        "def upmaxentropy_samples(probs, num_samples):\n",
        "    ro.globalenv['probs'] = probs\n",
        "\n",
        "    samples_idx = np.zeros((num_samples, n), dtype=int)\n",
        "    for i in range(num_samples):\n",
        "        r_code = \"\"\"\n",
        "        mask <- UPmaxentropy(probs)\n",
        "        \"\"\"\n",
        "        ro.r(r_code)\n",
        "        mask = np.array(ro.r(\"mask\"))\n",
        "        if mask.dtype != np.bool_:\n",
        "            mask = mask.astype(bool)\n",
        "        sample_idx = np.where(mask)[0]\n",
        "        samples_idx[i] = sample_idx\n",
        "\n",
        "    return samples_idx\n",
        "\n",
        "    return np.array(samples)\n",
        "\n",
        "\n",
        "def wave_samples(coords, probs, n, num_samples):\n",
        "    ro.globalenv['coords'] = coords\n",
        "    ro.globalenv['probs'] = probs\n",
        "\n",
        "    samples_idx = np.zeros((num_samples, n), dtype=int)\n",
        "    for i in range(num_samples):\n",
        "        r_code = \"\"\"\n",
        "wave_mask <- wave(coords, probs)\n",
        "\"\"\"\n",
        "        ro.r(r_code)\n",
        "        mask = np.array(ro.r(\"wave_mask\"))\n",
        "        if mask.dtype != np.bool_:\n",
        "            mask = mask.astype(bool)\n",
        "        sample_idx = np.where(mask)[0]\n",
        "        samples_idx[i] = sample_idx\n",
        "\n",
        "    return samples_idx\n",
        "\n",
        "\n",
        "def find_samples(coords, probs, n, num_samples):\n",
        "    return {\n",
        "        \"K-Means (2, 2)\": k_means_samples(coords, probs, n, num_samples, (2, 2)),\n",
        "        \"K-Means (5, 5)\": k_means_samples(coords, probs, n, num_samples, (3, 3)),\n",
        "        \"Local Pivotal\": local_pivotal_samples(coords, probs, n, num_samples),\n",
        "        \"Random\": random_samples(coords, probs, n, num_samples),\n",
        "        \"UPmaxentropy\": upmaxentropy_samples(probs, num_samples),\n",
        "        # \"Wave\": wave_samples(coords, probs, n, num_samples),\n",
        "    }"
      ]
    },
    {
      "cell_type": "markdown",
      "metadata": {
        "id": "TbDZj94eQLnY"
      },
      "source": [
        "## Initial Population"
      ]
    },
    {
      "cell_type": "code",
      "execution_count": 175,
      "metadata": {
        "id": "9vdqnMKqVo2z"
      },
      "outputs": [],
      "source": [
        "n = 4 # Number of item in each sample (number of clusters)\n",
        "sample_cnt = 20 # How many sample gather from each desiging method"
      ]
    },
    {
      "cell_type": "markdown",
      "metadata": {
        "id": "LbUzOW7nbTQr"
      },
      "source": [
        "### Coords"
      ]
    },
    {
      "cell_type": "markdown",
      "metadata": {
        "id": "VpmbeoRUbZkr"
      },
      "source": [
        "Uncomment each one you would like to get result from"
      ]
    },
    {
      "cell_type": "code",
      "execution_count": 176,
      "metadata": {
        "id": "Wj3Iv23wcdK5"
      },
      "outputs": [],
      "source": [
        "######## GRID\n",
        "n = 10\n",
        "grid_size = 20\n",
        "N = grid_size**2\n",
        "coords = rng.grid_coordinates((grid_size, 2))\n",
        "\n",
        "\n",
        "######### RANDOM\n",
        "# N = 400\n",
        "# coords = rng.random_coordinates((N, 2))\n",
        "\n",
        "######### CLUSTRED\n",
        "n_clusters = 4\n",
        "cluster_std = 0.05\n",
        "N = 400\n",
        "coords = rng.cluster_coordinates(n_clusters, cluster_std, (N, 2))\n",
        "idx = np.lexsort((coords[:,1], coords[:,0]))\n",
        "coords = coords[idx]\n",
        "\n",
        "\n",
        "######### SWISS: https://docs.google.com/spreadsheets/d/10uYLsZpxRV5lUrsGfy3gI0RD4fAn8lIP/edit?usp=sharing&ouid=117333816980669142577&rtpof=true&sd=true\n",
        "swiss_df = pd.read_csv('/home/divar/projects/geometric-sampling/swiss.csv')\n",
        "coords = swiss_df[['COORD_X', 'COORD_Y']].to_numpy()\n",
        "N = len(coords)"
      ]
    },
    {
      "cell_type": "code",
      "execution_count": 177,
      "metadata": {},
      "outputs": [],
      "source": [
        "#list(swiss_df.columns)"
      ]
    },
    {
      "cell_type": "markdown",
      "metadata": {
        "id": "V0YAXv9VcSNW"
      },
      "source": [
        "### Probabilities"
      ]
    },
    {
      "cell_type": "markdown",
      "metadata": {
        "id": "eEmansSRcXns"
      },
      "source": [
        "Uncomment each one you would like to get result from"
      ]
    },
    {
      "cell_type": "code",
      "execution_count": 178,
      "metadata": {
        "id": "T6BWVz8Pcspj"
      },
      "outputs": [
        {
          "name": "stderr",
          "output_type": "stream",
          "text": [
            "/home/divar/projects/geometric-sampling/.venv/lib/python3.12/site-packages/package_sampling/utils/inclusion_probabilities.py:40: UserWarning: There are zero values in the initial vector `a`.\n",
            "  warnings.warn(\"There are zero values in the initial vector `a`.\", UserWarning)\n"
          ]
        }
      ],
      "source": [
        "######### EQUAL\n",
        "probs = rng.equal_probabilities(n, N)\n",
        "\n",
        "\n",
        "######### UNEQUAL\n",
        "#probs = np.sort(rng.unequal_probabilities(n, N))\n",
        "\n",
        "probs = inclusion_probabilities(swiss_df['AREA'].to_numpy(), n)"
      ]
    },
    {
      "cell_type": "markdown",
      "metadata": {
        "id": "DEPDfH_nQLDo"
      },
      "source": [
        "## Results"
      ]
    },
    {
      "cell_type": "markdown",
      "metadata": {
        "id": "jySe4VMzW1ed"
      },
      "source": [
        "### Plotting coords"
      ]
    },
    {
      "cell_type": "code",
      "execution_count": 179,
      "metadata": {
        "colab": {
          "base_uri": "https://localhost:8080/",
          "height": 1000
        },
        "id": "grCXyS-WW_xs",
        "outputId": "641e19c0-d872-4d9b-c07e-89b0b7faeee0"
      },
      "outputs": [
        {
          "name": "stderr",
          "output_type": "stream",
          "text": [
            "/home/divar/projects/geometric-sampling/geometric_sampling/clustering/aggregate.py:106: RuntimeWarning: divide by zero encountered in scalar divide\n",
            "  ((self.Ti[old_cluster] - self.Ti[new_cluster]) / (2*np.sum(self.X_features[data_index])))\n",
            "/home/divar/projects/geometric-sampling/geometric_sampling/clustering/aggregate.py:112: RuntimeWarning: divide by zero encountered in scalar divide\n",
            "  ((self.Ti[old_cluster] - self.goal) / np.sum(self.X_features[data_index])),\n",
            "/home/divar/projects/geometric-sampling/geometric_sampling/clustering/aggregate.py:113: RuntimeWarning: divide by zero encountered in scalar divide\n",
            "  ((self.goal - self.Ti[new_cluster]) / np.sum(self.X_features[data_index])),\n"
          ]
        },
        {
          "data": {
            "image/png": "[encoded data removed]",
            "text/plain": [
              "<Figure size 640x480 with 1 Axes>"
            ]
          },
          "metadata": {},
          "output_type": "display_data"
        }
      ],
      "source": [
        "from scipy.spatial import ConvexHull\n",
        "from matplotlib.patches import Polygon\n",
        "\n",
        "def plot_convex_hull(\n",
        "        points, ax, color, alpha=0.3, edge_color=\"black\", line_width=1.0\n",
        "    ):\n",
        "        if len(points) < 3:\n",
        "            return ax, None\n",
        "        hull = ConvexHull(points)\n",
        "        polygon = Polygon(\n",
        "            points[hull.vertices],\n",
        "            closed=True,\n",
        "            facecolor=color,\n",
        "            alpha=alpha,\n",
        "            edgecolor=edge_color,\n",
        "            lw=line_width,\n",
        "        )\n",
        "        ax.add_patch(polygon)\n",
        "        return ax, hull\n",
        "\n",
        "density_measure = gs.measure.Density(coords, probs, n)\n",
        "clusters, centroids = density_measure.clusters, density_measure.centroids\n",
        "fig, ax = plt.subplots()\n",
        "for cluster_idx, cluster in enumerate(clusters):\n",
        "    cluster_points = cluster[:, 1:3]\n",
        "    cluster_color = plt.cm.tab10(cluster_idx % 10)\n",
        "    cmap = plt.get_cmap('tab10')         # get the colormap object\n",
        "    n_colors = cmap.N                  # how many entries it has\n",
        "    cluster_color = cmap(cluster_idx % n_colors)    # \n",
        "    ax, _ = plot_convex_hull(cluster_points, ax, color=cluster_color, alpha=0.2)\n",
        "    ax.scatter(\n",
        "        cluster_points[:, 0],\n",
        "        cluster_points[:, 1],\n",
        "        color=cluster_color,\n",
        "        s=cluster[:, 3] * 1000,\n",
        "        alpha=0.8,\n",
        "    )\n",
        "    ax.grid(alpha=0.5)\n",
        "    # ax.set_xticks([0, 0.2, 0.4, 0.6, 0.8, 1])\n",
        "    # ax.set_yticks([0, 0.2, 0.4, 0.6, 0.8, 1])\n",
        "\n",
        "plt.tight_layout()\n",
        "plt.show()\n",
        "# ax.show()"
      ]
    },
    {
      "cell_type": "markdown",
      "metadata": {
        "id": "-wBvI5kORuIV"
      },
      "source": [
        "### Gathering Data"
      ]
    },
    {
      "cell_type": "code",
      "execution_count": 180,
      "metadata": {
        "colab": {
          "base_uri": "https://localhost:8080/"
        },
        "id": "SVaHiU7TA2KI",
        "outputId": "e34e2613-f720-4a2c-a4a0-d9b4008332eb"
      },
      "outputs": [
        {
          "name": "stderr",
          "output_type": "stream",
          "text": [
            "/home/divar/projects/geometric-sampling/geometric_sampling/clustering/aggregate.py:112: RuntimeWarning: divide by zero encountered in scalar divide\n",
            "  ((self.Ti[old_cluster] - self.goal) / np.sum(self.X_features[data_index])),\n",
            "/home/divar/projects/geometric-sampling/geometric_sampling/clustering/aggregate.py:113: RuntimeWarning: divide by zero encountered in scalar divide\n",
            "  ((self.goal - self.Ti[new_cluster]) / np.sum(self.X_features[data_index])),\n",
            "/home/divar/projects/geometric-sampling/geometric_sampling/clustering/aggregate.py:106: RuntimeWarning: divide by zero encountered in scalar divide\n",
            "  ((self.Ti[old_cluster] - self.Ti[new_cluster]) / (2*np.sum(self.X_features[data_index])))\n"
          ]
        },
        {
          "ename": "IndexError",
          "evalue": "list index out of range",
          "output_type": "error",
          "traceback": [
            "\u001b[0;31m---------------------------------------------------------------------------\u001b[0m",
            "\u001b[0;31mIndexError\u001b[0m                                Traceback (most recent call last)",
            "Cell \u001b[0;32mIn[180], line 3\u001b[0m\n\u001b[1;32m      1\u001b[0m columns \u001b[38;5;241m=\u001b[39m [\u001b[38;5;124m\"\u001b[39m\u001b[38;5;124mMethod\u001b[39m\u001b[38;5;124m\"\u001b[39m, \u001b[38;5;124m\"\u001b[39m\u001b[38;5;124mDensity\u001b[39m\u001b[38;5;124m\"\u001b[39m, \u001b[38;5;124m\"\u001b[39m\u001b[38;5;124mVoronoi\u001b[39m\u001b[38;5;124m\"\u001b[39m, \u001b[38;5;124m\"\u001b[39m\u001b[38;5;124mMoran\u001b[39m\u001b[38;5;124m\"\u001b[39m, \u001b[38;5;124m\"\u001b[39m\u001b[38;5;124mLocal Balance\u001b[39m\u001b[38;5;124m\"\u001b[39m]\n\u001b[0;32m----> 3\u001b[0m sample_methods \u001b[38;5;241m=\u001b[39m \u001b[43mfind_samples\u001b[49m\u001b[43m(\u001b[49m\u001b[43mcoords\u001b[49m\u001b[43m,\u001b[49m\u001b[43m \u001b[49m\u001b[43mprobs\u001b[49m\u001b[43m,\u001b[49m\u001b[43m \u001b[49m\u001b[43mn\u001b[49m\u001b[43m,\u001b[49m\u001b[43m \u001b[49m\u001b[43msample_cnt\u001b[49m\u001b[43m)\u001b[49m\n\u001b[1;32m      5\u001b[0m rows \u001b[38;5;241m=\u001b[39m np\u001b[38;5;241m.\u001b[39marray([\n\u001b[1;32m      6\u001b[0m     [method, \u001b[38;5;241m*\u001b[39mscores(coords, probs, n, N, s)]\n\u001b[1;32m      7\u001b[0m     \u001b[38;5;28;01mfor\u001b[39;00m method, samples \u001b[38;5;129;01min\u001b[39;00m sample_methods\u001b[38;5;241m.\u001b[39mitems()\n\u001b[1;32m      8\u001b[0m     \u001b[38;5;28;01mfor\u001b[39;00m s \u001b[38;5;129;01min\u001b[39;00m tqdm(samples, total\u001b[38;5;241m=\u001b[39msample_cnt)\n\u001b[1;32m      9\u001b[0m ])\n\u001b[1;32m     11\u001b[0m df \u001b[38;5;241m=\u001b[39m pd\u001b[38;5;241m.\u001b[39mDataFrame(rows, columns\u001b[38;5;241m=\u001b[39mcolumns)\n",
            "Cell \u001b[0;32mIn[174], line 63\u001b[0m, in \u001b[0;36mfind_samples\u001b[0;34m(coords, probs, n, num_samples)\u001b[0m\n\u001b[1;32m     61\u001b[0m \u001b[38;5;28;01mdef\u001b[39;00m \u001b[38;5;21mfind_samples\u001b[39m(coords, probs, n, num_samples):\n\u001b[1;32m     62\u001b[0m     \u001b[38;5;28;01mreturn\u001b[39;00m {\n\u001b[0;32m---> 63\u001b[0m         \u001b[38;5;124m\"\u001b[39m\u001b[38;5;124mK-Means (2, 2)\u001b[39m\u001b[38;5;124m\"\u001b[39m: \u001b[43mk_means_samples\u001b[49m\u001b[43m(\u001b[49m\u001b[43mcoords\u001b[49m\u001b[43m,\u001b[49m\u001b[43m \u001b[49m\u001b[43mprobs\u001b[49m\u001b[43m,\u001b[49m\u001b[43m \u001b[49m\u001b[43mn\u001b[49m\u001b[43m,\u001b[49m\u001b[43m \u001b[49m\u001b[43mnum_samples\u001b[49m\u001b[43m,\u001b[49m\u001b[43m \u001b[49m\u001b[43m(\u001b[49m\u001b[38;5;241;43m2\u001b[39;49m\u001b[43m,\u001b[49m\u001b[43m \u001b[49m\u001b[38;5;241;43m2\u001b[39;49m\u001b[43m)\u001b[49m\u001b[43m)\u001b[49m,\n\u001b[1;32m     64\u001b[0m         \u001b[38;5;124m\"\u001b[39m\u001b[38;5;124mK-Means (5, 5)\u001b[39m\u001b[38;5;124m\"\u001b[39m: k_means_samples(coords, probs, n, num_samples, (\u001b[38;5;241m3\u001b[39m, \u001b[38;5;241m3\u001b[39m)),\n\u001b[1;32m     65\u001b[0m         \u001b[38;5;124m\"\u001b[39m\u001b[38;5;124mLocal Pivotal\u001b[39m\u001b[38;5;124m\"\u001b[39m: local_pivotal_samples(coords, probs, n, num_samples),\n\u001b[1;32m     66\u001b[0m         \u001b[38;5;124m\"\u001b[39m\u001b[38;5;124mRandom\u001b[39m\u001b[38;5;124m\"\u001b[39m: random_samples(coords, probs, n, num_samples),\n\u001b[1;32m     67\u001b[0m         \u001b[38;5;124m\"\u001b[39m\u001b[38;5;124mUPmaxentropy\u001b[39m\u001b[38;5;124m\"\u001b[39m: upmaxentropy_samples(probs, num_samples),\n\u001b[1;32m     68\u001b[0m         \u001b[38;5;66;03m# \"Wave\": wave_samples(coords, probs, n, num_samples),\u001b[39;00m\n\u001b[1;32m     69\u001b[0m     }\n",
            "Cell \u001b[0;32mIn[174], line 17\u001b[0m, in \u001b[0;36mk_means_samples\u001b[0;34m(coords, probs, n, num_samples, n_zones)\u001b[0m\n\u001b[1;32m     16\u001b[0m \u001b[38;5;28;01mdef\u001b[39;00m \u001b[38;5;21mk_means_samples\u001b[39m(coords, probs, n, num_samples, n_zones):\n\u001b[0;32m---> 17\u001b[0m     \u001b[38;5;28;01mreturn\u001b[39;00m \u001b[43mgs\u001b[49m\u001b[38;5;241;43m.\u001b[39;49m\u001b[43msampling\u001b[49m\u001b[38;5;241;43m.\u001b[39;49m\u001b[43mKMeansSpatialSampling\u001b[49m\u001b[43m(\u001b[49m\u001b[43mcoords\u001b[49m\u001b[43m,\u001b[49m\u001b[43m \u001b[49m\u001b[43mprobs\u001b[49m\u001b[43m,\u001b[49m\u001b[43m \u001b[49m\u001b[43mn\u001b[49m\u001b[38;5;241;43m=\u001b[39;49m\u001b[43mn\u001b[49m\u001b[43m,\u001b[49m\u001b[43m \u001b[49m\u001b[43mn_zones\u001b[49m\u001b[38;5;241;43m=\u001b[39;49m\u001b[43mn_zones\u001b[49m\u001b[43m,\u001b[49m\u001b[43m \u001b[49m\u001b[43mtolerance\u001b[49m\u001b[38;5;241;43m=\u001b[39;49m\u001b[38;5;241;43m5\u001b[39;49m\u001b[43m)\u001b[49m\u001b[38;5;241;43m.\u001b[39;49m\u001b[43msample\u001b[49m\u001b[43m(\u001b[49m\u001b[43mnum_samples\u001b[49m\u001b[43m)\u001b[49m\n",
            "File \u001b[0;32m~/projects/geometric-sampling/geometric_sampling/sampling/kmeans_spatial_sampling.py:50\u001b[0m, in \u001b[0;36mKMeansSpatialSampling.sample\u001b[0;34m(self, n_samples)\u001b[0m\n\u001b[1;32m     43\u001b[0m     zone_index \u001b[38;5;241m=\u001b[39m np\u001b[38;5;241m.\u001b[39msearchsorted(\n\u001b[1;32m     44\u001b[0m         np\u001b[38;5;241m.\u001b[39marange(\u001b[38;5;241m1\u001b[39m, step\u001b[38;5;241m=\u001b[39m\u001b[38;5;28mround\u001b[39m(\u001b[38;5;241m1\u001b[39m \u001b[38;5;241m/\u001b[39m np\u001b[38;5;241m.\u001b[39mprod(\u001b[38;5;28mself\u001b[39m\u001b[38;5;241m.\u001b[39mn_zones), \u001b[38;5;28mself\u001b[39m\u001b[38;5;241m.\u001b[39mtolerance)),\n\u001b[1;32m     45\u001b[0m         random_number,\n\u001b[1;32m     46\u001b[0m         side\u001b[38;5;241m=\u001b[39m\u001b[38;5;124m\"\u001b[39m\u001b[38;5;124mright\u001b[39m\u001b[38;5;124m\"\u001b[39m,\n\u001b[1;32m     47\u001b[0m     )\n\u001b[1;32m     48\u001b[0m     \u001b[38;5;28;01mfor\u001b[39;00m j, cluster \u001b[38;5;129;01min\u001b[39;00m \u001b[38;5;28menumerate\u001b[39m(\u001b[38;5;28mself\u001b[39m\u001b[38;5;241m.\u001b[39mpopulation\u001b[38;5;241m.\u001b[39mclusters):\n\u001b[1;32m     49\u001b[0m         unit_index \u001b[38;5;241m=\u001b[39m np\u001b[38;5;241m.\u001b[39msearchsorted(\n\u001b[0;32m---> 50\u001b[0m             \u001b[43mcluster\u001b[49m\u001b[38;5;241;43m.\u001b[39;49m\u001b[43mzones\u001b[49m\u001b[43m[\u001b[49m\u001b[43mzone_index\u001b[49m\u001b[43m \u001b[49m\u001b[38;5;241;43m-\u001b[39;49m\u001b[43m \u001b[49m\u001b[38;5;241;43m1\u001b[39;49m\u001b[43m]\u001b[49m\u001b[38;5;241m.\u001b[39munits[:, \u001b[38;5;241m3\u001b[39m]\u001b[38;5;241m.\u001b[39mcumsum()\n\u001b[1;32m     51\u001b[0m             \u001b[38;5;241m+\u001b[39m (zone_index \u001b[38;5;241m-\u001b[39m \u001b[38;5;241m1\u001b[39m)\n\u001b[1;32m     52\u001b[0m             \u001b[38;5;241m*\u001b[39m \u001b[38;5;28mround\u001b[39m(\u001b[38;5;241m1\u001b[39m \u001b[38;5;241m/\u001b[39m np\u001b[38;5;241m.\u001b[39mprod(\u001b[38;5;28mself\u001b[39m\u001b[38;5;241m.\u001b[39mn_zones), \u001b[38;5;28mself\u001b[39m\u001b[38;5;241m.\u001b[39mtolerance),\n\u001b[1;32m     53\u001b[0m             random_number,\n\u001b[1;32m     54\u001b[0m             side\u001b[38;5;241m=\u001b[39m\u001b[38;5;124m\"\u001b[39m\u001b[38;5;124mright\u001b[39m\u001b[38;5;124m\"\u001b[39m,\n\u001b[1;32m     55\u001b[0m         )\n\u001b[1;32m     56\u001b[0m         samples[i, j] \u001b[38;5;241m=\u001b[39m cluster\u001b[38;5;241m.\u001b[39mzones[zone_index \u001b[38;5;241m-\u001b[39m \u001b[38;5;241m1\u001b[39m]\u001b[38;5;241m.\u001b[39munits[unit_index, \u001b[38;5;241m0\u001b[39m]\n\u001b[1;32m     57\u001b[0m \u001b[38;5;28;01mreturn\u001b[39;00m samples\n",
            "\u001b[0;31mIndexError\u001b[0m: list index out of range"
          ]
        }
      ],
      "source": [
        "columns = [\"Method\", \"Density\", \"Voronoi\", \"Moran\", \"Local Balance\"]\n",
        "\n",
        "sample_methods = find_samples(coords, probs, n, sample_cnt)\n",
        "\n",
        "rows = np.array([\n",
        "    [method, *scores(coords, probs, n, N, s)]\n",
        "    for method, samples in sample_methods.items()\n",
        "    for s in tqdm(samples, total=sample_cnt)\n",
        "])\n",
        "\n",
        "df = pd.DataFrame(rows, columns=columns)\n",
        "df = df.astype({\n",
        "    \"Density\": float,\n",
        "    \"Voronoi\": float,\n",
        "    \"Moran\": float,\n",
        "    \"Local Balance\": float\n",
        "})"
      ]
    },
    {
      "cell_type": "markdown",
      "metadata": {
        "id": "shHZznQuQgRq"
      },
      "source": [
        "### Tables"
      ]
    },
    {
      "cell_type": "markdown",
      "metadata": {
        "id": "ojlCkakyS0Lr"
      },
      "source": [
        "Means"
      ]
    },
    {
      "cell_type": "code",
      "execution_count": null,
      "metadata": {
        "colab": {
          "base_uri": "https://localhost:8080/",
          "height": 238
        },
        "id": "NsEkRkZRSLtX",
        "outputId": "d3db3866-b203-4dab-d549-638b542a6730"
      },
      "outputs": [
        {
          "data": {
            "text/html": [
              "<div>\n",
              "<style scoped>\n",
              "    .dataframe tbody tr th:only-of-type {\n",
              "        vertical-align: middle;\n",
              "    }\n",
              "\n",
              "    .dataframe tbody tr th {\n",
              "        vertical-align: top;\n",
              "    }\n",
              "\n",
              "    .dataframe thead th {\n",
              "        text-align: right;\n",
              "    }\n",
              "</style>\n",
              "<table border=\"1\" class=\"dataframe\">\n",
              "  <thead>\n",
              "    <tr style=\"text-align: right;\">\n",
              "      <th></th>\n",
              "      <th>Density</th>\n",
              "      <th>Voronoi</th>\n",
              "      <th>Moran</th>\n",
              "      <th>Local Balance</th>\n",
              "    </tr>\n",
              "    <tr>\n",
              "      <th>Method</th>\n",
              "      <th></th>\n",
              "      <th></th>\n",
              "      <th></th>\n",
              "      <th></th>\n",
              "    </tr>\n",
              "  </thead>\n",
              "  <tbody>\n",
              "    <tr>\n",
              "      <th>K-Means (2, 2)</th>\n",
              "      <td>0.145170</td>\n",
              "      <td>0.238001</td>\n",
              "      <td>-0.100229</td>\n",
              "      <td>0.519991</td>\n",
              "    </tr>\n",
              "    <tr>\n",
              "      <th>K-Means (5, 5)</th>\n",
              "      <td>0.096494</td>\n",
              "      <td>0.156791</td>\n",
              "      <td>-0.136485</td>\n",
              "      <td>0.441119</td>\n",
              "    </tr>\n",
              "    <tr>\n",
              "      <th>Local Pivotal</th>\n",
              "      <td>0.201790</td>\n",
              "      <td>0.207218</td>\n",
              "      <td>-0.066837</td>\n",
              "      <td>0.466075</td>\n",
              "    </tr>\n",
              "    <tr>\n",
              "      <th>Random</th>\n",
              "      <td>0.261533</td>\n",
              "      <td>0.306894</td>\n",
              "      <td>-0.032674</td>\n",
              "      <td>0.518300</td>\n",
              "    </tr>\n",
              "    <tr>\n",
              "      <th>UPmaxentropy</th>\n",
              "      <td>0.264915</td>\n",
              "      <td>0.338522</td>\n",
              "      <td>-0.034082</td>\n",
              "      <td>0.570600</td>\n",
              "    </tr>\n",
              "  </tbody>\n",
              "</table>\n",
              "</div>"
            ],
            "text/plain": [
              "                 Density   Voronoi     Moran  Local Balance\n",
              "Method                                                     \n",
              "K-Means (2, 2)  0.145170  0.238001 -0.100229       0.519991\n",
              "K-Means (5, 5)  0.096494  0.156791 -0.136485       0.441119\n",
              "Local Pivotal   0.201790  0.207218 -0.066837       0.466075\n",
              "Random          0.261533  0.306894 -0.032674       0.518300\n",
              "UPmaxentropy    0.264915  0.338522 -0.034082       0.570600"
            ]
          },
          "execution_count": 38,
          "metadata": {},
          "output_type": "execute_result"
        }
      ],
      "source": [
        "df.groupby(\"Method\").mean()"
      ]
    },
    {
      "cell_type": "markdown",
      "metadata": {
        "id": "UanFLuZbS1xD"
      },
      "source": [
        "STD"
      ]
    },
    {
      "cell_type": "code",
      "execution_count": null,
      "metadata": {
        "colab": {
          "base_uri": "https://localhost:8080/",
          "height": 238
        },
        "id": "wXJstuFNSzSh",
        "outputId": "cf1f8919-a59a-4e8b-d729-0168032cb9b7"
      },
      "outputs": [
        {
          "data": {
            "text/html": [
              "<div>\n",
              "<style scoped>\n",
              "    .dataframe tbody tr th:only-of-type {\n",
              "        vertical-align: middle;\n",
              "    }\n",
              "\n",
              "    .dataframe tbody tr th {\n",
              "        vertical-align: top;\n",
              "    }\n",
              "\n",
              "    .dataframe thead th {\n",
              "        text-align: right;\n",
              "    }\n",
              "</style>\n",
              "<table border=\"1\" class=\"dataframe\">\n",
              "  <thead>\n",
              "    <tr style=\"text-align: right;\">\n",
              "      <th></th>\n",
              "      <th>Density</th>\n",
              "      <th>Voronoi</th>\n",
              "      <th>Moran</th>\n",
              "      <th>Local Balance</th>\n",
              "    </tr>\n",
              "    <tr>\n",
              "      <th>Method</th>\n",
              "      <th></th>\n",
              "      <th></th>\n",
              "      <th></th>\n",
              "      <th></th>\n",
              "    </tr>\n",
              "  </thead>\n",
              "  <tbody>\n",
              "    <tr>\n",
              "      <th>K-Means (2, 2)</th>\n",
              "      <td>0.112432</td>\n",
              "      <td>0.156622</td>\n",
              "      <td>0.036572</td>\n",
              "      <td>0.180212</td>\n",
              "    </tr>\n",
              "    <tr>\n",
              "      <th>K-Means (5, 5)</th>\n",
              "      <td>0.070767</td>\n",
              "      <td>0.094630</td>\n",
              "      <td>0.045756</td>\n",
              "      <td>0.120641</td>\n",
              "    </tr>\n",
              "    <tr>\n",
              "      <th>Local Pivotal</th>\n",
              "      <td>0.075878</td>\n",
              "      <td>0.158979</td>\n",
              "      <td>0.033140</td>\n",
              "      <td>0.149700</td>\n",
              "    </tr>\n",
              "    <tr>\n",
              "      <th>Random</th>\n",
              "      <td>0.112299</td>\n",
              "      <td>0.266243</td>\n",
              "      <td>0.053732</td>\n",
              "      <td>0.153281</td>\n",
              "    </tr>\n",
              "    <tr>\n",
              "      <th>UPmaxentropy</th>\n",
              "      <td>0.123190</td>\n",
              "      <td>0.271665</td>\n",
              "      <td>0.045676</td>\n",
              "      <td>0.177404</td>\n",
              "    </tr>\n",
              "  </tbody>\n",
              "</table>\n",
              "</div>"
            ],
            "text/plain": [
              "                 Density   Voronoi     Moran  Local Balance\n",
              "Method                                                     \n",
              "K-Means (2, 2)  0.112432  0.156622  0.036572       0.180212\n",
              "K-Means (5, 5)  0.070767  0.094630  0.045756       0.120641\n",
              "Local Pivotal   0.075878  0.158979  0.033140       0.149700\n",
              "Random          0.112299  0.266243  0.053732       0.153281\n",
              "UPmaxentropy    0.123190  0.271665  0.045676       0.177404"
            ]
          },
          "execution_count": 39,
          "metadata": {},
          "output_type": "execute_result"
        }
      ],
      "source": [
        "df.groupby(\"Method\").std()"
      ]
    },
    {
      "cell_type": "markdown",
      "metadata": {
        "id": "r2naz7MAQWax"
      },
      "source": [
        "Describe"
      ]
    },
    {
      "cell_type": "code",
      "execution_count": null,
      "metadata": {
        "colab": {
          "base_uri": "https://localhost:8080/",
          "height": 289
        },
        "id": "2wOMCWUkKs0_",
        "outputId": "42adb478-8101-435c-bfe1-aecc2d7b11b9"
      },
      "outputs": [
        {
          "data": {
            "text/html": [
              "<div>\n",
              "<style scoped>\n",
              "    .dataframe tbody tr th:only-of-type {\n",
              "        vertical-align: middle;\n",
              "    }\n",
              "\n",
              "    .dataframe tbody tr th {\n",
              "        vertical-align: top;\n",
              "    }\n",
              "\n",
              "    .dataframe thead tr th {\n",
              "        text-align: left;\n",
              "    }\n",
              "\n",
              "    .dataframe thead tr:last-of-type th {\n",
              "        text-align: right;\n",
              "    }\n",
              "</style>\n",
              "<table border=\"1\" class=\"dataframe\">\n",
              "  <thead>\n",
              "    <tr>\n",
              "      <th></th>\n",
              "      <th colspan=\"8\" halign=\"left\">Density</th>\n",
              "      <th colspan=\"8\" halign=\"left\">Voronoi</th>\n",
              "      <th colspan=\"8\" halign=\"left\">Moran</th>\n",
              "      <th colspan=\"8\" halign=\"left\">Local Balance</th>\n",
              "    </tr>\n",
              "    <tr>\n",
              "      <th></th>\n",
              "      <th>count</th>\n",
              "      <th>mean</th>\n",
              "      <th>std</th>\n",
              "      <th>min</th>\n",
              "      <th>25%</th>\n",
              "      <th>50%</th>\n",
              "      <th>75%</th>\n",
              "      <th>max</th>\n",
              "      <th>count</th>\n",
              "      <th>mean</th>\n",
              "      <th>std</th>\n",
              "      <th>min</th>\n",
              "      <th>25%</th>\n",
              "      <th>50%</th>\n",
              "      <th>75%</th>\n",
              "      <th>max</th>\n",
              "      <th>count</th>\n",
              "      <th>mean</th>\n",
              "      <th>std</th>\n",
              "      <th>min</th>\n",
              "      <th>25%</th>\n",
              "      <th>50%</th>\n",
              "      <th>75%</th>\n",
              "      <th>max</th>\n",
              "      <th>count</th>\n",
              "      <th>mean</th>\n",
              "      <th>std</th>\n",
              "      <th>min</th>\n",
              "      <th>25%</th>\n",
              "      <th>50%</th>\n",
              "      <th>75%</th>\n",
              "      <th>max</th>\n",
              "    </tr>\n",
              "    <tr>\n",
              "      <th>Method</th>\n",
              "      <th></th>\n",
              "      <th></th>\n",
              "      <th></th>\n",
              "      <th></th>\n",
              "      <th></th>\n",
              "      <th></th>\n",
              "      <th></th>\n",
              "      <th></th>\n",
              "      <th></th>\n",
              "      <th></th>\n",
              "      <th></th>\n",
              "      <th></th>\n",
              "      <th></th>\n",
              "      <th></th>\n",
              "      <th></th>\n",
              "      <th></th>\n",
              "      <th></th>\n",
              "      <th></th>\n",
              "      <th></th>\n",
              "      <th></th>\n",
              "      <th></th>\n",
              "      <th></th>\n",
              "      <th></th>\n",
              "      <th></th>\n",
              "      <th></th>\n",
              "      <th></th>\n",
              "      <th></th>\n",
              "      <th></th>\n",
              "      <th></th>\n",
              "      <th></th>\n",
              "      <th></th>\n",
              "      <th></th>\n",
              "    </tr>\n",
              "  </thead>\n",
              "  <tbody>\n",
              "    <tr>\n",
              "      <th>K-Means (2, 2)</th>\n",
              "      <td>20.0</td>\n",
              "      <td>0.145170</td>\n",
              "      <td>0.112432</td>\n",
              "      <td>0.029234</td>\n",
              "      <td>0.067156</td>\n",
              "      <td>0.100633</td>\n",
              "      <td>0.192593</td>\n",
              "      <td>0.360823</td>\n",
              "      <td>20.0</td>\n",
              "      <td>0.238001</td>\n",
              "      <td>0.156622</td>\n",
              "      <td>0.055231</td>\n",
              "      <td>0.137531</td>\n",
              "      <td>0.176738</td>\n",
              "      <td>0.330731</td>\n",
              "      <td>0.585389</td>\n",
              "      <td>20.0</td>\n",
              "      <td>-0.100229</td>\n",
              "      <td>0.036572</td>\n",
              "      <td>-0.176617</td>\n",
              "      <td>-0.119633</td>\n",
              "      <td>-0.102011</td>\n",
              "      <td>-0.073436</td>\n",
              "      <td>-0.038063</td>\n",
              "      <td>20.0</td>\n",
              "      <td>0.519991</td>\n",
              "      <td>0.180212</td>\n",
              "      <td>0.277224</td>\n",
              "      <td>0.394608</td>\n",
              "      <td>0.450575</td>\n",
              "      <td>0.706861</td>\n",
              "      <td>0.871239</td>\n",
              "    </tr>\n",
              "    <tr>\n",
              "      <th>K-Means (5, 5)</th>\n",
              "      <td>20.0</td>\n",
              "      <td>0.096494</td>\n",
              "      <td>0.070767</td>\n",
              "      <td>0.013362</td>\n",
              "      <td>0.049666</td>\n",
              "      <td>0.063790</td>\n",
              "      <td>0.128615</td>\n",
              "      <td>0.235211</td>\n",
              "      <td>20.0</td>\n",
              "      <td>0.156791</td>\n",
              "      <td>0.094630</td>\n",
              "      <td>0.024420</td>\n",
              "      <td>0.089476</td>\n",
              "      <td>0.148476</td>\n",
              "      <td>0.204666</td>\n",
              "      <td>0.405231</td>\n",
              "      <td>20.0</td>\n",
              "      <td>-0.136485</td>\n",
              "      <td>0.045756</td>\n",
              "      <td>-0.204532</td>\n",
              "      <td>-0.180570</td>\n",
              "      <td>-0.134384</td>\n",
              "      <td>-0.096229</td>\n",
              "      <td>-0.058274</td>\n",
              "      <td>20.0</td>\n",
              "      <td>0.441119</td>\n",
              "      <td>0.120641</td>\n",
              "      <td>0.232629</td>\n",
              "      <td>0.384237</td>\n",
              "      <td>0.449852</td>\n",
              "      <td>0.478968</td>\n",
              "      <td>0.685785</td>\n",
              "    </tr>\n",
              "    <tr>\n",
              "      <th>Local Pivotal</th>\n",
              "      <td>20.0</td>\n",
              "      <td>0.201790</td>\n",
              "      <td>0.075878</td>\n",
              "      <td>0.049585</td>\n",
              "      <td>0.155636</td>\n",
              "      <td>0.184619</td>\n",
              "      <td>0.240391</td>\n",
              "      <td>0.389019</td>\n",
              "      <td>20.0</td>\n",
              "      <td>0.207218</td>\n",
              "      <td>0.158979</td>\n",
              "      <td>0.019993</td>\n",
              "      <td>0.122959</td>\n",
              "      <td>0.173085</td>\n",
              "      <td>0.222274</td>\n",
              "      <td>0.718244</td>\n",
              "      <td>20.0</td>\n",
              "      <td>-0.066837</td>\n",
              "      <td>0.033140</td>\n",
              "      <td>-0.149471</td>\n",
              "      <td>-0.094040</td>\n",
              "      <td>-0.062273</td>\n",
              "      <td>-0.046070</td>\n",
              "      <td>-0.006975</td>\n",
              "      <td>20.0</td>\n",
              "      <td>0.466075</td>\n",
              "      <td>0.149700</td>\n",
              "      <td>0.246237</td>\n",
              "      <td>0.361917</td>\n",
              "      <td>0.411056</td>\n",
              "      <td>0.535127</td>\n",
              "      <td>0.806420</td>\n",
              "    </tr>\n",
              "    <tr>\n",
              "      <th>Random</th>\n",
              "      <td>20.0</td>\n",
              "      <td>0.261533</td>\n",
              "      <td>0.112299</td>\n",
              "      <td>0.062228</td>\n",
              "      <td>0.189190</td>\n",
              "      <td>0.278931</td>\n",
              "      <td>0.336320</td>\n",
              "      <td>0.445747</td>\n",
              "      <td>20.0</td>\n",
              "      <td>0.306894</td>\n",
              "      <td>0.266243</td>\n",
              "      <td>0.037903</td>\n",
              "      <td>0.116505</td>\n",
              "      <td>0.251547</td>\n",
              "      <td>0.437346</td>\n",
              "      <td>0.958649</td>\n",
              "      <td>20.0</td>\n",
              "      <td>-0.032674</td>\n",
              "      <td>0.053732</td>\n",
              "      <td>-0.143415</td>\n",
              "      <td>-0.068111</td>\n",
              "      <td>-0.043304</td>\n",
              "      <td>0.017122</td>\n",
              "      <td>0.040603</td>\n",
              "      <td>20.0</td>\n",
              "      <td>0.518300</td>\n",
              "      <td>0.153281</td>\n",
              "      <td>0.244660</td>\n",
              "      <td>0.437273</td>\n",
              "      <td>0.522521</td>\n",
              "      <td>0.619971</td>\n",
              "      <td>0.772200</td>\n",
              "    </tr>\n",
              "    <tr>\n",
              "      <th>UPmaxentropy</th>\n",
              "      <td>20.0</td>\n",
              "      <td>0.264915</td>\n",
              "      <td>0.123190</td>\n",
              "      <td>0.052559</td>\n",
              "      <td>0.193073</td>\n",
              "      <td>0.244701</td>\n",
              "      <td>0.320214</td>\n",
              "      <td>0.583671</td>\n",
              "      <td>20.0</td>\n",
              "      <td>0.338522</td>\n",
              "      <td>0.271665</td>\n",
              "      <td>0.046619</td>\n",
              "      <td>0.167814</td>\n",
              "      <td>0.245245</td>\n",
              "      <td>0.445908</td>\n",
              "      <td>1.117304</td>\n",
              "      <td>20.0</td>\n",
              "      <td>-0.034082</td>\n",
              "      <td>0.045676</td>\n",
              "      <td>-0.124192</td>\n",
              "      <td>-0.056053</td>\n",
              "      <td>-0.032463</td>\n",
              "      <td>-0.020621</td>\n",
              "      <td>0.081287</td>\n",
              "      <td>20.0</td>\n",
              "      <td>0.570600</td>\n",
              "      <td>0.177404</td>\n",
              "      <td>0.303375</td>\n",
              "      <td>0.459037</td>\n",
              "      <td>0.518191</td>\n",
              "      <td>0.660724</td>\n",
              "      <td>1.022254</td>\n",
              "    </tr>\n",
              "  </tbody>\n",
              "</table>\n",
              "</div>"
            ],
            "text/plain": [
              "               Density                                                    \\\n",
              "                 count      mean       std       min       25%       50%   \n",
              "Method                                                                     \n",
              "K-Means (2, 2)    20.0  0.145170  0.112432  0.029234  0.067156  0.100633   \n",
              "K-Means (5, 5)    20.0  0.096494  0.070767  0.013362  0.049666  0.063790   \n",
              "Local Pivotal     20.0  0.201790  0.075878  0.049585  0.155636  0.184619   \n",
              "Random            20.0  0.261533  0.112299  0.062228  0.189190  0.278931   \n",
              "UPmaxentropy      20.0  0.264915  0.123190  0.052559  0.193073  0.244701   \n",
              "\n",
              "                                   Voronoi                                \\\n",
              "                     75%       max   count      mean       std       min   \n",
              "Method                                                                     \n",
              "K-Means (2, 2)  0.192593  0.360823    20.0  0.238001  0.156622  0.055231   \n",
              "K-Means (5, 5)  0.128615  0.235211    20.0  0.156791  0.094630  0.024420   \n",
              "Local Pivotal   0.240391  0.389019    20.0  0.207218  0.158979  0.019993   \n",
              "Random          0.336320  0.445747    20.0  0.306894  0.266243  0.037903   \n",
              "UPmaxentropy    0.320214  0.583671    20.0  0.338522  0.271665  0.046619   \n",
              "\n",
              "                                                       Moran            \\\n",
              "                     25%       50%       75%       max count      mean   \n",
              "Method                                                                   \n",
              "K-Means (2, 2)  0.137531  0.176738  0.330731  0.585389  20.0 -0.100229   \n",
              "K-Means (5, 5)  0.089476  0.148476  0.204666  0.405231  20.0 -0.136485   \n",
              "Local Pivotal   0.122959  0.173085  0.222274  0.718244  20.0 -0.066837   \n",
              "Random          0.116505  0.251547  0.437346  0.958649  20.0 -0.032674   \n",
              "UPmaxentropy    0.167814  0.245245  0.445908  1.117304  20.0 -0.034082   \n",
              "\n",
              "                                                                            \\\n",
              "                     std       min       25%       50%       75%       max   \n",
              "Method                                                                       \n",
              "K-Means (2, 2)  0.036572 -0.176617 -0.119633 -0.102011 -0.073436 -0.038063   \n",
              "K-Means (5, 5)  0.045756 -0.204532 -0.180570 -0.134384 -0.096229 -0.058274   \n",
              "Local Pivotal   0.033140 -0.149471 -0.094040 -0.062273 -0.046070 -0.006975   \n",
              "Random          0.053732 -0.143415 -0.068111 -0.043304  0.017122  0.040603   \n",
              "UPmaxentropy    0.045676 -0.124192 -0.056053 -0.032463 -0.020621  0.081287   \n",
              "\n",
              "               Local Balance                                          \\\n",
              "                       count      mean       std       min       25%   \n",
              "Method                                                                 \n",
              "K-Means (2, 2)          20.0  0.519991  0.180212  0.277224  0.394608   \n",
              "K-Means (5, 5)          20.0  0.441119  0.120641  0.232629  0.384237   \n",
              "Local Pivotal           20.0  0.466075  0.149700  0.246237  0.361917   \n",
              "Random                  20.0  0.518300  0.153281  0.244660  0.437273   \n",
              "UPmaxentropy            20.0  0.570600  0.177404  0.303375  0.459037   \n",
              "\n",
              "                                              \n",
              "                     50%       75%       max  \n",
              "Method                                        \n",
              "K-Means (2, 2)  0.450575  0.706861  0.871239  \n",
              "K-Means (5, 5)  0.449852  0.478968  0.685785  \n",
              "Local Pivotal   0.411056  0.535127  0.806420  \n",
              "Random          0.522521  0.619971  0.772200  \n",
              "UPmaxentropy    0.518191  0.660724  1.022254  "
            ]
          },
          "metadata": {},
          "output_type": "display_data"
        }
      ],
      "source": [
        "with pd.option_context('display.max_rows', None, 'display.max_columns', None):\n",
        "  display(df.groupby(\"Method\").describe())"
      ]
    },
    {
      "cell_type": "markdown",
      "metadata": {
        "id": "_1_mOx5ljXDp"
      },
      "source": [
        "### Plots"
      ]
    },
    {
      "cell_type": "markdown",
      "metadata": {
        "id": "2APKT0SFUP4N"
      },
      "source": [
        "##### Color Pallet"
      ]
    },
    {
      "cell_type": "code",
      "execution_count": null,
      "metadata": {
        "id": "4mZ_wNOPUSSi"
      },
      "outputs": [],
      "source": [
        "methods = df[\"Method\"].unique()\n",
        "method_palette = dict(zip(methods, sns.color_palette(\"Pastel1\", n_colors=len(methods))))"
      ]
    },
    {
      "cell_type": "markdown",
      "metadata": {
        "id": "8fq2wnWkSbQm"
      },
      "source": [
        "##### Boxplot"
      ]
    },
    {
      "cell_type": "code",
      "execution_count": null,
      "metadata": {
        "id": "unAhXZeDflou"
      },
      "outputs": [],
      "source": [
        "def remove_outliers(dataframe, column, groupby_col=None):\n",
        "    if groupby_col:\n",
        "        def outlier_filter(group):\n",
        "            Q1 = group[column].quantile(0.25)\n",
        "            Q3 = group[column].quantile(0.75)\n",
        "            IQR = Q3 - Q1\n",
        "            lower = Q1 - 1.5 * IQR\n",
        "            upper = Q3 + 1.5 * IQR\n",
        "            return group[(group[column] >= lower) & (group[column] <= upper)]\n",
        "\n",
        "        return dataframe.groupby(groupby_col, group_keys=False).apply(outlier_filter)\n",
        "    else:\n",
        "        Q1 = dataframe[column].quantile(0.25)\n",
        "        Q3 = dataframe[column].quantile(0.75)\n",
        "        IQR = Q3 - Q1\n",
        "        lower = Q1 - 1.5 * IQR\n",
        "        upper = Q3 + 1.5 * IQR\n",
        "        return dataframe[(df[column] >= lower) & (dataframe[column] <= upper)]\n",
        "\n",
        "    return df"
      ]
    },
    {
      "cell_type": "code",
      "execution_count": null,
      "metadata": {
        "colab": {
          "base_uri": "https://localhost:8080/",
          "height": 487
        },
        "id": "jYptqD34VPwd",
        "outputId": "63ea8baf-e2dd-4030-97b7-6e4ccd6173b6"
      },
      "outputs": [
        {
          "name": "stderr",
          "output_type": "stream",
          "text": [
            "/tmp/ipykernel_63805/229233119.py:11: DeprecationWarning: DataFrameGroupBy.apply operated on the grouping columns. This behavior is deprecated, and in a future version of pandas the grouping columns will be excluded from the operation. Either pass `include_groups=False` to exclude the groupings or explicitly select the grouping columns after groupby to silence this warning.\n",
            "  return dataframe.groupby(groupby_col, group_keys=False).apply(outlier_filter)\n",
            "/tmp/ipykernel_63805/229233119.py:11: DeprecationWarning: DataFrameGroupBy.apply operated on the grouping columns. This behavior is deprecated, and in a future version of pandas the grouping columns will be excluded from the operation. Either pass `include_groups=False` to exclude the groupings or explicitly select the grouping columns after groupby to silence this warning.\n",
            "  return dataframe.groupby(groupby_col, group_keys=False).apply(outlier_filter)\n",
            "/tmp/ipykernel_63805/229233119.py:11: DeprecationWarning: DataFrameGroupBy.apply operated on the grouping columns. This behavior is deprecated, and in a future version of pandas the grouping columns will be excluded from the operation. Either pass `include_groups=False` to exclude the groupings or explicitly select the grouping columns after groupby to silence this warning.\n",
            "  return dataframe.groupby(groupby_col, group_keys=False).apply(outlier_filter)\n",
            "/tmp/ipykernel_63805/229233119.py:11: DeprecationWarning: DataFrameGroupBy.apply operated on the grouping columns. This behavior is deprecated, and in a future version of pandas the grouping columns will be excluded from the operation. Either pass `include_groups=False` to exclude the groupings or explicitly select the grouping columns after groupby to silence this warning.\n",
            "  return dataframe.groupby(groupby_col, group_keys=False).apply(outlier_filter)\n"
          ]
        },
        {
          "data": {
            "image/png": "[encoded data removed]",
            "text/plain": [
              "<Figure size 2000x500 with 4 Axes>"
            ]
          },
          "metadata": {},
          "output_type": "display_data"
        }
      ],
      "source": [
        "number_of_items = len(columns[1:])\n",
        "n_cols = 4  # how many plots per row\n",
        "n_rows = (number_of_items + n_cols - 1) // n_cols  # compute needed rows\n",
        "fig, axes = plt.subplots(n_rows, n_cols, figsize=(5*n_cols, 5*n_rows))\n",
        "\n",
        "axes = axes.flatten()\n",
        "\n",
        "for idx, column in enumerate(columns[1:]):\n",
        "    sns.boxplot(x=\"Method\", y=column, data=remove_outliers(df, column, groupby_col=\"Method\"), hue=\"Method\", palette=method_palette, ax=axes[idx])\n",
        "    axes[idx].set_title(f'{column} by Sampling Methods')\n",
        "    axes[idx].set_xlabel(\"\")\n",
        "    axes[idx].set_xticklabels([])\n",
        "    axes[idx].grid(True)\n",
        "\n",
        "handles = [plt.Line2D([0], [0], color=color, marker='s', linestyle='', markersize=10, label=method) for method, color in method_palette.items()]\n",
        "fig.legend(handles=handles, loc='lower center', ncol=len(methods), fontsize=10, title=\"Method\")\n",
        "\n",
        "fig.tight_layout()\n",
        "plt.show()"
      ]
    },
    {
      "cell_type": "code",
      "execution_count": null,
      "metadata": {},
      "outputs": [],
      "source": []
    }
  ],
  "metadata": {
    "colab": {
      "collapsed_sections": [
        "L8EamewvRhiV",
        "Yo13_-M0RaP9",
        "BEcbxvujRdPr",
        "eNZsi2g5mC6N",
        "ugL9lyKcmK7h",
        "uCLKd3elnAA_",
        "Gl_TYPfeL2ra",
        "2APKT0SFUP4N"
      ],
      "provenance": []
    },
    "kernelspec": {
      "display_name": ".venv",
      "language": "python",
      "name": "python3"
    },
    "language_info": {
      "codemirror_mode": {
        "name": "ipython",
        "version": 3
      },
      "file_extension": ".py",
      "mimetype": "text/x-python",
      "name": "python",
      "nbconvert_exporter": "python",
      "pygments_lexer": "ipython3",
      "version": "3.12.3"
    }
  },
  "nbformat": 4,
  "nbformat_minor": 0
}
