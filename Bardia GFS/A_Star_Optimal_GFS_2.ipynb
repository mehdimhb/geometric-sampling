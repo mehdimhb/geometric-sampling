{
  "cells": [
    {
      "cell_type": "markdown",
      "metadata": {},
      "source": [
        "# Packages"
      ]
    },
    {
      "cell_type": "code",
      "execution_count": 2,
      "metadata": {},
      "outputs": [],
      "source": [
        "import matplotlib.pyplot as plt\n",
        "import rpy2.robjects as ro\n",
        "from rpy2.robjects.packages import importr\n",
        "import numpy as np\n",
        "from rpy2.robjects import r, pandas2ri\n"
      ]
    },
    {
      "cell_type": "code",
      "execution_count": 3,
      "metadata": {},
      "outputs": [],
      "source": [
        "%load_ext autoreload\n",
        "%autoreload 2\n",
        "%load_ext rpy2.ipython"
      ]
    },
    {
      "cell_type": "code",
      "execution_count": 50,
      "metadata": {},
      "outputs": [],
      "source": [
        "import geometric_sampling as gs\n",
        "from geometric_sampling.search.astar import AStar\n",
        "from geometric_sampling.design import Design\n",
        "from geometric_sampling.criteria.var_nht import VarNHT\n",
        "\n"
      ]
    },
    {
      "cell_type": "markdown",
      "metadata": {
        "id": "lue3vjX9Fmwc"
      },
      "source": [
        "# R Different Populations"
      ]
    },
    {
      "cell_type": "code",
      "execution_count": null,
      "metadata": {},
      "outputs": [],
      "source": [
        "%%R\n",
        "install.packages(\"sampling\")"
      ]
    },
    {
      "cell_type": "code",
      "execution_count": 13,
      "metadata": {
        "id": "902ECeOuqQyi"
      },
      "outputs": [
        {
          "name": "stderr",
          "output_type": "stream",
          "text": [
            "R[write to console]: In addition: \n",
            "R[write to console]: Warning message:\n",
            "\n",
            "R[write to console]: In (function (package, help, pos = 2, lib.loc = NULL, character.only = FALSE,  :\n",
            "R[write to console]: \n",
            " \n",
            "R[write to console]:  library ‘/usr/local/lib/R/site-library’ contains no packages\n",
            "\n"
          ]
        },
        {
          "name": "stdout",
          "output_type": "stream",
          "text": [
            "0.6984152962884828\n",
            "0.9421664139113467\n",
            "[1] 0.9750693\n"
          ]
        }
      ],
      "source": [
        "ro.r('library(sampling)')\n",
        "ro.r('n_percent = .05')\n",
        "\n",
        "\n",
        "sampling = importr('sampling')\n",
        "ro.r('library(sampling)')\n",
        "\n",
        "\n",
        "ro.r('x1 = swiss$Education')\n",
        "ro.r('y1 = swiss$Examination')\n",
        "\n",
        "\n",
        "\n",
        "\n",
        "#ro.r('rand_seed = sample(length(x1))')\n",
        "#ro.r('x1 = x1[rand_seed]')\n",
        "#ro.r('y1 = y1[rand_seed]')\n",
        "\n",
        "x1 = np.array(ro.r('x1'))\n",
        "y1 = np.array(ro.r('y1'))\n",
        "\n",
        "ro.r('N1 = length(x1)')\n",
        "N1 = ro.r('N1')\n",
        "ro.r('n1 = round(n_percent * N1)')\n",
        "n1 = ro.r('n1')\n",
        "ro.r('inclusions1 = inclusionprobabilities(x1, n1)')\n",
        "\n",
        "inclusions1 = ro.r(\"inclusions1\")\n",
        "\n",
        "inclusions1[inclusions1 == 0] = 1e-4\n",
        "print(np.corrcoef(x1, y1)[0,1])\n",
        "\n",
        "\n",
        "\n",
        "\n",
        "\n",
        "# SWISS\n",
        "#https://search.r-project.org/CRAN/refmans/sampling/html/swissmunicipalities.html\n",
        "ro.r('data(swissmunicipalities)')\n",
        "ro.r('y2 = swissmunicipalities$Airbat')\n",
        "ro.r('x2 = swissmunicipalities$Pop020')\n",
        "ro.r('v2 = swissmunicipalities$Airind')\n",
        "ro.r('h2 = swissmunicipalities$H00P01')\n",
        "ro.r('w2 = swissmunicipalities$H00P04')\n",
        "\n",
        "\n",
        "x2 = np.array(ro.r('x2'))\n",
        "y2 = np.array(ro.r('y2'))\n",
        "v2 = np.array(ro.r('v2'))\n",
        "w2 = np.array(ro.r('w2'))\n",
        "h2 = np.array(ro.r('h2'))\n",
        "\n",
        "ro.r('N2 = length(x2)')\n",
        "N2 = ro.r('N2')\n",
        "ro.r('n2 = round(n_percent * N2)')\n",
        "n2 = ro.r('n2')\n",
        "ro.r('inclusions2 = inclusionprobabilities(x2, n2)')\n",
        "inclusions2 = ro.r(\"inclusions2\")\n",
        "\n",
        "inclusions2[inclusions2 == 0] = 1e-4\n",
        "print(np.corrcoef(x2, y2)[0,1])\n",
        "\n",
        "\n",
        "\n",
        "\n",
        "\n",
        "\n",
        "#Belg\n",
        "ro.r('data(belgianmunicipalities)')\n",
        "ro.r('x3 = belgianmunicipalities$Tot04/1000')\n",
        "ro.r('y3 = belgianmunicipalities$Totaltaxation/1000000')\n",
        "ro.r('v3 = belgianmunicipalities$averageincome/1000000')\n",
        "ro.r('w3 = belgianmunicipalities$Men03/1000')\n",
        "ro.r('h3 = belgianmunicipalities$Diffmen/1000')\n",
        "\n",
        "\n",
        "ro.r('set.seed(13242)')\n",
        "ro.r('rand_seed = sample(length(x3))')\n",
        "ro.r('x3 = x3[rand_seed]')\n",
        "ro.r('y3 = y3[rand_seed]')\n",
        "ro.r('v3 = v3[rand_seed]')\n",
        "ro.r('w3 = w3[rand_seed]')\n",
        "ro.r('h3 = h3[rand_seed]')\n",
        "\n",
        "\n",
        "x3 = np.array(ro.r('x3'))\n",
        "y3 = np.array(ro.r('y3'))\n",
        "v3 = np.array(ro.r('v3'))\n",
        "w3 = np.array(ro.r('w3'))\n",
        "h3 = np.array(ro.r('h3'))\n",
        "\n",
        "ro.r('N3 = length(x3)')\n",
        "N3 = ro.r('N3')\n",
        "ro.r('n3 = round(n_percent * N3)')\n",
        "n3 = ro.r('n3')\n",
        "#ro.r('inclusions3 = inclusionprobabilities(x3 + runif(N3, -1,1), n3)')\n",
        "ro.r('inclusions3 = inclusionprobabilities(x3, n3)')\n",
        "\n",
        "inclusions3 = ro.r(\"inclusions3\")\n",
        "inclusions3[inclusions3 == 0] = 1e-4\n",
        "ro.r('print(cor(x3,y3))')\n",
        "\n",
        "\n",
        "\n",
        "\n",
        "\n",
        "\n",
        "#simu\n",
        "ro.r('x4 = rnorm(100, 200, 5)')\n",
        "ro.r('y4 = x4 + runif(100, -5, 5)')\n",
        "ro.r('z4 = x4 + runif(100, -5, 5)')\n",
        "\n",
        "ro.r('set.seed(13242)')\n",
        "ro.r('rand_seed = sample(length(x4))')\n",
        "ro.r('x4 = x4[rand_seed]')\n",
        "ro.r('y4 = y4[rand_seed]')\n",
        "ro.r('z4 = z4[rand_seed]')\n",
        "\n",
        "x4 = np.array(ro.r('x4'))\n",
        "y4 = np.array(ro.r('y4'))\n",
        "z4 = np.array(ro.r('z4'))\n",
        "\n",
        "ro.r('N4 = length(x4)')\n",
        "N4 = ro.r('N4')\n",
        "ro.r('n4 = round(n_percent * N4)')\n",
        "n4 = ro.r('n4')\n",
        "ro.r('inclusions4 = inclusionprobabilities(x4, n4)')\n",
        "inclusions4 = ro.r(\"inclusions4\")\n",
        "inclusions4[inclusions4 == 0] = 1e-4\n",
        "\n",
        "\n",
        "\n",
        "\n",
        "\n",
        "#MU284 Sweden\n",
        "ro.r('data(MU284)')\n",
        "ro.r('y5 = MU284$RMT85')\n",
        "ro.r('x5 = MU284$P85')\n",
        "ro.r('g5 = MU284$P75')\n",
        "ro.r('v5 = MU284$S82')\n",
        "ro.r('h5 = MU284$ME84')\n",
        "ro.r('w5 = MU284$REV84')\n",
        "\n",
        "\n",
        "\n",
        "y5 = np.array(ro.r('y5'))\n",
        "x5 = np.array(ro.r('x5'))\n",
        "g5 = np.array(ro.r('g5'))\n",
        "v5 = np.array(ro.r('v5'))\n",
        "h5 = np.array(ro.r('h5'))\n",
        "w5 = np.array(ro.r('w5'))\n",
        "\n",
        "\n",
        "ro.r('N5 = length(x5)')\n",
        "N5 = ro.r('N5')\n",
        "ro.r('n5 = round(n_percent * N5)')\n",
        "n5 = ro.r('n5')\n",
        "ro.r('inclusions5 = inclusionprobabilities(x5, n5)')\n",
        "inclusions5 = ro.r(\"inclusions5\")\n",
        "inclusions5[inclusions5 == 0] = 1e-4\n",
        "\n",
        "\n",
        "\n",
        "#Belg\n",
        "ro.r('data(belgianmunicipalities)')\n",
        "ro.r('x3 = belgianmunicipalities$Tot04/1000')\n",
        "ro.r('y3 = belgianmunicipalities$Totaltaxation/1000000')\n",
        "ro.r('v3 = belgianmunicipalities$averageincome/1000000')\n",
        "ro.r('w3 = belgianmunicipalities$Men03/1000')\n",
        "ro.r('h3 = belgianmunicipalities$Diffmen/1000')\n",
        "\n",
        "\n",
        "ro.r('set.seed(13242)')\n",
        "ro.r('rand_seed = sample(length(x3))')\n",
        "ro.r('x3 = x3[rand_seed]')\n",
        "ro.r('y3 = y3[rand_seed]')\n",
        "ro.r('v3 = v3[rand_seed]')\n",
        "ro.r('w3 = w3[rand_seed]')\n",
        "ro.r('h3 = h3[rand_seed]')\n",
        "\n",
        "\n",
        "\n",
        "#small simu\n",
        "ro.r('x6 = c(1,2,3,4,5,6,7,8,9,10)')\n",
        "ro.r('y6 = c(10,27,30,4,57,60,70,83,80,130)')\n",
        "\n",
        "x6 = np.array(ro.r('x6'))\n",
        "y6 = np.array(ro.r('y6'))\n",
        "\n",
        "ro.r('N6 = length(x6)')\n",
        "N6 = ro.r('N6')\n",
        "ro.r('n6 = 3')\n",
        "n6 = ro.r('n6')\n",
        "ro.r('inclusions6 = inclusionprobabilities(x6, n6)')\n",
        "inclusions6 = ro.r(\"inclusions6\")\n",
        "inclusions6[inclusions6 == 0] = 1e-4\n",
        "\n"
      ]
    },
    {
      "cell_type": "markdown",
      "metadata": {
        "id": "dOUH5rypvURZ"
      },
      "source": [
        "# Simu The best"
      ]
    },
    {
      "cell_type": "code",
      "execution_count": 138,
      "metadata": {
        "colab": {
          "base_uri": "https://localhost:8080/",
          "height": 636
        },
        "id": "NIgcw7Fqtzot",
        "outputId": "c7e30af4-6d2e-4515-9ba7-4855dde2f781"
      },
      "outputs": [
        {
          "name": "stdout",
          "output_type": "stream",
          "text": [
            "[1]"
          ]
        },
        {
          "name": "stdout",
          "output_type": "stream",
          "text": [
            " 10  4\n"
          ]
        }
      ],
      "source": [
        "%%R\n",
        "####################\n",
        "### Getting Data ###\n",
        "####################\n",
        "library(sampling)\n",
        "#MU284 Sweden\n",
        "data(MU284)\n",
        "MU284 = MU284[MU284$P85<200,]\n",
        "set.seed(121)\n",
        "MU284 = MU284[sample(length(MU284[,1])),]\n",
        "y5 = MU284$RMT85\n",
        "x5 = MU284$P85/100\n",
        "g5 = MU284$P75/100\n",
        "v5 = MU284$S82/1000\n",
        "h5 = MU284$ME84/1000\n",
        "w5 = MU284$REV84/1000\n",
        "\n",
        "\n",
        "RMT85 = MU284$RMT85\n",
        "P85 = MU284$P85/100\n",
        "P75 = MU284$P75/100\n",
        "S82 = MU284$S82/1000\n",
        "ME84 = MU284$ME84/1000\n",
        "REV84 = MU284$REV84/1000\n",
        "REG = MU284$REG\n",
        "\n",
        "\n",
        "N = length(REV84)\n",
        "n_percent = .05\n",
        "n = round(n_percent * N)\n",
        "n = 10\n",
        "r <- runif(N, .1, .8)\n",
        "e <- rep (1, N)\n",
        "\n",
        "#1 Great\n",
        "y <- P85; z <- REV84; p <- P75\n",
        "#y <- P85; z <- ME84; p <- S82\n",
        "#y <- P85; z <- ME84; p <- REG\n",
        "#y <- P85; z <- ME84; p <- e\n",
        "M_0 = 10\n",
        "y = 5 * runif(M_0)\n",
        "z = y + runif(M_0)\n",
        "p = z + runif(M_0)\n",
        "N = length(y)\n",
        "n = 4\n",
        "pik <- inclusionprobabilities(p, n)\n",
        "pik[pik>1] = 1\n",
        "pik[pik==0] = 1e-4\n",
        "\n",
        "print(c(N, n))\n",
        "\n",
        "##########################\n",
        "### Variance of Rivals ###\n",
        "##########################\n",
        "pikl_sys = UPsystematicpi2(pik)\n",
        "pikl_max = UPmaxentropypi2(pik)\n",
        "#pikl_max = pikl_sys\n",
        "pikl_mid = UPmidzunopi2(pik)\n",
        "pikl_til = UPtillepi2(pik)\n",
        "\n",
        "z_hat = z / pik\n",
        "\n",
        "var__sys <- t(z_hat) %*% (pikl_sys - (pik %*% t(pik))) %*% z_hat\n",
        "var__max <- t(z_hat) %*% (pikl_max - (pik %*% t(pik))) %*% z_hat\n",
        "var__mid <- t(z_hat) %*% (pikl_mid - (pik %*% t(pik))) %*% z_hat\n",
        "var__til <- t(z_hat) %*% (pikl_til - (pik %*% t(pik))) %*% z_hat\n",
        "var__srs <- (N**2)*(1-n/N)*(1/n)*var(z)\n",
        "\n",
        "y_hat = y/pik\n",
        "\n",
        "var__sys_y <- t(y_hat) %*% (pikl_sys - (pik %*% t(pik))) %*% y_hat\n",
        "var__max_y <- t(y_hat) %*% (pikl_max - (pik %*% t(pik))) %*% y_hat\n",
        "var__mid_y <- t(y_hat) %*% (pikl_mid - (pik %*% t(pik))) %*% y_hat\n",
        "var__til_y <- t(y_hat) %*% (pikl_til - (pik %*% t(pik))) %*% y_hat\n",
        "var__srs_y <- (N**2)*(1-n/N)*(1/n)*var(y)\n",
        "\n",
        "\n",
        "\n",
        "\n",
        "var_x = c(var__sys, var__max, var__mid, var__til, var__srs)\n",
        "names(var_x) = c('sysxy', 'maxxy', 'midxy', 'tilxy', 'srsxy')\n",
        "threshold_x = min(var_x[var_x>0])\n",
        "\n",
        "var_y = c(var__sys_y, var__max_y, var__mid_y, var__til_y, var__srs_y )\n",
        "names(var_y) = c('sysy', 'maxy', 'midy', 'tily', 'srsy')\n",
        "threshold_y = min(var_y[var_y>0])\n",
        "\n",
        "\n",
        "\n",
        "#################################\n",
        "############ Plots and Prints ###\n",
        "#################################\n",
        "if(1==0){\n",
        "  par(mfrow=c(2,3))\n",
        "  plot(y, z)\n",
        "  plot(p, z)\n",
        "  plot(p, y)\n",
        "  \n",
        "  plot(z_hat, y_hat)\n",
        "  plot(p/pik, y_hat)\n",
        "  \n",
        "  plot(p/pik, z_hat)\n",
        "  par(mfrow=c(2,3))\n",
        "#cat('x,y', cor(x,y), '\\n x,z', cor(z, x), '\\n y,z', cor(z, y), \"\\n\")\n",
        "plot(y, z)\n",
        "plot(p,z)\n",
        "plot(p,y)\n",
        "\n",
        "plot(z_hat,y_hat)\n",
        "plot(p/pik,y_hat)\n",
        "\n",
        "plot(p/pik,z_hat)\n",
        "\n",
        "\n",
        "  cat(\"x_NHT, y_NHT\", cor(p/pik,y/pik), \"x, z\", cor(p,z), \"z_NHT, y_NHT\", cor(z/pik,y/pik))\n",
        "\n",
        "z_hat = z/pik\n",
        "print(var_x)\n",
        "print(var_y)\n",
        "cat(\"x threshold\", threshold_x, \"\\n\", \"y threshold\", threshold_y, \"\\n\")\n",
        "\n",
        "\n",
        "#cat(\"x_NHT, y_NHT\", cor(p/pik,y/pik), \"x, z\", cor(x,z), \"z_NHT, y_NHT\", cor(z/pik,y/pik))\n",
        "Final_result = cbind(y,z, y_hat, z_hat, pik, abs((y_hat- z_hat)/y_hat))\n",
        "\n",
        "print(c(N,n))\n",
        "\n",
        "}\n"
      ]
    },
    {
      "cell_type": "code",
      "execution_count": 139,
      "metadata": {},
      "outputs": [
        {
          "name": "stdout",
          "output_type": "stream",
          "text": [
            "[1] 1000\n",
            "[1] 0.9868025\n"
          ]
        },
        {
          "name": "stdout",
          "output_type": "stream",
          "text": [
            "[1] 23.22536 23.26139\n",
            "cor x,y 0.958 cor x,z 0.988 cor y,z 0.987 \n",
            "cubxy sysxy maxxy midxy tilxy srsxy \n",
            " 2.38  3.40  4.93  4.59  4.67 26.06 \n",
            "efficiency of cube sampling 1.43 \n"
          ]
        }
      ],
      "source": [
        "%%R\n",
        "M = 1000\n",
        "print(M)\n",
        "print(cor(y, z))\n",
        "cube_estimatieon = array(0, M)\n",
        "for(m in 1:M){\n",
        "    cube_sample = samplecube(cbind(pik,y), pik, comment=FALSE)\n",
        "    cube_estimatieon[m] = sum(y[cube_sample==1]/pik[cube_sample==1])\n",
        "\n",
        "}\n",
        "print(c(sum(y),mean(cube_estimatieon)))\n",
        "var__cub = round(var(cube_estimatieon), 2)\n",
        "var_y_0 = c(var__cub, var__sys_y, var__max_y, var__mid_y, var__til_y, var__srs_y)\n",
        "names(var_y_0) = c('cubxy', 'sysxy', 'maxxy', 'midxy', 'tilxy', 'srsxy')\n",
        "cat('cor x,y', round(cor(p, y),3), 'cor x,z', round(cor(p, z),3),'cor y,z', round(cor(y, z),3), '\\n')\n",
        "print(round(var_y_0, 2))\n",
        "cat('efficiency of cube sampling', round(min(var_y_0[-1])/var_y_0['cubxy'], 2), '\\n')"
      ]
    },
    {
      "cell_type": "code",
      "execution_count": 149,
      "metadata": {
        "colab": {
          "base_uri": "https://localhost:8080/"
        },
        "id": "ov1rHokIFRMH",
        "outputId": "e6d21eab-f5a0-4610-ee7a-47e6669d2780"
      },
      "outputs": [
        {
          "name": "stdout",
          "output_type": "stream",
          "text": [
            "10000000 10 2000000 10 0.1\n",
            "Best criteria value: 2.8932367610733536\n",
            "Iterations run: 10000000\n"
          ]
        },
        {
          "data": {
            "image/png": "[encoded data removed]",
            "text/plain": [
              "<Figure size 640x480 with 1 Axes>"
            ]
          },
          "metadata": {},
          "output_type": "display_data"
        },
        {
          "data": {
            "image/png": "[encoded data removed]",
            "text/plain": [
              "<Figure size 640x480 with 1 Axes>"
            ]
          },
          "metadata": {},
          "output_type": "display_data"
        }
      ],
      "source": [
        "y = np.array(ro.r['y'])\n",
        "n = np.array(ro.r['n'])\n",
        "N = np.array(ro.r['N'])\n",
        "var_y_0 = np.array(ro.r['var_y_0'])\n",
        "inclusions = np.array(ro.r['pik'])\n",
        "shifted_x   = np.array(ro.r['z'])\n",
        "threshold_x = ro.r['threshold_x']\n",
        "threshold_y = ro.r['threshold_y']\n",
        "inclusions = np.array(inclusions)\n",
        "x = np.array(shifted_x)\n",
        "\n",
        "\n",
        "\n",
        "max_open_set_size, switch_coefficient= 2000000,  .1\n",
        "show_results = 0\n",
        "random = 0\n",
        "max_iterations = 10000000\n",
        "\n",
        "for num_changes in [10]:\n",
        "      for num_new_nodes in [10]:\n",
        "            print(max_iterations, num_new_nodes, max_open_set_size, num_changes, switch_coefficient)\n",
        "            AsDesign = Design(inclusions=inclusions)\n",
        "            criterion = VarNHT(auxiliary_variable=y, inclusion_probability=inclusions)\n",
        "            astar = AStar(initial_design=AsDesign,criteria=criterion, switch_coefficient=switch_coefficient, \n",
        "                          threshold=0)\n",
        "            result = astar.run(\n",
        "                    max_iterations=max_iterations,\n",
        "                    num_new_nodes=num_changes,        # Or whatever value you want to test!\n",
        "                    max_open_set_size=max_open_set_size,\n",
        "                    num_changes=num_changes\n",
        "                )\n",
        "            print(\"Best criteria value:\", astar.best_criteria_value)\n",
        "            print(\"Iterations run:\", result)\n",
        "            astar.initial_design.show()\n",
        "\n",
        "            astar.best_design.show()\n"
      ]
    },
    {
      "cell_type": "markdown",
      "metadata": {
        "id": "c6JKu5ZYWnS-"
      },
      "source": [
        "# Package"
      ]
    },
    {
      "cell_type": "code",
      "execution_count": null,
      "metadata": {
        "id": "BnEKSu2Vel6w"
      },
      "outputs": [],
      "source": [
        "from geometric_sampling.search_algorithms.astar import AStarFast\n",
        "from geometric_sampling.criteria.var_nht import VarNHT\n",
        "from geometric_sampling.design import Design\n",
        "\n",
        "import numpy as np"
      ]
    },
    {
      "cell_type": "code",
      "execution_count": null,
      "metadata": {
        "colab": {
          "base_uri": "https://localhost:8080/",
          "height": 843
        },
        "id": "v5F2-lUafPl3",
        "outputId": "603a7b4c-f66d-445c-e0e4-aa45d6103d82"
      },
      "outputs": [
        {
          "data": {
            "image/png": "[encoded data removed]",
            "text/plain": [
              "<Figure size 640x480 with 1 Axes>"
            ]
          },
          "metadata": {},
          "output_type": "display_data"
        },
        {
          "data": {
            "image/png": "[encoded data removed]",
            "text/plain": [
              "<Figure size 640x480 with 1 Axes>"
            ]
          },
          "metadata": {},
          "output_type": "display_data"
        }
      ],
      "source": [
        "N = 7\n",
        "inclusion = np.random.rand(N)\n",
        "inlcusion = np.array([.38, .3, .42, .65, .25, .1, .9])\n",
        "D = Design(inlcusion)\n",
        "for i in range(10000):\n",
        "    D.iterate()\n",
        "D.merge_identical()\n",
        "D.show()\n",
        "x = np.random.rand(N)\n",
        "x = np.array([1,2,4,5,7,8,9])\n",
        "a = AStarFast(VarNHT(x, inclusion))\n",
        "a.run(max_iterations= 100000, num_new_nodes= 4, max_open_set_size= 1000, num_changes= 1)\n",
        "a.best_design.show()\n",
        "#for sample in a.best_design:\n",
        " #   print(sample)"
      ]
    }
  ],
  "metadata": {
    "colab": {
      "collapsed_sections": [
        "wyG16iiGtd0m",
        "my_SDJhHPJ-R",
        "pY7PKxMkGyff",
        "1u7yLG2ptj5X",
        "7qPEqapj2T55",
        "lue3vjX9Fmwc",
        "fvRhEECaEkme",
        "SUCF-zH5toBk",
        "mBHTMr4XA3q_",
        "y6PfxqDzBwvJ",
        "n_HxQOXbHsJx",
        "9xht0qIjkXBR",
        "733GZrJqwnvr",
        "kAUtLvaHwwAy"
      ],
      "provenance": []
    },
    "kernelspec": {
      "display_name": ".venv",
      "language": "python",
      "name": "python3"
    },
    "language_info": {
      "codemirror_mode": {
        "name": "ipython",
        "version": 3
      },
      "file_extension": ".py",
      "mimetype": "text/x-python",
      "name": "python",
      "nbconvert_exporter": "python",
      "pygments_lexer": "ipython3",
      "version": "3.12.3"
    }
  },
  "nbformat": 4,
  "nbformat_minor": 0
}
