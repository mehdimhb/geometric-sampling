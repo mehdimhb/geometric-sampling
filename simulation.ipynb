{
  "cells": [
    {
      "cell_type": "markdown",
      "metadata": {
        "id": "L8EamewvRhiV"
      },
      "source": [
        "### Dpi Setting"
      ]
    },
    {
      "cell_type": "code",
      "execution_count": 1329,
      "metadata": {
        "id": "5lAzzJ8sZy9Z"
      },
      "outputs": [],
      "source": [
        "import matplotlib as mpl\n",
        "mpl.rcParams['figure.dpi'] = 100 # 300"
      ]
    },
    {
      "cell_type": "code",
      "execution_count": 1330,
      "metadata": {},
      "outputs": [
        {
          "name": "stdout",
          "output_type": "stream",
          "text": [
            "The autoreload extension is already loaded. To reload it, use:\n",
            "  %reload_ext autoreload\n"
          ]
        }
      ],
      "source": [
        "%load_ext autoreload\n",
        "%autoreload 2"
      ]
    },
    {
      "cell_type": "code",
      "execution_count": 1331,
      "metadata": {},
      "outputs": [],
      "source": [
        "from package_sampling.sampling import up_tille, up_brewer, up_systematic, up_max_entropy\n",
        "from package_sampling.utils import inclusion_probabilities\n"
      ]
    },
    {
      "cell_type": "markdown",
      "metadata": {
        "id": "xaeYeRJUkg0Z"
      },
      "source": [
        "# Dependencies"
      ]
    },
    {
      "cell_type": "markdown",
      "metadata": {
        "id": "Yo13_-M0RaP9"
      },
      "source": [
        "### Python"
      ]
    },
    {
      "cell_type": "code",
      "execution_count": 1332,
      "metadata": {
        "colab": {
          "base_uri": "https://localhost:8080/"
        },
        "id": "YRKCwND9N8_J",
        "outputId": "4cce13ce-f942-4370-81ee-2887d316912e"
      },
      "outputs": [],
      "source": [
        "# !pip install -q git+https://github.com/mehdimhb/geometric-sampling@dev\n",
        "# !pip install git+https://github.com/mehdimhb/geometric-sampling@legacy-measure"
      ]
    },
    {
      "cell_type": "code",
      "execution_count": 1333,
      "metadata": {
        "colab": {
          "base_uri": "https://localhost:8080/"
        },
        "id": "J60DuP82jaME",
        "outputId": "377e9528-0f57-40d4-9b1b-591352e20fa1"
      },
      "outputs": [
        {
          "name": "stdout",
          "output_type": "stream",
          "text": [
            "E: Could not open lock file /var/lib/dpkg/lock-frontend - open (13: Permission denied)\n",
            "E: Unable to acquire the dpkg frontend lock (/var/lib/dpkg/lock-frontend), are you root?\n"
          ]
        }
      ],
      "source": [
        "!apt-get install -y r-base\n",
        "!pip install -q rpy2 tqdm\n"
      ]
    },
    {
      "cell_type": "code",
      "execution_count": 1334,
      "metadata": {},
      "outputs": [],
      "source": [
        "from rpy2.robjects.packages import importr\n"
      ]
    },
    {
      "cell_type": "code",
      "execution_count": 1335,
      "metadata": {
        "id": "dvCqCmwnjuHn"
      },
      "outputs": [
        {
          "name": "stdout",
          "output_type": "stream",
          "text": [
            "The rpy2.ipython extension is already loaded. To reload it, use:\n",
            "  %reload_ext rpy2.ipython\n"
          ]
        }
      ],
      "source": [
        "%load_ext rpy2.ipython"
      ]
    },
    {
      "cell_type": "markdown",
      "metadata": {
        "id": "BEcbxvujRdPr"
      },
      "source": [
        "### R"
      ]
    },
    {
      "cell_type": "code",
      "execution_count": 1336,
      "metadata": {
        "colab": {
          "base_uri": "https://localhost:8080/"
        },
        "id": "Ge6aoQ8fkl0n",
        "outputId": "19ad56b9-83da-49e2-a37a-de58d4bdcdd1"
      },
      "outputs": [],
      "source": [
        "%%R\n",
        "\n",
        "if(!require(WaveSampling)){\n",
        "    install.packages(\"WaveSampling\")\n",
        "    library(WaveSampling)\n",
        "}\n",
        "if(!require(sampling)){\n",
        "    install.packages(\"sampling\")\n",
        "    library(sampling)\n",
        "}\n",
        "if(!require(BalancedSampling)){\n",
        "    install.packages(\"BalancedSampling\")\n",
        "    library(BalancedSampling)\n",
        "}"
      ]
    },
    {
      "cell_type": "markdown",
      "metadata": {
        "id": "eNZsi2g5mC6N"
      },
      "source": [
        "### Imports"
      ]
    },
    {
      "cell_type": "code",
      "execution_count": 1337,
      "metadata": {
        "id": "7jjvs1ctOBa3"
      },
      "outputs": [],
      "source": [
        "import matplotlib as mpl\n",
        "import numpy as np\n",
        "from rpy2.robjects import r, numpy2ri\n",
        "import rpy2.robjects as ro\n",
        "from matplotlib import pyplot as plt\n",
        "from itertools import combinations\n",
        "from collections import OrderedDict\n",
        "import pandas as pd\n",
        "import geometric_sampling as gs\n",
        "from tqdm import tqdm\n",
        "from tqdm.contrib import tenumerate\n",
        "import seaborn as sns\n",
        "import matplotlib.pyplot as plt\n",
        "import pandas as pd\n",
        "\n",
        "numpy2ri.activate()\n",
        "\n",
        "rng = gs.random.rng()"
      ]
    },
    {
      "cell_type": "markdown",
      "metadata": {
        "id": "cUVL883DmG1Z"
      },
      "source": [
        "## Functions"
      ]
    },
    {
      "cell_type": "markdown",
      "metadata": {
        "id": "ugL9lyKcmK7h"
      },
      "source": [
        "### Scores in R"
      ]
    },
    {
      "cell_type": "code",
      "execution_count": 1338,
      "metadata": {
        "id": "-oAyNRBiOVm4"
      },
      "outputs": [],
      "source": [
        "def scores(coords, probs, n, N, sample_idx):\n",
        "    assert len(coords) == len(probs) == N\n",
        "    assert len(sample_idx) == n\n",
        "    sample_mask = np.zeros(N, dtype=int)\n",
        "    sample_mask[sample_idx] = 1\n",
        "\n",
        "    ro.globalenv['sample_mask'] = sample_mask\n",
        "    ro.globalenv['sample_idx'] = sample_idx + 1\n",
        "    ro.globalenv['coords'] = coords\n",
        "    ro.globalenv['probs'] = probs\n",
        "    ro.globalenv['n'] = n\n",
        "    ro.globalenv['N'] = N\n",
        "\n",
        "    r_code = \"\"\"\n",
        "W <- wpik(coords,probs)\n",
        "W <- W - diag(diag(W))\n",
        "diag(W) <- 0  # Ensure W has zero diagonal\n",
        "\n",
        "\n",
        "ib_value <- tryCatch({\n",
        "  IB(W, sample_mask)  # Moran's Index\n",
        "}, error = function(e) {\n",
        "  Inf\n",
        "})\n",
        "\n",
        "sb_value <- tryCatch({\n",
        "  sb(probs, coords, sample_idx)  # Spatial balance\n",
        "}, error = function(e) {\n",
        "  Inf\n",
        "})\n",
        "\n",
        "sblb_value <- tryCatch({\n",
        "  sblb(probs, coords, sample_idx)  # Spatial balance using local balance\n",
        "}, error = function(e) {\n",
        "  Inf\n",
        "})\n",
        "\"\"\"\n",
        "    ro.r(r_code)\n",
        "    IB_value = ro.r(\"ib_value\")[0]\n",
        "    SB_value = ro.r(\"sb_value\")[0]\n",
        "    SBLB_value = ro.r(\"sblb_value\")[0]\n",
        "\n",
        "    scaled_coords = (coords - np.min(coords, axis=0)) / np.ptp(coords, axis=0)\n",
        "    density_measure = gs.measure.Density(scaled_coords, probs, n)\n",
        "    scores, _ = density_measure.score(sample_idx.reshape(1, -1))\n",
        "    return scores[1][0], SB_value, IB_value, SBLB_value\n",
        "    # Legacy Measure: return scores[3][0], SB_value, IB_value, SBLB_value"
      ]
    },
    {
      "cell_type": "markdown",
      "metadata": {
        "id": "qX4jASsXm7jp"
      },
      "source": [
        "# Handpicked Cases"
      ]
    },
    {
      "cell_type": "markdown",
      "metadata": {
        "id": "uCLKd3elnAA_"
      },
      "source": [
        "## Linear 1D"
      ]
    },
    {
      "cell_type": "code",
      "execution_count": 1339,
      "metadata": {
        "colab": {
          "base_uri": "https://localhost:8080/"
        },
        "id": "hM4WHviCm_kh",
        "outputId": "f8af2e5c-e900-4d4c-f320-309cae6f35d2"
      },
      "outputs": [
        {
          "data": {
            "image/png": "[encoded data removed]",
            "text/plain": [
              "<Figure size 640x480 with 1 Axes>"
            ]
          },
          "metadata": {},
          "output_type": "display_data"
        },
        {
          "name": "stdout",
          "output_type": "stream",
          "text": [
            "   Sample   # Density Voronai  Moran Local Balance\n",
            "0   ai aj   1    0.14     0.0  -0.25          0.49\n",
            "1   ai bi   2    0.14    0.04  -0.06          0.55\n",
            "2   ai bj   2    0.11    0.04  -0.17          0.39\n",
            "3   ai ci   2    0.11    0.04    0.0          0.52\n",
            "4   ai cj   2    0.07    0.04  -0.79          0.36\n",
            "5   ai di   2    0.07    0.16  -0.24          0.59\n",
            "6   ai dj   2    0.02    0.16  -0.84          0.47\n",
            "7   ai ei   2    0.02    0.25   -0.2          0.71\n",
            "8   ai ej   2     0.0    0.16   -1.0          0.58\n",
            "9   bi bj   1    0.07     0.0  -0.79          0.25\n",
            "10  bi ci   2    0.14    0.16   0.06          0.69\n",
            "11  bi cj   2    0.02    0.01  -0.84          0.18\n",
            "12  bi di   2    0.11    0.36   0.13          0.76\n",
            "13  bi dj   2     0.0    0.04   -1.0          0.28\n",
            "14  bi ei   2    0.07    0.36  -0.13          0.85\n",
            "15  bi ej   2    0.03    0.04  -0.76          0.42\n",
            "16  ci cj   1     0.0     0.0   -1.0           0.0\n",
            "17  ci di   2    0.14    0.36   0.19          0.89\n",
            "18  ci dj   2    0.03    0.01  -0.76           0.2\n",
            "19  ci ei   2    0.13    0.36    0.3          0.97\n",
            "20  ci ej   2    0.11    0.04  -0.61          0.39\n",
            "21  di dj   1    0.11     0.0  -0.61          0.25\n",
            "22  di ei   2    0.14    0.64   0.37          1.14\n",
            "23  di ej   2     0.2     0.0   -0.5          0.39\n",
            "24  ei ej   1    0.29     0.0  -0.41          0.49\n",
            "25   Mean  45    0.09    0.15  -0.37          0.54\n"
          ]
        }
      ],
      "source": [
        "points = {\n",
        "    (0.35,): \"a1\",\n",
        "    (-0.35,): \"a2\",\n",
        "    (1.05,): \"b1\",\n",
        "    (-1.05,): \"b2\",\n",
        "    (1.75,): \"c1\",\n",
        "    (-1.75,): \"c2\",\n",
        "    (2.45,): \"d1\",\n",
        "    (-2.45,): \"d2\",\n",
        "    (3.15,): \"e1\",\n",
        "    (-3.15,): \"e2\",\n",
        "}\n",
        "\n",
        "N = len(points)\n",
        "n = 2\n",
        "coords = np.array(list(points.keys()))\n",
        "probs = rng.equal_probabilities(n, N)\n",
        "fig, ax = plt.subplots()\n",
        "for (x,), label in points.items():\n",
        "    ax.plot(x, 0, 'o', markersize=25, markerfacecolor='white', markeredgecolor='black', markeredgewidth=1)\n",
        "    ax.text(x, 0, label, color=\"black\", ha=\"center\", va=\"center\", fontsize=12)\n",
        "ax.set_xlim(-4, 4)\n",
        "ax.set_ylim(-1, 1)\n",
        "ax.set_aspect(\"equal\")\n",
        "ax.axis(\"off\")\n",
        "ax.axvspan(0, 4, facecolor='green', alpha=0.3)\n",
        "ax.axvspan(-4, 0, facecolor='blue', alpha=0.3)\n",
        "\n",
        "plt.show()\n",
        "\n",
        "dic_score = {}\n",
        "for i, j in combinations(range(0, N), 2):\n",
        "    i_label, j_label = points[tuple(coords[i])], points[tuple(coords[j])]\n",
        "    if i_label[1] == j_label[1]:\n",
        "        identifier = f\"{i_label[0]}i {j_label[0]}i\"\n",
        "    else:\n",
        "        identifier = f\"{i_label[0]}i {j_label[0]}j\"\n",
        "    sample_idx = np.array([i, j])\n",
        "    dic_score.setdefault(identifier, [])\n",
        "    dic_score[identifier].append(np.array(scores(coords, probs, n, N, sample_idx)))\n",
        "\n",
        "result = []\n",
        "for i, s in dic_score.items():\n",
        "    ss = np.round(np.mean(s, axis=0), 2)\n",
        "    row = np.concatenate([[i, len(s)], ss])\n",
        "    result.append(row)\n",
        "\n",
        "all_scores = np.concatenate([s for s in dic_score.values()])\n",
        "overall_mean = np.round(np.mean(all_scores, axis=0), 2)\n",
        "\n",
        "\n",
        "result.append(\n",
        "    np.concatenate([[\"Mean\", len(all_scores)], overall_mean])\n",
        ")\n",
        "\n",
        "df = pd.DataFrame(result, columns=[\"Sample\", \"#\", \"Density\", \"Voronai\", \"Moran\", \"Local Balance\"])\n",
        "# print(df.to_latex(index=False))\n",
        "print(df)"
      ]
    },
    {
      "cell_type": "markdown",
      "metadata": {
        "id": "3-YqwpozLcRG"
      },
      "source": [
        "## 4 3x3"
      ]
    },
    {
      "cell_type": "code",
      "execution_count": 1340,
      "metadata": {
        "colab": {
          "base_uri": "https://localhost:8080/",
          "height": 1000
        },
        "id": "CMD3VCXBywj7",
        "outputId": "2861e0ba-04c2-4534-82cd-1bd9c5d5e6cb"
      },
      "outputs": [
        {
          "data": {
            "image/png": "[encoded data removed]",
            "text/plain": [
              "<Figure size 600x600 with 1 Axes>"
            ]
          },
          "metadata": {},
          "output_type": "display_data"
        },
        {
          "data": {
            "text/html": [
              "<div>\n",
              "<style scoped>\n",
              "    .dataframe tbody tr th:only-of-type {\n",
              "        vertical-align: middle;\n",
              "    }\n",
              "\n",
              "    .dataframe tbody tr th {\n",
              "        vertical-align: top;\n",
              "    }\n",
              "\n",
              "    .dataframe thead th {\n",
              "        text-align: right;\n",
              "    }\n",
              "</style>\n",
              "<table border=\"1\" class=\"dataframe\">\n",
              "  <thead>\n",
              "    <tr style=\"text-align: right;\">\n",
              "      <th></th>\n",
              "      <th>Sample</th>\n",
              "      <th>Density</th>\n",
              "      <th>Voronai</th>\n",
              "      <th>Moran</th>\n",
              "      <th>Local Balance</th>\n",
              "    </tr>\n",
              "  </thead>\n",
              "  <tbody>\n",
              "    <tr>\n",
              "      <th>0</th>\n",
              "      <td>e1 e2 e3 e4</td>\n",
              "      <td>0.00</td>\n",
              "      <td>0.00</td>\n",
              "      <td>-1.00</td>\n",
              "      <td>0.00</td>\n",
              "    </tr>\n",
              "    <tr>\n",
              "      <th>1</th>\n",
              "      <td>a1 a2 a3 a4</td>\n",
              "      <td>0.00</td>\n",
              "      <td>0.11</td>\n",
              "      <td>-0.59</td>\n",
              "      <td>0.43</td>\n",
              "    </tr>\n",
              "    <tr>\n",
              "      <th>2</th>\n",
              "      <td>d1 d2 d3 d4</td>\n",
              "      <td>0.00</td>\n",
              "      <td>0.02</td>\n",
              "      <td>-0.83</td>\n",
              "      <td>0.28</td>\n",
              "    </tr>\n",
              "    <tr>\n",
              "      <th>3</th>\n",
              "      <td>b1 d2 h3 f4</td>\n",
              "      <td>0.02</td>\n",
              "      <td>0.00</td>\n",
              "      <td>-0.75</td>\n",
              "      <td>0.19</td>\n",
              "    </tr>\n",
              "    <tr>\n",
              "      <th>4</th>\n",
              "      <td>f1 b2 d3 h4</td>\n",
              "      <td>0.33</td>\n",
              "      <td>0.00</td>\n",
              "      <td>-0.69</td>\n",
              "      <td>0.26</td>\n",
              "    </tr>\n",
              "    <tr>\n",
              "      <th>5</th>\n",
              "      <td>d1 h2 f3 b4</td>\n",
              "      <td>0.40</td>\n",
              "      <td>0.00</td>\n",
              "      <td>-0.50</td>\n",
              "      <td>0.26</td>\n",
              "    </tr>\n",
              "    <tr>\n",
              "      <th>6</th>\n",
              "      <td>a1 c1 g1 i1</td>\n",
              "      <td>0.34</td>\n",
              "      <td>0.56</td>\n",
              "      <td>0.38</td>\n",
              "      <td>0.84</td>\n",
              "    </tr>\n",
              "    <tr>\n",
              "      <th>7</th>\n",
              "      <td>b1 d1 f1 h1</td>\n",
              "      <td>0.48</td>\n",
              "      <td>0.56</td>\n",
              "      <td>0.52</td>\n",
              "      <td>0.79</td>\n",
              "    </tr>\n",
              "    <tr>\n",
              "      <th>8</th>\n",
              "      <td>h1 d2 b3 f4</td>\n",
              "      <td>0.03</td>\n",
              "      <td>0.00</td>\n",
              "      <td>-0.00</td>\n",
              "      <td>0.26</td>\n",
              "    </tr>\n",
              "  </tbody>\n",
              "</table>\n",
              "</div>"
            ],
            "text/plain": [
              "        Sample Density Voronai  Moran Local Balance\n",
              "0  e1 e2 e3 e4    0.00    0.00  -1.00          0.00\n",
              "1  a1 a2 a3 a4    0.00    0.11  -0.59          0.43\n",
              "2  d1 d2 d3 d4    0.00    0.02  -0.83          0.28\n",
              "3  b1 d2 h3 f4    0.02    0.00  -0.75          0.19\n",
              "4  f1 b2 d3 h4    0.33    0.00  -0.69          0.26\n",
              "5  d1 h2 f3 b4    0.40    0.00  -0.50          0.26\n",
              "6  a1 c1 g1 i1    0.34    0.56   0.38          0.84\n",
              "7  b1 d1 f1 h1    0.48    0.56   0.52          0.79\n",
              "8  h1 d2 b3 f4    0.03    0.00  -0.00          0.26"
            ]
          },
          "metadata": {},
          "output_type": "display_data"
        },
        {
          "name": "stdout",
          "output_type": "stream",
          "text": [
            "\\begin{tabular}{llllll}\n",
            "\\toprule\n",
            " & Sample & Density & Voronai & Moran & Local Balance \\\\\n",
            "\\midrule\n",
            "0 & e1 e2 e3 e4 & 0.00 & 0.00 & -1.00 & 0.00 \\\\\n",
            "1 & a1 a2 a3 a4 & 0.00 & 0.11 & -0.59 & 0.43 \\\\\n",
            "2 & d1 d2 d3 d4 & 0.00 & 0.02 & -0.83 & 0.28 \\\\\n",
            "3 & b1 d2 h3 f4 & 0.02 & 0.00 & -0.75 & 0.19 \\\\\n",
            "4 & f1 b2 d3 h4 & 0.33 & 0.00 & -0.69 & 0.26 \\\\\n",
            "5 & d1 h2 f3 b4 & 0.40 & 0.00 & -0.50 & 0.26 \\\\\n",
            "6 & a1 c1 g1 i1 & 0.34 & 0.56 & 0.38 & 0.84 \\\\\n",
            "7 & b1 d1 f1 h1 & 0.48 & 0.56 & 0.52 & 0.79 \\\\\n",
            "8 & h1 d2 b3 f4 & 0.03 & 0.00 & -0.00 & 0.26 \\\\\n",
            "\\bottomrule\n",
            "\\end{tabular}\n",
            "\n"
          ]
        }
      ],
      "source": [
        "samples = np.array([\n",
        "    [\"e1\", \"e2\", \"e3\", \"e4\"],\n",
        "    [\"a1\", \"a2\", \"a3\", \"a4\"],\n",
        "    [\"d1\", \"d2\", \"d3\", \"d4\"],\n",
        "    [\"f4\", \"h3\", \"d2\", \"b1\"],\n",
        "    [\"f1\", \"b2\", \"d3\", \"h4\"],\n",
        "    [\"f3\", \"d1\", \"b4\", \"h2\"],\n",
        "    [\"a1\", \"c1\", \"g1\", \"i1\"],\n",
        "    [\"b1\", \"d1\", \"f1\", \"h1\"],\n",
        "    #### NEW Interstings\n",
        "    \"h1 d2 b3 f4\".split(\" \"),\n",
        "])\n",
        "\n",
        "x3coords = rng.grid_coordinates((3, 2)) * 2\n",
        "x3probs = rng.equal_probabilities(1, 9)\n",
        "\n",
        "left = x3coords.copy()\n",
        "right = x3coords.copy()\n",
        "up = x3coords.copy()\n",
        "down = x3coords.copy()\n",
        "\n",
        "left_labels = [chr(ord('a') + i) + '1' for i in range(9)]\n",
        "right_labels = [chr(ord('a') + i) + '3' for i in range(9)]\n",
        "up_labels = [chr(ord('a') + i) + '2' for i in range(9)]\n",
        "down_labels = [chr(ord('a') + i) + '4' for i in range(9)]\n",
        "\n",
        "####### TEST\n",
        "import itertools\n",
        "# samples = np.array([\n",
        "#     [l, u, r, d]\n",
        "#     for l, u, r, d in itertools.product(left_labels, up_labels, right_labels, down_labels)\n",
        "# ])\n",
        "#######\n",
        "\n",
        "left[:, 0] += 1\n",
        "left[:, 1] += 3.5\n",
        "right[:, 0] += 6\n",
        "right[:, 1] += 3.5\n",
        "up[:, 0] += 3.5\n",
        "up[:, 1] += 6\n",
        "down[:, 0] += 3.5\n",
        "down[:, 1] += 1\n",
        "\n",
        "\n",
        "coords = np.vstack([left, right, up, down])\n",
        "probs = np.concatenate([x3probs, x3probs, x3probs, x3probs])\n",
        "labels = np.concatenate([left_labels, right_labels, up_labels, down_labels])\n",
        "label_to_idx = {l: idx for idx, (c, l) in enumerate(zip(coords, labels))}\n",
        "assert len(probs) == len(coords) == len(labels)\n",
        "\n",
        "N = len(coords)\n",
        "n = 4\n",
        "points = {}\n",
        "fig, ax = plt.subplots(figsize=(6, 6))\n",
        "ax.set_aspect(\"equal\")\n",
        "for (x, y), label in zip(coords, labels):\n",
        "    points[label] = (x, y)\n",
        "    ax.plot(x, y, 'o', markersize=25, markerfacecolor='white', label=1, markeredgecolor='black', markeredgewidth=1)\n",
        "    ax.text(x, y, label, fontsize=12, ha='center', va='center')\n",
        "\n",
        "plt.show()\n",
        "\n",
        "results = []\n",
        "for sample in samples:\n",
        "    sample_idx = np.array([label_to_idx[s] for s in sample])\n",
        "    identifier = \" \".join(sorted(sample, key=lambda x: x[1]))\n",
        "    s = scores(coords, probs, n, N, sample_idx)\n",
        "    s_formatted = [f\"{num:.2f}\" for num in s]  # Corrected line\n",
        "    results.append([identifier] + s_formatted)\n",
        "\n",
        "df = pd.DataFrame(results, columns=[\"Sample\", \"Density\", \"Voronai\", \"Moran\", \"Local Balance\"])\n",
        "display(df)\n",
        "print(df.to_latex())\n"
      ]
    },
    {
      "cell_type": "markdown",
      "metadata": {
        "id": "Gl_TYPfeL2ra"
      },
      "source": [
        "## Rotating"
      ]
    },
    {
      "cell_type": "code",
      "execution_count": 1341,
      "metadata": {
        "colab": {
          "base_uri": "https://localhost:8080/"
        },
        "id": "QwZ4qUjSL60b",
        "outputId": "1660c4f9-5f01-4697-b7f2-5c78217dd714"
      },
      "outputs": [
        {
          "data": {
            "image/png": "[encoded data removed]",
            "text/plain": [
              "<Figure size 600x600 with 1 Axes>"
            ]
          },
          "metadata": {},
          "output_type": "display_data"
        },
        {
          "data": {
            "text/html": [
              "<div>\n",
              "<style scoped>\n",
              "    .dataframe tbody tr th:only-of-type {\n",
              "        vertical-align: middle;\n",
              "    }\n",
              "\n",
              "    .dataframe tbody tr th {\n",
              "        vertical-align: top;\n",
              "    }\n",
              "\n",
              "    .dataframe thead th {\n",
              "        text-align: right;\n",
              "    }\n",
              "</style>\n",
              "<table border=\"1\" class=\"dataframe\">\n",
              "  <thead>\n",
              "    <tr style=\"text-align: right;\">\n",
              "      <th></th>\n",
              "      <th>Sample</th>\n",
              "      <th>#</th>\n",
              "      <th>Density</th>\n",
              "      <th>Voronai</th>\n",
              "      <th>Moran</th>\n",
              "      <th>Local Balance</th>\n",
              "    </tr>\n",
              "  </thead>\n",
              "  <tbody>\n",
              "    <tr>\n",
              "      <th>0</th>\n",
              "      <td>aaa</td>\n",
              "      <td>1</td>\n",
              "      <td>0.56</td>\n",
              "      <td>0.0</td>\n",
              "      <td>-1.0</td>\n",
              "      <td>0.263</td>\n",
              "    </tr>\n",
              "    <tr>\n",
              "      <th>1</th>\n",
              "      <td>aab</td>\n",
              "      <td>3</td>\n",
              "      <td>0.3</td>\n",
              "      <td>0.0</td>\n",
              "      <td>-1.0</td>\n",
              "      <td>0.214</td>\n",
              "    </tr>\n",
              "    <tr>\n",
              "      <th>2</th>\n",
              "      <td>aac</td>\n",
              "      <td>3</td>\n",
              "      <td>0.141</td>\n",
              "      <td>0.0</td>\n",
              "      <td>-1.0</td>\n",
              "      <td>0.263</td>\n",
              "    </tr>\n",
              "    <tr>\n",
              "      <th>3</th>\n",
              "      <td>abb</td>\n",
              "      <td>3</td>\n",
              "      <td>0.101</td>\n",
              "      <td>0.0</td>\n",
              "      <td>-1.0</td>\n",
              "      <td>0.152</td>\n",
              "    </tr>\n",
              "    <tr>\n",
              "      <th>4</th>\n",
              "      <td>abc</td>\n",
              "      <td>6</td>\n",
              "      <td>0.045</td>\n",
              "      <td>0.0</td>\n",
              "      <td>-1.0</td>\n",
              "      <td>0.214</td>\n",
              "    </tr>\n",
              "    <tr>\n",
              "      <th>5</th>\n",
              "      <td>acc</td>\n",
              "      <td>3</td>\n",
              "      <td>0.039</td>\n",
              "      <td>0.0</td>\n",
              "      <td>-1.0</td>\n",
              "      <td>0.263</td>\n",
              "    </tr>\n",
              "    <tr>\n",
              "      <th>6</th>\n",
              "      <td>bbb</td>\n",
              "      <td>1</td>\n",
              "      <td>0.0</td>\n",
              "      <td>0.0</td>\n",
              "      <td>-1.0</td>\n",
              "      <td>0.0</td>\n",
              "    </tr>\n",
              "    <tr>\n",
              "      <th>7</th>\n",
              "      <td>bbc</td>\n",
              "      <td>3</td>\n",
              "      <td>0.067</td>\n",
              "      <td>0.0</td>\n",
              "      <td>-1.0</td>\n",
              "      <td>0.152</td>\n",
              "    </tr>\n",
              "    <tr>\n",
              "      <th>8</th>\n",
              "      <td>bcc</td>\n",
              "      <td>3</td>\n",
              "      <td>0.161</td>\n",
              "      <td>0.0</td>\n",
              "      <td>-1.0</td>\n",
              "      <td>0.214</td>\n",
              "    </tr>\n",
              "    <tr>\n",
              "      <th>9</th>\n",
              "      <td>ccc</td>\n",
              "      <td>1</td>\n",
              "      <td>0.223</td>\n",
              "      <td>0.0</td>\n",
              "      <td>-1.0</td>\n",
              "      <td>0.263</td>\n",
              "    </tr>\n",
              "    <tr>\n",
              "      <th>10</th>\n",
              "      <td>Mean</td>\n",
              "      <td>27</td>\n",
              "      <td>0.13</td>\n",
              "      <td>0.0</td>\n",
              "      <td>-1.0</td>\n",
              "      <td>0.21</td>\n",
              "    </tr>\n",
              "  </tbody>\n",
              "</table>\n",
              "</div>"
            ],
            "text/plain": [
              "   Sample   # Density Voronai Moran Local Balance\n",
              "0     aaa   1    0.56     0.0  -1.0         0.263\n",
              "1     aab   3     0.3     0.0  -1.0         0.214\n",
              "2     aac   3   0.141     0.0  -1.0         0.263\n",
              "3     abb   3   0.101     0.0  -1.0         0.152\n",
              "4     abc   6   0.045     0.0  -1.0         0.214\n",
              "5     acc   3   0.039     0.0  -1.0         0.263\n",
              "6     bbb   1     0.0     0.0  -1.0           0.0\n",
              "7     bbc   3   0.067     0.0  -1.0         0.152\n",
              "8     bcc   3   0.161     0.0  -1.0         0.214\n",
              "9     ccc   1   0.223     0.0  -1.0         0.263\n",
              "10   Mean  27    0.13     0.0  -1.0          0.21"
            ]
          },
          "metadata": {},
          "output_type": "display_data"
        }
      ],
      "source": [
        "def rotate_point(p, t, cost=None, sint=None):\n",
        "    if cost is None or sint is None:\n",
        "        cost, sint = np.cos(t), np.sin(t)\n",
        "    return np.array([\n",
        "        p[0] * cost - p[1] * sint,\n",
        "        p[0] * sint + p[1] * cost\n",
        "    ])\n",
        "\n",
        "def rotate_matrix(matrix, t, cost=None, sint=None):\n",
        "    if cost is None or sint is None:\n",
        "        cost, sint = np.cos(t), np.sin(t)\n",
        "    return np.apply_along_axis(rotate_point, 1, matrix, t, cost, sint)\n",
        "\n",
        "template = np.array([\n",
        "    [0.0, -0.5],\n",
        "    [0.0, -1],\n",
        "    [0.0, -1.5]\n",
        "])\n",
        "template = np.array([\n",
        "    [0.0, -2],\n",
        "    [0.0, -3],\n",
        "    [0.0, -4]\n",
        "])\n",
        "\n",
        "angles = np.arange(0, 3) * (2.0 * np.pi / 3.0)\n",
        "pop = np.vstack([rotate_matrix(template, angle) for angle in angles])\n",
        "\n",
        "all_points = pop\n",
        "labels = [\"a1\", \"b1\", \"c1\", \"a2\", \"b2\", \"c2\", \"a3\", \"b3\", \"c3\"]\n",
        "\n",
        "fig, ax = plt.subplots(figsize=(6, 6))\n",
        "ax.set_aspect(\"equal\")\n",
        "\n",
        "for (x, y), label in zip(all_points, labels):\n",
        "    ax.plot(x, y, 'o', markersize=25, markerfacecolor='white', markeredgecolor='black', markeredgewidth=1)\n",
        "    ax.text(x, y, label, fontsize=12, ha='center', va='center')\n",
        "\n",
        "ax.set_xticks([])\n",
        "ax.set_yticks([])\n",
        "plt.show()\n",
        "\n",
        "N = len(all_points)\n",
        "n = 3\n",
        "coords = np.array(all_points)\n",
        "probs = rng.equal_probabilities(n, N)\n",
        "\n",
        "from itertools import combinations, combinations_with_replacement\n",
        "\n",
        "dic_score = {}\n",
        "for i, j, k in combinations(range(0, N), 3):\n",
        "    i_label, j_label, k_label = labels[i], labels[j], labels[k]\n",
        "    ids = list(sorted([i_label[0], j_label[0], k_label[0]]))\n",
        "    identifier = \"\".join(ids)\n",
        "\n",
        "    if len(set([i_label[1], j_label[1], k_label[1]])) != n:\n",
        "      continue\n",
        "\n",
        "    sample_idx = np.array([i, j, k])\n",
        "    dic_score.setdefault(identifier, [])\n",
        "    dic_score[identifier].append(np.array(scores(coords, probs, n, N, sample_idx)))\n",
        "\n",
        "result = []\n",
        "for i, s in dic_score.items():\n",
        "    ss = np.round(np.mean(s, axis=0), 3)\n",
        "    row = np.concatenate([[i, len(s)], ss])\n",
        "    result.append(row)\n",
        "\n",
        "all_scores = np.concatenate([s for s in dic_score.values()])\n",
        "overall_mean = np.mean(all_scores, axis=0)\n",
        "\n",
        "\n",
        "result.append(\n",
        "    np.concatenate([[\"Mean\", len(all_scores)], np.round(overall_mean, 2)])\n",
        ")\n",
        "\n",
        "df = pd.DataFrame(result, columns=[\"Sample\", \"#\", \"Density\", \"Voronai\", \"Moran\", \"Local Balance\"])\n",
        "\n",
        "display(df)\n",
        "# print(df.to_latex())"
      ]
    },
    {
      "cell_type": "markdown",
      "metadata": {
        "id": "TyuVl1gw8_tA"
      },
      "source": [
        "# Simulations"
      ]
    },
    {
      "cell_type": "markdown",
      "metadata": {
        "id": "ej46nL5U9JTF"
      },
      "source": [
        "## Methods"
      ]
    },
    {
      "cell_type": "code",
      "execution_count": 1342,
      "metadata": {
        "id": "WbmlUyZf9QIj"
      },
      "outputs": [],
      "source": [
        "def local_pivotal_samples(coords, probs, n, num_samples):\n",
        "    ro.globalenv['coords'] = coords\n",
        "    ro.globalenv['probs'] = probs\n",
        "\n",
        "    samples_idx = np.zeros((num_samples, n), dtype=int)\n",
        "    for i in range(num_samples):\n",
        "        r_code = \"\"\"\n",
        "s <- lpm(probs, coords) # Local Pivotal Method\n",
        "\"\"\"\n",
        "        ro.r(r_code)\n",
        "        sample_idx = np.array(list(ro.r(\"s\"))) - 1\n",
        "        samples_idx[i] = sample_idx\n",
        "\n",
        "    return samples_idx\n",
        "\n",
        "def k_means_samples(coords, probs, n, num_samples, n_zones):\n",
        "    return gs.sampling.KMeansSpatialSampling(coords, probs, n=n, n_zones=n_zones, tolerance=3).sample(num_samples)\n",
        "\n",
        "def random_samples(coords, probs, n, num_samples):\n",
        "    return gs.sampling.RandomSampling(coords, probs, n=n).sample(num_samples)\n",
        "\n",
        "def upmaxentropy_samples(probs, num_samples):\n",
        "    ro.globalenv['probs'] = probs\n",
        "\n",
        "    samples_idx = np.zeros((num_samples, n), dtype=int)\n",
        "    for i in range(num_samples):\n",
        "        r_code = \"\"\"\n",
        "        mask <- UPmaxentropy(probs)\n",
        "        \"\"\"\n",
        "        ro.r(r_code)\n",
        "        mask = np.array(ro.r(\"mask\"))\n",
        "        if mask.dtype != np.bool_:\n",
        "            mask = mask.astype(bool)\n",
        "        sample_idx = np.where(mask)[0]\n",
        "        samples_idx[i] = sample_idx\n",
        "\n",
        "    return samples_idx\n",
        "\n",
        "    return np.array(samples)\n",
        "\n",
        "\n",
        "def wave_samples(coords, probs, n, num_samples):\n",
        "    ro.globalenv['coords'] = coords\n",
        "    ro.globalenv['probs'] = probs\n",
        "\n",
        "    samples_idx = np.zeros((num_samples, n), dtype=int)\n",
        "    for i in range(num_samples):\n",
        "        r_code = \"\"\"\n",
        "wave_mask <- wave(coords, probs)\n",
        "\"\"\"\n",
        "        ro.r(r_code)\n",
        "        mask = np.array(ro.r(\"wave_mask\"))\n",
        "        if mask.dtype != np.bool_:\n",
        "            mask = mask.astype(bool)\n",
        "        sample_idx = np.where(mask)[0]\n",
        "        samples_idx[i] = sample_idx\n",
        "\n",
        "    return samples_idx\n",
        "\n",
        "\n",
        "def find_samples(coords, probs, n, num_samples):\n",
        "    return {\n",
        "        \"K-Means (2, 2)\": k_means_samples(coords, probs, n, num_samples, (2, 2)),\n",
        "        \"K-Means (5, 5)\": k_means_samples(coords, probs, n, num_samples, (5, 5)),\n",
        "        \"Local Pivotal\": local_pivotal_samples(coords, probs, n, num_samples),\n",
        "        \"Random\": random_samples(coords, probs, n, num_samples),\n",
        "        \"UPmaxentropy\": upmaxentropy_samples(probs, num_samples),\n",
        "        # \"Wave\": wave_samples(coords, probs, n, num_samples),\n",
        "    }"
      ]
    },
    {
      "cell_type": "markdown",
      "metadata": {
        "id": "TbDZj94eQLnY"
      },
      "source": [
        "## Initial Population"
      ]
    },
    {
      "cell_type": "code",
      "execution_count": 1343,
      "metadata": {
        "id": "9vdqnMKqVo2z"
      },
      "outputs": [],
      "source": [
        "n = 10 # Number of item in each sample (number of clusters)\n",
        "sample_cnt = 5 # How many sample gather from each desiging method"
      ]
    },
    {
      "cell_type": "markdown",
      "metadata": {
        "id": "LbUzOW7nbTQr"
      },
      "source": [
        "### Coords"
      ]
    },
    {
      "cell_type": "markdown",
      "metadata": {
        "id": "VpmbeoRUbZkr"
      },
      "source": [
        "Uncomment each one you would like to get result from"
      ]
    },
    {
      "cell_type": "code",
      "execution_count": null,
      "metadata": {
        "id": "Wj3Iv23wcdK5"
      },
      "outputs": [],
      "source": [
        "swiss = 0\n",
        "######### GRID\n",
        "# grid_size = 20\n",
        "# N = grid_size**2\n",
        "# coords = rng.grid_coordinates((grid_size, 2))\n",
        "\n",
        "\n",
        "######### RANDOM\n",
        "N = 400\n",
        "coords = rng.random_coordinates((N, 2))\n",
        "\n",
        "######### CLUSTRED\n",
        "# n_clusters = 4\n",
        "# cluster_std = 0.05\n",
        "# N = 400\n",
        "# coords = rng.cluster_coordinates(n_clusters, cluster_std, (N, 2))\n",
        "# idx = np.lexsort((coords[:,1], coords[:,0]))\n",
        "# coords = coords[idx]\n",
        "\n",
        "\n",
        "######### SWISS: https://docs.google.com/spreadsheets/d/10uYLsZpxRV5lUrsGfy3gI0RD4fAn8lIP/edit?usp=sharing&ouid=117333816980669142577&rtpof=true&sd=true\n",
        "swiss = 1\n",
        "swiss_df = pd.read_csv('/home/divar/projects/geometric-sampling/swiss.csv')\n",
        "coords = swiss_df[['COORD_X', 'COORD_Y']].to_numpy()\n",
        "swiss_df['AREA'] = swiss_df['AREA'].clip(lower=1, upper=40)\n",
        "N = len(coords)"
      ]
    },
    {
      "cell_type": "markdown",
      "metadata": {
        "id": "V0YAXv9VcSNW"
      },
      "source": [
        "### Probabilities"
      ]
    },
    {
      "cell_type": "markdown",
      "metadata": {
        "id": "eEmansSRcXns"
      },
      "source": [
        "Uncomment each one you would like to get result from"
      ]
    },
    {
      "cell_type": "code",
      "execution_count": null,
      "metadata": {
        "id": "T6BWVz8Pcspj"
      },
      "outputs": [
        {
          "name": "stdout",
          "output_type": "stream",
          "text": [
            "count    959.000000\n",
            "mean       0.010428\n",
            "std        0.011114\n",
            "min        0.000825\n",
            "25%        0.001452\n",
            "50%        0.005370\n",
            "75%        0.016093\n",
            "max        0.032994\n",
            "dtype: float64\n",
            "10.000000000000059\n",
            "10.0\n",
            "[0.00868558 0.00383551 0.00082484 0.01497912 0.01936728 0.022147\n",
            " 0.00375303 0.01539154 0.03065936 0.0015837  0.00387676 0.0179568\n",
            " 0.00510577 0.02476174 0.00772052 0.0171897  0.02122317 0.00541921\n",
            " 0.02429983 0.01684327 0.01238087 0.00082484 0.01689276 0.0041902\n",
            " 0.00802571 0.03299366 0.01938378 0.00323338 0.00474284 0.00504803\n",
            " 0.01079718 0.00121252 0.00996409 0.01528431 0.00082484 0.02652691\n",
            " 0.03299366 0.01514409 0.00564192 0.00087433 0.01294176 0.00082484\n",
            " 0.00245803 0.00375303 0.00561717 0.0140388  0.00800921 0.00449539\n",
            " 0.00574915 0.01306549 0.00544395 0.00222707 0.00082484 0.01281804\n",
            " 0.00269723 0.0073081  0.00724211 0.00737408 0.01484715 0.0098816\n",
            " 0.00762154 0.01917757 0.03299366 0.00082484 0.02977678 0.00416545\n",
            " 0.01125909 0.00082484 0.00600485 0.00648325 0.00261475 0.01334594\n",
            " 0.00916399 0.00899902 0.00271373 0.01504511 0.00890004 0.01489664\n",
            " 0.00559243 0.02305432 0.00082484 0.00569966 0.00360456 0.00895778\n",
            " 0.0104095  0.00527899 0.00160019 0.00082484 0.00149296 0.02793738\n",
            " 0.0132882  0.03299366 0.02376369 0.01377485 0.01599368 0.02067878\n",
            " 0.0169175  0.0129995  0.01364288 0.00343959 0.01445122 0.00277147\n",
            " 0.00082484 0.00082484 0.00725861 0.00904851 0.00970839 0.00082484\n",
            " 0.00082484 0.00082484 0.0122159  0.01549877 0.00449539 0.01706597\n",
            " 0.00757205 0.0265434  0.02381318 0.0098816  0.00082484 0.03299366\n",
            " 0.00536972 0.01389033 0.00328287 0.01056622 0.00578214 0.0166453\n",
            " 0.03299366 0.00715962 0.00604609 0.00240854 0.00082484 0.00082484\n",
            " 0.00326637 0.03299366 0.00252402 0.00428093 0.01311498 0.01105288\n",
            " 0.03299366 0.00082484 0.00263949 0.00421494 0.03299366 0.00082484\n",
            " 0.00082484 0.00315089 0.00082484 0.00172392 0.00082484 0.00082484\n",
            " 0.01624113 0.00426443 0.00150946 0.00082484 0.00082484 0.00082484\n",
            " 0.00261475 0.01874865 0.01148179 0.0010228  0.00593061 0.00306016\n",
            " 0.00442115 0.00346433 0.00099806 0.03299366 0.01145705 0.00862784\n",
            " 0.00825666 0.00082484 0.02719503 0.03299366 0.00328287 0.00999708\n",
            " 0.00082484 0.00204561 0.01225715 0.00122901 0.02121493 0.00290344\n",
            " 0.03299366 0.00197962 0.00368704 0.00279621 0.03299366 0.0023343\n",
            " 0.01512759 0.00736584 0.00211984 0.00784424 0.01573798 0.00235905\n",
            " 0.00082484 0.00082484 0.00635953 0.0041737  0.03299366 0.00513051\n",
            " 0.01319747 0.02352448 0.00362105 0.00082484 0.0255041  0.01776709\n",
            " 0.00082484 0.0125046  0.00716787 0.01999416 0.00082484 0.00082484\n",
            " 0.00791023 0.00894128 0.03299366 0.02232846 0.00579864 0.00505628\n",
            " 0.00082484 0.00840514 0.03299366 0.00475109 0.00346433 0.00178991\n",
            " 0.00517176 0.00124551 0.01235613 0.00647501 0.01411304 0.00082484\n",
            " 0.00849587 0.01632362 0.00300242 0.00970014 0.00555118 0.00082484\n",
            " 0.00082484 0.00509752 0.01120135 0.00145997 0.01213342 0.02462152\n",
            " 0.00177341 0.00157545 0.00134449 0.00226831 0.00082484 0.03299366\n",
            " 0.03299366 0.00082484 0.00082484 0.03299366 0.0309728  0.01361813\n",
            " 0.03299366 0.00082484 0.00791848 0.00082484 0.01930129 0.03299366\n",
            " 0.00367055 0.00677195 0.01935903 0.03299366 0.00281271 0.00803396\n",
            " 0.01228189 0.02189954 0.00172392 0.00175691 0.00082484 0.00141048\n",
            " 0.02290585 0.00082484 0.00082484 0.00751431 0.00421494 0.03299366\n",
            " 0.00747306 0.00082484 0.00726685 0.00082484 0.01244686 0.0012785\n",
            " 0.02500095 0.03299366 0.02341725 0.03299366 0.00113003 0.01689276\n",
            " 0.00082484 0.03299366 0.00082484 0.00082484 0.00395099 0.00143522\n",
            " 0.00141873 0.00082484 0.00503978 0.00082484 0.00082484 0.03299366\n",
            " 0.03299366 0.00086608 0.00110529 0.01442648 0.00084134 0.00082484\n",
            " 0.00082484 0.00082484 0.00082484 0.01706597 0.00464386 0.00082484\n",
            " 0.00082484 0.0140553  0.03299366 0.03299366 0.03299366 0.03299366\n",
            " 0.03299366 0.03299366 0.03299366 0.03299366 0.03299366 0.03299366\n",
            " 0.03299366 0.03299366 0.03299366 0.03299366 0.03299366 0.03299366\n",
            " 0.03299366 0.03299366 0.03299366 0.03299366 0.03299366 0.03299366\n",
            " 0.00406647 0.01557301 0.00952692 0.01959824 0.00280446 0.00227656\n",
            " 0.00082484 0.00591411 0.00472634 0.00291169 0.00147647 0.02349149\n",
            " 0.00164143 0.00137749 0.00125376 0.00185589 0.00263124 0.00082484\n",
            " 0.03299366 0.00082484 0.01141581 0.01516059 0.02345025 0.00254051\n",
            " 0.00082484 0.03214408 0.00748956 0.01078893 0.02965306 0.01437699\n",
            " 0.01163027 0.00865259 0.00082484 0.00882581 0.00586462 0.00082484\n",
            " 0.00278796 0.00333236 0.00082484 0.00232605 0.00082484 0.01453371\n",
            " 0.01620814 0.00242503 0.03018095 0.0072751  0.00245803 0.00237554\n",
            " 0.02186655 0.00191363 0.01176224 0.02185005 0.00904851 0.02437407\n",
            " 0.01037651 0.00505628 0.03299366 0.00986511 0.03171516 0.02985927\n",
            " 0.01729693 0.03299366 0.01229839 0.03299366 0.03299366 0.00427268\n",
            " 0.00933721 0.00760504 0.00717612 0.00324163 0.00443765 0.00583163\n",
            " 0.03299366 0.03299366 0.00282096 0.03299366 0.00082484 0.00418195\n",
            " 0.00136924 0.01527607 0.02536388 0.00291169 0.03221831 0.01395632\n",
            " 0.00082484 0.02600726 0.00082484 0.00659048 0.00294468 0.00196312\n",
            " 0.00416545 0.00118777 0.00082484 0.00087433 0.02361521 0.00082484\n",
            " 0.01193546 0.00263124 0.00829791 0.0044459  0.00082484 0.00082484\n",
            " 0.00310965 0.03299366 0.00164968 0.00082484 0.00082484 0.00278796\n",
            " 0.02165209 0.0143275  0.00082484 0.00474284 0.0015672  0.00721736\n",
            " 0.00689568 0.00249102 0.00082484 0.00082484 0.01272731 0.00165793\n",
            " 0.01269431 0.00359631 0.00487481 0.02684035 0.00192188 0.00969189\n",
            " 0.00609558 0.00174042 0.00617806 0.00082484 0.02602375 0.00401698\n",
            " 0.00082484 0.003918   0.01535855 0.0239699  0.00738233 0.00475109\n",
            " 0.00082484 0.00132799 0.00218583 0.00346433 0.02086849 0.00657399\n",
            " 0.0010558  0.01761862 0.03014796 0.0072916  0.01058272 0.00082484\n",
            " 0.02548761 0.03299366 0.00736584 0.03299366 0.03299366 0.00575739\n",
            " 0.00430567 0.01860018 0.00479233 0.00082484 0.01059097 0.00082484\n",
            " 0.03299366 0.00400048 0.00082484 0.00082484 0.00082484 0.00082484\n",
            " 0.02764044 0.01384084 0.01505336 0.00234255 0.01747014 0.01826199\n",
            " 0.01610091 0.01985394 0.03299366 0.03299366 0.03299366 0.0020621\n",
            " 0.00458612 0.00886705 0.00082484 0.02987576 0.02401114 0.00082484\n",
            " 0.00082484 0.01838572 0.03299366 0.02792089 0.02074477 0.03299366\n",
            " 0.00717612 0.0278384  0.02114069 0.00326637 0.00922173 0.02551235\n",
            " 0.00328287 0.00405822 0.01728043 0.00774526 0.00346433 0.00906501\n",
            " 0.00603784 0.00082484 0.00212809 0.0036293  0.00082484 0.00890004\n",
            " 0.00386026 0.03299366 0.00687918 0.00659048 0.00271373 0.023409\n",
            " 0.0263042  0.02263365 0.00196312 0.00082484 0.00757205 0.00253226\n",
            " 0.00082484 0.00726685 0.00082484 0.01953225 0.00474284 0.00229306\n",
            " 0.00086608 0.00268898 0.00188889 0.01131683 0.01242211 0.00132799\n",
            " 0.00324163 0.03299366 0.00116303 0.00082484 0.00162494 0.00221058\n",
            " 0.00082484 0.01298301 0.00436341 0.01028577 0.00082484 0.00082484\n",
            " 0.01044249 0.01578747 0.00465211 0.00211159 0.00784424 0.00776176\n",
            " 0.00082484 0.01167151 0.00443765 0.01490489 0.00082484 0.00372828\n",
            " 0.00121252 0.00228481 0.00082484 0.00263124 0.00082484 0.00082484\n",
            " 0.01080542 0.01399756 0.02064578 0.01528431 0.03299366 0.00089083\n",
            " 0.00144347 0.01483065 0.00082484 0.03299366 0.00125376 0.03299366\n",
            " 0.00082484 0.00145997 0.01074769 0.00586462 0.02429983 0.00082484\n",
            " 0.03299366 0.00082484 0.00082484 0.00082484 0.00082484 0.00449539\n",
            " 0.00082484 0.00191363 0.03299366 0.00082484 0.03299366 0.00781125\n",
            " 0.00092382 0.0151111  0.02537213 0.00487481 0.00997233 0.03299366\n",
            " 0.00139398 0.00499854 0.00718437 0.00273023 0.00767928 0.00543571\n",
            " 0.01958999 0.00431392 0.0083144  0.01088791 0.00082484 0.00188889\n",
            " 0.00678845 0.00082484 0.00082484 0.01867441 0.03299366 0.01422027\n",
            " 0.00998058 0.01054972 0.00082484 0.03299366 0.00875982 0.03299366\n",
            " 0.00982386 0.00265599 0.00489956 0.00082484 0.00193838 0.03299366\n",
            " 0.02519066 0.00618631 0.00082484 0.00082484 0.00172392 0.0010228\n",
            " 0.03299366 0.01544928 0.00082484 0.00082484 0.00082484 0.01313973\n",
            " 0.00082484 0.00082484 0.0039015  0.00082484 0.00082484 0.03299366\n",
            " 0.00082484 0.00163319 0.00305191 0.0044294  0.00199612 0.00082484\n",
            " 0.00082484 0.00082484 0.00100631 0.00334061 0.00094032 0.00082484\n",
            " 0.00925472 0.00082484 0.00411596 0.03299366 0.00082484 0.00734109\n",
            " 0.00153421 0.00082484 0.00776176 0.00722561 0.02604025 0.00801746\n",
            " 0.00177341 0.03299366 0.03299366 0.0060131  0.02895194 0.01831148\n",
            " 0.00435516 0.00368704 0.02275738 0.00631004 0.00365405 0.00856186\n",
            " 0.0283828  0.00534497 0.00082484 0.00172392 0.00082484 0.00107229\n",
            " 0.03299366 0.00509752 0.00536972 0.01135807 0.00169917 0.00558418\n",
            " 0.00082484 0.00082484 0.01619164 0.00082484 0.00174042 0.00368704\n",
            " 0.00082484 0.0148224  0.02002715 0.00082484 0.00178166 0.02716203\n",
            " 0.00082484 0.00082484 0.00173217 0.00082484 0.00082484 0.00141048\n",
            " 0.03299366 0.0070524  0.00082484 0.00234255 0.01604317 0.00227656\n",
            " 0.00082484 0.03299366 0.00082484 0.00259825 0.02424209 0.00315089\n",
            " 0.00536972 0.00841338 0.02184181 0.00430567 0.00150946 0.00291169\n",
            " 0.00267249 0.00082484 0.00082484 0.03299366 0.03299366 0.00316739\n",
            " 0.00792673 0.01719795 0.00348083 0.03299366 0.00082484 0.00234255\n",
            " 0.01669479 0.00082484 0.0135439  0.00082484 0.02109945 0.00185589\n",
            " 0.00721736 0.00108879 0.00082484 0.00693692 0.00859485 0.00082484\n",
            " 0.03299366 0.03093156 0.00082484 0.03299366 0.03299366 0.03299366\n",
            " 0.01193546 0.03299366 0.02415961 0.00452013 0.00082484 0.03299366\n",
            " 0.00082484 0.03299366 0.02693108 0.03299366 0.00640902 0.0051965\n",
            " 0.00827316 0.00100631 0.00178166 0.03299366 0.02848178 0.03299366\n",
            " 0.00642552 0.01337068 0.00793498 0.01479766 0.01021154 0.00379427\n",
            " 0.00894128 0.03299366 0.03299366 0.03299366 0.02304607 0.03299366\n",
            " 0.01370062 0.00082484 0.00082484 0.02740124 0.02175107 0.00082484\n",
            " 0.00082484 0.00082484 0.00721736 0.00082484 0.03299366 0.00082484\n",
            " 0.0047016  0.00094857 0.00082484 0.01605142 0.00114653 0.03299366\n",
            " 0.01695049 0.03299366 0.001295   0.00082484 0.00082484 0.03299366\n",
            " 0.00082484 0.00479233 0.02279037 0.00082484 0.00119602 0.00864434\n",
            " 0.00227656 0.0020621  0.00094857 0.00681319 0.01384084 0.00325812\n",
            " 0.00190538 0.00110529 0.00201261 0.00207035 0.00404997 0.00174042\n",
            " 0.00110529 0.00082484 0.00897428 0.00150946 0.00711013 0.00082484\n",
            " 0.00178166 0.00633478 0.00402523 0.00100631 0.0018064  0.00089908\n",
            " 0.00396749 0.03299366 0.00179815 0.00496555 0.0028787  0.00082484\n",
            " 0.00774526 0.00082484 0.00114653 0.00226007 0.00104755 0.00805045\n",
            " 0.00082484 0.00169917 0.0012785  0.00235905 0.0031014  0.00327462\n",
            " 0.01608441 0.00486657 0.00987335 0.00485007 0.00503978 0.03299366\n",
            " 0.02230372 0.00293644 0.00149296 0.00323338 0.03299366 0.01026103\n",
            " 0.0015672  0.00269723 0.00082484 0.03299366 0.01234788 0.00176516\n",
            " 0.00300242 0.0015672  0.00082484 0.00353857 0.00082484 0.03299366\n",
            " 0.00097331 0.00344784 0.00082484 0.00272198 0.00082484 0.01678553\n",
            " 0.00374478 0.0010393  0.00104755 0.00082484 0.03299366 0.00530373\n",
            " 0.00458612 0.00677195 0.00589762 0.01758562 0.00635128 0.00379427\n",
            " 0.00359631 0.00486657 0.01488839 0.00809994 0.00579039 0.00744007\n",
            " 0.00082484 0.02858076 0.02283986 0.0171897  0.00082484 0.00353032\n",
            " 0.00246628 0.03299366 0.03299366 0.02854777 0.00237554]\n"
          ]
        }
      ],
      "source": [
        "######### EQUAL\n",
        "probs = rng.equal_probabilities(n, N)\n",
        "\n",
        "\n",
        "######### UNEQUAL\n",
        "probs = np.sort(rng.unequal_probabilities(n, N))\n",
        "\n",
        "if swiss == 1:\n",
        "    probs = inclusion_probabilities(swiss_df['AREA'].to_numpy(), n)\n"
      ]
    },
    {
      "cell_type": "code",
      "execution_count": 1346,
      "metadata": {},
      "outputs": [],
      "source": [
        "# sampling = importr('sampling')\n",
        "# r_x = ro.FloatVector(swiss_df['AREA'].to_numpy())\n",
        "\n",
        "# # Calculate inclusion probabilities using R's inclusionprobabilities\n",
        "# probs = sampling.inclusionprobabilities(r_x, n)\n",
        "# print(probs.sum())\n"
      ]
    },
    {
      "cell_type": "markdown",
      "metadata": {
        "id": "DEPDfH_nQLDo"
      },
      "source": [
        "## Results"
      ]
    },
    {
      "cell_type": "markdown",
      "metadata": {
        "id": "jySe4VMzW1ed"
      },
      "source": [
        "### Plotting coords"
      ]
    },
    {
      "cell_type": "code",
      "execution_count": 1347,
      "metadata": {
        "colab": {
          "base_uri": "https://localhost:8080/",
          "height": 1000
        },
        "id": "grCXyS-WW_xs",
        "outputId": "641e19c0-d872-4d9b-c07e-89b0b7faeee0"
      },
      "outputs": [
        {
          "name": "stderr",
          "output_type": "stream",
          "text": [
            "Plotting clusters: 100%|██████████| 10/10 [00:00<00:00, 490.11it/s]\n"
          ]
        },
        {
          "data": {
            "image/png": "[encoded data removed]",
            "text/plain": [
              "<Figure size 640x480 with 1 Axes>"
            ]
          },
          "metadata": {},
          "output_type": "display_data"
        }
      ],
      "source": [
        "from scipy.spatial import ConvexHull\n",
        "from matplotlib.patches import Polygon\n",
        "\n",
        "def plot_convex_hull(\n",
        "        points, ax, color, alpha=0.3, edge_color=\"black\", line_width=1.0\n",
        "    ):\n",
        "        if len(points) < 3:\n",
        "            return ax, None\n",
        "        hull = ConvexHull(points)\n",
        "        polygon = Polygon(\n",
        "            points[hull.vertices],\n",
        "            closed=True,\n",
        "            facecolor=color,\n",
        "            alpha=alpha,\n",
        "            edgecolor=edge_color,\n",
        "            lw=line_width,\n",
        "        )\n",
        "        ax.add_patch(polygon)\n",
        "        return ax, hull\n",
        "\n",
        "density_measure = gs.measure.Density(coords, probs, n)\n",
        "clusters, centroids = density_measure.clusters, density_measure.centroids\n",
        "fig, ax = plt.subplots()\n",
        "for cluster_idx, cluster in tqdm(enumerate(clusters), total=len(clusters), desc=\"Plotting clusters\"):\n",
        "    cluster_points = cluster[:, 1:3]\n",
        "    cluster_color = plt.cm.tab10(cluster_idx % 10)\n",
        "    cmap = plt.get_cmap('tab10')         # get the colormap object\n",
        "    n_colors = cmap.N                  # how many entries it has\n",
        "    cluster_color = cmap(cluster_idx % n_colors)    # \n",
        "    ax, _ = plot_convex_hull(cluster_points, ax, color=cluster_color, alpha=0.2)\n",
        "    ax.scatter(\n",
        "        cluster_points[:, 0],\n",
        "        cluster_points[:, 1],\n",
        "        color=cluster_color,\n",
        "        s=cluster[:, 3] * 1000,\n",
        "        alpha=0.8,\n",
        "    )\n",
        "    ax.grid(alpha=0.5)\n",
        "    # ax.set_xticks([0, 0.2, 0.4, 0.6, 0.8, 1])\n",
        "    # ax.set_yticks([0, 0.2, 0.4, 0.6, 0.8, 1])\n",
        "\n",
        "plt.tight_layout()\n",
        "plt.show()\n",
        "# ax.show()"
      ]
    },
    {
      "cell_type": "markdown",
      "metadata": {
        "id": "-wBvI5kORuIV"
      },
      "source": [
        "### Gathering Data"
      ]
    },
    {
      "cell_type": "code",
      "execution_count": 1349,
      "metadata": {
        "colab": {
          "base_uri": "https://localhost:8080/"
        },
        "id": "SVaHiU7TA2KI",
        "outputId": "e34e2613-f720-4a2c-a4a0-d9b4008332eb"
      },
      "outputs": [
        {
          "name": "stdout",
          "output_type": "stream",
          "text": [
            "Warning: Cluster 0 has 23 zones, but expected 25 based on n_zones=(5, 5)\n",
            "Warning: Cluster 8 has 26 zones, but expected 25 based on n_zones=(5, 5)\n",
            "Warning: Cluster 0 has 23 zones, but expected 25 based on n_zones=(5, 5)\n",
            "Warning: Cluster 8 has 26 zones, but expected 25 based on n_zones=(5, 5)\n",
            "Warning: Cluster 0 has 23 zones, but expected 25 based on n_zones=(5, 5)\n",
            "Warning: Cluster 8 has 26 zones, but expected 25 based on n_zones=(5, 5)\n",
            "Warning: Cluster 0 has 23 zones, but expected 25 based on n_zones=(5, 5)\n",
            "Warning: Cluster 8 has 26 zones, but expected 25 based on n_zones=(5, 5)\n",
            "Warning: Cluster 0 has 23 zones, but expected 25 based on n_zones=(5, 5)\n",
            "Warning: Cluster 8 has 26 zones, but expected 25 based on n_zones=(5, 5)\n"
          ]
        },
        {
          "name": "stderr",
          "output_type": "stream",
          "text": [
            "100%|██████████| 5/5 [02:38<00:00, 31.72s/it]\n",
            "100%|██████████| 5/5 [02:29<00:00, 29.86s/it]\n",
            "100%|██████████| 5/5 [02:22<00:00, 28.53s/it]\n",
            "100%|██████████| 5/5 [02:16<00:00, 27.28s/it]\n",
            "100%|██████████| 5/5 [02:40<00:00, 32.16s/it]\n"
          ]
        }
      ],
      "source": [
        "columns = [\"Method\", \"Density\", \"Voronoi\", \"Moran\", \"Local Balance\"]\n",
        "\n",
        "sample_methods = find_samples(coords, probs, n, sample_cnt)\n",
        "\n",
        "rows = np.array([\n",
        "    [method, *scores(coords, probs, n, N, s)]\n",
        "    for method, samples in sample_methods.items()\n",
        "    for s in tqdm(samples, total=sample_cnt)\n",
        "])\n",
        "\n",
        "df = pd.DataFrame(rows, columns=columns)\n",
        "df = df.astype({\n",
        "    \"Density\": float,\n",
        "    \"Voronoi\": float,\n",
        "    \"Moran\": float,\n",
        "    \"Local Balance\": float\n",
        "})"
      ]
    },
    {
      "cell_type": "markdown",
      "metadata": {
        "id": "shHZznQuQgRq"
      },
      "source": [
        "### Tables"
      ]
    },
    {
      "cell_type": "markdown",
      "metadata": {
        "id": "ojlCkakyS0Lr"
      },
      "source": [
        "Means"
      ]
    },
    {
      "cell_type": "code",
      "execution_count": 1350,
      "metadata": {
        "colab": {
          "base_uri": "https://localhost:8080/",
          "height": 238
        },
        "id": "NsEkRkZRSLtX",
        "outputId": "d3db3866-b203-4dab-d549-638b542a6730"
      },
      "outputs": [
        {
          "data": {
            "text/html": [
              "<div>\n",
              "<style scoped>\n",
              "    .dataframe tbody tr th:only-of-type {\n",
              "        vertical-align: middle;\n",
              "    }\n",
              "\n",
              "    .dataframe tbody tr th {\n",
              "        vertical-align: top;\n",
              "    }\n",
              "\n",
              "    .dataframe thead th {\n",
              "        text-align: right;\n",
              "    }\n",
              "</style>\n",
              "<table border=\"1\" class=\"dataframe\">\n",
              "  <thead>\n",
              "    <tr style=\"text-align: right;\">\n",
              "      <th></th>\n",
              "      <th>Density</th>\n",
              "      <th>Voronoi</th>\n",
              "      <th>Moran</th>\n",
              "      <th>Local Balance</th>\n",
              "    </tr>\n",
              "    <tr>\n",
              "      <th>Method</th>\n",
              "      <th></th>\n",
              "      <th></th>\n",
              "      <th></th>\n",
              "      <th></th>\n",
              "    </tr>\n",
              "  </thead>\n",
              "  <tbody>\n",
              "    <tr>\n",
              "      <th>K-Means (2, 2)</th>\n",
              "      <td>0.052521</td>\n",
              "      <td>0.104480</td>\n",
              "      <td>-0.132247</td>\n",
              "      <td>0.575876</td>\n",
              "    </tr>\n",
              "    <tr>\n",
              "      <th>K-Means (5, 5)</th>\n",
              "      <td>0.079332</td>\n",
              "      <td>0.094277</td>\n",
              "      <td>-0.118811</td>\n",
              "      <td>0.847798</td>\n",
              "    </tr>\n",
              "    <tr>\n",
              "      <th>Local Pivotal</th>\n",
              "      <td>0.144679</td>\n",
              "      <td>0.126731</td>\n",
              "      <td>-0.069680</td>\n",
              "      <td>0.608796</td>\n",
              "    </tr>\n",
              "    <tr>\n",
              "      <th>Random</th>\n",
              "      <td>0.332791</td>\n",
              "      <td>0.435481</td>\n",
              "      <td>-0.009358</td>\n",
              "      <td>3.707992</td>\n",
              "    </tr>\n",
              "    <tr>\n",
              "      <th>UPmaxentropy</th>\n",
              "      <td>0.352818</td>\n",
              "      <td>0.297779</td>\n",
              "      <td>-0.026961</td>\n",
              "      <td>1.095626</td>\n",
              "    </tr>\n",
              "  </tbody>\n",
              "</table>\n",
              "</div>"
            ],
            "text/plain": [
              "                 Density   Voronoi     Moran  Local Balance\n",
              "Method                                                     \n",
              "K-Means (2, 2)  0.052521  0.104480 -0.132247       0.575876\n",
              "K-Means (5, 5)  0.079332  0.094277 -0.118811       0.847798\n",
              "Local Pivotal   0.144679  0.126731 -0.069680       0.608796\n",
              "Random          0.332791  0.435481 -0.009358       3.707992\n",
              "UPmaxentropy    0.352818  0.297779 -0.026961       1.095626"
            ]
          },
          "execution_count": 1350,
          "metadata": {},
          "output_type": "execute_result"
        }
      ],
      "source": [
        "df.groupby(\"Method\").mean()"
      ]
    },
    {
      "cell_type": "markdown",
      "metadata": {
        "id": "UanFLuZbS1xD"
      },
      "source": [
        "STD"
      ]
    },
    {
      "cell_type": "code",
      "execution_count": 1351,
      "metadata": {
        "colab": {
          "base_uri": "https://localhost:8080/",
          "height": 238
        },
        "id": "wXJstuFNSzSh",
        "outputId": "cf1f8919-a59a-4e8b-d729-0168032cb9b7"
      },
      "outputs": [
        {
          "data": {
            "text/html": [
              "<div>\n",
              "<style scoped>\n",
              "    .dataframe tbody tr th:only-of-type {\n",
              "        vertical-align: middle;\n",
              "    }\n",
              "\n",
              "    .dataframe tbody tr th {\n",
              "        vertical-align: top;\n",
              "    }\n",
              "\n",
              "    .dataframe thead th {\n",
              "        text-align: right;\n",
              "    }\n",
              "</style>\n",
              "<table border=\"1\" class=\"dataframe\">\n",
              "  <thead>\n",
              "    <tr style=\"text-align: right;\">\n",
              "      <th></th>\n",
              "      <th>Density</th>\n",
              "      <th>Voronoi</th>\n",
              "      <th>Moran</th>\n",
              "      <th>Local Balance</th>\n",
              "    </tr>\n",
              "    <tr>\n",
              "      <th>Method</th>\n",
              "      <th></th>\n",
              "      <th></th>\n",
              "      <th></th>\n",
              "      <th></th>\n",
              "    </tr>\n",
              "  </thead>\n",
              "  <tbody>\n",
              "    <tr>\n",
              "      <th>K-Means (2, 2)</th>\n",
              "      <td>0.021885</td>\n",
              "      <td>0.027258</td>\n",
              "      <td>0.032126</td>\n",
              "      <td>0.574739</td>\n",
              "    </tr>\n",
              "    <tr>\n",
              "      <th>K-Means (5, 5)</th>\n",
              "      <td>0.025093</td>\n",
              "      <td>0.051352</td>\n",
              "      <td>0.041866</td>\n",
              "      <td>0.597053</td>\n",
              "    </tr>\n",
              "    <tr>\n",
              "      <th>Local Pivotal</th>\n",
              "      <td>0.045699</td>\n",
              "      <td>0.054092</td>\n",
              "      <td>0.030917</td>\n",
              "      <td>0.645070</td>\n",
              "    </tr>\n",
              "    <tr>\n",
              "      <th>Random</th>\n",
              "      <td>0.172376</td>\n",
              "      <td>0.181765</td>\n",
              "      <td>0.027275</td>\n",
              "      <td>1.334099</td>\n",
              "    </tr>\n",
              "    <tr>\n",
              "      <th>UPmaxentropy</th>\n",
              "      <td>0.140263</td>\n",
              "      <td>0.119908</td>\n",
              "      <td>0.042434</td>\n",
              "      <td>1.343181</td>\n",
              "    </tr>\n",
              "  </tbody>\n",
              "</table>\n",
              "</div>"
            ],
            "text/plain": [
              "                 Density   Voronoi     Moran  Local Balance\n",
              "Method                                                     \n",
              "K-Means (2, 2)  0.021885  0.027258  0.032126       0.574739\n",
              "K-Means (5, 5)  0.025093  0.051352  0.041866       0.597053\n",
              "Local Pivotal   0.045699  0.054092  0.030917       0.645070\n",
              "Random          0.172376  0.181765  0.027275       1.334099\n",
              "UPmaxentropy    0.140263  0.119908  0.042434       1.343181"
            ]
          },
          "execution_count": 1351,
          "metadata": {},
          "output_type": "execute_result"
        }
      ],
      "source": [
        "df.groupby(\"Method\").std()"
      ]
    },
    {
      "cell_type": "markdown",
      "metadata": {
        "id": "r2naz7MAQWax"
      },
      "source": [
        "Describe"
      ]
    },
    {
      "cell_type": "code",
      "execution_count": 1352,
      "metadata": {
        "colab": {
          "base_uri": "https://localhost:8080/",
          "height": 289
        },
        "id": "2wOMCWUkKs0_",
        "outputId": "42adb478-8101-435c-bfe1-aecc2d7b11b9"
      },
      "outputs": [
        {
          "data": {
            "text/html": [
              "<div>\n",
              "<style scoped>\n",
              "    .dataframe tbody tr th:only-of-type {\n",
              "        vertical-align: middle;\n",
              "    }\n",
              "\n",
              "    .dataframe tbody tr th {\n",
              "        vertical-align: top;\n",
              "    }\n",
              "\n",
              "    .dataframe thead tr th {\n",
              "        text-align: left;\n",
              "    }\n",
              "\n",
              "    .dataframe thead tr:last-of-type th {\n",
              "        text-align: right;\n",
              "    }\n",
              "</style>\n",
              "<table border=\"1\" class=\"dataframe\">\n",
              "  <thead>\n",
              "    <tr>\n",
              "      <th></th>\n",
              "      <th colspan=\"8\" halign=\"left\">Density</th>\n",
              "      <th colspan=\"8\" halign=\"left\">Voronoi</th>\n",
              "      <th colspan=\"8\" halign=\"left\">Moran</th>\n",
              "      <th colspan=\"8\" halign=\"left\">Local Balance</th>\n",
              "    </tr>\n",
              "    <tr>\n",
              "      <th></th>\n",
              "      <th>count</th>\n",
              "      <th>mean</th>\n",
              "      <th>std</th>\n",
              "      <th>min</th>\n",
              "      <th>25%</th>\n",
              "      <th>50%</th>\n",
              "      <th>75%</th>\n",
              "      <th>max</th>\n",
              "      <th>count</th>\n",
              "      <th>mean</th>\n",
              "      <th>std</th>\n",
              "      <th>min</th>\n",
              "      <th>25%</th>\n",
              "      <th>50%</th>\n",
              "      <th>75%</th>\n",
              "      <th>max</th>\n",
              "      <th>count</th>\n",
              "      <th>mean</th>\n",
              "      <th>std</th>\n",
              "      <th>min</th>\n",
              "      <th>25%</th>\n",
              "      <th>50%</th>\n",
              "      <th>75%</th>\n",
              "      <th>max</th>\n",
              "      <th>count</th>\n",
              "      <th>mean</th>\n",
              "      <th>std</th>\n",
              "      <th>min</th>\n",
              "      <th>25%</th>\n",
              "      <th>50%</th>\n",
              "      <th>75%</th>\n",
              "      <th>max</th>\n",
              "    </tr>\n",
              "    <tr>\n",
              "      <th>Method</th>\n",
              "      <th></th>\n",
              "      <th></th>\n",
              "      <th></th>\n",
              "      <th></th>\n",
              "      <th></th>\n",
              "      <th></th>\n",
              "      <th></th>\n",
              "      <th></th>\n",
              "      <th></th>\n",
              "      <th></th>\n",
              "      <th></th>\n",
              "      <th></th>\n",
              "      <th></th>\n",
              "      <th></th>\n",
              "      <th></th>\n",
              "      <th></th>\n",
              "      <th></th>\n",
              "      <th></th>\n",
              "      <th></th>\n",
              "      <th></th>\n",
              "      <th></th>\n",
              "      <th></th>\n",
              "      <th></th>\n",
              "      <th></th>\n",
              "      <th></th>\n",
              "      <th></th>\n",
              "      <th></th>\n",
              "      <th></th>\n",
              "      <th></th>\n",
              "      <th></th>\n",
              "      <th></th>\n",
              "      <th></th>\n",
              "    </tr>\n",
              "  </thead>\n",
              "  <tbody>\n",
              "    <tr>\n",
              "      <th>K-Means (2, 2)</th>\n",
              "      <td>5.0</td>\n",
              "      <td>0.052521</td>\n",
              "      <td>0.021885</td>\n",
              "      <td>0.034609</td>\n",
              "      <td>0.034920</td>\n",
              "      <td>0.045250</td>\n",
              "      <td>0.061320</td>\n",
              "      <td>0.086505</td>\n",
              "      <td>5.0</td>\n",
              "      <td>0.104480</td>\n",
              "      <td>0.027258</td>\n",
              "      <td>0.071151</td>\n",
              "      <td>0.085174</td>\n",
              "      <td>0.109111</td>\n",
              "      <td>0.115937</td>\n",
              "      <td>0.141028</td>\n",
              "      <td>5.0</td>\n",
              "      <td>-0.132247</td>\n",
              "      <td>0.032126</td>\n",
              "      <td>-0.168704</td>\n",
              "      <td>-0.145714</td>\n",
              "      <td>-0.141014</td>\n",
              "      <td>-0.123131</td>\n",
              "      <td>-0.082670</td>\n",
              "      <td>5.0</td>\n",
              "      <td>0.575876</td>\n",
              "      <td>0.574739</td>\n",
              "      <td>0.307420</td>\n",
              "      <td>0.313693</td>\n",
              "      <td>0.324044</td>\n",
              "      <td>0.330345</td>\n",
              "      <td>1.603877</td>\n",
              "    </tr>\n",
              "    <tr>\n",
              "      <th>K-Means (5, 5)</th>\n",
              "      <td>5.0</td>\n",
              "      <td>0.079332</td>\n",
              "      <td>0.025093</td>\n",
              "      <td>0.050864</td>\n",
              "      <td>0.053721</td>\n",
              "      <td>0.091077</td>\n",
              "      <td>0.097477</td>\n",
              "      <td>0.103522</td>\n",
              "      <td>5.0</td>\n",
              "      <td>0.094277</td>\n",
              "      <td>0.051352</td>\n",
              "      <td>0.033747</td>\n",
              "      <td>0.060177</td>\n",
              "      <td>0.086498</td>\n",
              "      <td>0.131042</td>\n",
              "      <td>0.159923</td>\n",
              "      <td>5.0</td>\n",
              "      <td>-0.118811</td>\n",
              "      <td>0.041866</td>\n",
              "      <td>-0.169045</td>\n",
              "      <td>-0.158627</td>\n",
              "      <td>-0.100075</td>\n",
              "      <td>-0.085212</td>\n",
              "      <td>-0.081097</td>\n",
              "      <td>5.0</td>\n",
              "      <td>0.847798</td>\n",
              "      <td>0.597053</td>\n",
              "      <td>0.330689</td>\n",
              "      <td>0.337847</td>\n",
              "      <td>0.811995</td>\n",
              "      <td>0.971607</td>\n",
              "      <td>1.786854</td>\n",
              "    </tr>\n",
              "    <tr>\n",
              "      <th>Local Pivotal</th>\n",
              "      <td>5.0</td>\n",
              "      <td>0.144679</td>\n",
              "      <td>0.045699</td>\n",
              "      <td>0.090869</td>\n",
              "      <td>0.120934</td>\n",
              "      <td>0.129997</td>\n",
              "      <td>0.176221</td>\n",
              "      <td>0.205374</td>\n",
              "      <td>5.0</td>\n",
              "      <td>0.126731</td>\n",
              "      <td>0.054092</td>\n",
              "      <td>0.063370</td>\n",
              "      <td>0.095624</td>\n",
              "      <td>0.109402</td>\n",
              "      <td>0.173360</td>\n",
              "      <td>0.191899</td>\n",
              "      <td>5.0</td>\n",
              "      <td>-0.069680</td>\n",
              "      <td>0.030917</td>\n",
              "      <td>-0.107856</td>\n",
              "      <td>-0.087096</td>\n",
              "      <td>-0.073192</td>\n",
              "      <td>-0.052451</td>\n",
              "      <td>-0.027804</td>\n",
              "      <td>5.0</td>\n",
              "      <td>0.608796</td>\n",
              "      <td>0.645070</td>\n",
              "      <td>0.278582</td>\n",
              "      <td>0.317055</td>\n",
              "      <td>0.329282</td>\n",
              "      <td>0.357443</td>\n",
              "      <td>1.761618</td>\n",
              "    </tr>\n",
              "    <tr>\n",
              "      <th>Random</th>\n",
              "      <td>5.0</td>\n",
              "      <td>0.332791</td>\n",
              "      <td>0.172376</td>\n",
              "      <td>0.087652</td>\n",
              "      <td>0.229068</td>\n",
              "      <td>0.380641</td>\n",
              "      <td>0.469002</td>\n",
              "      <td>0.497593</td>\n",
              "      <td>5.0</td>\n",
              "      <td>0.435481</td>\n",
              "      <td>0.181765</td>\n",
              "      <td>0.198934</td>\n",
              "      <td>0.370227</td>\n",
              "      <td>0.395686</td>\n",
              "      <td>0.528771</td>\n",
              "      <td>0.683785</td>\n",
              "      <td>5.0</td>\n",
              "      <td>-0.009358</td>\n",
              "      <td>0.027275</td>\n",
              "      <td>-0.052131</td>\n",
              "      <td>-0.011215</td>\n",
              "      <td>-0.009591</td>\n",
              "      <td>0.004817</td>\n",
              "      <td>0.021329</td>\n",
              "      <td>5.0</td>\n",
              "      <td>3.707992</td>\n",
              "      <td>1.334099</td>\n",
              "      <td>2.437838</td>\n",
              "      <td>2.971639</td>\n",
              "      <td>3.446431</td>\n",
              "      <td>3.764231</td>\n",
              "      <td>5.919823</td>\n",
              "    </tr>\n",
              "    <tr>\n",
              "      <th>UPmaxentropy</th>\n",
              "      <td>5.0</td>\n",
              "      <td>0.352818</td>\n",
              "      <td>0.140263</td>\n",
              "      <td>0.180377</td>\n",
              "      <td>0.232889</td>\n",
              "      <td>0.414857</td>\n",
              "      <td>0.422154</td>\n",
              "      <td>0.513813</td>\n",
              "      <td>5.0</td>\n",
              "      <td>0.297779</td>\n",
              "      <td>0.119908</td>\n",
              "      <td>0.126497</td>\n",
              "      <td>0.228572</td>\n",
              "      <td>0.344226</td>\n",
              "      <td>0.360152</td>\n",
              "      <td>0.429450</td>\n",
              "      <td>5.0</td>\n",
              "      <td>-0.026961</td>\n",
              "      <td>0.042434</td>\n",
              "      <td>-0.066309</td>\n",
              "      <td>-0.045631</td>\n",
              "      <td>-0.038650</td>\n",
              "      <td>-0.029119</td>\n",
              "      <td>0.044903</td>\n",
              "      <td>5.0</td>\n",
              "      <td>1.095626</td>\n",
              "      <td>1.343181</td>\n",
              "      <td>0.383489</td>\n",
              "      <td>0.443745</td>\n",
              "      <td>0.458238</td>\n",
              "      <td>0.704322</td>\n",
              "      <td>3.488337</td>\n",
              "    </tr>\n",
              "  </tbody>\n",
              "</table>\n",
              "</div>"
            ],
            "text/plain": [
              "               Density                                                    \\\n",
              "                 count      mean       std       min       25%       50%   \n",
              "Method                                                                     \n",
              "K-Means (2, 2)     5.0  0.052521  0.021885  0.034609  0.034920  0.045250   \n",
              "K-Means (5, 5)     5.0  0.079332  0.025093  0.050864  0.053721  0.091077   \n",
              "Local Pivotal      5.0  0.144679  0.045699  0.090869  0.120934  0.129997   \n",
              "Random             5.0  0.332791  0.172376  0.087652  0.229068  0.380641   \n",
              "UPmaxentropy       5.0  0.352818  0.140263  0.180377  0.232889  0.414857   \n",
              "\n",
              "                                   Voronoi                                \\\n",
              "                     75%       max   count      mean       std       min   \n",
              "Method                                                                     \n",
              "K-Means (2, 2)  0.061320  0.086505     5.0  0.104480  0.027258  0.071151   \n",
              "K-Means (5, 5)  0.097477  0.103522     5.0  0.094277  0.051352  0.033747   \n",
              "Local Pivotal   0.176221  0.205374     5.0  0.126731  0.054092  0.063370   \n",
              "Random          0.469002  0.497593     5.0  0.435481  0.181765  0.198934   \n",
              "UPmaxentropy    0.422154  0.513813     5.0  0.297779  0.119908  0.126497   \n",
              "\n",
              "                                                       Moran            \\\n",
              "                     25%       50%       75%       max count      mean   \n",
              "Method                                                                   \n",
              "K-Means (2, 2)  0.085174  0.109111  0.115937  0.141028   5.0 -0.132247   \n",
              "K-Means (5, 5)  0.060177  0.086498  0.131042  0.159923   5.0 -0.118811   \n",
              "Local Pivotal   0.095624  0.109402  0.173360  0.191899   5.0 -0.069680   \n",
              "Random          0.370227  0.395686  0.528771  0.683785   5.0 -0.009358   \n",
              "UPmaxentropy    0.228572  0.344226  0.360152  0.429450   5.0 -0.026961   \n",
              "\n",
              "                                                                            \\\n",
              "                     std       min       25%       50%       75%       max   \n",
              "Method                                                                       \n",
              "K-Means (2, 2)  0.032126 -0.168704 -0.145714 -0.141014 -0.123131 -0.082670   \n",
              "K-Means (5, 5)  0.041866 -0.169045 -0.158627 -0.100075 -0.085212 -0.081097   \n",
              "Local Pivotal   0.030917 -0.107856 -0.087096 -0.073192 -0.052451 -0.027804   \n",
              "Random          0.027275 -0.052131 -0.011215 -0.009591  0.004817  0.021329   \n",
              "UPmaxentropy    0.042434 -0.066309 -0.045631 -0.038650 -0.029119  0.044903   \n",
              "\n",
              "               Local Balance                                          \\\n",
              "                       count      mean       std       min       25%   \n",
              "Method                                                                 \n",
              "K-Means (2, 2)           5.0  0.575876  0.574739  0.307420  0.313693   \n",
              "K-Means (5, 5)           5.0  0.847798  0.597053  0.330689  0.337847   \n",
              "Local Pivotal            5.0  0.608796  0.645070  0.278582  0.317055   \n",
              "Random                   5.0  3.707992  1.334099  2.437838  2.971639   \n",
              "UPmaxentropy             5.0  1.095626  1.343181  0.383489  0.443745   \n",
              "\n",
              "                                              \n",
              "                     50%       75%       max  \n",
              "Method                                        \n",
              "K-Means (2, 2)  0.324044  0.330345  1.603877  \n",
              "K-Means (5, 5)  0.811995  0.971607  1.786854  \n",
              "Local Pivotal   0.329282  0.357443  1.761618  \n",
              "Random          3.446431  3.764231  5.919823  \n",
              "UPmaxentropy    0.458238  0.704322  3.488337  "
            ]
          },
          "metadata": {},
          "output_type": "display_data"
        }
      ],
      "source": [
        "with pd.option_context('display.max_rows', None, 'display.max_columns', None):\n",
        "  display(df.groupby(\"Method\").describe())"
      ]
    },
    {
      "cell_type": "markdown",
      "metadata": {
        "id": "_1_mOx5ljXDp"
      },
      "source": [
        "### Plots"
      ]
    },
    {
      "cell_type": "markdown",
      "metadata": {
        "id": "2APKT0SFUP4N"
      },
      "source": [
        "##### Color Pallet"
      ]
    },
    {
      "cell_type": "code",
      "execution_count": 1353,
      "metadata": {
        "id": "4mZ_wNOPUSSi"
      },
      "outputs": [],
      "source": [
        "methods = df[\"Method\"].unique()\n",
        "method_palette = dict(zip(methods, sns.color_palette(\"Pastel1\", n_colors=len(methods))))"
      ]
    },
    {
      "cell_type": "markdown",
      "metadata": {
        "id": "8fq2wnWkSbQm"
      },
      "source": [
        "##### Boxplot"
      ]
    },
    {
      "cell_type": "code",
      "execution_count": 1354,
      "metadata": {
        "id": "unAhXZeDflou"
      },
      "outputs": [],
      "source": [
        "def remove_outliers(dataframe, column, IQR_coef, groupby_col=None):\n",
        "    if groupby_col:\n",
        "        def outlier_filter(group):\n",
        "            Q1 = group[column].quantile(0.25)\n",
        "            Q3 = group[column].quantile(0.75)\n",
        "            IQR = Q3 - Q1\n",
        "            lower = Q1 - IQR_coef * IQR\n",
        "            upper = Q3 + IQR_coef * IQR\n",
        "            return group[(group[column] >= lower) & (group[column] <= upper)]\n",
        "\n",
        "        return dataframe.groupby(groupby_col, group_keys=False).apply(outlier_filter)\n",
        "    else:\n",
        "        Q1 = dataframe[column].quantile(0.25)\n",
        "        Q3 = dataframe[column].quantile(0.75)\n",
        "        IQR = Q3 - Q1\n",
        "        lower = Q1 - IQR_coef * IQR\n",
        "        upper = Q3 + IQR_coef * IQR\n",
        "        return dataframe[(df[column] >= lower) & (dataframe[column] <= upper)]\n",
        "\n",
        "    return df"
      ]
    },
    {
      "cell_type": "code",
      "execution_count": 1355,
      "metadata": {
        "colab": {
          "base_uri": "https://localhost:8080/",
          "height": 487
        },
        "id": "jYptqD34VPwd",
        "outputId": "63ea8baf-e2dd-4030-97b7-6e4ccd6173b6"
      },
      "outputs": [
        {
          "name": "stderr",
          "output_type": "stream",
          "text": [
            "/tmp/ipykernel_81327/3298180823.py:11: DeprecationWarning: DataFrameGroupBy.apply operated on the grouping columns. This behavior is deprecated, and in a future version of pandas the grouping columns will be excluded from the operation. Either pass `include_groups=False` to exclude the groupings or explicitly select the grouping columns after groupby to silence this warning.\n",
            "  return dataframe.groupby(groupby_col, group_keys=False).apply(outlier_filter)\n",
            "/tmp/ipykernel_81327/3298180823.py:11: DeprecationWarning: DataFrameGroupBy.apply operated on the grouping columns. This behavior is deprecated, and in a future version of pandas the grouping columns will be excluded from the operation. Either pass `include_groups=False` to exclude the groupings or explicitly select the grouping columns after groupby to silence this warning.\n",
            "  return dataframe.groupby(groupby_col, group_keys=False).apply(outlier_filter)\n",
            "/tmp/ipykernel_81327/3298180823.py:11: DeprecationWarning: DataFrameGroupBy.apply operated on the grouping columns. This behavior is deprecated, and in a future version of pandas the grouping columns will be excluded from the operation. Either pass `include_groups=False` to exclude the groupings or explicitly select the grouping columns after groupby to silence this warning.\n",
            "  return dataframe.groupby(groupby_col, group_keys=False).apply(outlier_filter)\n",
            "/tmp/ipykernel_81327/3298180823.py:11: DeprecationWarning: DataFrameGroupBy.apply operated on the grouping columns. This behavior is deprecated, and in a future version of pandas the grouping columns will be excluded from the operation. Either pass `include_groups=False` to exclude the groupings or explicitly select the grouping columns after groupby to silence this warning.\n",
            "  return dataframe.groupby(groupby_col, group_keys=False).apply(outlier_filter)\n"
          ]
        },
        {
          "data": {
            "image/png": "[encoded data removed]",
            "text/plain": [
              "<Figure size 2000x500 with 4 Axes>"
            ]
          },
          "metadata": {},
          "output_type": "display_data"
        }
      ],
      "source": [
        "number_of_items = len(columns[1:])\n",
        "n_cols = 4  # how many plots per row\n",
        "n_rows = (number_of_items + n_cols - 1) // n_cols  # compute needed rows\n",
        "fig, axes = plt.subplots(n_rows, n_cols, figsize=(5*n_cols, 5*n_rows))\n",
        "\n",
        "axes = axes.flatten()\n",
        "\n",
        "for idx, column in enumerate(columns[1:]):\n",
        "    sns.boxplot(x=\"Method\", y=column, data=remove_outliers(df, column, IQR_coef=3, groupby_col=\"Method\"), hue=\"Method\", palette=method_palette, ax=axes[idx])\n",
        "    axes[idx].set_title(f'{column} by Sampling Methods')\n",
        "    axes[idx].set_xlabel(\"\")\n",
        "    axes[idx].set_xticklabels([])\n",
        "    axes[idx].grid(True)\n",
        "\n",
        "handles = [plt.Line2D([0], [0], color=color, marker='s', linestyle='', markersize=10, label=method) for method, color in method_palette.items()]\n",
        "fig.legend(handles=handles, loc='lower center', ncol=len(methods), fontsize=10, title=\"Method\")\n",
        "\n",
        "fig.tight_layout()\n",
        "plt.show()"
      ]
    },
    {
      "cell_type": "code",
      "execution_count": null,
      "metadata": {},
      "outputs": [],
      "source": []
    }
  ],
  "metadata": {
    "colab": {
      "collapsed_sections": [
        "L8EamewvRhiV",
        "Yo13_-M0RaP9",
        "BEcbxvujRdPr",
        "eNZsi2g5mC6N",
        "ugL9lyKcmK7h",
        "uCLKd3elnAA_",
        "Gl_TYPfeL2ra",
        "2APKT0SFUP4N"
      ],
      "provenance": []
    },
    "kernelspec": {
      "display_name": ".venv",
      "language": "python",
      "name": "python3"
    },
    "language_info": {
      "codemirror_mode": {
        "name": "ipython",
        "version": 3
      },
      "file_extension": ".py",
      "mimetype": "text/x-python",
      "name": "python",
      "nbconvert_exporter": "python",
      "pygments_lexer": "ipython3",
      "version": "3.12.3"
    }
  },
  "nbformat": 4,
  "nbformat_minor": 0
}
