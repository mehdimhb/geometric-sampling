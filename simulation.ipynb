{
  "cells": [
    {
      "cell_type": "markdown",
      "metadata": {
        "id": "L8EamewvRhiV"
      },
      "source": [
        "### Dpi Setting"
      ]
    },
    {
      "cell_type": "code",
      "execution_count": 1,
      "metadata": {
        "id": "5lAzzJ8sZy9Z"
      },
      "outputs": [],
      "source": [
        "import matplotlib as mpl\n",
        "mpl.rcParams['figure.dpi'] = 100 # 300"
      ]
    },
    {
      "cell_type": "code",
      "execution_count": 2,
      "metadata": {},
      "outputs": [],
      "source": [
        "%load_ext autoreload\n",
        "%autoreload 2"
      ]
    },
    {
      "cell_type": "code",
      "execution_count": 3,
      "metadata": {},
      "outputs": [],
      "source": [
        "from package_sampling.sampling import up_tille, up_brewer, up_systematic, up_max_entropy\n",
        "from package_sampling.utils import inclusion_probabilities\n"
      ]
    },
    {
      "cell_type": "markdown",
      "metadata": {
        "id": "xaeYeRJUkg0Z"
      },
      "source": [
        "# Dependencies"
      ]
    },
    {
      "cell_type": "markdown",
      "metadata": {
        "id": "Yo13_-M0RaP9"
      },
      "source": [
        "### Python"
      ]
    },
    {
      "cell_type": "code",
      "execution_count": 4,
      "metadata": {
        "colab": {
          "base_uri": "https://localhost:8080/"
        },
        "id": "YRKCwND9N8_J",
        "outputId": "4cce13ce-f942-4370-81ee-2887d316912e"
      },
      "outputs": [],
      "source": [
        "# !pip install -q git+https://github.com/mehdimhb/geometric-sampling@dev\n",
        "# !pip install git+https://github.com/mehdimhb/geometric-sampling@legacy-measure"
      ]
    },
    {
      "cell_type": "code",
      "execution_count": 5,
      "metadata": {
        "colab": {
          "base_uri": "https://localhost:8080/"
        },
        "id": "J60DuP82jaME",
        "outputId": "377e9528-0f57-40d4-9b1b-591352e20fa1"
      },
      "outputs": [
        {
          "name": "stdout",
          "output_type": "stream",
          "text": [
            "E: Could not open lock file /var/lib/dpkg/lock-frontend - open (13: Permission denied)\n",
            "E: Unable to acquire the dpkg frontend lock (/var/lib/dpkg/lock-frontend), are you root?\n"
          ]
        }
      ],
      "source": [
        "!apt-get install -y r-base\n",
        "!pip install -q rpy2 tqdm\n"
      ]
    },
    {
      "cell_type": "code",
      "execution_count": 6,
      "metadata": {},
      "outputs": [],
      "source": [
        "from rpy2.robjects.packages import importr\n"
      ]
    },
    {
      "cell_type": "code",
      "execution_count": 7,
      "metadata": {
        "id": "dvCqCmwnjuHn"
      },
      "outputs": [],
      "source": [
        "%load_ext rpy2.ipython"
      ]
    },
    {
      "cell_type": "markdown",
      "metadata": {
        "id": "BEcbxvujRdPr"
      },
      "source": [
        "### R"
      ]
    },
    {
      "cell_type": "code",
      "execution_count": 8,
      "metadata": {
        "colab": {
          "base_uri": "https://localhost:8080/"
        },
        "id": "Ge6aoQ8fkl0n",
        "outputId": "19ad56b9-83da-49e2-a37a-de58d4bdcdd1"
      },
      "outputs": [
        {
          "data": {
            "text/plain": [
              "Loading required package: WaveSampling\n",
              "Loading required package: Matrix\n",
              "Loading required package: sampling\n",
              "Loading required package: BalancedSampling\n",
              "In addition: Warning message:\n",
              "In (function (package, help, pos = 2, lib.loc = NULL, character.only = FALSE,  :\n",
              "  libraries ‘/usr/local/lib/R/site-library’, ‘/usr/lib/R/site-library’ contain no packages\n"
            ]
          },
          "metadata": {},
          "output_type": "display_data"
        }
      ],
      "source": [
        "%%R\n",
        "\n",
        "if(!require(WaveSampling)){\n",
        "    install.packages(\"WaveSampling\")\n",
        "    library(WaveSampling)\n",
        "}\n",
        "if(!require(sampling)){\n",
        "    install.packages(\"sampling\")\n",
        "    library(sampling)\n",
        "}\n",
        "if(!require(BalancedSampling)){\n",
        "    install.packages(\"BalancedSampling\")\n",
        "    library(BalancedSampling)\n",
        "}"
      ]
    },
    {
      "cell_type": "markdown",
      "metadata": {
        "id": "eNZsi2g5mC6N"
      },
      "source": [
        "### Imports"
      ]
    },
    {
      "cell_type": "code",
      "execution_count": 9,
      "metadata": {
        "id": "7jjvs1ctOBa3"
      },
      "outputs": [
        {
          "name": "stderr",
          "output_type": "stream",
          "text": [
            "/home/divar/projects/geometric-sampling/.venv/lib/python3.12/site-packages/tqdm/auto.py:21: TqdmWarning: IProgress not found. Please update jupyter and ipywidgets. See https://ipywidgets.readthedocs.io/en/stable/user_install.html\n",
            "  from .autonotebook import tqdm as notebook_tqdm\n"
          ]
        }
      ],
      "source": [
        "import matplotlib as mpl\n",
        "import numpy as np\n",
        "from rpy2.robjects import r, numpy2ri\n",
        "import rpy2.robjects as ro\n",
        "from matplotlib import pyplot as plt\n",
        "from itertools import combinations\n",
        "from collections import OrderedDict\n",
        "import pandas as pd\n",
        "import geometric_sampling as gs\n",
        "from tqdm import tqdm\n",
        "from tqdm.contrib import tenumerate\n",
        "import seaborn as sns\n",
        "import matplotlib.pyplot as plt\n",
        "import pandas as pd\n",
        "\n",
        "numpy2ri.activate()\n",
        "\n",
        "rng = gs.random.rng()"
      ]
    },
    {
      "cell_type": "markdown",
      "metadata": {
        "id": "cUVL883DmG1Z"
      },
      "source": [
        "## Functions"
      ]
    },
    {
      "cell_type": "markdown",
      "metadata": {
        "id": "ugL9lyKcmK7h"
      },
      "source": [
        "### Scores in R"
      ]
    },
    {
      "cell_type": "code",
      "execution_count": 10,
      "metadata": {
        "id": "-oAyNRBiOVm4"
      },
      "outputs": [],
      "source": [
        "def scores(coords, probs, n, N, sample_idx):\n",
        "    assert len(coords) == len(probs) == N\n",
        "    assert len(sample_idx) == n\n",
        "    sample_mask = np.zeros(N, dtype=int)\n",
        "    sample_mask[sample_idx] = 1\n",
        "\n",
        "    ro.globalenv['sample_mask'] = sample_mask\n",
        "    ro.globalenv['sample_idx'] = sample_idx + 1\n",
        "    ro.globalenv['coords'] = coords\n",
        "    ro.globalenv['probs'] = probs\n",
        "    ro.globalenv['n'] = n\n",
        "    ro.globalenv['N'] = N\n",
        "\n",
        "    r_code = \"\"\"\n",
        "W <- wpik(coords,probs)\n",
        "W <- W - diag(diag(W))\n",
        "diag(W) <- 0  # Ensure W has zero diagonal\n",
        "\n",
        "\n",
        "ib_value <- tryCatch({\n",
        "  IB(W, sample_mask)  # Moran's Index\n",
        "}, error = function(e) {\n",
        "  Inf\n",
        "})\n",
        "\n",
        "sb_value <- tryCatch({\n",
        "  sb(probs, coords, sample_idx)  # Spatial balance\n",
        "}, error = function(e) {\n",
        "  Inf\n",
        "})\n",
        "\n",
        "sblb_value <- tryCatch({\n",
        "  sblb(probs, coords, sample_idx)  # Spatial balance using local balance\n",
        "}, error = function(e) {\n",
        "  Inf\n",
        "})\n",
        "\"\"\"\n",
        "    ro.r(r_code)\n",
        "    IB_value = ro.r(\"ib_value\")[0]\n",
        "    SB_value = ro.r(\"sb_value\")[0]\n",
        "    SBLB_value = ro.r(\"sblb_value\")[0]\n",
        "\n",
        "    scaled_coords = (coords - np.min(coords, axis=0)) / np.ptp(coords, axis=0)\n",
        "    density_measure = gs.measure.Density(scaled_coords, probs, n)\n",
        "    scores, _ = density_measure.score(sample_idx.reshape(1, -1))\n",
        "    return scores[1][0], SB_value, IB_value, SBLB_value\n",
        "    # Legacy Measure: return scores[3][0], SB_value, IB_value, SBLB_value"
      ]
    },
    {
      "cell_type": "markdown",
      "metadata": {
        "id": "qX4jASsXm7jp"
      },
      "source": [
        "# Handpicked Cases"
      ]
    },
    {
      "cell_type": "markdown",
      "metadata": {
        "id": "uCLKd3elnAA_"
      },
      "source": [
        "## Linear 1D"
      ]
    },
    {
      "cell_type": "code",
      "execution_count": 11,
      "metadata": {
        "colab": {
          "base_uri": "https://localhost:8080/"
        },
        "id": "hM4WHviCm_kh",
        "outputId": "f8af2e5c-e900-4d4c-f320-309cae6f35d2"
      },
      "outputs": [
        {
          "data": {
            "image/png": "[encoded data removed]",
            "text/plain": [
              "<Figure size 640x480 with 1 Axes>"
            ]
          },
          "metadata": {},
          "output_type": "display_data"
        },
        {
          "name": "stdout",
          "output_type": "stream",
          "text": [
            "   Sample   # Density Voronai  Moran Local Balance\n",
            "0   ai aj   1    0.14     0.0  -0.25          0.49\n",
            "1   ai bi   2    0.14    0.04  -0.06          0.55\n",
            "2   ai bj   2    0.11    0.04  -0.17          0.39\n",
            "3   ai ci   2    0.11    0.04    0.0          0.52\n",
            "4   ai cj   2    0.07    0.04  -0.79          0.36\n",
            "5   ai di   2    0.07    0.16  -0.24          0.59\n",
            "6   ai dj   2    0.02    0.16  -0.84          0.47\n",
            "7   ai ei   2    0.02    0.25   -0.2          0.71\n",
            "8   ai ej   2     0.0    0.16   -1.0          0.58\n",
            "9   bi bj   1    0.07     0.0  -0.79          0.25\n",
            "10  bi ci   2    0.14    0.16   0.06          0.69\n",
            "11  bi cj   2    0.02    0.01  -0.84          0.18\n",
            "12  bi di   2    0.11    0.36   0.13          0.76\n",
            "13  bi dj   2     0.0    0.04   -1.0          0.28\n",
            "14  bi ei   2    0.07    0.36  -0.13          0.85\n",
            "15  bi ej   2    0.03    0.04  -0.76          0.42\n",
            "16  ci cj   1     0.0     0.0   -1.0           0.0\n",
            "17  ci di   2    0.14    0.36   0.19          0.89\n",
            "18  ci dj   2    0.03    0.01  -0.76           0.2\n",
            "19  ci ei   2    0.13    0.36    0.3          0.97\n",
            "20  ci ej   2    0.11    0.04  -0.61          0.39\n",
            "21  di dj   1    0.11     0.0  -0.61          0.25\n",
            "22  di ei   2    0.14    0.64   0.37          1.14\n",
            "23  di ej   2     0.2     0.0   -0.5          0.39\n",
            "24  ei ej   1    0.29     0.0  -0.41          0.49\n",
            "25   Mean  45    0.09    0.15  -0.37          0.54\n"
          ]
        }
      ],
      "source": [
        "points = {\n",
        "    (0.35,): \"a1\",\n",
        "    (-0.35,): \"a2\",\n",
        "    (1.05,): \"b1\",\n",
        "    (-1.05,): \"b2\",\n",
        "    (1.75,): \"c1\",\n",
        "    (-1.75,): \"c2\",\n",
        "    (2.45,): \"d1\",\n",
        "    (-2.45,): \"d2\",\n",
        "    (3.15,): \"e1\",\n",
        "    (-3.15,): \"e2\",\n",
        "}\n",
        "\n",
        "N = len(points)\n",
        "n = 2\n",
        "coords = np.array(list(points.keys()))\n",
        "probs = rng.equal_probabilities(n, N)\n",
        "fig, ax = plt.subplots()\n",
        "for (x,), label in points.items():\n",
        "    ax.plot(x, 0, 'o', markersize=25, markerfacecolor='white', markeredgecolor='black', markeredgewidth=1)\n",
        "    ax.text(x, 0, label, color=\"black\", ha=\"center\", va=\"center\", fontsize=12)\n",
        "ax.set_xlim(-4, 4)\n",
        "ax.set_ylim(-1, 1)\n",
        "ax.set_aspect(\"equal\")\n",
        "ax.axis(\"off\")\n",
        "ax.axvspan(0, 4, facecolor='green', alpha=0.3)\n",
        "ax.axvspan(-4, 0, facecolor='blue', alpha=0.3)\n",
        "\n",
        "plt.show()\n",
        "\n",
        "dic_score = {}\n",
        "for i, j in combinations(range(0, N), 2):\n",
        "    i_label, j_label = points[tuple(coords[i])], points[tuple(coords[j])]\n",
        "    if i_label[1] == j_label[1]:\n",
        "        identifier = f\"{i_label[0]}i {j_label[0]}i\"\n",
        "    else:\n",
        "        identifier = f\"{i_label[0]}i {j_label[0]}j\"\n",
        "    sample_idx = np.array([i, j])\n",
        "    dic_score.setdefault(identifier, [])\n",
        "    dic_score[identifier].append(np.array(scores(coords, probs, n, N, sample_idx)))\n",
        "\n",
        "result = []\n",
        "for i, s in dic_score.items():\n",
        "    ss = np.round(np.mean(s, axis=0), 2)\n",
        "    row = np.concatenate([[i, len(s)], ss])\n",
        "    result.append(row)\n",
        "\n",
        "all_scores = np.concatenate([s for s in dic_score.values()])\n",
        "overall_mean = np.round(np.mean(all_scores, axis=0), 2)\n",
        "\n",
        "\n",
        "result.append(\n",
        "    np.concatenate([[\"Mean\", len(all_scores)], overall_mean])\n",
        ")\n",
        "\n",
        "df = pd.DataFrame(result, columns=[\"Sample\", \"#\", \"Density\", \"Voronai\", \"Moran\", \"Local Balance\"])\n",
        "# print(df.to_latex(index=False))\n",
        "print(df)"
      ]
    },
    {
      "cell_type": "markdown",
      "metadata": {
        "id": "3-YqwpozLcRG"
      },
      "source": [
        "## 4 3x3"
      ]
    },
    {
      "cell_type": "code",
      "execution_count": 12,
      "metadata": {
        "colab": {
          "base_uri": "https://localhost:8080/",
          "height": 1000
        },
        "id": "CMD3VCXBywj7",
        "outputId": "2861e0ba-04c2-4534-82cd-1bd9c5d5e6cb"
      },
      "outputs": [
        {
          "data": {
            "image/png": "[encoded data removed]",
            "text/plain": [
              "<Figure size 600x600 with 1 Axes>"
            ]
          },
          "metadata": {},
          "output_type": "display_data"
        },
        {
          "data": {
            "text/html": [
              "<div>\n",
              "<style scoped>\n",
              "    .dataframe tbody tr th:only-of-type {\n",
              "        vertical-align: middle;\n",
              "    }\n",
              "\n",
              "    .dataframe tbody tr th {\n",
              "        vertical-align: top;\n",
              "    }\n",
              "\n",
              "    .dataframe thead th {\n",
              "        text-align: right;\n",
              "    }\n",
              "</style>\n",
              "<table border=\"1\" class=\"dataframe\">\n",
              "  <thead>\n",
              "    <tr style=\"text-align: right;\">\n",
              "      <th></th>\n",
              "      <th>Sample</th>\n",
              "      <th>Density</th>\n",
              "      <th>Voronai</th>\n",
              "      <th>Moran</th>\n",
              "      <th>Local Balance</th>\n",
              "    </tr>\n",
              "  </thead>\n",
              "  <tbody>\n",
              "    <tr>\n",
              "      <th>0</th>\n",
              "      <td>e1 e2 e3 e4</td>\n",
              "      <td>0.00</td>\n",
              "      <td>0.00</td>\n",
              "      <td>-1.00</td>\n",
              "      <td>0.00</td>\n",
              "    </tr>\n",
              "    <tr>\n",
              "      <th>1</th>\n",
              "      <td>a1 a2 a3 a4</td>\n",
              "      <td>0.00</td>\n",
              "      <td>0.11</td>\n",
              "      <td>-0.59</td>\n",
              "      <td>0.43</td>\n",
              "    </tr>\n",
              "    <tr>\n",
              "      <th>2</th>\n",
              "      <td>d1 d2 d3 d4</td>\n",
              "      <td>0.00</td>\n",
              "      <td>0.02</td>\n",
              "      <td>-0.83</td>\n",
              "      <td>0.28</td>\n",
              "    </tr>\n",
              "    <tr>\n",
              "      <th>3</th>\n",
              "      <td>b1 d2 h3 f4</td>\n",
              "      <td>0.02</td>\n",
              "      <td>0.00</td>\n",
              "      <td>-0.75</td>\n",
              "      <td>0.19</td>\n",
              "    </tr>\n",
              "    <tr>\n",
              "      <th>4</th>\n",
              "      <td>f1 b2 d3 h4</td>\n",
              "      <td>0.33</td>\n",
              "      <td>0.00</td>\n",
              "      <td>-0.69</td>\n",
              "      <td>0.26</td>\n",
              "    </tr>\n",
              "    <tr>\n",
              "      <th>5</th>\n",
              "      <td>d1 h2 f3 b4</td>\n",
              "      <td>0.40</td>\n",
              "      <td>0.00</td>\n",
              "      <td>-0.50</td>\n",
              "      <td>0.26</td>\n",
              "    </tr>\n",
              "    <tr>\n",
              "      <th>6</th>\n",
              "      <td>a1 c1 g1 i1</td>\n",
              "      <td>0.34</td>\n",
              "      <td>0.56</td>\n",
              "      <td>0.38</td>\n",
              "      <td>0.84</td>\n",
              "    </tr>\n",
              "    <tr>\n",
              "      <th>7</th>\n",
              "      <td>b1 d1 f1 h1</td>\n",
              "      <td>0.48</td>\n",
              "      <td>0.56</td>\n",
              "      <td>0.52</td>\n",
              "      <td>0.79</td>\n",
              "    </tr>\n",
              "    <tr>\n",
              "      <th>8</th>\n",
              "      <td>h1 d2 b3 f4</td>\n",
              "      <td>0.03</td>\n",
              "      <td>0.00</td>\n",
              "      <td>-0.00</td>\n",
              "      <td>0.26</td>\n",
              "    </tr>\n",
              "  </tbody>\n",
              "</table>\n",
              "</div>"
            ],
            "text/plain": [
              "        Sample Density Voronai  Moran Local Balance\n",
              "0  e1 e2 e3 e4    0.00    0.00  -1.00          0.00\n",
              "1  a1 a2 a3 a4    0.00    0.11  -0.59          0.43\n",
              "2  d1 d2 d3 d4    0.00    0.02  -0.83          0.28\n",
              "3  b1 d2 h3 f4    0.02    0.00  -0.75          0.19\n",
              "4  f1 b2 d3 h4    0.33    0.00  -0.69          0.26\n",
              "5  d1 h2 f3 b4    0.40    0.00  -0.50          0.26\n",
              "6  a1 c1 g1 i1    0.34    0.56   0.38          0.84\n",
              "7  b1 d1 f1 h1    0.48    0.56   0.52          0.79\n",
              "8  h1 d2 b3 f4    0.03    0.00  -0.00          0.26"
            ]
          },
          "metadata": {},
          "output_type": "display_data"
        },
        {
          "name": "stdout",
          "output_type": "stream",
          "text": [
            "\\begin{tabular}{llllll}\n",
            "\\toprule\n",
            " & Sample & Density & Voronai & Moran & Local Balance \\\\\n",
            "\\midrule\n",
            "0 & e1 e2 e3 e4 & 0.00 & 0.00 & -1.00 & 0.00 \\\\\n",
            "1 & a1 a2 a3 a4 & 0.00 & 0.11 & -0.59 & 0.43 \\\\\n",
            "2 & d1 d2 d3 d4 & 0.00 & 0.02 & -0.83 & 0.28 \\\\\n",
            "3 & b1 d2 h3 f4 & 0.02 & 0.00 & -0.75 & 0.19 \\\\\n",
            "4 & f1 b2 d3 h4 & 0.33 & 0.00 & -0.69 & 0.26 \\\\\n",
            "5 & d1 h2 f3 b4 & 0.40 & 0.00 & -0.50 & 0.26 \\\\\n",
            "6 & a1 c1 g1 i1 & 0.34 & 0.56 & 0.38 & 0.84 \\\\\n",
            "7 & b1 d1 f1 h1 & 0.48 & 0.56 & 0.52 & 0.79 \\\\\n",
            "8 & h1 d2 b3 f4 & 0.03 & 0.00 & -0.00 & 0.26 \\\\\n",
            "\\bottomrule\n",
            "\\end{tabular}\n",
            "\n"
          ]
        }
      ],
      "source": [
        "samples = np.array([\n",
        "    [\"e1\", \"e2\", \"e3\", \"e4\"],\n",
        "    [\"a1\", \"a2\", \"a3\", \"a4\"],\n",
        "    [\"d1\", \"d2\", \"d3\", \"d4\"],\n",
        "    [\"f4\", \"h3\", \"d2\", \"b1\"],\n",
        "    [\"f1\", \"b2\", \"d3\", \"h4\"],\n",
        "    [\"f3\", \"d1\", \"b4\", \"h2\"],\n",
        "    [\"a1\", \"c1\", \"g1\", \"i1\"],\n",
        "    [\"b1\", \"d1\", \"f1\", \"h1\"],\n",
        "    #### NEW Interstings\n",
        "    \"h1 d2 b3 f4\".split(\" \"),\n",
        "])\n",
        "\n",
        "x3coords = rng.grid_coordinates((3, 2)) * 2\n",
        "x3probs = rng.equal_probabilities(1, 9)\n",
        "\n",
        "left = x3coords.copy()\n",
        "right = x3coords.copy()\n",
        "up = x3coords.copy()\n",
        "down = x3coords.copy()\n",
        "\n",
        "left_labels = [chr(ord('a') + i) + '1' for i in range(9)]\n",
        "right_labels = [chr(ord('a') + i) + '3' for i in range(9)]\n",
        "up_labels = [chr(ord('a') + i) + '2' for i in range(9)]\n",
        "down_labels = [chr(ord('a') + i) + '4' for i in range(9)]\n",
        "\n",
        "####### TEST\n",
        "import itertools\n",
        "# samples = np.array([\n",
        "#     [l, u, r, d]\n",
        "#     for l, u, r, d in itertools.product(left_labels, up_labels, right_labels, down_labels)\n",
        "# ])\n",
        "#######\n",
        "\n",
        "left[:, 0] += 1\n",
        "left[:, 1] += 3.5\n",
        "right[:, 0] += 6\n",
        "right[:, 1] += 3.5\n",
        "up[:, 0] += 3.5\n",
        "up[:, 1] += 6\n",
        "down[:, 0] += 3.5\n",
        "down[:, 1] += 1\n",
        "\n",
        "\n",
        "coords = np.vstack([left, right, up, down])\n",
        "probs = np.concatenate([x3probs, x3probs, x3probs, x3probs])\n",
        "labels = np.concatenate([left_labels, right_labels, up_labels, down_labels])\n",
        "label_to_idx = {l: idx for idx, (c, l) in enumerate(zip(coords, labels))}\n",
        "assert len(probs) == len(coords) == len(labels)\n",
        "\n",
        "N = len(coords)\n",
        "n = 4\n",
        "points = {}\n",
        "fig, ax = plt.subplots(figsize=(6, 6))\n",
        "ax.set_aspect(\"equal\")\n",
        "for (x, y), label in zip(coords, labels):\n",
        "    points[label] = (x, y)\n",
        "    ax.plot(x, y, 'o', markersize=25, markerfacecolor='white', label=1, markeredgecolor='black', markeredgewidth=1)\n",
        "    ax.text(x, y, label, fontsize=12, ha='center', va='center')\n",
        "\n",
        "plt.show()\n",
        "\n",
        "results = []\n",
        "for sample in samples:\n",
        "    sample_idx = np.array([label_to_idx[s] for s in sample])\n",
        "    identifier = \" \".join(sorted(sample, key=lambda x: x[1]))\n",
        "    s = scores(coords, probs, n, N, sample_idx)\n",
        "    s_formatted = [f\"{num:.2f}\" for num in s]  # Corrected line\n",
        "    results.append([identifier] + s_formatted)\n",
        "\n",
        "df = pd.DataFrame(results, columns=[\"Sample\", \"Density\", \"Voronai\", \"Moran\", \"Local Balance\"])\n",
        "display(df)\n",
        "print(df.to_latex())\n"
      ]
    },
    {
      "cell_type": "markdown",
      "metadata": {
        "id": "Gl_TYPfeL2ra"
      },
      "source": [
        "## Rotating"
      ]
    },
    {
      "cell_type": "code",
      "execution_count": 13,
      "metadata": {
        "colab": {
          "base_uri": "https://localhost:8080/"
        },
        "id": "QwZ4qUjSL60b",
        "outputId": "1660c4f9-5f01-4697-b7f2-5c78217dd714"
      },
      "outputs": [
        {
          "data": {
            "image/png": "[encoded data removed]",
            "text/plain": [
              "<Figure size 600x600 with 1 Axes>"
            ]
          },
          "metadata": {},
          "output_type": "display_data"
        },
        {
          "data": {
            "text/html": [
              "<div>\n",
              "<style scoped>\n",
              "    .dataframe tbody tr th:only-of-type {\n",
              "        vertical-align: middle;\n",
              "    }\n",
              "\n",
              "    .dataframe tbody tr th {\n",
              "        vertical-align: top;\n",
              "    }\n",
              "\n",
              "    .dataframe thead th {\n",
              "        text-align: right;\n",
              "    }\n",
              "</style>\n",
              "<table border=\"1\" class=\"dataframe\">\n",
              "  <thead>\n",
              "    <tr style=\"text-align: right;\">\n",
              "      <th></th>\n",
              "      <th>Sample</th>\n",
              "      <th>#</th>\n",
              "      <th>Density</th>\n",
              "      <th>Voronai</th>\n",
              "      <th>Moran</th>\n",
              "      <th>Local Balance</th>\n",
              "    </tr>\n",
              "  </thead>\n",
              "  <tbody>\n",
              "    <tr>\n",
              "      <th>0</th>\n",
              "      <td>aaa</td>\n",
              "      <td>1</td>\n",
              "      <td>0.56</td>\n",
              "      <td>0.0</td>\n",
              "      <td>-1.0</td>\n",
              "      <td>0.263</td>\n",
              "    </tr>\n",
              "    <tr>\n",
              "      <th>1</th>\n",
              "      <td>aab</td>\n",
              "      <td>3</td>\n",
              "      <td>0.3</td>\n",
              "      <td>0.0</td>\n",
              "      <td>-1.0</td>\n",
              "      <td>0.214</td>\n",
              "    </tr>\n",
              "    <tr>\n",
              "      <th>2</th>\n",
              "      <td>aac</td>\n",
              "      <td>3</td>\n",
              "      <td>0.141</td>\n",
              "      <td>0.0</td>\n",
              "      <td>-1.0</td>\n",
              "      <td>0.263</td>\n",
              "    </tr>\n",
              "    <tr>\n",
              "      <th>3</th>\n",
              "      <td>abb</td>\n",
              "      <td>3</td>\n",
              "      <td>0.101</td>\n",
              "      <td>0.0</td>\n",
              "      <td>-1.0</td>\n",
              "      <td>0.152</td>\n",
              "    </tr>\n",
              "    <tr>\n",
              "      <th>4</th>\n",
              "      <td>abc</td>\n",
              "      <td>6</td>\n",
              "      <td>0.045</td>\n",
              "      <td>0.0</td>\n",
              "      <td>-1.0</td>\n",
              "      <td>0.214</td>\n",
              "    </tr>\n",
              "    <tr>\n",
              "      <th>5</th>\n",
              "      <td>acc</td>\n",
              "      <td>3</td>\n",
              "      <td>0.039</td>\n",
              "      <td>0.0</td>\n",
              "      <td>-1.0</td>\n",
              "      <td>0.263</td>\n",
              "    </tr>\n",
              "    <tr>\n",
              "      <th>6</th>\n",
              "      <td>bbb</td>\n",
              "      <td>1</td>\n",
              "      <td>0.0</td>\n",
              "      <td>0.0</td>\n",
              "      <td>-1.0</td>\n",
              "      <td>0.0</td>\n",
              "    </tr>\n",
              "    <tr>\n",
              "      <th>7</th>\n",
              "      <td>bbc</td>\n",
              "      <td>3</td>\n",
              "      <td>0.067</td>\n",
              "      <td>0.0</td>\n",
              "      <td>-1.0</td>\n",
              "      <td>0.152</td>\n",
              "    </tr>\n",
              "    <tr>\n",
              "      <th>8</th>\n",
              "      <td>bcc</td>\n",
              "      <td>3</td>\n",
              "      <td>0.161</td>\n",
              "      <td>0.0</td>\n",
              "      <td>-1.0</td>\n",
              "      <td>0.214</td>\n",
              "    </tr>\n",
              "    <tr>\n",
              "      <th>9</th>\n",
              "      <td>ccc</td>\n",
              "      <td>1</td>\n",
              "      <td>0.223</td>\n",
              "      <td>0.0</td>\n",
              "      <td>-1.0</td>\n",
              "      <td>0.263</td>\n",
              "    </tr>\n",
              "    <tr>\n",
              "      <th>10</th>\n",
              "      <td>Mean</td>\n",
              "      <td>27</td>\n",
              "      <td>0.13</td>\n",
              "      <td>0.0</td>\n",
              "      <td>-1.0</td>\n",
              "      <td>0.21</td>\n",
              "    </tr>\n",
              "  </tbody>\n",
              "</table>\n",
              "</div>"
            ],
            "text/plain": [
              "   Sample   # Density Voronai Moran Local Balance\n",
              "0     aaa   1    0.56     0.0  -1.0         0.263\n",
              "1     aab   3     0.3     0.0  -1.0         0.214\n",
              "2     aac   3   0.141     0.0  -1.0         0.263\n",
              "3     abb   3   0.101     0.0  -1.0         0.152\n",
              "4     abc   6   0.045     0.0  -1.0         0.214\n",
              "5     acc   3   0.039     0.0  -1.0         0.263\n",
              "6     bbb   1     0.0     0.0  -1.0           0.0\n",
              "7     bbc   3   0.067     0.0  -1.0         0.152\n",
              "8     bcc   3   0.161     0.0  -1.0         0.214\n",
              "9     ccc   1   0.223     0.0  -1.0         0.263\n",
              "10   Mean  27    0.13     0.0  -1.0          0.21"
            ]
          },
          "metadata": {},
          "output_type": "display_data"
        }
      ],
      "source": [
        "def rotate_point(p, t, cost=None, sint=None):\n",
        "    if cost is None or sint is None:\n",
        "        cost, sint = np.cos(t), np.sin(t)\n",
        "    return np.array([\n",
        "        p[0] * cost - p[1] * sint,\n",
        "        p[0] * sint + p[1] * cost\n",
        "    ])\n",
        "\n",
        "def rotate_matrix(matrix, t, cost=None, sint=None):\n",
        "    if cost is None or sint is None:\n",
        "        cost, sint = np.cos(t), np.sin(t)\n",
        "    return np.apply_along_axis(rotate_point, 1, matrix, t, cost, sint)\n",
        "\n",
        "template = np.array([\n",
        "    [0.0, -0.5],\n",
        "    [0.0, -1],\n",
        "    [0.0, -1.5]\n",
        "])\n",
        "template = np.array([\n",
        "    [0.0, -2],\n",
        "    [0.0, -3],\n",
        "    [0.0, -4]\n",
        "])\n",
        "\n",
        "angles = np.arange(0, 3) * (2.0 * np.pi / 3.0)\n",
        "pop = np.vstack([rotate_matrix(template, angle) for angle in angles])\n",
        "\n",
        "all_points = pop\n",
        "labels = [\"a1\", \"b1\", \"c1\", \"a2\", \"b2\", \"c2\", \"a3\", \"b3\", \"c3\"]\n",
        "\n",
        "fig, ax = plt.subplots(figsize=(6, 6))\n",
        "ax.set_aspect(\"equal\")\n",
        "\n",
        "for (x, y), label in zip(all_points, labels):\n",
        "    ax.plot(x, y, 'o', markersize=25, markerfacecolor='white', markeredgecolor='black', markeredgewidth=1)\n",
        "    ax.text(x, y, label, fontsize=12, ha='center', va='center')\n",
        "\n",
        "ax.set_xticks([])\n",
        "ax.set_yticks([])\n",
        "plt.show()\n",
        "\n",
        "N = len(all_points)\n",
        "n = 3\n",
        "coords = np.array(all_points)\n",
        "probs = rng.equal_probabilities(n, N)\n",
        "\n",
        "from itertools import combinations, combinations_with_replacement\n",
        "\n",
        "dic_score = {}\n",
        "for i, j, k in combinations(range(0, N), 3):\n",
        "    i_label, j_label, k_label = labels[i], labels[j], labels[k]\n",
        "    ids = list(sorted([i_label[0], j_label[0], k_label[0]]))\n",
        "    identifier = \"\".join(ids)\n",
        "\n",
        "    if len(set([i_label[1], j_label[1], k_label[1]])) != n:\n",
        "      continue\n",
        "\n",
        "    sample_idx = np.array([i, j, k])\n",
        "    dic_score.setdefault(identifier, [])\n",
        "    dic_score[identifier].append(np.array(scores(coords, probs, n, N, sample_idx)))\n",
        "\n",
        "result = []\n",
        "for i, s in dic_score.items():\n",
        "    ss = np.round(np.mean(s, axis=0), 3)\n",
        "    row = np.concatenate([[i, len(s)], ss])\n",
        "    result.append(row)\n",
        "\n",
        "all_scores = np.concatenate([s for s in dic_score.values()])\n",
        "overall_mean = np.mean(all_scores, axis=0)\n",
        "\n",
        "\n",
        "result.append(\n",
        "    np.concatenate([[\"Mean\", len(all_scores)], np.round(overall_mean, 2)])\n",
        ")\n",
        "\n",
        "df = pd.DataFrame(result, columns=[\"Sample\", \"#\", \"Density\", \"Voronai\", \"Moran\", \"Local Balance\"])\n",
        "\n",
        "display(df)\n",
        "# print(df.to_latex())"
      ]
    },
    {
      "cell_type": "markdown",
      "metadata": {
        "id": "TyuVl1gw8_tA"
      },
      "source": [
        "# Simulations"
      ]
    },
    {
      "cell_type": "markdown",
      "metadata": {
        "id": "ej46nL5U9JTF"
      },
      "source": [
        "## Methods"
      ]
    },
    {
      "cell_type": "code",
      "execution_count": 14,
      "metadata": {
        "id": "WbmlUyZf9QIj"
      },
      "outputs": [],
      "source": [
        "def local_pivotal_samples(coords, probs, n, num_samples):\n",
        "    ro.globalenv['coords'] = coords\n",
        "    ro.globalenv['probs'] = probs\n",
        "\n",
        "    samples_idx = np.zeros((num_samples, n), dtype=int)\n",
        "    for i in range(num_samples):\n",
        "        r_code = \"\"\"\n",
        "s <- lpm(probs, coords) # Local Pivotal Method\n",
        "\"\"\"\n",
        "        ro.r(r_code)\n",
        "        sample_idx = np.array(list(ro.r(\"s\"))) - 1\n",
        "        samples_idx[i] = sample_idx\n",
        "\n",
        "    return samples_idx\n",
        "\n",
        "def k_means_samples(coords, probs, n, num_samples, n_zones):\n",
        "    return gs.sampling.KMeansSpatialSampling(coords, probs, n=n, n_zones=n_zones, tolerance=5).sample(num_samples)\n",
        "\n",
        "def random_samples(coords, probs, n, num_samples):\n",
        "    return gs.sampling.RandomSampling(coords, probs, n=n).sample(num_samples)\n",
        "\n",
        "def upmaxentropy_samples(probs, num_samples):\n",
        "    ro.globalenv['probs'] = probs\n",
        "\n",
        "    samples_idx = np.zeros((num_samples, n), dtype=int)\n",
        "    for i in range(num_samples):\n",
        "        r_code = \"\"\"\n",
        "        mask <- UPmaxentropy(probs)\n",
        "        \"\"\"\n",
        "        ro.r(r_code)\n",
        "        mask = np.array(ro.r(\"mask\"))\n",
        "        if mask.dtype != np.bool_:\n",
        "            mask = mask.astype(bool)\n",
        "        sample_idx = np.where(mask)[0]\n",
        "        samples_idx[i] = sample_idx\n",
        "\n",
        "    return samples_idx\n",
        "\n",
        "    return np.array(samples)\n",
        "\n",
        "\n",
        "def wave_samples(coords, probs, n, num_samples):\n",
        "    ro.globalenv['coords'] = coords\n",
        "    ro.globalenv['probs'] = probs\n",
        "\n",
        "    samples_idx = np.zeros((num_samples, n), dtype=int)\n",
        "    for i in range(num_samples):\n",
        "        r_code = \"\"\"\n",
        "wave_mask <- wave(coords, probs)\n",
        "\"\"\"\n",
        "        ro.r(r_code)\n",
        "        mask = np.array(ro.r(\"wave_mask\"))\n",
        "        if mask.dtype != np.bool_:\n",
        "            mask = mask.astype(bool)\n",
        "        sample_idx = np.where(mask)[0]\n",
        "        samples_idx[i] = sample_idx\n",
        "\n",
        "    return samples_idx\n",
        "\n",
        "\n",
        "def find_samples(coords, probs, n, num_samples):\n",
        "    return {\n",
        "        \"K-Means (2, 2)\": k_means_samples(coords, probs, n, num_samples, (1, 1)),\n",
        "        \"K-Means (5, 5)\": k_means_samples(coords, probs, n, num_samples, (1, 1)),\n",
        "        \"Local Pivotal\": local_pivotal_samples(coords, probs, n, num_samples),\n",
        "        \"Random\": random_samples(coords, probs, n, num_samples),\n",
        "        \"UPmaxentropy\": upmaxentropy_samples(probs, num_samples),\n",
        "        # \"Wave\": wave_samples(coords, probs, n, num_samples),\n",
        "    }"
      ]
    },
    {
      "cell_type": "markdown",
      "metadata": {
        "id": "TbDZj94eQLnY"
      },
      "source": [
        "## Initial Population"
      ]
    },
    {
      "cell_type": "code",
      "execution_count": 15,
      "metadata": {
        "id": "9vdqnMKqVo2z"
      },
      "outputs": [],
      "source": [
        "n = 4 # Number of item in each sample (number of clusters)\n",
        "sample_cnt = 5 # How many sample gather from each desiging method"
      ]
    },
    {
      "cell_type": "markdown",
      "metadata": {
        "id": "LbUzOW7nbTQr"
      },
      "source": [
        "### Coords"
      ]
    },
    {
      "cell_type": "markdown",
      "metadata": {
        "id": "VpmbeoRUbZkr"
      },
      "source": [
        "Uncomment each one you would like to get result from"
      ]
    },
    {
      "cell_type": "code",
      "execution_count": 16,
      "metadata": {
        "id": "Wj3Iv23wcdK5"
      },
      "outputs": [],
      "source": [
        "swiss = 0\n",
        "######### GRID\n",
        "# grid_size = 20\n",
        "# N = grid_size**2\n",
        "# coords = rng.grid_coordinates((grid_size, 2))\n",
        "\n",
        "\n",
        "######### RANDOM\n",
        "N = 500\n",
        "coords = rng.random_coordinates((N, 2))\n",
        "idx = np.lexsort((coords[:,1], coords[:,0]))\n",
        "coords = coords[idx]\n",
        "\n",
        "######### CLUSTRED\n",
        "n_clusters = 4\n",
        "cluster_std = 0.05\n",
        "# N = 400\n",
        "coords = rng.cluster_coordinates(n_clusters, cluster_std, (N, 2))\n",
        "\n",
        "\n",
        "######### SWISS: https://docs.google.com/spreadsheets/d/10uYLsZpxRV5lUrsGfy3gI0RD4fAn8lIP/edit?usp=sharing&ouid=117333816980669142577&rtpof=true&sd=true\n",
        "swiss = 1\n",
        "swiss_df = pd.read_csv('/home/divar/projects/geometric-sampling/swiss.csv')\n",
        "coords = swiss_df[['COORD_X', 'COORD_Y']].to_numpy()\n",
        "swiss_df['AREA'] = swiss_df['AREA'].clip(lower=1, upper=20)\n",
        "N = len(coords)\n",
        "\n",
        "\n",
        "\n",
        "\n",
        "idx = np.lexsort((coords[:,1], coords[:,0]))\n",
        "coords = coords[idx]\n"
      ]
    },
    {
      "cell_type": "markdown",
      "metadata": {
        "id": "V0YAXv9VcSNW"
      },
      "source": [
        "### Probabilities"
      ]
    },
    {
      "cell_type": "markdown",
      "metadata": {
        "id": "eEmansSRcXns"
      },
      "source": [
        "Uncomment each one you would like to get result from"
      ]
    },
    {
      "cell_type": "code",
      "execution_count": 17,
      "metadata": {
        "id": "T6BWVz8Pcspj"
      },
      "outputs": [],
      "source": [
        "######### EQUAL\n",
        "probs = rng.equal_probabilities(n, N)\n",
        "\n",
        "\n",
        "######### UNEQUAL\n",
        "probs = np.sort(rng.unequal_probabilities(n, N))\n",
        "probs = np.sort(rng.unequal_probabilities(n, N))[::-1]                                                          \n",
        "# if swiss == 1:\n",
        "#     probs = inclusion_probabilities(swiss_df['AREA'].to_numpy(), n)\n"
      ]
    },
    {
      "cell_type": "markdown",
      "metadata": {
        "id": "DEPDfH_nQLDo"
      },
      "source": [
        "## Results"
      ]
    },
    {
      "cell_type": "markdown",
      "metadata": {
        "id": "jySe4VMzW1ed"
      },
      "source": [
        "### Plotting coords"
      ]
    },
    {
      "cell_type": "code",
      "execution_count": 18,
      "metadata": {
        "colab": {
          "base_uri": "https://localhost:8080/",
          "height": 1000
        },
        "id": "grCXyS-WW_xs",
        "outputId": "641e19c0-d872-4d9b-c07e-89b0b7faeee0"
      },
      "outputs": [],
      "source": [
        "# from scipy.spatial import ConvexHull\n",
        "# from matplotlib.patches import Polygon\n",
        "\n",
        "# def plot_convex_hull(\n",
        "#         points, ax, color, alpha=0.3, edge_color=\"black\", line_width=1.0\n",
        "#     ):\n",
        "#         if len(points) < 3:\n",
        "#             return ax, None\n",
        "#         hull = ConvexHull(points)\n",
        "#         polygon = Polygon(\n",
        "#             points[hull.vertices],\n",
        "#             closed=True,\n",
        "#             facecolor=color,\n",
        "#             alpha=alpha,\n",
        "#             edgecolor=edge_color,\n",
        "#             lw=line_width,\n",
        "#         )\n",
        "#         ax.add_patch(polygon)\n",
        "#         return ax, hull\n",
        "\n",
        "# density_measure = gs.measure.Density(coords, probs, n)\n",
        "# clusters, centroids = density_measure.clusters, density_measure.centroids\n",
        "# fig, ax = plt.subplots()\n",
        "# for cluster_idx, cluster in tqdm(enumerate(clusters), total=len(clusters), desc=\"Plotting clusters\"):\n",
        "#     cluster_points = cluster[:, 1:3]\n",
        "#     cluster_color = plt.cm.tab10(cluster_idx % 10)\n",
        "#     cmap = plt.get_cmap('tab10')         # get the colormap object\n",
        "#     n_colors = cmap.N                  # how many entries it has\n",
        "#     cluster_color = cmap(cluster_idx % n_colors)    # \n",
        "#     ax, _ = plot_convex_hull(cluster_points, ax, color=cluster_color, alpha=0.2)\n",
        "#     ax.scatter(\n",
        "#         cluster_points[:, 0],\n",
        "#         cluster_points[:, 1],\n",
        "#         color=cluster_color,\n",
        "#         s=cluster[:, 3] * 1000,\n",
        "#         alpha=0.8,\n",
        "#     )\n",
        "#     ax.grid(alpha=0.5)\n",
        "#     # ax.set_xticks([0, 0.2, 0.4, 0.6, 0.8, 1])\n",
        "#     # ax.set_yticks([0, 0.2, 0.4, 0.6, 0.8, 1])\n",
        "\n",
        "# plt.tight_layout()\n",
        "# plt.show()\n",
        "# # ax.show()"
      ]
    },
    {
      "cell_type": "code",
      "execution_count": 19,
      "metadata": {},
      "outputs": [
        {
          "name": "stderr",
          "output_type": "stream",
          "text": [
            "Plotting clusters: 100%|██████████| 4/4 [00:00<00:00, 145.90it/s]\n"
          ]
        },
        {
          "data": {
            "image/png": "[encoded data removed]",
            "text/plain": [
              "<Figure size 640x480 with 1 Axes>"
            ]
          },
          "metadata": {},
          "output_type": "display_data"
        },
        {
          "data": {
            "image/png": "[encoded data removed]",
            "text/plain": [
              "<Figure size 640x480 with 1 Axes>"
            ]
          },
          "metadata": {},
          "output_type": "display_data"
        },
        {
          "name": "stdout",
          "output_type": "stream",
          "text": [
            "Sum of probs per cluster:\n",
            "  Cluster 0: 1.0102\n",
            "  Cluster 1: 1.0069\n",
            "  Cluster 2: 1.0063\n",
            "  Cluster 3: 1.0009\n"
          ]
        }
      ],
      "source": [
        "import numpy as np\n",
        "import matplotlib.pyplot as plt\n",
        "from scipy.spatial import ConvexHull\n",
        "from matplotlib.patches import Polygon\n",
        "from tqdm import tqdm\n",
        "\n",
        "# ---- define your plot_convex_hull as before ----\n",
        "def plot_convex_hull(\n",
        "        points, ax, color, alpha=0.3, edge_color=\"black\", line_width=1.0\n",
        "    ):\n",
        "        if len(points) < 3:\n",
        "            return ax, None\n",
        "        hull = ConvexHull(points)\n",
        "        polygon = Polygon(\n",
        "            points[hull.vertices],\n",
        "            closed=True,\n",
        "            facecolor=color,\n",
        "            alpha=alpha,\n",
        "            edgecolor=edge_color,\n",
        "            lw=line_width,\n",
        "        )\n",
        "        ax.add_patch(polygon)\n",
        "        return ax, hull\n",
        "\n",
        "density_measure = gs.measure.Density(coords, probs, n)\n",
        "clusters, centroids = density_measure.clusters, density_measure.centroids\n",
        "fig, ax = plt.subplots()\n",
        "cluster_sizes = []\n",
        "probs_sums = []\n",
        "\n",
        "fig, ax = plt.subplots()\n",
        "\n",
        "for cluster_idx, cluster in tqdm(enumerate(clusters), total=len(clusters), desc=\"Plotting clusters\"):\n",
        "    cluster_points = cluster[:, 1:3]\n",
        "    cluster_indices = cluster[:, 0].astype(int)  # assuming first column in cluster is the index\n",
        "\n",
        "    # Summing probs\n",
        "    probs_sum = probs[cluster_indices].sum()\n",
        "    probs_sums.append(probs_sum)\n",
        "\n",
        "    # Plotting\n",
        "    cmap = plt.get_cmap('tab10')         \n",
        "    n_colors = cmap.N                  \n",
        "    cluster_color = cmap(cluster_idx % n_colors)    \n",
        "    \n",
        "    ax, hull = plot_convex_hull(cluster_points, ax, color=cluster_color, alpha=0.2)\n",
        "    \n",
        "    ax.scatter(\n",
        "        cluster_points[:, 0],\n",
        "        cluster_points[:, 1],\n",
        "        color=cluster_color,\n",
        "        s=cluster[:, 3] * 1000,\n",
        "        alpha=0.8,\n",
        "    )\n",
        "    ax.grid(alpha=0.5)\n",
        "\n",
        "plt.tight_layout()\n",
        "plt.show()\n",
        "\n",
        "print(\"Sum of probs per cluster:\")\n",
        "for idx, prob_sum in enumerate(probs_sums):\n",
        "    print(f\"  Cluster {idx}: {float(prob_sum):.4f}\")"
      ]
    },
    {
      "cell_type": "markdown",
      "metadata": {
        "id": "-wBvI5kORuIV"
      },
      "source": [
        "### Gathering Data"
      ]
    },
    {
      "cell_type": "code",
      "execution_count": 20,
      "metadata": {
        "colab": {
          "base_uri": "https://localhost:8080/"
        },
        "id": "SVaHiU7TA2KI",
        "outputId": "e34e2613-f720-4a2c-a4a0-d9b4008332eb"
      },
      "outputs": [
        {
          "name": "stderr",
          "output_type": "stream",
          "text": [
            "100%|██████████| 5/5 [01:18<00:00, 15.74s/it]\n",
            "100%|██████████| 5/5 [01:04<00:00, 12.91s/it]\n",
            "100%|██████████| 5/5 [01:02<00:00, 12.44s/it]\n",
            "100%|██████████| 5/5 [01:03<00:00, 12.75s/it]\n",
            "100%|██████████| 5/5 [01:10<00:00, 14.17s/it]\n"
          ]
        }
      ],
      "source": [
        "columns = [\"Method\", \"Density\", \"Voronoi\", \"Moran\", \"Local Balance\"]\n",
        "\n",
        "sample_methods = find_samples(coords, probs, n, sample_cnt)\n",
        "\n",
        "rows = np.array([\n",
        "    [method, *scores(coords, probs, n, N, s)]\n",
        "    for method, samples in sample_methods.items()\n",
        "    for s in tqdm(samples, total=sample_cnt)\n",
        "])\n",
        "\n",
        "df = pd.DataFrame(rows, columns=columns)\n",
        "df = df.astype({\n",
        "    \"Density\": float,\n",
        "    \"Voronoi\": float,\n",
        "    \"Moran\": float,\n",
        "    \"Local Balance\": float\n",
        "})"
      ]
    },
    {
      "cell_type": "markdown",
      "metadata": {
        "id": "shHZznQuQgRq"
      },
      "source": [
        "### Tables"
      ]
    },
    {
      "cell_type": "markdown",
      "metadata": {
        "id": "ojlCkakyS0Lr"
      },
      "source": [
        "Means"
      ]
    },
    {
      "cell_type": "markdown",
      "metadata": {
        "id": "r2naz7MAQWax"
      },
      "source": [
        "Describe"
      ]
    },
    {
      "cell_type": "code",
      "execution_count": 21,
      "metadata": {
        "colab": {
          "base_uri": "https://localhost:8080/",
          "height": 289
        },
        "id": "2wOMCWUkKs0_",
        "outputId": "42adb478-8101-435c-bfe1-aecc2d7b11b9"
      },
      "outputs": [
        {
          "data": {
            "text/html": [
              "<div>\n",
              "<style scoped>\n",
              "    .dataframe tbody tr th:only-of-type {\n",
              "        vertical-align: middle;\n",
              "    }\n",
              "\n",
              "    .dataframe tbody tr th {\n",
              "        vertical-align: top;\n",
              "    }\n",
              "\n",
              "    .dataframe thead tr th {\n",
              "        text-align: left;\n",
              "    }\n",
              "\n",
              "    .dataframe thead tr:last-of-type th {\n",
              "        text-align: right;\n",
              "    }\n",
              "</style>\n",
              "<table border=\"1\" class=\"dataframe\">\n",
              "  <thead>\n",
              "    <tr>\n",
              "      <th></th>\n",
              "      <th colspan=\"8\" halign=\"left\">Density</th>\n",
              "      <th colspan=\"8\" halign=\"left\">Voronoi</th>\n",
              "      <th colspan=\"8\" halign=\"left\">Moran</th>\n",
              "      <th colspan=\"8\" halign=\"left\">Local Balance</th>\n",
              "    </tr>\n",
              "    <tr>\n",
              "      <th></th>\n",
              "      <th>count</th>\n",
              "      <th>mean</th>\n",
              "      <th>std</th>\n",
              "      <th>min</th>\n",
              "      <th>25%</th>\n",
              "      <th>50%</th>\n",
              "      <th>75%</th>\n",
              "      <th>max</th>\n",
              "      <th>count</th>\n",
              "      <th>mean</th>\n",
              "      <th>std</th>\n",
              "      <th>min</th>\n",
              "      <th>25%</th>\n",
              "      <th>50%</th>\n",
              "      <th>75%</th>\n",
              "      <th>max</th>\n",
              "      <th>count</th>\n",
              "      <th>mean</th>\n",
              "      <th>std</th>\n",
              "      <th>min</th>\n",
              "      <th>25%</th>\n",
              "      <th>50%</th>\n",
              "      <th>75%</th>\n",
              "      <th>max</th>\n",
              "      <th>count</th>\n",
              "      <th>mean</th>\n",
              "      <th>std</th>\n",
              "      <th>min</th>\n",
              "      <th>25%</th>\n",
              "      <th>50%</th>\n",
              "      <th>75%</th>\n",
              "      <th>max</th>\n",
              "    </tr>\n",
              "    <tr>\n",
              "      <th>Method</th>\n",
              "      <th></th>\n",
              "      <th></th>\n",
              "      <th></th>\n",
              "      <th></th>\n",
              "      <th></th>\n",
              "      <th></th>\n",
              "      <th></th>\n",
              "      <th></th>\n",
              "      <th></th>\n",
              "      <th></th>\n",
              "      <th></th>\n",
              "      <th></th>\n",
              "      <th></th>\n",
              "      <th></th>\n",
              "      <th></th>\n",
              "      <th></th>\n",
              "      <th></th>\n",
              "      <th></th>\n",
              "      <th></th>\n",
              "      <th></th>\n",
              "      <th></th>\n",
              "      <th></th>\n",
              "      <th></th>\n",
              "      <th></th>\n",
              "      <th></th>\n",
              "      <th></th>\n",
              "      <th></th>\n",
              "      <th></th>\n",
              "      <th></th>\n",
              "      <th></th>\n",
              "      <th></th>\n",
              "      <th></th>\n",
              "    </tr>\n",
              "  </thead>\n",
              "  <tbody>\n",
              "    <tr>\n",
              "      <th>K-Means (2, 2)</th>\n",
              "      <td>5.0</td>\n",
              "      <td>0.098840</td>\n",
              "      <td>0.071507</td>\n",
              "      <td>0.038143</td>\n",
              "      <td>0.039250</td>\n",
              "      <td>0.068008</td>\n",
              "      <td>0.153802</td>\n",
              "      <td>0.194998</td>\n",
              "      <td>5.0</td>\n",
              "      <td>0.214578</td>\n",
              "      <td>0.182791</td>\n",
              "      <td>0.013976</td>\n",
              "      <td>0.063347</td>\n",
              "      <td>0.220327</td>\n",
              "      <td>0.314758</td>\n",
              "      <td>0.460484</td>\n",
              "      <td>5.0</td>\n",
              "      <td>-0.084682</td>\n",
              "      <td>0.041201</td>\n",
              "      <td>-0.143039</td>\n",
              "      <td>-0.109276</td>\n",
              "      <td>-0.074425</td>\n",
              "      <td>-0.052350</td>\n",
              "      <td>-0.044321</td>\n",
              "      <td>5.0</td>\n",
              "      <td>0.655627</td>\n",
              "      <td>0.225800</td>\n",
              "      <td>0.361403</td>\n",
              "      <td>0.574683</td>\n",
              "      <td>0.628417</td>\n",
              "      <td>0.736136</td>\n",
              "      <td>0.977498</td>\n",
              "    </tr>\n",
              "    <tr>\n",
              "      <th>K-Means (5, 5)</th>\n",
              "      <td>5.0</td>\n",
              "      <td>0.084326</td>\n",
              "      <td>0.039673</td>\n",
              "      <td>0.029443</td>\n",
              "      <td>0.070099</td>\n",
              "      <td>0.076648</td>\n",
              "      <td>0.116624</td>\n",
              "      <td>0.128814</td>\n",
              "      <td>5.0</td>\n",
              "      <td>0.195340</td>\n",
              "      <td>0.127236</td>\n",
              "      <td>0.017339</td>\n",
              "      <td>0.116127</td>\n",
              "      <td>0.244300</td>\n",
              "      <td>0.262624</td>\n",
              "      <td>0.336309</td>\n",
              "      <td>5.0</td>\n",
              "      <td>-0.099627</td>\n",
              "      <td>0.035471</td>\n",
              "      <td>-0.130133</td>\n",
              "      <td>-0.129969</td>\n",
              "      <td>-0.101226</td>\n",
              "      <td>-0.093194</td>\n",
              "      <td>-0.043613</td>\n",
              "      <td>5.0</td>\n",
              "      <td>3.874536</td>\n",
              "      <td>7.130486</td>\n",
              "      <td>0.392372</td>\n",
              "      <td>0.434685</td>\n",
              "      <td>0.530788</td>\n",
              "      <td>1.406638</td>\n",
              "      <td>16.608196</td>\n",
              "    </tr>\n",
              "    <tr>\n",
              "      <th>Local Pivotal</th>\n",
              "      <td>5.0</td>\n",
              "      <td>0.160894</td>\n",
              "      <td>0.121217</td>\n",
              "      <td>0.070435</td>\n",
              "      <td>0.105904</td>\n",
              "      <td>0.107783</td>\n",
              "      <td>0.148298</td>\n",
              "      <td>0.372052</td>\n",
              "      <td>5.0</td>\n",
              "      <td>0.163309</td>\n",
              "      <td>0.099367</td>\n",
              "      <td>0.071463</td>\n",
              "      <td>0.074505</td>\n",
              "      <td>0.162429</td>\n",
              "      <td>0.196212</td>\n",
              "      <td>0.311937</td>\n",
              "      <td>5.0</td>\n",
              "      <td>-0.083097</td>\n",
              "      <td>0.041063</td>\n",
              "      <td>-0.140664</td>\n",
              "      <td>-0.095774</td>\n",
              "      <td>-0.084440</td>\n",
              "      <td>-0.066090</td>\n",
              "      <td>-0.028517</td>\n",
              "      <td>5.0</td>\n",
              "      <td>0.627820</td>\n",
              "      <td>0.305974</td>\n",
              "      <td>0.367570</td>\n",
              "      <td>0.377423</td>\n",
              "      <td>0.512458</td>\n",
              "      <td>0.808919</td>\n",
              "      <td>1.072731</td>\n",
              "    </tr>\n",
              "    <tr>\n",
              "      <th>Random</th>\n",
              "      <td>5.0</td>\n",
              "      <td>0.276011</td>\n",
              "      <td>0.119465</td>\n",
              "      <td>0.131886</td>\n",
              "      <td>0.226690</td>\n",
              "      <td>0.233614</td>\n",
              "      <td>0.347698</td>\n",
              "      <td>0.440165</td>\n",
              "      <td>5.0</td>\n",
              "      <td>0.569601</td>\n",
              "      <td>0.488264</td>\n",
              "      <td>0.166559</td>\n",
              "      <td>0.322081</td>\n",
              "      <td>0.411291</td>\n",
              "      <td>0.539467</td>\n",
              "      <td>1.408605</td>\n",
              "      <td>5.0</td>\n",
              "      <td>-0.020790</td>\n",
              "      <td>0.044941</td>\n",
              "      <td>-0.098756</td>\n",
              "      <td>-0.009798</td>\n",
              "      <td>-0.007590</td>\n",
              "      <td>-0.005282</td>\n",
              "      <td>0.017478</td>\n",
              "      <td>5.0</td>\n",
              "      <td>14.904720</td>\n",
              "      <td>15.432220</td>\n",
              "      <td>0.310676</td>\n",
              "      <td>0.445382</td>\n",
              "      <td>16.787747</td>\n",
              "      <td>19.604647</td>\n",
              "      <td>37.375145</td>\n",
              "    </tr>\n",
              "    <tr>\n",
              "      <th>UPmaxentropy</th>\n",
              "      <td>5.0</td>\n",
              "      <td>0.240094</td>\n",
              "      <td>0.053469</td>\n",
              "      <td>0.188451</td>\n",
              "      <td>0.202246</td>\n",
              "      <td>0.214255</td>\n",
              "      <td>0.294741</td>\n",
              "      <td>0.300778</td>\n",
              "      <td>5.0</td>\n",
              "      <td>0.333266</td>\n",
              "      <td>0.171166</td>\n",
              "      <td>0.164555</td>\n",
              "      <td>0.243859</td>\n",
              "      <td>0.272114</td>\n",
              "      <td>0.378825</td>\n",
              "      <td>0.606979</td>\n",
              "      <td>5.0</td>\n",
              "      <td>-0.026764</td>\n",
              "      <td>0.036895</td>\n",
              "      <td>-0.064182</td>\n",
              "      <td>-0.055777</td>\n",
              "      <td>-0.038091</td>\n",
              "      <td>0.007042</td>\n",
              "      <td>0.017191</td>\n",
              "      <td>5.0</td>\n",
              "      <td>0.738306</td>\n",
              "      <td>0.544165</td>\n",
              "      <td>0.415718</td>\n",
              "      <td>0.442084</td>\n",
              "      <td>0.558632</td>\n",
              "      <td>0.571165</td>\n",
              "      <td>1.703931</td>\n",
              "    </tr>\n",
              "  </tbody>\n",
              "</table>\n",
              "</div>"
            ],
            "text/plain": [
              "               Density                                                    \\\n",
              "                 count      mean       std       min       25%       50%   \n",
              "Method                                                                     \n",
              "K-Means (2, 2)     5.0  0.098840  0.071507  0.038143  0.039250  0.068008   \n",
              "K-Means (5, 5)     5.0  0.084326  0.039673  0.029443  0.070099  0.076648   \n",
              "Local Pivotal      5.0  0.160894  0.121217  0.070435  0.105904  0.107783   \n",
              "Random             5.0  0.276011  0.119465  0.131886  0.226690  0.233614   \n",
              "UPmaxentropy       5.0  0.240094  0.053469  0.188451  0.202246  0.214255   \n",
              "\n",
              "                                   Voronoi                                \\\n",
              "                     75%       max   count      mean       std       min   \n",
              "Method                                                                     \n",
              "K-Means (2, 2)  0.153802  0.194998     5.0  0.214578  0.182791  0.013976   \n",
              "K-Means (5, 5)  0.116624  0.128814     5.0  0.195340  0.127236  0.017339   \n",
              "Local Pivotal   0.148298  0.372052     5.0  0.163309  0.099367  0.071463   \n",
              "Random          0.347698  0.440165     5.0  0.569601  0.488264  0.166559   \n",
              "UPmaxentropy    0.294741  0.300778     5.0  0.333266  0.171166  0.164555   \n",
              "\n",
              "                                                       Moran            \\\n",
              "                     25%       50%       75%       max count      mean   \n",
              "Method                                                                   \n",
              "K-Means (2, 2)  0.063347  0.220327  0.314758  0.460484   5.0 -0.084682   \n",
              "K-Means (5, 5)  0.116127  0.244300  0.262624  0.336309   5.0 -0.099627   \n",
              "Local Pivotal   0.074505  0.162429  0.196212  0.311937   5.0 -0.083097   \n",
              "Random          0.322081  0.411291  0.539467  1.408605   5.0 -0.020790   \n",
              "UPmaxentropy    0.243859  0.272114  0.378825  0.606979   5.0 -0.026764   \n",
              "\n",
              "                                                                            \\\n",
              "                     std       min       25%       50%       75%       max   \n",
              "Method                                                                       \n",
              "K-Means (2, 2)  0.041201 -0.143039 -0.109276 -0.074425 -0.052350 -0.044321   \n",
              "K-Means (5, 5)  0.035471 -0.130133 -0.129969 -0.101226 -0.093194 -0.043613   \n",
              "Local Pivotal   0.041063 -0.140664 -0.095774 -0.084440 -0.066090 -0.028517   \n",
              "Random          0.044941 -0.098756 -0.009798 -0.007590 -0.005282  0.017478   \n",
              "UPmaxentropy    0.036895 -0.064182 -0.055777 -0.038091  0.007042  0.017191   \n",
              "\n",
              "               Local Balance                                            \\\n",
              "                       count       mean        std       min       25%   \n",
              "Method                                                                   \n",
              "K-Means (2, 2)           5.0   0.655627   0.225800  0.361403  0.574683   \n",
              "K-Means (5, 5)           5.0   3.874536   7.130486  0.392372  0.434685   \n",
              "Local Pivotal            5.0   0.627820   0.305974  0.367570  0.377423   \n",
              "Random                   5.0  14.904720  15.432220  0.310676  0.445382   \n",
              "UPmaxentropy             5.0   0.738306   0.544165  0.415718  0.442084   \n",
              "\n",
              "                                                 \n",
              "                      50%        75%        max  \n",
              "Method                                           \n",
              "K-Means (2, 2)   0.628417   0.736136   0.977498  \n",
              "K-Means (5, 5)   0.530788   1.406638  16.608196  \n",
              "Local Pivotal    0.512458   0.808919   1.072731  \n",
              "Random          16.787747  19.604647  37.375145  \n",
              "UPmaxentropy     0.558632   0.571165   1.703931  "
            ]
          },
          "metadata": {},
          "output_type": "display_data"
        }
      ],
      "source": [
        "#df.groupby(\"Method\").std()\n",
        "#df.groupby(\"Method\").mean()\n",
        "with pd.option_context('display.max_rows', None, 'display.max_columns', None):\n",
        "  display(df.groupby(\"Method\").describe())"
      ]
    },
    {
      "cell_type": "markdown",
      "metadata": {
        "id": "_1_mOx5ljXDp"
      },
      "source": [
        "### Plots"
      ]
    },
    {
      "cell_type": "markdown",
      "metadata": {
        "id": "2APKT0SFUP4N"
      },
      "source": [
        "##### Color Pallet"
      ]
    },
    {
      "cell_type": "code",
      "execution_count": 22,
      "metadata": {
        "id": "4mZ_wNOPUSSi"
      },
      "outputs": [],
      "source": [
        "methods = df[\"Method\"].unique()\n",
        "method_palette = dict(zip(methods, sns.color_palette(\"Pastel1\", n_colors=len(methods))))"
      ]
    },
    {
      "cell_type": "markdown",
      "metadata": {
        "id": "8fq2wnWkSbQm"
      },
      "source": [
        "##### Boxplot"
      ]
    },
    {
      "cell_type": "code",
      "execution_count": 23,
      "metadata": {
        "id": "unAhXZeDflou"
      },
      "outputs": [],
      "source": [
        "def remove_outliers(dataframe, column, IQR_coef, groupby_col=None):\n",
        "    if groupby_col:\n",
        "        def outlier_filter(group):\n",
        "            Q1 = group[column].quantile(0.25)\n",
        "            Q3 = group[column].quantile(0.75)\n",
        "            IQR = Q3 - Q1\n",
        "            lower = Q1 - IQR_coef * IQR\n",
        "            upper = Q3 + IQR_coef * IQR\n",
        "            return group[(group[column] >= lower) & (group[column] <= upper)]\n",
        "\n",
        "        return dataframe.groupby(groupby_col, group_keys=False).apply(outlier_filter)\n",
        "    else:\n",
        "        Q1 = dataframe[column].quantile(0.25)\n",
        "        Q3 = dataframe[column].quantile(0.75)\n",
        "        IQR = Q3 - Q1\n",
        "        lower = Q1 - IQR_coef * IQR\n",
        "        upper = Q3 + IQR_coef * IQR\n",
        "        return dataframe[(df[column] >= lower) & (dataframe[column] <= upper)]\n",
        "\n",
        "    return df"
      ]
    },
    {
      "cell_type": "code",
      "execution_count": 24,
      "metadata": {
        "colab": {
          "base_uri": "https://localhost:8080/",
          "height": 487
        },
        "id": "jYptqD34VPwd",
        "outputId": "63ea8baf-e2dd-4030-97b7-6e4ccd6173b6"
      },
      "outputs": [
        {
          "name": "stderr",
          "output_type": "stream",
          "text": [
            "/tmp/ipykernel_16220/3298180823.py:11: DeprecationWarning: DataFrameGroupBy.apply operated on the grouping columns. This behavior is deprecated, and in a future version of pandas the grouping columns will be excluded from the operation. Either pass `include_groups=False` to exclude the groupings or explicitly select the grouping columns after groupby to silence this warning.\n",
            "  return dataframe.groupby(groupby_col, group_keys=False).apply(outlier_filter)\n",
            "/tmp/ipykernel_16220/3298180823.py:11: DeprecationWarning: DataFrameGroupBy.apply operated on the grouping columns. This behavior is deprecated, and in a future version of pandas the grouping columns will be excluded from the operation. Either pass `include_groups=False` to exclude the groupings or explicitly select the grouping columns after groupby to silence this warning.\n",
            "  return dataframe.groupby(groupby_col, group_keys=False).apply(outlier_filter)\n",
            "/tmp/ipykernel_16220/3298180823.py:11: DeprecationWarning: DataFrameGroupBy.apply operated on the grouping columns. This behavior is deprecated, and in a future version of pandas the grouping columns will be excluded from the operation. Either pass `include_groups=False` to exclude the groupings or explicitly select the grouping columns after groupby to silence this warning.\n",
            "  return dataframe.groupby(groupby_col, group_keys=False).apply(outlier_filter)\n",
            "/tmp/ipykernel_16220/3298180823.py:11: DeprecationWarning: DataFrameGroupBy.apply operated on the grouping columns. This behavior is deprecated, and in a future version of pandas the grouping columns will be excluded from the operation. Either pass `include_groups=False` to exclude the groupings or explicitly select the grouping columns after groupby to silence this warning.\n",
            "  return dataframe.groupby(groupby_col, group_keys=False).apply(outlier_filter)\n"
          ]
        },
        {
          "data": {
            "image/png": "[encoded data removed]",
            "text/plain": [
              "<Figure size 2000x500 with 4 Axes>"
            ]
          },
          "metadata": {},
          "output_type": "display_data"
        }
      ],
      "source": [
        "number_of_items = len(columns[1:])\n",
        "n_cols = 4  # how many plots per row\n",
        "n_rows = (number_of_items + n_cols - 1) // n_cols  # compute needed rows\n",
        "fig, axes = plt.subplots(n_rows, n_cols, figsize=(5*n_cols, 5*n_rows))\n",
        "\n",
        "axes = axes.flatten()\n",
        "\n",
        "for idx, column in enumerate(columns[1:]):\n",
        "    sns.boxplot(x=\"Method\", y=column, data=remove_outliers(df, column, IQR_coef=3, groupby_col=\"Method\"), hue=\"Method\", palette=method_palette, ax=axes[idx])\n",
        "    axes[idx].set_title(f'{column} by Sampling Methods')\n",
        "    axes[idx].set_xlabel(\"\")\n",
        "    axes[idx].set_xticklabels([])\n",
        "    axes[idx].grid(True)\n",
        "\n",
        "handles = [plt.Line2D([0], [0], color=color, marker='s', linestyle='', markersize=10, label=method) for method, color in method_palette.items()]\n",
        "fig.legend(handles=handles, loc='lower center', ncol=len(methods), fontsize=10, title=\"Method\")\n",
        "\n",
        "fig.tight_layout()\n",
        "plt.show()"
      ]
    },
    {
      "cell_type": "code",
      "execution_count": null,
      "metadata": {},
      "outputs": [],
      "source": []
    }
  ],
  "metadata": {
    "colab": {
      "collapsed_sections": [
        "L8EamewvRhiV",
        "Yo13_-M0RaP9",
        "BEcbxvujRdPr",
        "eNZsi2g5mC6N",
        "ugL9lyKcmK7h",
        "uCLKd3elnAA_",
        "Gl_TYPfeL2ra",
        "2APKT0SFUP4N"
      ],
      "provenance": []
    },
    "kernelspec": {
      "display_name": ".venv",
      "language": "python",
      "name": "python3"
    },
    "language_info": {
      "codemirror_mode": {
        "name": "ipython",
        "version": 3
      },
      "file_extension": ".py",
      "mimetype": "text/x-python",
      "name": "python",
      "nbconvert_exporter": "python",
      "pygments_lexer": "ipython3",
      "version": "3.12.3"
    }
  },
  "nbformat": 4,
  "nbformat_minor": 0
}
