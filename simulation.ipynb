{
  "cells": [
    {
      "cell_type": "markdown",
      "metadata": {
        "id": "L8EamewvRhiV"
      },
      "source": [
        "### Dpi Setting"
      ]
    },
    {
      "cell_type": "code",
      "execution_count": 396,
      "metadata": {
        "id": "5lAzzJ8sZy9Z"
      },
      "outputs": [],
      "source": [
        "import matplotlib as mpl\n",
        "mpl.rcParams['figure.dpi'] = 100 # 300"
      ]
    },
    {
      "cell_type": "code",
      "execution_count": 397,
      "metadata": {},
      "outputs": [
        {
          "name": "stdout",
          "output_type": "stream",
          "text": [
            "The autoreload extension is already loaded. To reload it, use:\n",
            "  %reload_ext autoreload\n"
          ]
        }
      ],
      "source": [
        "%load_ext autoreload\n",
        "%autoreload 2"
      ]
    },
    {
      "cell_type": "code",
      "execution_count": 398,
      "metadata": {},
      "outputs": [],
      "source": [
        "from package_sampling.sampling import up_tille, up_brewer, up_systematic, up_max_entropy\n",
        "from package_sampling.utils import inclusion_probabilities\n"
      ]
    },
    {
      "cell_type": "markdown",
      "metadata": {
        "id": "xaeYeRJUkg0Z"
      },
      "source": [
        "# Dependencies"
      ]
    },
    {
      "cell_type": "markdown",
      "metadata": {
        "id": "Yo13_-M0RaP9"
      },
      "source": [
        "### Python"
      ]
    },
    {
      "cell_type": "code",
      "execution_count": 399,
      "metadata": {
        "colab": {
          "base_uri": "https://localhost:8080/"
        },
        "id": "YRKCwND9N8_J",
        "outputId": "4cce13ce-f942-4370-81ee-2887d316912e"
      },
      "outputs": [],
      "source": [
        "# !pip install -q git+https://github.com/mehdimhb/geometric-sampling@dev\n",
        "# !pip install git+https://github.com/mehdimhb/geometric-sampling@legacy-measure"
      ]
    },
    {
      "cell_type": "code",
      "execution_count": 400,
      "metadata": {
        "colab": {
          "base_uri": "https://localhost:8080/"
        },
        "id": "J60DuP82jaME",
        "outputId": "377e9528-0f57-40d4-9b1b-591352e20fa1"
      },
      "outputs": [
        {
          "name": "stdout",
          "output_type": "stream",
          "text": [
            "E: Could not open lock file /var/lib/dpkg/lock-frontend - open (13: Permission denied)\n",
            "E: Unable to acquire the dpkg frontend lock (/var/lib/dpkg/lock-frontend), are you root?\n",
            "\n",
            "\u001b[1m[\u001b[0m\u001b[34;49mnotice\u001b[0m\u001b[1;39;49m]\u001b[0m\u001b[39;49m A new release of pip is available: \u001b[0m\u001b[31;49m25.1\u001b[0m\u001b[39;49m -> \u001b[0m\u001b[32;49m25.1.1\u001b[0m\n",
            "\u001b[1m[\u001b[0m\u001b[34;49mnotice\u001b[0m\u001b[1;39;49m]\u001b[0m\u001b[39;49m To update, run: \u001b[0m\u001b[32;49mpip install --upgrade pip\u001b[0m\n"
          ]
        }
      ],
      "source": [
        "!apt-get install -y r-base\n",
        "!pip install -q rpy2 tqdm\n"
      ]
    },
    {
      "cell_type": "code",
      "execution_count": 401,
      "metadata": {},
      "outputs": [],
      "source": [
        "from rpy2.robjects.packages import importr\n"
      ]
    },
    {
      "cell_type": "code",
      "execution_count": 402,
      "metadata": {
        "id": "dvCqCmwnjuHn"
      },
      "outputs": [
        {
          "name": "stdout",
          "output_type": "stream",
          "text": [
            "The rpy2.ipython extension is already loaded. To reload it, use:\n",
            "  %reload_ext rpy2.ipython\n"
          ]
        }
      ],
      "source": [
        "%load_ext rpy2.ipython"
      ]
    },
    {
      "cell_type": "markdown",
      "metadata": {
        "id": "BEcbxvujRdPr"
      },
      "source": [
        "### R"
      ]
    },
    {
      "cell_type": "code",
      "execution_count": 403,
      "metadata": {
        "colab": {
          "base_uri": "https://localhost:8080/"
        },
        "id": "Ge6aoQ8fkl0n",
        "outputId": "19ad56b9-83da-49e2-a37a-de58d4bdcdd1"
      },
      "outputs": [],
      "source": [
        "%%R\n",
        "\n",
        "if(!require(WaveSampling)){\n",
        "    install.packages(\"WaveSampling\")\n",
        "    library(WaveSampling)\n",
        "}\n",
        "if(!require(sampling)){\n",
        "    install.packages(\"sampling\")\n",
        "    library(sampling)\n",
        "}\n",
        "if(!require(BalancedSampling)){\n",
        "    install.packages(\"BalancedSampling\")\n",
        "    library(BalancedSampling)\n",
        "}"
      ]
    },
    {
      "cell_type": "markdown",
      "metadata": {
        "id": "eNZsi2g5mC6N"
      },
      "source": [
        "### Imports"
      ]
    },
    {
      "cell_type": "code",
      "execution_count": 404,
      "metadata": {
        "id": "7jjvs1ctOBa3"
      },
      "outputs": [],
      "source": [
        "import matplotlib as mpl\n",
        "import numpy as np\n",
        "from rpy2.robjects import r, numpy2ri\n",
        "import rpy2.robjects as ro\n",
        "from matplotlib import pyplot as plt\n",
        "from itertools import combinations\n",
        "from collections import OrderedDict\n",
        "import pandas as pd\n",
        "import geometric_sampling as gs\n",
        "from tqdm import tqdm\n",
        "from tqdm.contrib import tenumerate\n",
        "import seaborn as sns\n",
        "import matplotlib.pyplot as plt\n",
        "import pandas as pd\n",
        "\n",
        "numpy2ri.activate()\n",
        "\n",
        "rng = gs.random.rng()"
      ]
    },
    {
      "cell_type": "markdown",
      "metadata": {
        "id": "cUVL883DmG1Z"
      },
      "source": [
        "## Functions"
      ]
    },
    {
      "cell_type": "markdown",
      "metadata": {
        "id": "ugL9lyKcmK7h"
      },
      "source": [
        "### Scores in R"
      ]
    },
    {
      "cell_type": "code",
      "execution_count": 405,
      "metadata": {
        "id": "-oAyNRBiOVm4"
      },
      "outputs": [],
      "source": [
        "def scores(coords, probs, n, N, sample_idx, split_size, density_measure=None):\n",
        "    assert len(coords) == len(probs) == N\n",
        "    assert len(sample_idx) == n\n",
        "    sample_mask = np.zeros(N, dtype=int)\n",
        "    sample_mask[sample_idx] = 1\n",
        "\n",
        "    ro.globalenv['sample_mask'] = sample_mask\n",
        "    ro.globalenv['sample_idx'] = sample_idx + 1\n",
        "    ro.globalenv['coords'] = coords\n",
        "    ro.globalenv['probs'] = probs\n",
        "    ro.globalenv['n'] = n\n",
        "    ro.globalenv['N'] = N\n",
        "    ro.globalenv['split_size'] = split_size\n",
        "\n",
        "\n",
        "    r_code = \"\"\"\n",
        "W <- wpik(coords,probs)\n",
        "W <- W - diag(diag(W))\n",
        "diag(W) <- 0  # Ensure W has zero diagonal\n",
        "\n",
        "\n",
        "ib_value <- tryCatch({\n",
        "  IB(W, sample_mask)  # Moran's Index\n",
        "}, error = function(e) {\n",
        "  Inf\n",
        "})\n",
        "\n",
        "sb_value <- tryCatch({\n",
        "  sb(probs, coords, sample_idx)  # Spatial balance\n",
        "}, error = function(e) {\n",
        "  Inf\n",
        "})\n",
        "\n",
        "sblb_value <- tryCatch({\n",
        "  sblb(probs, coords, sample_idx)  # Spatial balance using local balance\n",
        "}, error = function(e) {\n",
        "  Inf\n",
        "})\n",
        "\"\"\"\n",
        "    ro.r(r_code)\n",
        "    IB_value = ro.r(\"ib_value\")[0]\n",
        "    SB_value = ro.r(\"sb_value\")[0]\n",
        "    SBLB_value = ro.r(\"sblb_value\")[0]\n",
        "    if density_measure is None:\n",
        "      scaled_coords = (coords - np.min(coords, axis=0)) / np.ptp(coords, axis=0)\n",
        "      density_measure = gs.measure.Density(scaled_coords, probs, n, split_size)\n",
        "    scores, _ = density_measure.score(sample_idx.reshape(1, -1))\n",
        "    return scores[1][0], SB_value, IB_value, SBLB_value\n",
        "    # Legacy Measure: return scores[3][0], SB_value, IB_value, SBLB_value"
      ]
    },
    {
      "cell_type": "markdown",
      "metadata": {
        "id": "qX4jASsXm7jp"
      },
      "source": [
        "# Handpicked Cases"
      ]
    },
    {
      "cell_type": "markdown",
      "metadata": {
        "id": "uCLKd3elnAA_"
      },
      "source": [
        "## Linear 1D"
      ]
    },
    {
      "cell_type": "code",
      "execution_count": 409,
      "metadata": {
        "colab": {
          "base_uri": "https://localhost:8080/"
        },
        "id": "hM4WHviCm_kh",
        "outputId": "f8af2e5c-e900-4d4c-f320-309cae6f35d2"
      },
      "outputs": [
        {
          "data": {
            "image/png": "[encoded data removed]",
            "text/plain": [
              "<Figure size 640x480 with 1 Axes>"
            ]
          },
          "metadata": {},
          "output_type": "display_data"
        },
        {
          "name": "stdout",
          "output_type": "stream",
          "text": [
            "   Sample   # Density Voronai  Moran Local Balance\n",
            "0   ai aj   1    0.14     0.0  -0.25          0.49\n",
            "1   ai bi   2    0.14    0.04  -0.06          0.55\n",
            "2   ai bj   2    0.11    0.04  -0.17          0.39\n",
            "3   ai ci   2    0.11    0.04    0.0          0.52\n",
            "4   ai cj   2    0.07    0.04  -0.79          0.36\n",
            "5   ai di   2    0.07    0.16  -0.24          0.59\n",
            "6   ai dj   2    0.02    0.16  -0.84          0.47\n",
            "7   ai ei   2    0.02    0.25   -0.2          0.71\n",
            "8   ai ej   2     0.0    0.16   -1.0          0.58\n",
            "9   bi bj   1    0.07     0.0  -0.79          0.25\n",
            "10  bi ci   2    0.14    0.16   0.06          0.69\n",
            "11  bi cj   2    0.02    0.01  -0.84          0.18\n",
            "12  bi di   2    0.11    0.36   0.13          0.76\n",
            "13  bi dj   2     0.0    0.04   -1.0          0.28\n",
            "14  bi ei   2    0.07    0.36  -0.13          0.85\n",
            "15  bi ej   2    0.03    0.04  -0.76          0.42\n",
            "16  ci cj   1     0.0     0.0   -1.0           0.0\n",
            "17  ci di   2    0.14    0.36   0.19          0.89\n",
            "18  ci dj   2    0.03    0.01  -0.76           0.2\n",
            "19  ci ei   2    0.11    0.36    0.3          0.97\n",
            "20  ci ej   2    0.11    0.04  -0.61          0.39\n",
            "21  di dj   1    0.11     0.0  -0.61          0.25\n",
            "22  di ei   2    0.14    0.64   0.37          1.14\n",
            "23  di ej   2     0.2     0.0   -0.5          0.39\n",
            "24  ei ej   1    0.29     0.0  -0.41          0.49\n",
            "25   Mean  45    0.09    0.15  -0.37          0.54\n"
          ]
        }
      ],
      "source": [
        "points = {\n",
        "    (0.35,): \"a1\",\n",
        "    (-0.35,): \"a2\",\n",
        "    (1.05,): \"b1\",\n",
        "    (-1.05,): \"b2\",\n",
        "    (1.75,): \"c1\",\n",
        "    (-1.75,): \"c2\",\n",
        "    (2.45,): \"d1\",\n",
        "    (-2.45,): \"d2\",\n",
        "    (3.15,): \"e1\",\n",
        "    (-3.15,): \"e2\",\n",
        "}\n",
        "\n",
        "N = len(points)\n",
        "n = 2\n",
        "split_size = 0.001\n",
        "coords = np.array(list(points.keys()))\n",
        "probs = rng.equal_probabilities(n, N)\n",
        "fig, ax = plt.subplots()\n",
        "for (x,), label in points.items():\n",
        "    ax.plot(x, 0, 'o', markersize=25, markerfacecolor='white', markeredgecolor='black', markeredgewidth=1)\n",
        "    ax.text(x, 0, label, color=\"black\", ha=\"center\", va=\"center\", fontsize=12)\n",
        "ax.set_xlim(-4, 4)\n",
        "ax.set_ylim(-1, 1)\n",
        "ax.set_aspect(\"equal\")\n",
        "ax.axis(\"off\")\n",
        "ax.axvspan(0, 4, facecolor='green', alpha=0.3)\n",
        "ax.axvspan(-4, 0, facecolor='blue', alpha=0.3)\n",
        "\n",
        "plt.show()\n",
        "\n",
        "dic_score = {}\n",
        "for i, j in combinations(range(0, N), 2):\n",
        "    i_label, j_label = points[tuple(coords[i])], points[tuple(coords[j])]\n",
        "    if i_label[1] == j_label[1]:\n",
        "        identifier = f\"{i_label[0]}i {j_label[0]}i\"\n",
        "    else:\n",
        "        identifier = f\"{i_label[0]}i {j_label[0]}j\"\n",
        "    sample_idx = np.array([i, j])\n",
        "    dic_score.setdefault(identifier, [])\n",
        "    dic_score[identifier].append(np.array(scores(coords, probs, n, N, sample_idx, split_size,)))\n",
        "\n",
        "result = []\n",
        "for i, s in dic_score.items():\n",
        "    ss = np.round(np.mean(s, axis=0), 2)\n",
        "    row = np.concatenate([[i, len(s)], ss])\n",
        "    result.append(row)\n",
        "\n",
        "all_scores = np.concatenate([s for s in dic_score.values()])\n",
        "overall_mean = np.round(np.mean(all_scores, axis=0), 2)\n",
        "\n",
        "\n",
        "result.append(\n",
        "    np.concatenate([[\"Mean\", len(all_scores)], overall_mean])\n",
        ")\n",
        "\n",
        "df = pd.DataFrame(result, columns=[\"Sample\", \"#\", \"Density\", \"Voronai\", \"Moran\", \"Local Balance\"])\n",
        "# print(df.to_latex(index=False))\n",
        "print(df)"
      ]
    },
    {
      "cell_type": "markdown",
      "metadata": {
        "id": "3-YqwpozLcRG"
      },
      "source": [
        "## 4 3x3"
      ]
    },
    {
      "cell_type": "code",
      "execution_count": null,
      "metadata": {
        "colab": {
          "base_uri": "https://localhost:8080/",
          "height": 1000
        },
        "id": "CMD3VCXBywj7",
        "outputId": "2861e0ba-04c2-4534-82cd-1bd9c5d5e6cb"
      },
      "outputs": [
        {
          "data": {
            "image/png": "[encoded data removed]",
            "text/plain": [
              "<Figure size 600x600 with 1 Axes>"
            ]
          },
          "metadata": {},
          "output_type": "display_data"
        },
        {
          "ename": "TypeError",
          "evalue": "object of type 'float' has no len()",
          "output_type": "error",
          "traceback": [
            "\u001b[0;31m---------------------------------------------------------------------------\u001b[0m",
            "\u001b[0;31mTypeError\u001b[0m                                 Traceback (most recent call last)",
            "Cell \u001b[0;32mIn[408], line 68\u001b[0m\n\u001b[1;32m     66\u001b[0m sample_idx \u001b[38;5;241m=\u001b[39m np\u001b[38;5;241m.\u001b[39marray([label_to_idx[s] \u001b[38;5;28;01mfor\u001b[39;00m s \u001b[38;5;129;01min\u001b[39;00m sample])\n\u001b[1;32m     67\u001b[0m identifier \u001b[38;5;241m=\u001b[39m \u001b[38;5;124m\"\u001b[39m\u001b[38;5;124m \u001b[39m\u001b[38;5;124m\"\u001b[39m\u001b[38;5;241m.\u001b[39mjoin(\u001b[38;5;28msorted\u001b[39m(sample, key\u001b[38;5;241m=\u001b[39m\u001b[38;5;28;01mlambda\u001b[39;00m x: x[\u001b[38;5;241m1\u001b[39m]))\n\u001b[0;32m---> 68\u001b[0m s \u001b[38;5;241m=\u001b[39m \u001b[43mscores\u001b[49m\u001b[43m(\u001b[49m\u001b[43mcoords\u001b[49m\u001b[43m,\u001b[49m\u001b[43m \u001b[49m\u001b[43mprobs\u001b[49m\u001b[43m,\u001b[49m\u001b[43m \u001b[49m\u001b[43mn\u001b[49m\u001b[43m,\u001b[49m\u001b[43m \u001b[49m\u001b[43mN\u001b[49m\u001b[43m,\u001b[49m\u001b[43m \u001b[49m\u001b[43msplit_size\u001b[49m\u001b[43m,\u001b[49m\u001b[43m \u001b[49m\u001b[43msample_idx\u001b[49m\u001b[43m)\u001b[49m\n\u001b[1;32m     69\u001b[0m s_formatted \u001b[38;5;241m=\u001b[39m [\u001b[38;5;124mf\u001b[39m\u001b[38;5;124m\"\u001b[39m\u001b[38;5;132;01m{\u001b[39;00mnum\u001b[38;5;132;01m:\u001b[39;00m\u001b[38;5;124m.2f\u001b[39m\u001b[38;5;132;01m}\u001b[39;00m\u001b[38;5;124m\"\u001b[39m \u001b[38;5;28;01mfor\u001b[39;00m num \u001b[38;5;129;01min\u001b[39;00m s]  \u001b[38;5;66;03m# Corrected line\u001b[39;00m\n\u001b[1;32m     70\u001b[0m results\u001b[38;5;241m.\u001b[39mappend([identifier] \u001b[38;5;241m+\u001b[39m s_formatted)\n",
            "Cell \u001b[0;32mIn[405], line 3\u001b[0m, in \u001b[0;36mscores\u001b[0;34m(coords, probs, n, N, sample_idx, split_size, density_measure)\u001b[0m\n\u001b[1;32m      1\u001b[0m \u001b[38;5;28;01mdef\u001b[39;00m \u001b[38;5;21mscores\u001b[39m(coords, probs, n, N, sample_idx, split_size, density_measure\u001b[38;5;241m=\u001b[39m\u001b[38;5;28;01mNone\u001b[39;00m):\n\u001b[1;32m      2\u001b[0m     \u001b[38;5;28;01massert\u001b[39;00m \u001b[38;5;28mlen\u001b[39m(coords) \u001b[38;5;241m==\u001b[39m \u001b[38;5;28mlen\u001b[39m(probs) \u001b[38;5;241m==\u001b[39m N\n\u001b[0;32m----> 3\u001b[0m     \u001b[38;5;28;01massert\u001b[39;00m \u001b[38;5;28;43mlen\u001b[39;49m\u001b[43m(\u001b[49m\u001b[43msample_idx\u001b[49m\u001b[43m)\u001b[49m \u001b[38;5;241m==\u001b[39m n\n\u001b[1;32m      4\u001b[0m     sample_mask \u001b[38;5;241m=\u001b[39m np\u001b[38;5;241m.\u001b[39mzeros(N, dtype\u001b[38;5;241m=\u001b[39m\u001b[38;5;28mint\u001b[39m)\n\u001b[1;32m      5\u001b[0m     sample_mask[sample_idx] \u001b[38;5;241m=\u001b[39m \u001b[38;5;241m1\u001b[39m\n",
            "\u001b[0;31mTypeError\u001b[0m: object of type 'float' has no len()"
          ]
        }
      ],
      "source": [
        "samples = np.array([\n",
        "    [\"e1\", \"e2\", \"e3\", \"e4\"],\n",
        "    [\"a1\", \"a2\", \"a3\", \"a4\"],\n",
        "    [\"d1\", \"d2\", \"d3\", \"d4\"],\n",
        "    [\"f4\", \"h3\", \"d2\", \"b1\"],\n",
        "    [\"f1\", \"b2\", \"d3\", \"h4\"],\n",
        "    [\"f3\", \"d1\", \"b4\", \"h2\"],\n",
        "    [\"a1\", \"c1\", \"g1\", \"i1\"],\n",
        "    [\"b1\", \"d1\", \"f1\", \"h1\"],\n",
        "    #### NEW Interstings\n",
        "    \"h1 d2 b3 f4\".split(\" \"),\n",
        "])\n",
        "\n",
        "x3coords = rng.grid_coordinates((3, 2)) * 2\n",
        "x3probs = rng.equal_probabilities(1, 9)\n",
        "\n",
        "left = x3coords.copy()\n",
        "right = x3coords.copy()\n",
        "up = x3coords.copy()\n",
        "down = x3coords.copy()\n",
        "\n",
        "left_labels = [chr(ord('a') + i) + '1' for i in range(9)]\n",
        "right_labels = [chr(ord('a') + i) + '3' for i in range(9)]\n",
        "up_labels = [chr(ord('a') + i) + '2' for i in range(9)]\n",
        "down_labels = [chr(ord('a') + i) + '4' for i in range(9)]\n",
        "\n",
        "####### TEST\n",
        "import itertools\n",
        "# samples = np.array([\n",
        "#     [l, u, r, d]\n",
        "#     for l, u, r, d in itertools.product(left_labels, up_labels, right_labels, down_labels)\n",
        "# ])\n",
        "#######\n",
        "\n",
        "left[:, 0] += 1\n",
        "left[:, 1] += 3.5\n",
        "right[:, 0] += 6\n",
        "right[:, 1] += 3.5\n",
        "up[:, 0] += 3.5\n",
        "up[:, 1] += 6\n",
        "down[:, 0] += 3.5\n",
        "down[:, 1] += 1\n",
        "\n",
        "\n",
        "coords = np.vstack([left, right, up, down])\n",
        "probs = np.concatenate([x3probs, x3probs, x3probs, x3probs])\n",
        "labels = np.concatenate([left_labels, right_labels, up_labels, down_labels])\n",
        "label_to_idx = {l: idx for idx, (c, l) in enumerate(zip(coords, labels))}\n",
        "assert len(probs) == len(coords) == len(labels)\n",
        "\n",
        "N = len(coords)\n",
        "n = 4\n",
        "split_size = .001\n",
        "points = {}\n",
        "fig, ax = plt.subplots(figsize=(6, 6))\n",
        "ax.set_aspect(\"equal\")\n",
        "for (x, y), label in zip(coords, labels):\n",
        "    points[label] = (x, y)\n",
        "    ax.plot(x, y, 'o', markersize=25, markerfacecolor='white', label=1, markeredgecolor='black', markeredgewidth=1)\n",
        "    ax.text(x, y, label, fontsize=12, ha='center', va='center')\n",
        "\n",
        "plt.show()\n",
        "\n",
        "results = []\n",
        "for sample in samples:\n",
        "    sample_idx = np.array([label_to_idx[s] for s in sample])\n",
        "    identifier = \" \".join(sorted(sample, key=lambda x: x[1]))\n",
        "    s = scores(coords, probs, n, N, sample_idx, split_size,)\n",
        "    s_formatted = [f\"{num:.2f}\" for num in s]  # Corrected line\n",
        "    results.append([identifier] + s_formatted)\n",
        "\n",
        "df = pd.DataFrame(results, columns=[\"Sample\", \"Density\", \"Voronai\", \"Moran\", \"Local Balance\"])\n",
        "display(df)\n",
        "print(df.to_latex())\n"
      ]
    },
    {
      "cell_type": "markdown",
      "metadata": {
        "id": "Gl_TYPfeL2ra"
      },
      "source": [
        "## Rotating"
      ]
    },
    {
      "cell_type": "code",
      "execution_count": null,
      "metadata": {
        "colab": {
          "base_uri": "https://localhost:8080/"
        },
        "id": "QwZ4qUjSL60b",
        "outputId": "1660c4f9-5f01-4697-b7f2-5c78217dd714"
      },
      "outputs": [
        {
          "data": {
            "image/png": "[encoded data removed]",
            "text/plain": [
              "<Figure size 600x600 with 1 Axes>"
            ]
          },
          "metadata": {},
          "output_type": "display_data"
        },
        {
          "data": {
            "text/html": [
              "<div>\n",
              "<style scoped>\n",
              "    .dataframe tbody tr th:only-of-type {\n",
              "        vertical-align: middle;\n",
              "    }\n",
              "\n",
              "    .dataframe tbody tr th {\n",
              "        vertical-align: top;\n",
              "    }\n",
              "\n",
              "    .dataframe thead th {\n",
              "        text-align: right;\n",
              "    }\n",
              "</style>\n",
              "<table border=\"1\" class=\"dataframe\">\n",
              "  <thead>\n",
              "    <tr style=\"text-align: right;\">\n",
              "      <th></th>\n",
              "      <th>Sample</th>\n",
              "      <th>#</th>\n",
              "      <th>Density</th>\n",
              "      <th>Voronai</th>\n",
              "      <th>Moran</th>\n",
              "      <th>Local Balance</th>\n",
              "    </tr>\n",
              "  </thead>\n",
              "  <tbody>\n",
              "    <tr>\n",
              "      <th>0</th>\n",
              "      <td>aaa</td>\n",
              "      <td>1</td>\n",
              "      <td>0.56</td>\n",
              "      <td>0.0</td>\n",
              "      <td>-1.0</td>\n",
              "      <td>0.263</td>\n",
              "    </tr>\n",
              "    <tr>\n",
              "      <th>1</th>\n",
              "      <td>aab</td>\n",
              "      <td>3</td>\n",
              "      <td>0.3</td>\n",
              "      <td>0.0</td>\n",
              "      <td>-1.0</td>\n",
              "      <td>0.214</td>\n",
              "    </tr>\n",
              "    <tr>\n",
              "      <th>2</th>\n",
              "      <td>aac</td>\n",
              "      <td>3</td>\n",
              "      <td>0.141</td>\n",
              "      <td>0.0</td>\n",
              "      <td>-1.0</td>\n",
              "      <td>0.263</td>\n",
              "    </tr>\n",
              "    <tr>\n",
              "      <th>3</th>\n",
              "      <td>abb</td>\n",
              "      <td>3</td>\n",
              "      <td>0.101</td>\n",
              "      <td>0.0</td>\n",
              "      <td>-1.0</td>\n",
              "      <td>0.152</td>\n",
              "    </tr>\n",
              "    <tr>\n",
              "      <th>4</th>\n",
              "      <td>abc</td>\n",
              "      <td>6</td>\n",
              "      <td>0.045</td>\n",
              "      <td>0.0</td>\n",
              "      <td>-1.0</td>\n",
              "      <td>0.214</td>\n",
              "    </tr>\n",
              "    <tr>\n",
              "      <th>5</th>\n",
              "      <td>acc</td>\n",
              "      <td>3</td>\n",
              "      <td>0.039</td>\n",
              "      <td>0.0</td>\n",
              "      <td>-1.0</td>\n",
              "      <td>0.263</td>\n",
              "    </tr>\n",
              "    <tr>\n",
              "      <th>6</th>\n",
              "      <td>bbb</td>\n",
              "      <td>1</td>\n",
              "      <td>0.0</td>\n",
              "      <td>0.0</td>\n",
              "      <td>-1.0</td>\n",
              "      <td>0.0</td>\n",
              "    </tr>\n",
              "    <tr>\n",
              "      <th>7</th>\n",
              "      <td>bbc</td>\n",
              "      <td>3</td>\n",
              "      <td>0.067</td>\n",
              "      <td>0.0</td>\n",
              "      <td>-1.0</td>\n",
              "      <td>0.152</td>\n",
              "    </tr>\n",
              "    <tr>\n",
              "      <th>8</th>\n",
              "      <td>bcc</td>\n",
              "      <td>3</td>\n",
              "      <td>0.161</td>\n",
              "      <td>0.0</td>\n",
              "      <td>-1.0</td>\n",
              "      <td>0.214</td>\n",
              "    </tr>\n",
              "    <tr>\n",
              "      <th>9</th>\n",
              "      <td>ccc</td>\n",
              "      <td>1</td>\n",
              "      <td>0.223</td>\n",
              "      <td>0.0</td>\n",
              "      <td>-1.0</td>\n",
              "      <td>0.263</td>\n",
              "    </tr>\n",
              "    <tr>\n",
              "      <th>10</th>\n",
              "      <td>Mean</td>\n",
              "      <td>27</td>\n",
              "      <td>0.13</td>\n",
              "      <td>0.0</td>\n",
              "      <td>-1.0</td>\n",
              "      <td>0.21</td>\n",
              "    </tr>\n",
              "  </tbody>\n",
              "</table>\n",
              "</div>"
            ],
            "text/plain": [
              "   Sample   # Density Voronai Moran Local Balance\n",
              "0     aaa   1    0.56     0.0  -1.0         0.263\n",
              "1     aab   3     0.3     0.0  -1.0         0.214\n",
              "2     aac   3   0.141     0.0  -1.0         0.263\n",
              "3     abb   3   0.101     0.0  -1.0         0.152\n",
              "4     abc   6   0.045     0.0  -1.0         0.214\n",
              "5     acc   3   0.039     0.0  -1.0         0.263\n",
              "6     bbb   1     0.0     0.0  -1.0           0.0\n",
              "7     bbc   3   0.067     0.0  -1.0         0.152\n",
              "8     bcc   3   0.161     0.0  -1.0         0.214\n",
              "9     ccc   1   0.223     0.0  -1.0         0.263\n",
              "10   Mean  27    0.13     0.0  -1.0          0.21"
            ]
          },
          "metadata": {},
          "output_type": "display_data"
        }
      ],
      "source": [
        "def rotate_point(p, t, cost=None, sint=None):\n",
        "    if cost is None or sint is None:\n",
        "        cost, sint = np.cos(t), np.sin(t)\n",
        "    return np.array([\n",
        "        p[0] * cost - p[1] * sint,\n",
        "        p[0] * sint + p[1] * cost\n",
        "    ])\n",
        "\n",
        "def rotate_matrix(matrix, t, cost=None, sint=None):\n",
        "    if cost is None or sint is None:\n",
        "        cost, sint = np.cos(t), np.sin(t)\n",
        "    return np.apply_along_axis(rotate_point, 1, matrix, t, cost, sint)\n",
        "\n",
        "template = np.array([\n",
        "    [0.0, -0.5],\n",
        "    [0.0, -1],\n",
        "    [0.0, -1.5]\n",
        "])\n",
        "template = np.array([\n",
        "    [0.0, -2],\n",
        "    [0.0, -3],\n",
        "    [0.0, -4]\n",
        "])\n",
        "\n",
        "angles = np.arange(0, 3) * (2.0 * np.pi / 3.0)\n",
        "pop = np.vstack([rotate_matrix(template, angle) for angle in angles])\n",
        "\n",
        "all_points = pop\n",
        "labels = [\"a1\", \"b1\", \"c1\", \"a2\", \"b2\", \"c2\", \"a3\", \"b3\", \"c3\"]\n",
        "\n",
        "fig, ax = plt.subplots(figsize=(6, 6))\n",
        "ax.set_aspect(\"equal\")\n",
        "\n",
        "for (x, y), label in zip(all_points, labels):\n",
        "    ax.plot(x, y, 'o', markersize=25, markerfacecolor='white', markeredgecolor='black', markeredgewidth=1)\n",
        "    ax.text(x, y, label, fontsize=12, ha='center', va='center')\n",
        "\n",
        "ax.set_xticks([])\n",
        "ax.set_yticks([])\n",
        "plt.show()\n",
        "\n",
        "N = len(all_points)\n",
        "n = 3\n",
        "coords = np.array(all_points)\n",
        "probs = rng.equal_probabilities(n, N)\n",
        "\n",
        "from itertools import combinations, combinations_with_replacement\n",
        "\n",
        "dic_score = {}\n",
        "for i, j, k in combinations(range(0, N), 3):\n",
        "    i_label, j_label, k_label = labels[i], labels[j], labels[k]\n",
        "    ids = list(sorted([i_label[0], j_label[0], k_label[0]]))\n",
        "    identifier = \"\".join(ids)\n",
        "\n",
        "    if len(set([i_label[1], j_label[1], k_label[1]])) != n:\n",
        "      continue\n",
        "\n",
        "    sample_idx = np.array([i, j, k])\n",
        "    dic_score.setdefault(identifier, [])\n",
        "    dic_score[identifier].append(np.array(scores(coords, probs, n, N, sample_idx)))\n",
        "\n",
        "result = []\n",
        "for i, s in dic_score.items():\n",
        "    ss = np.round(np.mean(s, axis=0), 3)\n",
        "    row = np.concatenate([[i, len(s)], ss])\n",
        "    result.append(row)\n",
        "\n",
        "all_scores = np.concatenate([s for s in dic_score.values()])\n",
        "overall_mean = np.mean(all_scores, axis=0)\n",
        "\n",
        "\n",
        "result.append(\n",
        "    np.concatenate([[\"Mean\", len(all_scores)], np.round(overall_mean, 2)])\n",
        ")\n",
        "\n",
        "df = pd.DataFrame(result, columns=[\"Sample\", \"#\", \"Density\", \"Voronai\", \"Moran\", \"Local Balance\"])\n",
        "\n",
        "display(df)\n",
        "# print(df.to_latex())"
      ]
    },
    {
      "cell_type": "markdown",
      "metadata": {
        "id": "TyuVl1gw8_tA"
      },
      "source": [
        "# Simulations"
      ]
    },
    {
      "cell_type": "markdown",
      "metadata": {
        "id": "ej46nL5U9JTF"
      },
      "source": [
        "## Methods"
      ]
    },
    {
      "cell_type": "code",
      "execution_count": null,
      "metadata": {
        "id": "WbmlUyZf9QIj"
      },
      "outputs": [],
      "source": [
        "def local_pivotal_samples(coords, probs, n, num_samples):\n",
        "    ro.globalenv['coords'] = coords\n",
        "    ro.globalenv['probs'] = probs\n",
        "\n",
        "    samples_idx = np.zeros((num_samples, n), dtype=int)\n",
        "    for i in range(num_samples):\n",
        "        r_code = \"\"\"\n",
        "s <- lpm(probs, coords) # Local Pivotal Method\n",
        "\"\"\"\n",
        "        ro.r(r_code)\n",
        "        sample_idx = np.array(list(ro.r(\"s\"))) - 1\n",
        "        samples_idx[i] = sample_idx\n",
        "\n",
        "    return samples_idx\n",
        "\n",
        "def k_means_samples(coords, probs, n, num_samples, n_zones):\n",
        "    return gs.sampling.KMeansSpatialSamplingSimple(coords, probs, n=n, n_zones=n_zones, split_size=0.0001).sample(num_samples)\n",
        "\n",
        "def random_samples(coords, probs, n, num_samples):\n",
        "    return gs.sampling.RandomSampling(coords, probs, n=n).sample(num_samples)\n",
        "\n",
        "def upmaxentropy_samples(probs, num_samples):\n",
        "    ro.globalenv['probs'] = probs\n",
        "\n",
        "    samples_idx = np.zeros((num_samples, n), dtype=int)\n",
        "    for i in range(num_samples):\n",
        "        r_code = \"\"\"\n",
        "        mask <- UPmaxentropy(probs)\n",
        "        \"\"\"\n",
        "        ro.r(r_code)\n",
        "        mask = np.array(ro.r(\"mask\"))\n",
        "        if mask.dtype != np.bool_:\n",
        "            mask = mask.astype(bool)\n",
        "        sample_idx = np.where(mask)[0]\n",
        "        samples_idx[i] = sample_idx\n",
        "\n",
        "    return samples_idx\n",
        "\n",
        "    return np.array(samples)\n",
        "\n",
        "\n",
        "def wave_samples(coords, probs, n, num_samples):\n",
        "    ro.globalenv['coords'] = coords\n",
        "    ro.globalenv['probs'] = probs\n",
        "\n",
        "    samples_idx = np.zeros((num_samples, n), dtype=int)\n",
        "    for i in range(num_samples):\n",
        "        r_code = \"\"\"\n",
        "wave_mask <- wave(coords, probs)\n",
        "\"\"\"\n",
        "        ro.r(r_code)\n",
        "        mask = np.array(ro.r(\"wave_mask\"))\n",
        "        if mask.dtype != np.bool_:\n",
        "            mask = mask.astype(bool)\n",
        "        sample_idx = np.where(mask)[0]\n",
        "        samples_idx[i] = sample_idx\n",
        "\n",
        "    return samples_idx\n",
        "\n",
        "\n",
        "def find_samples(coords, probs, n, num_samples):\n",
        "    return {\n",
        "        \"K-Means (1, 1)\": k_means_samples(coords, probs, n, num_samples, (1, 1)),\n",
        "        \"K-Means (3, 3)\": k_means_samples(coords, probs, n, num_samples, (3, 3)),\n",
        "        \"Local Pivotal\": local_pivotal_samples(coords, probs, n, num_samples),\n",
        "        \"Random\": random_samples(coords, probs, n, num_samples),\n",
        "        \"UPmaxentropy\": upmaxentropy_samples(probs, num_samples),\n",
        "        # \"Wave\": wave_samples(coords, probs, n, num_samples),\n",
        "    }"
      ]
    },
    {
      "cell_type": "code",
      "execution_count": null,
      "metadata": {},
      "outputs": [],
      "source": [
        "# import time\n",
        "# def find_samples(coords, probs, n, num_samples):\n",
        "#     results = {}\n",
        "\n",
        "#     start = time.time()\n",
        "#     results[\"K-Means (1, 1)\"] = k_means_samples(coords, probs, n, num_samples, (1, 1))\n",
        "#     print(f\"K-Means (1, 1): {time.time() - start:.3f} seconds\")\n",
        "\n",
        "#     start = time.time()\n",
        "#     results[\"K-Means (3, 3)\"] = k_means_samples(coords, probs, n, num_samples, (3, 3))\n",
        "#     print(f\"K-Means (3, 3): {time.time() - start:.3f} seconds\")\n",
        "\n",
        "#     start = time.time()\n",
        "#     results[\"Local Pivotal\"] = local_pivotal_samples(coords, probs, n, num_samples)\n",
        "#     print(f\"Local Pivotal: {time.time() - start:.3f} seconds\")\n",
        "\n",
        "#     start = time.time()\n",
        "#     results[\"Random\"] = random_samples(coords, probs, n, num_samples)\n",
        "#     print(f\"Random: {time.time() - start:.3f} seconds\")\n",
        "\n",
        "#     start = time.time()\n",
        "#     results[\"UPmaxentropy\"] = upmaxentropy_samples(probs, num_samples)\n",
        "#     print(f\"UPmaxentropy: {time.time() - start:.3f} seconds\")\n",
        "\n",
        "#     # If you want to test wave_samples, uncomment and add timing as above\n",
        "#     # start = time.time()\n",
        "#     # results[\"Wave\"] = wave_samples(coords, probs, n, num_samples)\n",
        "#     # print(f\"Wave: {time.time() - start:.3f} seconds\")\n",
        "\n",
        "#     return results"
      ]
    },
    {
      "cell_type": "markdown",
      "metadata": {
        "id": "TbDZj94eQLnY"
      },
      "source": [
        "## Initial Population"
      ]
    },
    {
      "cell_type": "code",
      "execution_count": null,
      "metadata": {
        "id": "9vdqnMKqVo2z"
      },
      "outputs": [],
      "source": [
        "n = 5 # Number of item in each sample (number of clusters)\n",
        "sample_cnt = 20 # How many sample gather from each desiging method"
      ]
    },
    {
      "cell_type": "markdown",
      "metadata": {
        "id": "LbUzOW7nbTQr"
      },
      "source": [
        "### Coords"
      ]
    },
    {
      "cell_type": "markdown",
      "metadata": {
        "id": "VpmbeoRUbZkr"
      },
      "source": [
        "Uncomment each one you would like to get result from"
      ]
    },
    {
      "cell_type": "code",
      "execution_count": null,
      "metadata": {
        "id": "Wj3Iv23wcdK5"
      },
      "outputs": [],
      "source": [
        "swiss = 0\n",
        "######### GRID\n",
        "# grid_size = 20\n",
        "# N = grid_size**2\n",
        "# coords = rng.grid_coordinates((grid_size, 2))\n",
        "\n",
        "\n",
        "######### RANDOM\n",
        "N = 500\n",
        "coords = rng.random_coordinates((N, 2))\n",
        "idx = np.lexsort((coords[:,1], coords[:,0]))\n",
        "coords = coords[idx]\n",
        "\n",
        "######### CLUSTRED\n",
        "n_clusters = 4\n",
        "cluster_std = 0.05\n",
        "# N = 400\n",
        "coords = rng.cluster_coordinates(n_clusters, cluster_std, (N, 2))\n",
        "\n",
        "\n",
        "# ######### SWISS: https://docs.google.com/spreadsheets/d/10uYLsZpxRV5lUrsGfy3gI0RD4fAn8lIP/edit?usp=sharing&ouid=117333816980669142577&rtpof=true&sd=true\n",
        "# swiss = 1\n",
        "# swiss_df = pd.read_csv('/home/divar/projects/geometric-sampling/swiss.csv')\n",
        "# coords = swiss_df[['COORD_X', 'COORD_Y']].to_numpy()\n",
        "# swiss_df['AREA'] = swiss_df['AREA'].clip(lower=1, upper=20)\n",
        "# N = len(coords)\n",
        "\n",
        "\n",
        "\n",
        "\n",
        "# idx = np.lexsort((coords[:,1], coords[:,0]))\n",
        "# coords = coords[idx]\n"
      ]
    },
    {
      "cell_type": "markdown",
      "metadata": {
        "id": "V0YAXv9VcSNW"
      },
      "source": [
        "### Probabilities"
      ]
    },
    {
      "cell_type": "markdown",
      "metadata": {
        "id": "eEmansSRcXns"
      },
      "source": [
        "Uncomment each one you would like to get result from"
      ]
    },
    {
      "cell_type": "code",
      "execution_count": null,
      "metadata": {
        "id": "T6BWVz8Pcspj"
      },
      "outputs": [],
      "source": [
        "######### EQUAL\n",
        "probs = rng.equal_probabilities(n, N)\n",
        "\n",
        "\n",
        "######### UNEQUAL\n",
        "probs = np.sort(rng.unequal_probabilities(n, N))\n",
        "probs = np.sort(rng.unequal_probabilities(n, N))[::-1]                                                          \n",
        "if swiss == 1:\n",
        "    swiss_area = swiss_df['AREA'].to_numpy()\n",
        "    swiss_area_cliped = swiss_area.clip(1, 100)\n",
        "    probs = inclusion_probabilities(swiss_area_cliped, n)\n"
      ]
    },
    {
      "cell_type": "markdown",
      "metadata": {
        "id": "DEPDfH_nQLDo"
      },
      "source": [
        "## Results"
      ]
    },
    {
      "cell_type": "markdown",
      "metadata": {
        "id": "jySe4VMzW1ed"
      },
      "source": [
        "### Plotting coords"
      ]
    },
    {
      "cell_type": "code",
      "execution_count": null,
      "metadata": {},
      "outputs": [
        {
          "name": "stderr",
          "output_type": "stream",
          "text": [
            "Plotting clusters: 100%|██████████| 5/5 [00:00<00:00, 191.22it/s]\n"
          ]
        },
        {
          "data": {
            "image/png": "[encoded data removed]",
            "text/plain": [
              "<Figure size 640x480 with 1 Axes>"
            ]
          },
          "metadata": {},
          "output_type": "display_data"
        },
        {
          "name": "stdout",
          "output_type": "stream",
          "text": [
            "Sum of probs per cluster:\n",
            "  Cluster 0: 1.0242\n",
            "  Cluster 1: 1.0056\n",
            "  Cluster 2: 1.0126\n",
            "  Cluster 3: 1.0034\n",
            "  Cluster 4: 0.9978\n"
          ]
        }
      ],
      "source": [
        "import numpy as np\n",
        "import matplotlib.pyplot as plt\n",
        "from scipy.spatial import ConvexHull\n",
        "from matplotlib.patches import Polygon\n",
        "from tqdm import tqdm\n",
        "\n",
        "# ---- define your plot_convex_hull as before ----\n",
        "def plot_convex_hull(\n",
        "        points, ax, color, alpha=0.3, edge_color=\"black\", line_width=1.0\n",
        "    ):\n",
        "        if len(points) < 3:\n",
        "            return ax, None\n",
        "        hull = ConvexHull(points)\n",
        "        polygon = Polygon(\n",
        "            points[hull.vertices],\n",
        "            closed=True,\n",
        "            facecolor=color,\n",
        "            alpha=alpha,\n",
        "            edgecolor=edge_color,\n",
        "            lw=line_width,\n",
        "        )\n",
        "        ax.add_patch(polygon)\n",
        "        return ax, hull\n",
        "\n",
        "density_measure = gs.measure.Density(coords, probs, n)\n",
        "clusters, centroids = density_measure.clusters, density_measure.centroids\n",
        "fig, ax = plt.subplots()\n",
        "cluster_sizes = []\n",
        "probs_sums = []\n",
        "\n",
        "#fig, ax = plt.subplots()\n",
        "\n",
        "for cluster_idx, cluster in tqdm(enumerate(clusters), total=len(clusters), desc=\"Plotting clusters\"):\n",
        "    cluster_points = cluster[:, 1:3]\n",
        "    cluster_indices = cluster[:, 0].astype(int)  # assuming first column in cluster is the index\n",
        "\n",
        "    # Summing probs\n",
        "    probs_sum = probs[cluster_indices].sum()\n",
        "    probs_sums.append(probs_sum)\n",
        "\n",
        "    # Plotting\n",
        "    cmap = plt.get_cmap('tab10')         \n",
        "    n_colors = cmap.N                  \n",
        "    cluster_color = cmap(cluster_idx % n_colors)    \n",
        "    \n",
        "    ax, hull = plot_convex_hull(cluster_points, ax, color=cluster_color, alpha=0.2)\n",
        "    \n",
        "    ax.scatter(\n",
        "        cluster_points[:, 0],\n",
        "        cluster_points[:, 1],\n",
        "        color=cluster_color,\n",
        "        s=cluster[:, 3] * 1000,\n",
        "        alpha=0.8,\n",
        "    )\n",
        "    ax.grid(alpha=0.5)\n",
        "\n",
        "plt.tight_layout()\n",
        "plt.show()\n",
        "\n",
        "print(\"Sum of probs per cluster:\")\n",
        "for idx, prob_sum in enumerate(probs_sums):\n",
        "    print(f\"  Cluster {idx}: {float(prob_sum):.4f}\")"
      ]
    },
    {
      "cell_type": "markdown",
      "metadata": {
        "id": "-wBvI5kORuIV"
      },
      "source": [
        "### Gathering Data"
      ]
    },
    {
      "cell_type": "code",
      "execution_count": null,
      "metadata": {
        "colab": {
          "base_uri": "https://localhost:8080/"
        },
        "id": "SVaHiU7TA2KI",
        "outputId": "e34e2613-f720-4a2c-a4a0-d9b4008332eb"
      },
      "outputs": [
        {
          "name": "stdout",
          "output_type": "stream",
          "text": [
            "K-Means (1, 1): 15.298 seconds\n",
            "K-Means (3, 3): 20.804 seconds\n",
            "Local Pivotal: 0.025 seconds\n",
            "Random: 0.000 seconds\n",
            "UPmaxentropy: 0.489 seconds\n"
          ]
        },
        {
          "name": "stderr",
          "output_type": "stream",
          "text": [
            "100%|██████████| 20/20 [00:04<00:00,  4.63it/s]\n",
            "100%|██████████| 20/20 [00:04<00:00,  4.98it/s]\n",
            "100%|██████████| 20/20 [00:03<00:00,  5.02it/s]\n",
            "100%|██████████| 20/20 [00:04<00:00,  4.92it/s]\n",
            "100%|██████████| 20/20 [00:04<00:00,  4.99it/s]\n"
          ]
        }
      ],
      "source": [
        "columns = [\"Method\", \"Density\", \"Voronoi\", \"Moran\", \"Local Balance\"]\n",
        "\n",
        "sample_methods = find_samples(coords, probs, n, sample_cnt)\n",
        "scaled_coords = (coords - np.min(coords, axis=0)) / np.ptp(coords, axis=0)\n",
        "density_measure = gs.measure.Density(scaled_coords, probs, n)\n",
        "rows = np.array([\n",
        "    [method, *scores(coords, probs, n, N, s, density_measure)]\n",
        "    for method, samples in sample_methods.items()\n",
        "    for s in tqdm(samples, total=sample_cnt)\n",
        "])\n",
        "\n",
        "df = pd.DataFrame(rows, columns=columns)\n",
        "df = df.astype({\n",
        "    \"Density\": float,\n",
        "    \"Voronoi\": float,\n",
        "    \"Moran\": float,\n",
        "    \"Local Balance\": float\n",
        "})"
      ]
    },
    {
      "cell_type": "markdown",
      "metadata": {},
      "source": [
        "# Bardia Simu"
      ]
    },
    {
      "cell_type": "code",
      "execution_count": null,
      "metadata": {},
      "outputs": [
        {
          "name": "stdout",
          "output_type": "stream",
          "text": [
            "The autoreload extension is already loaded. To reload it, use:\n",
            "  %reload_ext autoreload\n"
          ]
        }
      ],
      "source": [
        "%load_ext autoreload\n",
        "%autoreload 2\n",
        "import geometric_sampling as gs"
      ]
    },
    {
      "cell_type": "markdown",
      "metadata": {
        "id": "shHZznQuQgRq"
      },
      "source": [
        "### Tables"
      ]
    },
    {
      "cell_type": "markdown",
      "metadata": {
        "id": "ojlCkakyS0Lr"
      },
      "source": [
        "Means"
      ]
    },
    {
      "cell_type": "markdown",
      "metadata": {
        "id": "r2naz7MAQWax"
      },
      "source": [
        "Describe"
      ]
    },
    {
      "cell_type": "code",
      "execution_count": null,
      "metadata": {
        "colab": {
          "base_uri": "https://localhost:8080/",
          "height": 289
        },
        "id": "2wOMCWUkKs0_",
        "outputId": "42adb478-8101-435c-bfe1-aecc2d7b11b9"
      },
      "outputs": [
        {
          "data": {
            "text/html": [
              "<div>\n",
              "<style scoped>\n",
              "    .dataframe tbody tr th:only-of-type {\n",
              "        vertical-align: middle;\n",
              "    }\n",
              "\n",
              "    .dataframe tbody tr th {\n",
              "        vertical-align: top;\n",
              "    }\n",
              "\n",
              "    .dataframe thead tr th {\n",
              "        text-align: left;\n",
              "    }\n",
              "\n",
              "    .dataframe thead tr:last-of-type th {\n",
              "        text-align: right;\n",
              "    }\n",
              "</style>\n",
              "<table border=\"1\" class=\"dataframe\">\n",
              "  <thead>\n",
              "    <tr>\n",
              "      <th></th>\n",
              "      <th colspan=\"8\" halign=\"left\">Density</th>\n",
              "      <th colspan=\"8\" halign=\"left\">Voronoi</th>\n",
              "      <th colspan=\"8\" halign=\"left\">Moran</th>\n",
              "      <th colspan=\"8\" halign=\"left\">Local Balance</th>\n",
              "    </tr>\n",
              "    <tr>\n",
              "      <th></th>\n",
              "      <th>count</th>\n",
              "      <th>mean</th>\n",
              "      <th>std</th>\n",
              "      <th>min</th>\n",
              "      <th>25%</th>\n",
              "      <th>50%</th>\n",
              "      <th>75%</th>\n",
              "      <th>max</th>\n",
              "      <th>count</th>\n",
              "      <th>mean</th>\n",
              "      <th>std</th>\n",
              "      <th>min</th>\n",
              "      <th>25%</th>\n",
              "      <th>50%</th>\n",
              "      <th>75%</th>\n",
              "      <th>max</th>\n",
              "      <th>count</th>\n",
              "      <th>mean</th>\n",
              "      <th>std</th>\n",
              "      <th>min</th>\n",
              "      <th>25%</th>\n",
              "      <th>50%</th>\n",
              "      <th>75%</th>\n",
              "      <th>max</th>\n",
              "      <th>count</th>\n",
              "      <th>mean</th>\n",
              "      <th>std</th>\n",
              "      <th>min</th>\n",
              "      <th>25%</th>\n",
              "      <th>50%</th>\n",
              "      <th>75%</th>\n",
              "      <th>max</th>\n",
              "    </tr>\n",
              "    <tr>\n",
              "      <th>Method</th>\n",
              "      <th></th>\n",
              "      <th></th>\n",
              "      <th></th>\n",
              "      <th></th>\n",
              "      <th></th>\n",
              "      <th></th>\n",
              "      <th></th>\n",
              "      <th></th>\n",
              "      <th></th>\n",
              "      <th></th>\n",
              "      <th></th>\n",
              "      <th></th>\n",
              "      <th></th>\n",
              "      <th></th>\n",
              "      <th></th>\n",
              "      <th></th>\n",
              "      <th></th>\n",
              "      <th></th>\n",
              "      <th></th>\n",
              "      <th></th>\n",
              "      <th></th>\n",
              "      <th></th>\n",
              "      <th></th>\n",
              "      <th></th>\n",
              "      <th></th>\n",
              "      <th></th>\n",
              "      <th></th>\n",
              "      <th></th>\n",
              "      <th></th>\n",
              "      <th></th>\n",
              "      <th></th>\n",
              "      <th></th>\n",
              "    </tr>\n",
              "  </thead>\n",
              "  <tbody>\n",
              "    <tr>\n",
              "      <th>K-Means (1, 1)</th>\n",
              "      <td>20.0</td>\n",
              "      <td>0.067801</td>\n",
              "      <td>0.039450</td>\n",
              "      <td>0.015160</td>\n",
              "      <td>0.038787</td>\n",
              "      <td>0.061509</td>\n",
              "      <td>0.084306</td>\n",
              "      <td>0.149240</td>\n",
              "      <td>20.0</td>\n",
              "      <td>0.127184</td>\n",
              "      <td>0.047538</td>\n",
              "      <td>0.054280</td>\n",
              "      <td>0.087391</td>\n",
              "      <td>0.119161</td>\n",
              "      <td>0.175053</td>\n",
              "      <td>0.198171</td>\n",
              "      <td>20.0</td>\n",
              "      <td>-0.134959</td>\n",
              "      <td>0.072300</td>\n",
              "      <td>-0.277488</td>\n",
              "      <td>-0.187564</td>\n",
              "      <td>-0.119267</td>\n",
              "      <td>-0.084724</td>\n",
              "      <td>-0.031085</td>\n",
              "      <td>20.0</td>\n",
              "      <td>0.598623</td>\n",
              "      <td>0.528337</td>\n",
              "      <td>0.196682</td>\n",
              "      <td>0.376742</td>\n",
              "      <td>0.403161</td>\n",
              "      <td>0.579313</td>\n",
              "      <td>2.390043</td>\n",
              "    </tr>\n",
              "    <tr>\n",
              "      <th>K-Means (3, 3)</th>\n",
              "      <td>20.0</td>\n",
              "      <td>0.036635</td>\n",
              "      <td>0.029062</td>\n",
              "      <td>0.009504</td>\n",
              "      <td>0.020280</td>\n",
              "      <td>0.022093</td>\n",
              "      <td>0.045060</td>\n",
              "      <td>0.105257</td>\n",
              "      <td>20.0</td>\n",
              "      <td>0.120140</td>\n",
              "      <td>0.046131</td>\n",
              "      <td>0.059367</td>\n",
              "      <td>0.084984</td>\n",
              "      <td>0.125973</td>\n",
              "      <td>0.151591</td>\n",
              "      <td>0.217557</td>\n",
              "      <td>20.0</td>\n",
              "      <td>-0.148011</td>\n",
              "      <td>0.063551</td>\n",
              "      <td>-0.280090</td>\n",
              "      <td>-0.195768</td>\n",
              "      <td>-0.137359</td>\n",
              "      <td>-0.099520</td>\n",
              "      <td>-0.054051</td>\n",
              "      <td>20.0</td>\n",
              "      <td>0.413018</td>\n",
              "      <td>0.149282</td>\n",
              "      <td>0.266907</td>\n",
              "      <td>0.339641</td>\n",
              "      <td>0.378416</td>\n",
              "      <td>0.468001</td>\n",
              "      <td>0.969854</td>\n",
              "    </tr>\n",
              "    <tr>\n",
              "      <th>Local Pivotal</th>\n",
              "      <td>20.0</td>\n",
              "      <td>0.105556</td>\n",
              "      <td>0.084549</td>\n",
              "      <td>0.020732</td>\n",
              "      <td>0.040571</td>\n",
              "      <td>0.081196</td>\n",
              "      <td>0.139904</td>\n",
              "      <td>0.285171</td>\n",
              "      <td>20.0</td>\n",
              "      <td>0.148204</td>\n",
              "      <td>0.103378</td>\n",
              "      <td>0.056573</td>\n",
              "      <td>0.111541</td>\n",
              "      <td>0.119945</td>\n",
              "      <td>0.154287</td>\n",
              "      <td>0.542684</td>\n",
              "      <td>20.0</td>\n",
              "      <td>-0.118127</td>\n",
              "      <td>0.062864</td>\n",
              "      <td>-0.296891</td>\n",
              "      <td>-0.154789</td>\n",
              "      <td>-0.113162</td>\n",
              "      <td>-0.065639</td>\n",
              "      <td>-0.034629</td>\n",
              "      <td>20.0</td>\n",
              "      <td>0.750115</td>\n",
              "      <td>1.190851</td>\n",
              "      <td>0.133551</td>\n",
              "      <td>0.355063</td>\n",
              "      <td>0.420723</td>\n",
              "      <td>0.519262</td>\n",
              "      <td>5.701039</td>\n",
              "    </tr>\n",
              "    <tr>\n",
              "      <th>Random</th>\n",
              "      <td>20.0</td>\n",
              "      <td>0.333459</td>\n",
              "      <td>0.133232</td>\n",
              "      <td>0.109558</td>\n",
              "      <td>0.270770</td>\n",
              "      <td>0.312335</td>\n",
              "      <td>0.422048</td>\n",
              "      <td>0.533572</td>\n",
              "      <td>20.0</td>\n",
              "      <td>0.318468</td>\n",
              "      <td>0.174264</td>\n",
              "      <td>0.039912</td>\n",
              "      <td>0.180752</td>\n",
              "      <td>0.286364</td>\n",
              "      <td>0.450161</td>\n",
              "      <td>0.646160</td>\n",
              "      <td>20.0</td>\n",
              "      <td>-0.042274</td>\n",
              "      <td>0.051170</td>\n",
              "      <td>-0.161490</td>\n",
              "      <td>-0.076462</td>\n",
              "      <td>-0.031054</td>\n",
              "      <td>-0.012413</td>\n",
              "      <td>0.047651</td>\n",
              "      <td>20.0</td>\n",
              "      <td>3.835763</td>\n",
              "      <td>10.595929</td>\n",
              "      <td>0.380717</td>\n",
              "      <td>0.617760</td>\n",
              "      <td>1.102926</td>\n",
              "      <td>1.906882</td>\n",
              "      <td>48.496162</td>\n",
              "    </tr>\n",
              "    <tr>\n",
              "      <th>UPmaxentropy</th>\n",
              "      <td>20.0</td>\n",
              "      <td>0.341411</td>\n",
              "      <td>0.186714</td>\n",
              "      <td>0.042318</td>\n",
              "      <td>0.249791</td>\n",
              "      <td>0.342194</td>\n",
              "      <td>0.464368</td>\n",
              "      <td>0.821645</td>\n",
              "      <td>20.0</td>\n",
              "      <td>0.331673</td>\n",
              "      <td>0.182615</td>\n",
              "      <td>0.065497</td>\n",
              "      <td>0.204044</td>\n",
              "      <td>0.281513</td>\n",
              "      <td>0.453670</td>\n",
              "      <td>0.667562</td>\n",
              "      <td>20.0</td>\n",
              "      <td>-0.030922</td>\n",
              "      <td>0.074796</td>\n",
              "      <td>-0.254637</td>\n",
              "      <td>-0.053165</td>\n",
              "      <td>-0.018948</td>\n",
              "      <td>0.018430</td>\n",
              "      <td>0.072614</td>\n",
              "      <td>20.0</td>\n",
              "      <td>0.546109</td>\n",
              "      <td>0.110684</td>\n",
              "      <td>0.351019</td>\n",
              "      <td>0.480995</td>\n",
              "      <td>0.563466</td>\n",
              "      <td>0.607823</td>\n",
              "      <td>0.813334</td>\n",
              "    </tr>\n",
              "  </tbody>\n",
              "</table>\n",
              "</div>"
            ],
            "text/plain": [
              "               Density                                                    \\\n",
              "                 count      mean       std       min       25%       50%   \n",
              "Method                                                                     \n",
              "K-Means (1, 1)    20.0  0.067801  0.039450  0.015160  0.038787  0.061509   \n",
              "K-Means (3, 3)    20.0  0.036635  0.029062  0.009504  0.020280  0.022093   \n",
              "Local Pivotal     20.0  0.105556  0.084549  0.020732  0.040571  0.081196   \n",
              "Random            20.0  0.333459  0.133232  0.109558  0.270770  0.312335   \n",
              "UPmaxentropy      20.0  0.341411  0.186714  0.042318  0.249791  0.342194   \n",
              "\n",
              "                                   Voronoi                                \\\n",
              "                     75%       max   count      mean       std       min   \n",
              "Method                                                                     \n",
              "K-Means (1, 1)  0.084306  0.149240    20.0  0.127184  0.047538  0.054280   \n",
              "K-Means (3, 3)  0.045060  0.105257    20.0  0.120140  0.046131  0.059367   \n",
              "Local Pivotal   0.139904  0.285171    20.0  0.148204  0.103378  0.056573   \n",
              "Random          0.422048  0.533572    20.0  0.318468  0.174264  0.039912   \n",
              "UPmaxentropy    0.464368  0.821645    20.0  0.331673  0.182615  0.065497   \n",
              "\n",
              "                                                       Moran            \\\n",
              "                     25%       50%       75%       max count      mean   \n",
              "Method                                                                   \n",
              "K-Means (1, 1)  0.087391  0.119161  0.175053  0.198171  20.0 -0.134959   \n",
              "K-Means (3, 3)  0.084984  0.125973  0.151591  0.217557  20.0 -0.148011   \n",
              "Local Pivotal   0.111541  0.119945  0.154287  0.542684  20.0 -0.118127   \n",
              "Random          0.180752  0.286364  0.450161  0.646160  20.0 -0.042274   \n",
              "UPmaxentropy    0.204044  0.281513  0.453670  0.667562  20.0 -0.030922   \n",
              "\n",
              "                                                                            \\\n",
              "                     std       min       25%       50%       75%       max   \n",
              "Method                                                                       \n",
              "K-Means (1, 1)  0.072300 -0.277488 -0.187564 -0.119267 -0.084724 -0.031085   \n",
              "K-Means (3, 3)  0.063551 -0.280090 -0.195768 -0.137359 -0.099520 -0.054051   \n",
              "Local Pivotal   0.062864 -0.296891 -0.154789 -0.113162 -0.065639 -0.034629   \n",
              "Random          0.051170 -0.161490 -0.076462 -0.031054 -0.012413  0.047651   \n",
              "UPmaxentropy    0.074796 -0.254637 -0.053165 -0.018948  0.018430  0.072614   \n",
              "\n",
              "               Local Balance                                           \\\n",
              "                       count      mean        std       min       25%   \n",
              "Method                                                                  \n",
              "K-Means (1, 1)          20.0  0.598623   0.528337  0.196682  0.376742   \n",
              "K-Means (3, 3)          20.0  0.413018   0.149282  0.266907  0.339641   \n",
              "Local Pivotal           20.0  0.750115   1.190851  0.133551  0.355063   \n",
              "Random                  20.0  3.835763  10.595929  0.380717  0.617760   \n",
              "UPmaxentropy            20.0  0.546109   0.110684  0.351019  0.480995   \n",
              "\n",
              "                                               \n",
              "                     50%       75%        max  \n",
              "Method                                         \n",
              "K-Means (1, 1)  0.403161  0.579313   2.390043  \n",
              "K-Means (3, 3)  0.378416  0.468001   0.969854  \n",
              "Local Pivotal   0.420723  0.519262   5.701039  \n",
              "Random          1.102926  1.906882  48.496162  \n",
              "UPmaxentropy    0.563466  0.607823   0.813334  "
            ]
          },
          "metadata": {},
          "output_type": "display_data"
        }
      ],
      "source": [
        "#df.groupby(\"Method\").std()\n",
        "#df.groupby(\"Method\").mean()\n",
        "with pd.option_context('display.max_rows', None, 'display.max_columns', None):\n",
        "  display(df.groupby(\"Method\").describe())"
      ]
    },
    {
      "cell_type": "markdown",
      "metadata": {
        "id": "_1_mOx5ljXDp"
      },
      "source": [
        "### Plots"
      ]
    },
    {
      "cell_type": "markdown",
      "metadata": {
        "id": "2APKT0SFUP4N"
      },
      "source": [
        "##### Color Pallet"
      ]
    },
    {
      "cell_type": "code",
      "execution_count": null,
      "metadata": {
        "id": "4mZ_wNOPUSSi"
      },
      "outputs": [],
      "source": [
        "methods = df[\"Method\"].unique()\n",
        "method_palette = dict(zip(methods, sns.color_palette(\"Pastel1\", n_colors=len(methods))))"
      ]
    },
    {
      "cell_type": "markdown",
      "metadata": {
        "id": "8fq2wnWkSbQm"
      },
      "source": [
        "##### Boxplot"
      ]
    },
    {
      "cell_type": "code",
      "execution_count": null,
      "metadata": {
        "id": "unAhXZeDflou"
      },
      "outputs": [],
      "source": [
        "def remove_outliers(dataframe, column, IQR_coef, groupby_col=None):\n",
        "    if groupby_col:\n",
        "        def outlier_filter(group):\n",
        "            Q1 = group[column].quantile(0.25)\n",
        "            Q3 = group[column].quantile(0.75)\n",
        "            IQR = Q3 - Q1\n",
        "            lower = Q1 - IQR_coef * IQR\n",
        "            upper = Q3 + IQR_coef * IQR\n",
        "            return group[(group[column] >= lower) & (group[column] <= upper)]\n",
        "\n",
        "        return dataframe.groupby(groupby_col, group_keys=False).apply(outlier_filter)\n",
        "    else:\n",
        "        Q1 = dataframe[column].quantile(0.25)\n",
        "        Q3 = dataframe[column].quantile(0.75)\n",
        "        IQR = Q3 - Q1\n",
        "        lower = Q1 - IQR_coef * IQR\n",
        "        upper = Q3 + IQR_coef * IQR\n",
        "        return dataframe[(df[column] >= lower) & (dataframe[column] <= upper)]\n",
        "\n",
        "    return df"
      ]
    },
    {
      "cell_type": "code",
      "execution_count": null,
      "metadata": {
        "colab": {
          "base_uri": "https://localhost:8080/",
          "height": 487
        },
        "id": "jYptqD34VPwd",
        "outputId": "63ea8baf-e2dd-4030-97b7-6e4ccd6173b6"
      },
      "outputs": [
        {
          "name": "stderr",
          "output_type": "stream",
          "text": [
            "/tmp/ipykernel_10763/3298180823.py:11: DeprecationWarning: DataFrameGroupBy.apply operated on the grouping columns. This behavior is deprecated, and in a future version of pandas the grouping columns will be excluded from the operation. Either pass `include_groups=False` to exclude the groupings or explicitly select the grouping columns after groupby to silence this warning.\n",
            "  return dataframe.groupby(groupby_col, group_keys=False).apply(outlier_filter)\n",
            "/tmp/ipykernel_10763/3298180823.py:11: DeprecationWarning: DataFrameGroupBy.apply operated on the grouping columns. This behavior is deprecated, and in a future version of pandas the grouping columns will be excluded from the operation. Either pass `include_groups=False` to exclude the groupings or explicitly select the grouping columns after groupby to silence this warning.\n",
            "  return dataframe.groupby(groupby_col, group_keys=False).apply(outlier_filter)\n",
            "/tmp/ipykernel_10763/3298180823.py:11: DeprecationWarning: DataFrameGroupBy.apply operated on the grouping columns. This behavior is deprecated, and in a future version of pandas the grouping columns will be excluded from the operation. Either pass `include_groups=False` to exclude the groupings or explicitly select the grouping columns after groupby to silence this warning.\n",
            "  return dataframe.groupby(groupby_col, group_keys=False).apply(outlier_filter)\n",
            "/tmp/ipykernel_10763/3298180823.py:11: DeprecationWarning: DataFrameGroupBy.apply operated on the grouping columns. This behavior is deprecated, and in a future version of pandas the grouping columns will be excluded from the operation. Either pass `include_groups=False` to exclude the groupings or explicitly select the grouping columns after groupby to silence this warning.\n",
            "  return dataframe.groupby(groupby_col, group_keys=False).apply(outlier_filter)\n"
          ]
        },
        {
          "data": {
            "image/png": "[encoded data removed]",
            "text/plain": [
              "<Figure size 2000x500 with 4 Axes>"
            ]
          },
          "metadata": {},
          "output_type": "display_data"
        }
      ],
      "source": [
        "number_of_items = len(columns[1:])\n",
        "n_cols = 4  # how many plots per row\n",
        "n_rows = (number_of_items + n_cols - 1) // n_cols  # compute needed rows\n",
        "fig, axes = plt.subplots(n_rows, n_cols, figsize=(5*n_cols, 5*n_rows))\n",
        "\n",
        "axes = axes.flatten()\n",
        "\n",
        "for idx, column in enumerate(columns[1:]):\n",
        "    sns.boxplot(x=\"Method\", y=column, data=remove_outliers(df, column, IQR_coef=3, groupby_col=\"Method\"), hue=\"Method\", palette=method_palette, ax=axes[idx])\n",
        "    axes[idx].set_title(f'{column} by Sampling Methods')\n",
        "    axes[idx].set_xlabel(\"\")\n",
        "    axes[idx].set_xticklabels([])\n",
        "    axes[idx].grid(True)\n",
        "\n",
        "handles = [plt.Line2D([0], [0], color=color, marker='s', linestyle='', markersize=10, label=method) for method, color in method_palette.items()]\n",
        "fig.legend(handles=handles, loc='lower center', ncol=len(methods), fontsize=10, title=\"Method\")\n",
        "\n",
        "fig.tight_layout()\n",
        "plt.show()"
      ]
    }
  ],
  "metadata": {
    "colab": {
      "collapsed_sections": [
        "L8EamewvRhiV",
        "Yo13_-M0RaP9",
        "BEcbxvujRdPr",
        "eNZsi2g5mC6N",
        "ugL9lyKcmK7h",
        "uCLKd3elnAA_",
        "Gl_TYPfeL2ra",
        "2APKT0SFUP4N"
      ],
      "provenance": []
    },
    "kernelspec": {
      "display_name": ".venv",
      "language": "python",
      "name": "python3"
    },
    "language_info": {
      "codemirror_mode": {
        "name": "ipython",
        "version": 3
      },
      "file_extension": ".py",
      "mimetype": "text/x-python",
      "name": "python",
      "nbconvert_exporter": "python",
      "pygments_lexer": "ipython3",
      "version": "3.12.3"
    }
  },
  "nbformat": 4,
  "nbformat_minor": 0
}
